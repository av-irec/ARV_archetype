{
 "cells": [
  {
   "cell_type": "code",
   "execution_count": 5,
   "id": "initial_id",
   "metadata": {
    "collapsed": true,
    "ExecuteTime": {
     "end_time": "2023-10-04T18:31:31.735435400Z",
     "start_time": "2023-10-04T18:31:31.731588100Z"
    }
   },
   "outputs": [],
   "source": [
    "from repositories import csvTRNSYS\n",
    "import pandas as pd\n",
    "from utils import transformation_EP_CO2, meanCalculation\n",
    "from interactors import calculoCoste, analysisActive"
   ]
  },
  {
   "cell_type": "code",
   "execution_count": 2,
   "outputs": [],
   "source": [
    "n_zones = 1\n",
    "name = 'FE35'\n",
    "n_viv = 1\n",
    "ref_cat_analysis = '1701521DD7810B'\n",
    "typeStep = csvTRNSYS.HourlyMulti() \n",
    "output = csvTRNSYS.readTRNSYS(typeStep, n_viv, name)\n",
    "output_reader, P_ht, P_cl, P_lig, P_dev, P_dhw = output.start()\n",
    "n_viv_simulated = 1\n",
    "building_to_analyse = 'FE35'"
   ],
   "metadata": {
    "collapsed": false,
    "ExecuteTime": {
     "end_time": "2023-10-04T18:30:15.885031400Z",
     "start_time": "2023-10-04T18:30:11.205106300Z"
    }
   },
   "id": "1d8c6ad9806f7e31"
  },
  {
   "cell_type": "code",
   "execution_count": 3,
   "outputs": [
    {
     "data": {
      "text/plain": "                                                        BC0_0  \\\nDwelling_1  [0.0, 0.021725560902761936, 0.0245716169217695...   \n\n                                                      BC0_180  \\\nDwelling_1  [0.0, 0.021725560902761936, 0.0245716169217695...   \n\n                                                      BC0_270  \\\nDwelling_1  [0.0, 0.021725560902761936, 0.0245716169217695...   \n\n                                                       BC0_90  \\\nDwelling_1  [0.0, 0.021725560902761936, 0.0245716169217695...   \n\n                                                P111_0_W8_R10  \\\nDwelling_1  [0.0, 0.02171474307260574, 0.02437654057169146...   \n\n                                                P111_0_W8_R12  \\\nDwelling_1  [0.0, 0.02171474300342184, 0.02437653182694835...   \n\n                                                P111_0_W8_R14  \\\nDwelling_1  [0.0, 0.021714742973846766, 0.0243765289541458...   \n\n                                                 P111_0_W8_R6  \\\nDwelling_1  [0.0, 0.02171474466696584, 0.02437664597921095...   \n\n                                                 P111_0_W8_R8  \\\nDwelling_1  [0.0, 0.021714743391190037, 0.0243765671370249...   \n\n                                              P111_180_W8_R10  ...  \\\nDwelling_1  [0.0, 0.02171474307260574, 0.02437654057169146...  ...   \n\n                                                P221_90_W6_R5  \\\nDwelling_1  [0.0, 0.017406750286469888, 0.0192652747722053...   \n\n                                                P221_90_W8_R5  \\\nDwelling_1  [0.0, 0.01740675028022831, 0.01926527340351150...   \n\n                                                 P222_0_W6_R5  \\\nDwelling_1  [0.0, 0.017406750055917755, 0.0192652642072097...   \n\n                                                 P222_0_W8_R5  \\\nDwelling_1  [0.0, 0.01740675004967615, 0.01926526283851584...   \n\n                                               P222_180_W6_R5  \\\nDwelling_1  [0.0, 0.017406750055917755, 0.0192652642072097...   \n\n                                               P222_180_W8_R5  \\\nDwelling_1  [0.0, 0.01740675004967615, 0.01926526283851584...   \n\n                                               P222_270_W6_R5  \\\nDwelling_1  [0.0, 0.017406750055917755, 0.0192652642072097...   \n\n                                               P222_270_W8_R5  \\\nDwelling_1  [0.0, 0.01740675004967615, 0.01926526283851584...   \n\n                                                P222_90_W6_R5  \\\nDwelling_1  [0.0, 0.017406750055917755, 0.0192652642072097...   \n\n                                                P222_90_W8_R5  \nDwelling_1  [0.0, 0.01740675004967615, 0.01926526283851584...  \n\n[1 rows x 84 columns]",
      "text/html": "<div>\n<style scoped>\n    .dataframe tbody tr th:only-of-type {\n        vertical-align: middle;\n    }\n\n    .dataframe tbody tr th {\n        vertical-align: top;\n    }\n\n    .dataframe thead th {\n        text-align: right;\n    }\n</style>\n<table border=\"1\" class=\"dataframe\">\n  <thead>\n    <tr style=\"text-align: right;\">\n      <th></th>\n      <th>BC0_0</th>\n      <th>BC0_180</th>\n      <th>BC0_270</th>\n      <th>BC0_90</th>\n      <th>P111_0_W8_R10</th>\n      <th>P111_0_W8_R12</th>\n      <th>P111_0_W8_R14</th>\n      <th>P111_0_W8_R6</th>\n      <th>P111_0_W8_R8</th>\n      <th>P111_180_W8_R10</th>\n      <th>...</th>\n      <th>P221_90_W6_R5</th>\n      <th>P221_90_W8_R5</th>\n      <th>P222_0_W6_R5</th>\n      <th>P222_0_W8_R5</th>\n      <th>P222_180_W6_R5</th>\n      <th>P222_180_W8_R5</th>\n      <th>P222_270_W6_R5</th>\n      <th>P222_270_W8_R5</th>\n      <th>P222_90_W6_R5</th>\n      <th>P222_90_W8_R5</th>\n    </tr>\n  </thead>\n  <tbody>\n    <tr>\n      <th>Dwelling_1</th>\n      <td>[0.0, 0.021725560902761936, 0.0245716169217695...</td>\n      <td>[0.0, 0.021725560902761936, 0.0245716169217695...</td>\n      <td>[0.0, 0.021725560902761936, 0.0245716169217695...</td>\n      <td>[0.0, 0.021725560902761936, 0.0245716169217695...</td>\n      <td>[0.0, 0.02171474307260574, 0.02437654057169146...</td>\n      <td>[0.0, 0.02171474300342184, 0.02437653182694835...</td>\n      <td>[0.0, 0.021714742973846766, 0.0243765289541458...</td>\n      <td>[0.0, 0.02171474466696584, 0.02437664597921095...</td>\n      <td>[0.0, 0.021714743391190037, 0.0243765671370249...</td>\n      <td>[0.0, 0.02171474307260574, 0.02437654057169146...</td>\n      <td>...</td>\n      <td>[0.0, 0.017406750286469888, 0.0192652747722053...</td>\n      <td>[0.0, 0.01740675028022831, 0.01926527340351150...</td>\n      <td>[0.0, 0.017406750055917755, 0.0192652642072097...</td>\n      <td>[0.0, 0.01740675004967615, 0.01926526283851584...</td>\n      <td>[0.0, 0.017406750055917755, 0.0192652642072097...</td>\n      <td>[0.0, 0.01740675004967615, 0.01926526283851584...</td>\n      <td>[0.0, 0.017406750055917755, 0.0192652642072097...</td>\n      <td>[0.0, 0.01740675004967615, 0.01926526283851584...</td>\n      <td>[0.0, 0.017406750055917755, 0.0192652642072097...</td>\n      <td>[0.0, 0.01740675004967615, 0.01926526283851584...</td>\n    </tr>\n  </tbody>\n</table>\n<p>1 rows × 84 columns</p>\n</div>"
     },
     "execution_count": 3,
     "metadata": {},
     "output_type": "execute_result"
    }
   ],
   "source": [
    "# valores standard de distribucion por hogar\n",
    "#abans\n",
    "#grado_ht = {'joule':0.32,'BC':0.31,'caldera_GN':0.27,'butano':0.06,'nada':0.04}\n",
    "#grado_cl = {'split':0.1,'BC':0.43,'multi_split':0.04,'nada':0.43}\n",
    "#grado_dhw ={'caldera_GN':0.86,'butano':0.14,'BC':0}\n",
    "\n",
    "grado_ht = {'joule':0,'BC':1,'caldera_GN':0,'butano':0,'nada':0}\n",
    "grado_cl = {'split':0,'BC':0,'multi_split':1,'nada':0}\n",
    "grado_dhw ={'caldera_GN':0,'butano':0,'BC':1}\n",
    "# coeficientes peninsula\n",
    "coef_CO2={'ele': 0.833, 'GN': 0.252, 'butano': 0.254}\n",
    "coef_NRPE={'ele': 2.937, 'GN': 1.190, 'butano': 1.201}\n",
    "#EER (float) Eficiencia en refrigeración (prefinido a 2 -> CE3X)\n",
    "#COP (float) -- Eficiencia en calefacción (prefinido a 2 -> CE3X)\n",
    "#   COP_DHW (float) -- Eficiencia en agua caliente sanitaria con bomba de calor (prefinidos a 1.7)\n",
    "#eta_cal (float) -- Eficiencia caldera gas natural o butano (prefinidos a 70% -> Optihub)\n",
    "EER = 2\n",
    "COP=2 \n",
    "COP_DHW=1.7 \n",
    "eta_cal=0.7\n",
    "\n",
    "# càlcul d'energia primaria\n",
    "\n",
    "PE_ht = {}\n",
    "PE_cl = {}\n",
    "PE_lig = {}\n",
    "PE_dev = {}\n",
    "PE_dhw = {}\n",
    "\n",
    "project = transformation_EP_CO2.pE_ARV_demand(grado_ht, grado_cl, grado_dhw)\n",
    "for i in P_ht:\n",
    "    output = transformation_EP_CO2.calculo(project, P_ht[i], P_cl[i], P_lig[i],P_dev[i],P_dhw[i])\n",
    "    PE_ht_aux, PE_cl_aux, PE_lig_aux,PE_dev_aux ,PE_dhw_aux = output.start()\n",
    "    PE_ht.setdefault(i, PE_ht_aux)\n",
    "    PE_cl.setdefault(i, PE_cl_aux)\n",
    "    PE_lig.setdefault(i, PE_lig_aux)\n",
    "    PE_dev.setdefault(i,PE_dev_aux)\n",
    "    PE_dhw.setdefault(i, PE_dhw_aux)\n",
    "    \n",
    "# calcula horariament per un any per cada configuració de TRNSYS\n",
    "pd.DataFrame(PE_ht)"
   ],
   "metadata": {
    "collapsed": false,
    "ExecuteTime": {
     "end_time": "2023-10-04T18:30:25.349720700Z",
     "start_time": "2023-10-04T18:30:24.480796600Z"
    }
   },
   "id": "7e7a18912b8a8e52"
  },
  {
   "cell_type": "code",
   "execution_count": 16,
   "outputs": [],
   "source": [
    "project = analysisActive.ARV_CO2_PE(P_cl, P_ht, P_lig, P_dev, P_dhw)"
   ],
   "metadata": {
    "collapsed": false,
    "ExecuteTime": {
     "end_time": "2023-10-04T18:52:28.503564500Z",
     "start_time": "2023-10-04T18:52:28.346270700Z"
    }
   },
   "id": "c598dc3da5b2b560"
  },
  {
   "cell_type": "code",
   "execution_count": 17,
   "outputs": [],
   "source": [
    "activeAnalysis = analysisActive.do_analysis(project, grado_ht, grado_cl, grado_dhw)\n",
    "PE_ht_rt, PE_cl_rt, PE_lig_rt, PE_dev_rt , PE_dhw_rt, CO2_ht_rt, CO2_cl_rt, CO2_lig_rt, CO2_dev_rt, CO2_dhw_rt = activeAnalysis.start()"
   ],
   "metadata": {
    "collapsed": false,
    "ExecuteTime": {
     "end_time": "2023-10-04T18:52:32.558035300Z",
     "start_time": "2023-10-04T18:52:30.909198500Z"
    }
   },
   "id": "b6f8fab14665095d"
  },
  {
   "cell_type": "code",
   "execution_count": 18,
   "outputs": [],
   "source": [
    "PE_ht_rt = pd.DataFrame(PE_ht_rt)"
   ],
   "metadata": {
    "collapsed": false,
    "ExecuteTime": {
     "end_time": "2023-10-04T18:52:34.236917300Z",
     "start_time": "2023-10-04T18:52:34.204640700Z"
    }
   },
   "id": "72a723428854ed6"
  },
  {
   "cell_type": "code",
   "execution_count": 19,
   "outputs": [
    {
     "data": {
      "text/plain": "         BC0_0   BC0_180   BC0_270    BC0_90 P111_0_W8_R10 P111_0_W8_R12  \\\n0          0.0       0.0       0.0       0.0           0.0           0.0   \n1     0.022548  0.022548  0.022548  0.022548      0.022537      0.022537   \n2     0.025502  0.025502  0.025502  0.025502      0.025299      0.025299   \n3     0.025582  0.025582  0.025582  0.025582        0.0247      0.024699   \n4     0.024681  0.024681  0.024681  0.024681      0.022781       0.02278   \n...        ...       ...       ...       ...           ...           ...   \n8755  0.052877  0.052286   0.04697  0.040762      0.031853      0.031139   \n8756  0.052133   0.05194  0.046792  0.041255       0.03243      0.031736   \n8757  0.050517  0.050471   0.04572  0.040543      0.031627      0.030952   \n8758  0.050903  0.050895  0.046773  0.041964      0.033044      0.032409   \n8759  0.053943  0.053938   0.05006    0.0453      0.035366      0.034718   \n\n     P111_0_W8_R14 P111_0_W8_R6 P111_0_W8_R8 P111_180_W8_R10  ...  \\\n0              0.0          0.0          0.0             0.0  ...   \n1         0.022537     0.022537     0.022537        0.022537  ...   \n2         0.025299     0.025299     0.025299        0.025299  ...   \n3         0.024699     0.024702       0.0247          0.0247  ...   \n4         0.022779     0.022792     0.022785        0.022781  ...   \n...            ...          ...          ...             ...  ...   \n8755      0.030582     0.034148     0.032805        0.031002  ...   \n8756      0.031194     0.034666     0.033357        0.031875  ...   \n8757      0.030426     0.033808     0.032531         0.03123  ...   \n8758      0.031915     0.035105     0.033898        0.032749  ...   \n8759      0.034216     0.037473     0.036238        0.035118  ...   \n\n     P221_90_W6_R5 P221_90_W8_R5 P222_0_W6_R5 P222_0_W8_R5 P222_180_W6_R5  \\\n0              0.0           0.0          0.0          0.0            0.0   \n1         0.018066      0.018066     0.018066     0.018066       0.018066   \n2         0.019995      0.019995     0.019995     0.019995       0.019995   \n3         0.019213      0.019213     0.019213     0.019213       0.019213   \n4         0.017366      0.017366     0.017367     0.017366       0.017367   \n...            ...           ...          ...          ...            ...   \n8755      0.011098      0.010685     0.032745      0.03229       0.031926   \n8756      0.013019      0.012479     0.033273     0.032826       0.032761   \n8757      0.014175      0.013658     0.033014     0.032578       0.032662   \n8758      0.016577      0.016095     0.033717     0.033308       0.033462   \n8759      0.018371      0.017884     0.035231     0.034818       0.035018   \n\n     P222_180_W8_R5 P222_270_W6_R5 P222_270_W8_R5 P222_90_W6_R5 P222_90_W8_R5  \n0               0.0            0.0            0.0           0.0           0.0  \n1          0.018066       0.018066       0.018066      0.018066      0.018066  \n2          0.019995       0.019995       0.019995      0.019995      0.019995  \n3          0.019213       0.019213       0.019213      0.019213      0.019213  \n4          0.017366       0.017367       0.017366      0.017367      0.017366  \n...             ...            ...            ...           ...           ...  \n8755        0.03148       0.029802       0.029439      0.018504      0.018003  \n8756       0.032324       0.030571       0.030225      0.020576      0.020093  \n8757       0.032236       0.030522       0.030195      0.021414      0.020945  \n8758       0.033061       0.031509       0.031211      0.023343      0.022905  \n8759       0.034612       0.033088       0.032794      0.025198      0.024755  \n\n[8760 rows x 84 columns]",
      "text/html": "<div>\n<style scoped>\n    .dataframe tbody tr th:only-of-type {\n        vertical-align: middle;\n    }\n\n    .dataframe tbody tr th {\n        vertical-align: top;\n    }\n\n    .dataframe thead th {\n        text-align: right;\n    }\n</style>\n<table border=\"1\" class=\"dataframe\">\n  <thead>\n    <tr style=\"text-align: right;\">\n      <th></th>\n      <th>BC0_0</th>\n      <th>BC0_180</th>\n      <th>BC0_270</th>\n      <th>BC0_90</th>\n      <th>P111_0_W8_R10</th>\n      <th>P111_0_W8_R12</th>\n      <th>P111_0_W8_R14</th>\n      <th>P111_0_W8_R6</th>\n      <th>P111_0_W8_R8</th>\n      <th>P111_180_W8_R10</th>\n      <th>...</th>\n      <th>P221_90_W6_R5</th>\n      <th>P221_90_W8_R5</th>\n      <th>P222_0_W6_R5</th>\n      <th>P222_0_W8_R5</th>\n      <th>P222_180_W6_R5</th>\n      <th>P222_180_W8_R5</th>\n      <th>P222_270_W6_R5</th>\n      <th>P222_270_W8_R5</th>\n      <th>P222_90_W6_R5</th>\n      <th>P222_90_W8_R5</th>\n    </tr>\n  </thead>\n  <tbody>\n    <tr>\n      <th>0</th>\n      <td>0.0</td>\n      <td>0.0</td>\n      <td>0.0</td>\n      <td>0.0</td>\n      <td>0.0</td>\n      <td>0.0</td>\n      <td>0.0</td>\n      <td>0.0</td>\n      <td>0.0</td>\n      <td>0.0</td>\n      <td>...</td>\n      <td>0.0</td>\n      <td>0.0</td>\n      <td>0.0</td>\n      <td>0.0</td>\n      <td>0.0</td>\n      <td>0.0</td>\n      <td>0.0</td>\n      <td>0.0</td>\n      <td>0.0</td>\n      <td>0.0</td>\n    </tr>\n    <tr>\n      <th>1</th>\n      <td>0.022548</td>\n      <td>0.022548</td>\n      <td>0.022548</td>\n      <td>0.022548</td>\n      <td>0.022537</td>\n      <td>0.022537</td>\n      <td>0.022537</td>\n      <td>0.022537</td>\n      <td>0.022537</td>\n      <td>0.022537</td>\n      <td>...</td>\n      <td>0.018066</td>\n      <td>0.018066</td>\n      <td>0.018066</td>\n      <td>0.018066</td>\n      <td>0.018066</td>\n      <td>0.018066</td>\n      <td>0.018066</td>\n      <td>0.018066</td>\n      <td>0.018066</td>\n      <td>0.018066</td>\n    </tr>\n    <tr>\n      <th>2</th>\n      <td>0.025502</td>\n      <td>0.025502</td>\n      <td>0.025502</td>\n      <td>0.025502</td>\n      <td>0.025299</td>\n      <td>0.025299</td>\n      <td>0.025299</td>\n      <td>0.025299</td>\n      <td>0.025299</td>\n      <td>0.025299</td>\n      <td>...</td>\n      <td>0.019995</td>\n      <td>0.019995</td>\n      <td>0.019995</td>\n      <td>0.019995</td>\n      <td>0.019995</td>\n      <td>0.019995</td>\n      <td>0.019995</td>\n      <td>0.019995</td>\n      <td>0.019995</td>\n      <td>0.019995</td>\n    </tr>\n    <tr>\n      <th>3</th>\n      <td>0.025582</td>\n      <td>0.025582</td>\n      <td>0.025582</td>\n      <td>0.025582</td>\n      <td>0.0247</td>\n      <td>0.024699</td>\n      <td>0.024699</td>\n      <td>0.024702</td>\n      <td>0.0247</td>\n      <td>0.0247</td>\n      <td>...</td>\n      <td>0.019213</td>\n      <td>0.019213</td>\n      <td>0.019213</td>\n      <td>0.019213</td>\n      <td>0.019213</td>\n      <td>0.019213</td>\n      <td>0.019213</td>\n      <td>0.019213</td>\n      <td>0.019213</td>\n      <td>0.019213</td>\n    </tr>\n    <tr>\n      <th>4</th>\n      <td>0.024681</td>\n      <td>0.024681</td>\n      <td>0.024681</td>\n      <td>0.024681</td>\n      <td>0.022781</td>\n      <td>0.02278</td>\n      <td>0.022779</td>\n      <td>0.022792</td>\n      <td>0.022785</td>\n      <td>0.022781</td>\n      <td>...</td>\n      <td>0.017366</td>\n      <td>0.017366</td>\n      <td>0.017367</td>\n      <td>0.017366</td>\n      <td>0.017367</td>\n      <td>0.017366</td>\n      <td>0.017367</td>\n      <td>0.017366</td>\n      <td>0.017367</td>\n      <td>0.017366</td>\n    </tr>\n    <tr>\n      <th>...</th>\n      <td>...</td>\n      <td>...</td>\n      <td>...</td>\n      <td>...</td>\n      <td>...</td>\n      <td>...</td>\n      <td>...</td>\n      <td>...</td>\n      <td>...</td>\n      <td>...</td>\n      <td>...</td>\n      <td>...</td>\n      <td>...</td>\n      <td>...</td>\n      <td>...</td>\n      <td>...</td>\n      <td>...</td>\n      <td>...</td>\n      <td>...</td>\n      <td>...</td>\n      <td>...</td>\n    </tr>\n    <tr>\n      <th>8755</th>\n      <td>0.052877</td>\n      <td>0.052286</td>\n      <td>0.04697</td>\n      <td>0.040762</td>\n      <td>0.031853</td>\n      <td>0.031139</td>\n      <td>0.030582</td>\n      <td>0.034148</td>\n      <td>0.032805</td>\n      <td>0.031002</td>\n      <td>...</td>\n      <td>0.011098</td>\n      <td>0.010685</td>\n      <td>0.032745</td>\n      <td>0.03229</td>\n      <td>0.031926</td>\n      <td>0.03148</td>\n      <td>0.029802</td>\n      <td>0.029439</td>\n      <td>0.018504</td>\n      <td>0.018003</td>\n    </tr>\n    <tr>\n      <th>8756</th>\n      <td>0.052133</td>\n      <td>0.05194</td>\n      <td>0.046792</td>\n      <td>0.041255</td>\n      <td>0.03243</td>\n      <td>0.031736</td>\n      <td>0.031194</td>\n      <td>0.034666</td>\n      <td>0.033357</td>\n      <td>0.031875</td>\n      <td>...</td>\n      <td>0.013019</td>\n      <td>0.012479</td>\n      <td>0.033273</td>\n      <td>0.032826</td>\n      <td>0.032761</td>\n      <td>0.032324</td>\n      <td>0.030571</td>\n      <td>0.030225</td>\n      <td>0.020576</td>\n      <td>0.020093</td>\n    </tr>\n    <tr>\n      <th>8757</th>\n      <td>0.050517</td>\n      <td>0.050471</td>\n      <td>0.04572</td>\n      <td>0.040543</td>\n      <td>0.031627</td>\n      <td>0.030952</td>\n      <td>0.030426</td>\n      <td>0.033808</td>\n      <td>0.032531</td>\n      <td>0.03123</td>\n      <td>...</td>\n      <td>0.014175</td>\n      <td>0.013658</td>\n      <td>0.033014</td>\n      <td>0.032578</td>\n      <td>0.032662</td>\n      <td>0.032236</td>\n      <td>0.030522</td>\n      <td>0.030195</td>\n      <td>0.021414</td>\n      <td>0.020945</td>\n    </tr>\n    <tr>\n      <th>8758</th>\n      <td>0.050903</td>\n      <td>0.050895</td>\n      <td>0.046773</td>\n      <td>0.041964</td>\n      <td>0.033044</td>\n      <td>0.032409</td>\n      <td>0.031915</td>\n      <td>0.035105</td>\n      <td>0.033898</td>\n      <td>0.032749</td>\n      <td>...</td>\n      <td>0.016577</td>\n      <td>0.016095</td>\n      <td>0.033717</td>\n      <td>0.033308</td>\n      <td>0.033462</td>\n      <td>0.033061</td>\n      <td>0.031509</td>\n      <td>0.031211</td>\n      <td>0.023343</td>\n      <td>0.022905</td>\n    </tr>\n    <tr>\n      <th>8759</th>\n      <td>0.053943</td>\n      <td>0.053938</td>\n      <td>0.05006</td>\n      <td>0.0453</td>\n      <td>0.035366</td>\n      <td>0.034718</td>\n      <td>0.034216</td>\n      <td>0.037473</td>\n      <td>0.036238</td>\n      <td>0.035118</td>\n      <td>...</td>\n      <td>0.018371</td>\n      <td>0.017884</td>\n      <td>0.035231</td>\n      <td>0.034818</td>\n      <td>0.035018</td>\n      <td>0.034612</td>\n      <td>0.033088</td>\n      <td>0.032794</td>\n      <td>0.025198</td>\n      <td>0.024755</td>\n    </tr>\n  </tbody>\n</table>\n<p>8760 rows × 84 columns</p>\n</div>"
     },
     "execution_count": 19,
     "metadata": {},
     "output_type": "execute_result"
    }
   ],
   "source": [
    "PE_ht_rt = pd.concat([PE_ht_rt[col].explode().reset_index(drop=True) for col in PE_ht_rt.columns],axis=1)\n",
    "PE_ht_rt"
   ],
   "metadata": {
    "collapsed": false,
    "ExecuteTime": {
     "end_time": "2023-10-04T18:52:35.847190400Z",
     "start_time": "2023-10-04T18:52:35.699815200Z"
    }
   },
   "id": "b54e7aa42071b471"
  },
  {
   "cell_type": "code",
   "execution_count": 25,
   "outputs": [
    {
     "data": {
      "text/plain": "                                                        BC0_0  \\\nDwelling_1  [0.0, 0.0, 0.0, 0.0, 0.0009696664850464914, 0....   \n\n                                                      BC0_180  \\\nDwelling_1  [0.0, 0.0, 0.0, 0.0, 0.0009696664850464914, 0....   \n\n                                                      BC0_270  \\\nDwelling_1  [0.0, 0.0, 0.0, 0.0, 0.0009696664850464914, 0....   \n\n                                                       BC0_90  \\\nDwelling_1  [0.0, 0.0, 0.0, 0.0, 0.0009696664850464914, 0....   \n\n                                                P111_0_W8_R10  \\\nDwelling_1  [0.0, 0.0, 0.0, 0.0, 0.0009697027193538297, 0....   \n\n                                                P111_0_W8_R12  \\\nDwelling_1  [0.0, 0.0, 0.0, 0.0, 0.0009697027490685623, 0....   \n\n                                                P111_0_W8_R14  \\\nDwelling_1  [0.0, 0.0, 0.0, 0.0, 0.000969702762274592, 0.0...   \n\n                                                 P111_0_W8_R6  \\\nDwelling_1  [0.0, 0.0, 0.0, 0.0, 0.0009697025210500714, 0....   \n\n                                                 P111_0_W8_R8  \\\nDwelling_1  [0.0, 0.0, 0.0, 0.0, 0.0009697026551173304, 0....   \n\n                                              P111_180_W8_R10  ...  \\\nDwelling_1  [0.0, 0.0, 0.0, 0.0, 0.0009697027193538297, 0....  ...   \n\n                                                P221_90_W6_R5  \\\nDwelling_1  [0.0, 0.0, 0.0, 0.0, 0.0009698066671264497, 0....   \n\n                                                P221_90_W8_R5  \\\nDwelling_1  [0.0, 0.0, 0.0, 0.0, 0.0009698066741796315, 0....   \n\n                                                 P222_0_W6_R5  \\\nDwelling_1  [0.0, 0.0, 0.0, 0.0, 0.0009698066587967547, 0....   \n\n                                                 P222_0_W8_R5  \\\nDwelling_1  [0.0, 0.0, 0.0, 0.0, 0.0009698066658499507, 0....   \n\n                                               P222_180_W6_R5  \\\nDwelling_1  [0.0, 0.0, 0.0, 0.0, 0.0009698066587967547, 0....   \n\n                                               P222_180_W8_R5  \\\nDwelling_1  [0.0, 0.0, 0.0, 0.0, 0.0009698066658499507, 0....   \n\n                                               P222_270_W6_R5  \\\nDwelling_1  [0.0, 0.0, 0.0, 0.0, 0.0009698066587967547, 0....   \n\n                                               P222_270_W8_R5  \\\nDwelling_1  [0.0, 0.0, 0.0, 0.0, 0.0009698066658499507, 0....   \n\n                                                P222_90_W6_R5  \\\nDwelling_1  [0.0, 0.0, 0.0, 0.0, 0.0009698066587967547, 0....   \n\n                                                P222_90_W8_R5  \nDwelling_1  [0.0, 0.0, 0.0, 0.0, 0.0009698066658499507, 0....  \n\n[1 rows x 84 columns]",
      "text/html": "<div>\n<style scoped>\n    .dataframe tbody tr th:only-of-type {\n        vertical-align: middle;\n    }\n\n    .dataframe tbody tr th {\n        vertical-align: top;\n    }\n\n    .dataframe thead th {\n        text-align: right;\n    }\n</style>\n<table border=\"1\" class=\"dataframe\">\n  <thead>\n    <tr style=\"text-align: right;\">\n      <th></th>\n      <th>BC0_0</th>\n      <th>BC0_180</th>\n      <th>BC0_270</th>\n      <th>BC0_90</th>\n      <th>P111_0_W8_R10</th>\n      <th>P111_0_W8_R12</th>\n      <th>P111_0_W8_R14</th>\n      <th>P111_0_W8_R6</th>\n      <th>P111_0_W8_R8</th>\n      <th>P111_180_W8_R10</th>\n      <th>...</th>\n      <th>P221_90_W6_R5</th>\n      <th>P221_90_W8_R5</th>\n      <th>P222_0_W6_R5</th>\n      <th>P222_0_W8_R5</th>\n      <th>P222_180_W6_R5</th>\n      <th>P222_180_W8_R5</th>\n      <th>P222_270_W6_R5</th>\n      <th>P222_270_W8_R5</th>\n      <th>P222_90_W6_R5</th>\n      <th>P222_90_W8_R5</th>\n    </tr>\n  </thead>\n  <tbody>\n    <tr>\n      <th>Dwelling_1</th>\n      <td>[0.0, 0.0, 0.0, 0.0, 0.0009696664850464914, 0....</td>\n      <td>[0.0, 0.0, 0.0, 0.0, 0.0009696664850464914, 0....</td>\n      <td>[0.0, 0.0, 0.0, 0.0, 0.0009696664850464914, 0....</td>\n      <td>[0.0, 0.0, 0.0, 0.0, 0.0009696664850464914, 0....</td>\n      <td>[0.0, 0.0, 0.0, 0.0, 0.0009697027193538297, 0....</td>\n      <td>[0.0, 0.0, 0.0, 0.0, 0.0009697027490685623, 0....</td>\n      <td>[0.0, 0.0, 0.0, 0.0, 0.000969702762274592, 0.0...</td>\n      <td>[0.0, 0.0, 0.0, 0.0, 0.0009697025210500714, 0....</td>\n      <td>[0.0, 0.0, 0.0, 0.0, 0.0009697026551173304, 0....</td>\n      <td>[0.0, 0.0, 0.0, 0.0, 0.0009697027193538297, 0....</td>\n      <td>...</td>\n      <td>[0.0, 0.0, 0.0, 0.0, 0.0009698066671264497, 0....</td>\n      <td>[0.0, 0.0, 0.0, 0.0, 0.0009698066741796315, 0....</td>\n      <td>[0.0, 0.0, 0.0, 0.0, 0.0009698066587967547, 0....</td>\n      <td>[0.0, 0.0, 0.0, 0.0, 0.0009698066658499507, 0....</td>\n      <td>[0.0, 0.0, 0.0, 0.0, 0.0009698066587967547, 0....</td>\n      <td>[0.0, 0.0, 0.0, 0.0, 0.0009698066658499507, 0....</td>\n      <td>[0.0, 0.0, 0.0, 0.0, 0.0009698066587967547, 0....</td>\n      <td>[0.0, 0.0, 0.0, 0.0, 0.0009698066658499507, 0....</td>\n      <td>[0.0, 0.0, 0.0, 0.0, 0.0009698066587967547, 0....</td>\n      <td>[0.0, 0.0, 0.0, 0.0, 0.0009698066658499507, 0....</td>\n    </tr>\n  </tbody>\n</table>\n<p>1 rows × 84 columns</p>\n</div>"
     },
     "execution_count": 25,
     "metadata": {},
     "output_type": "execute_result"
    }
   ],
   "source": [
    "pd.DataFrame(PE_dhw)"
   ],
   "metadata": {
    "collapsed": false,
    "ExecuteTime": {
     "end_time": "2023-10-04T18:57:40.743250200Z",
     "start_time": "2023-10-04T18:57:40.538530600Z"
    }
   },
   "id": "26774b7fd590474d"
  },
  {
   "cell_type": "code",
   "execution_count": 27,
   "outputs": [
    {
     "data": {
      "text/plain": "                                                        BC0_0  \\\nDwelling_1  [0.0, 0.0, 0.0, 0.0, 0.0007377897168831999, 0....   \n\n                                                      BC0_180  \\\nDwelling_1  [0.0, 0.0, 0.0, 0.0, 0.0007377897168831999, 0....   \n\n                                                      BC0_270  \\\nDwelling_1  [0.0, 0.0, 0.0, 0.0, 0.0007377897168831999, 0....   \n\n                                                       BC0_90  \\\nDwelling_1  [0.0, 0.0, 0.0, 0.0, 0.0007377897168831999, 0....   \n\n                                                P111_0_W8_R10  \\\nDwelling_1  [0.0, 0.0, 0.0, 0.0, 0.0007378172864648704, 0....   \n\n                                                P111_0_W8_R12  \\\nDwelling_1  [0.0, 0.0, 0.0, 0.0, 0.0007378173090739061, 0....   \n\n                                                P111_0_W8_R14  \\\nDwelling_1  [0.0, 0.0, 0.0, 0.0, 0.0007378173191219721, 0....   \n\n                                                 P111_0_W8_R6  \\\nDwelling_1  [0.0, 0.0, 0.0, 0.0, 0.000737817135581576, 0.0...   \n\n                                                 P111_0_W8_R8  \\\nDwelling_1  [0.0, 0.0, 0.0, 0.0, 0.0007378172375892731, 0....   \n\n                                              P111_180_W8_R10  ...  \\\nDwelling_1  [0.0, 0.0, 0.0, 0.0, 0.0007378172864648704, 0....  ...   \n\n                                                P221_90_W6_R5  \\\nDwelling_1  [0.0, 0.0, 0.0, 0.0, 0.0007378963771614291, 0....   \n\n                                                P221_90_W8_R5  \\\nDwelling_1  [0.0, 0.0, 0.0, 0.0, 0.0007378963825279805, 0....   \n\n                                                 P222_0_W6_R5  \\\nDwelling_1  [0.0, 0.0, 0.0, 0.0, 0.0007378963708236177, 0....   \n\n                                                 P222_0_W8_R5  \\\nDwelling_1  [0.0, 0.0, 0.0, 0.0, 0.0007378963761901798, 0....   \n\n                                               P222_180_W6_R5  \\\nDwelling_1  [0.0, 0.0, 0.0, 0.0, 0.0007378963708236177, 0....   \n\n                                               P222_180_W8_R5  \\\nDwelling_1  [0.0, 0.0, 0.0, 0.0, 0.0007378963761901798, 0....   \n\n                                               P222_270_W6_R5  \\\nDwelling_1  [0.0, 0.0, 0.0, 0.0, 0.0007378963708236177, 0....   \n\n                                               P222_270_W8_R5  \\\nDwelling_1  [0.0, 0.0, 0.0, 0.0, 0.0007378963761901798, 0....   \n\n                                                P222_90_W6_R5  \\\nDwelling_1  [0.0, 0.0, 0.0, 0.0, 0.0007378963708236177, 0....   \n\n                                                P222_90_W8_R5  \nDwelling_1  [0.0, 0.0, 0.0, 0.0, 0.0007378963761901798, 0....  \n\n[1 rows x 84 columns]",
      "text/html": "<div>\n<style scoped>\n    .dataframe tbody tr th:only-of-type {\n        vertical-align: middle;\n    }\n\n    .dataframe tbody tr th {\n        vertical-align: top;\n    }\n\n    .dataframe thead th {\n        text-align: right;\n    }\n</style>\n<table border=\"1\" class=\"dataframe\">\n  <thead>\n    <tr style=\"text-align: right;\">\n      <th></th>\n      <th>BC0_0</th>\n      <th>BC0_180</th>\n      <th>BC0_270</th>\n      <th>BC0_90</th>\n      <th>P111_0_W8_R10</th>\n      <th>P111_0_W8_R12</th>\n      <th>P111_0_W8_R14</th>\n      <th>P111_0_W8_R6</th>\n      <th>P111_0_W8_R8</th>\n      <th>P111_180_W8_R10</th>\n      <th>...</th>\n      <th>P221_90_W6_R5</th>\n      <th>P221_90_W8_R5</th>\n      <th>P222_0_W6_R5</th>\n      <th>P222_0_W8_R5</th>\n      <th>P222_180_W6_R5</th>\n      <th>P222_180_W8_R5</th>\n      <th>P222_270_W6_R5</th>\n      <th>P222_270_W8_R5</th>\n      <th>P222_90_W6_R5</th>\n      <th>P222_90_W8_R5</th>\n    </tr>\n  </thead>\n  <tbody>\n    <tr>\n      <th>Dwelling_1</th>\n      <td>[0.0, 0.0, 0.0, 0.0, 0.0007377897168831999, 0....</td>\n      <td>[0.0, 0.0, 0.0, 0.0, 0.0007377897168831999, 0....</td>\n      <td>[0.0, 0.0, 0.0, 0.0, 0.0007377897168831999, 0....</td>\n      <td>[0.0, 0.0, 0.0, 0.0, 0.0007377897168831999, 0....</td>\n      <td>[0.0, 0.0, 0.0, 0.0, 0.0007378172864648704, 0....</td>\n      <td>[0.0, 0.0, 0.0, 0.0, 0.0007378173090739061, 0....</td>\n      <td>[0.0, 0.0, 0.0, 0.0, 0.0007378173191219721, 0....</td>\n      <td>[0.0, 0.0, 0.0, 0.0, 0.000737817135581576, 0.0...</td>\n      <td>[0.0, 0.0, 0.0, 0.0, 0.0007378172375892731, 0....</td>\n      <td>[0.0, 0.0, 0.0, 0.0, 0.0007378172864648704, 0....</td>\n      <td>...</td>\n      <td>[0.0, 0.0, 0.0, 0.0, 0.0007378963771614291, 0....</td>\n      <td>[0.0, 0.0, 0.0, 0.0, 0.0007378963825279805, 0....</td>\n      <td>[0.0, 0.0, 0.0, 0.0, 0.0007378963708236177, 0....</td>\n      <td>[0.0, 0.0, 0.0, 0.0, 0.0007378963761901798, 0....</td>\n      <td>[0.0, 0.0, 0.0, 0.0, 0.0007378963708236177, 0....</td>\n      <td>[0.0, 0.0, 0.0, 0.0, 0.0007378963761901798, 0....</td>\n      <td>[0.0, 0.0, 0.0, 0.0, 0.0007378963708236177, 0....</td>\n      <td>[0.0, 0.0, 0.0, 0.0, 0.0007378963761901798, 0....</td>\n      <td>[0.0, 0.0, 0.0, 0.0, 0.0007378963708236177, 0....</td>\n      <td>[0.0, 0.0, 0.0, 0.0, 0.0007378963761901798, 0....</td>\n    </tr>\n  </tbody>\n</table>\n<p>1 rows × 84 columns</p>\n</div>"
     },
     "execution_count": 27,
     "metadata": {},
     "output_type": "execute_result"
    }
   ],
   "source": [
    "pd.DataFrame(PE_dhw_rt)"
   ],
   "metadata": {
    "collapsed": false,
    "ExecuteTime": {
     "end_time": "2023-10-04T18:57:55.817011300Z",
     "start_time": "2023-10-04T18:57:55.786127900Z"
    }
   },
   "id": "f6b6b850e8618beb"
  },
  {
   "cell_type": "code",
   "execution_count": null,
   "outputs": [],
   "source": [
    "#solo canvia el diccionario\n",
    "energia_primaria_active = coef_CO2={'ele': 0.833, 'GN': 0.252, 'butano': 0.254}, coef_NRPE={'ele': 2.937, 'GN': 1.190, 'butano': 1.201}\n",
    "energia_primaria_abans =coef_CO2={'ele': 0.331, 'GN': 0.252, 'butano': 0.254}  coef_NRPE={'ele': 1.954, 'GN': 1.190, 'butano': 1.201}"
   ],
   "metadata": {
    "collapsed": false
   },
   "id": "b593f1d079549aeb"
  }
 ],
 "metadata": {
  "kernelspec": {
   "display_name": "Python 3",
   "language": "python",
   "name": "python3"
  },
  "language_info": {
   "codemirror_mode": {
    "name": "ipython",
    "version": 2
   },
   "file_extension": ".py",
   "mimetype": "text/x-python",
   "name": "python",
   "nbconvert_exporter": "python",
   "pygments_lexer": "ipython2",
   "version": "2.7.6"
  }
 },
 "nbformat": 4,
 "nbformat_minor": 5
}
