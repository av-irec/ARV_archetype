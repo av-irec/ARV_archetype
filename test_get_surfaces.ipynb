{
 "cells": [
  {
   "cell_type": "code",
   "execution_count": null,
   "id": "initial_id",
   "metadata": {
    "collapsed": true
   },
   "outputs": [],
   "source": []
  },
  {
   "cell_type": "code",
   "execution_count": 14,
   "outputs": [],
   "source": [
    "import pandas as pd\n",
    "from sqlalchemy import create_engine, text\n",
    "from urllib.parse import quote_plus\n",
    "# Replace 'your_username', 'your_password', 'your_host', 'your_port', and 'your_database' with the appropriate values\n",
    "db_params = {'user' : 'postgres',\n",
    "'password' : 'GeoTerm2023@@',\n",
    "'host' : '172.16.27.100' , # Usually 'localhost' if the database is running on your local machine\n",
    "'port' : '5432',  # The default port for PostgreSQL is 5432\n",
    "'database' : 'ARV_district_buildings'}\n",
    "\n",
    "quoted_password = quote_plus(db_params['password'])\n",
    "# Construct the SQLAlchemy connection string\n",
    "db_connection_string = f\"postgresql://{db_params['user']}:{quoted_password}@{db_params['host']}:{db_params['port']}/{db_params['database']}\"\n",
    "\n",
    "engine = create_engine(db_connection_string)"
   ],
   "metadata": {
    "collapsed": false,
    "ExecuteTime": {
     "end_time": "2023-10-20T07:18:22.665335300Z",
     "start_time": "2023-10-20T07:18:22.662332700Z"
    }
   },
   "id": "cbc1c1b34e0d6d9a"
  },
  {
   "cell_type": "code",
   "execution_count": 69,
   "outputs": [],
   "source": [
    "refcat_value = '1502002DD7810B'\n",
    "def uses_prop(refcat_value):\n",
    "\n",
    "    # SQL query with a parameter\n",
    "    \n",
    "\n",
    "    query_refcat = text(\n",
    "        \"\"\"\n",
    "        SELECT refcat, total_area_wall AS wall, floor_area::numeric(10, 2) AS floor, roof_area::numeric(10, 2) AS roof\n",
    "        FROM visualization.surface_area\n",
    "        where refcat = :refcat_value\n",
    "        ;\n",
    "        \"\"\"\n",
    "    )\n",
    "\n",
    "    # Execute the query\n",
    "\n",
    "\n",
    "    with engine.connect() as connection:\n",
    "        result = connection.execute(query_refcat, {'refcat_value': refcat_value})\n",
    "        for row in result:\n",
    "            areabyCadastralcode = {\n",
    "                row[0]: {\n",
    "                'wall': float(row[1]),\n",
    "                'floor': float(row[2]),\n",
    "                'roof': float(row[3])\n",
    "            }\n",
    "        }\n",
    "\n",
    "    distributionRatio= {}\n",
    "    ref_use = {}\n",
    "    query_dwellings = text(\n",
    "        \"\"\"    SELECT parcela, referencia_catastral, coef_propiedad_divhor,clave_grupo_uso\n",
    "            FROM\n",
    "            catastro.tipo15_su\n",
    "            WHERE\n",
    "            parcela IN (SELECT gmlid FROM citydb.cityobject)\n",
    "            AND parcela = :refcat_value\n",
    "            ;\n",
    "        \"\"\"\n",
    "            )\n",
    "    with engine.connect() as connection:\n",
    "        result = connection.execute(query_dwellings, {'refcat_value': refcat_value})\n",
    "        for row in result:\n",
    "            parcela, refcat, coef, clave_grupo_uso = row\n",
    "        if parcela not in distributionRatio:\n",
    "            distributionRatio[parcela] = {}\n",
    "        distributionRatio[parcela][refcat] = float(coef)\n",
    "        if parcela not in ref_use:\n",
    "            ref_use[parcela] = {}\n",
    "        ref_use[parcela][refcat] = str(clave_grupo_uso)\n",
    "\n",
    "       \n",
    "    return areabyCadastralcode, distributionRatio, ref_use\n",
    "    "
   ],
   "metadata": {
    "collapsed": false,
    "ExecuteTime": {
     "end_time": "2023-10-20T10:27:49.921528800Z",
     "start_time": "2023-10-20T10:27:49.903919200Z"
    }
   },
   "id": "5196b1fc85ee64bd"
  },
  {
   "cell_type": "code",
   "execution_count": 74,
   "outputs": [],
   "source": [
    "refcat_value = '1502002DD7810B'\n",
    "def uses_prop(refcat_value):\n",
    "\n",
    "    # SQL query with a parameter\n",
    "    \n",
    "\n",
    "    query_refcat = text(\n",
    "        \"\"\"\n",
    "        SELECT refcat, total_area_wall AS wall, floor_area::numeric(10, 2) AS floor, roof_area::numeric(10, 2) AS roof\n",
    "        FROM visualization.surface_area\n",
    "        where refcat = :refcat_value\n",
    "        ;\n",
    "        \"\"\"\n",
    "    )\n",
    "\n",
    "    # Execute the query\n",
    "\n",
    "\n",
    "    with engine.connect() as connection:\n",
    "        result = connection.execute(query_refcat, {'refcat_value': refcat_value})\n",
    "        areabyCadastralcode = {}\n",
    "        for row in result:\n",
    "            areabyCadastralcode = {\n",
    "                row[0]: {\n",
    "                    'wall': float(row[1]),\n",
    "                    'floor': float(row[2]),\n",
    "                    'roof': float(row[3])\n",
    "                }\n",
    "            }\n",
    "\n",
    "    distributionRatio= {}\n",
    "    ref_use = {}\n",
    "    query_dwellings = text(\n",
    "        \"\"\"    SELECT parcela, referencia_catastral, coef_propiedad_divhor,clave_grupo_uso\n",
    "            FROM\n",
    "            catastro.tipo15_su\n",
    "            WHERE\n",
    "            parcela IN (SELECT gmlid FROM citydb.cityobject)\n",
    "            AND parcela = :refcat_value\n",
    "            ;\n",
    "        \"\"\"\n",
    "    )\n",
    "    with engine.connect() as connection:\n",
    "        result = connection.execute(query_dwellings, {'refcat_value': refcat_value})\n",
    "        for row in result:\n",
    "            parcela, refcat, coef, clave_grupo_uso = row\n",
    "            if parcela not in distributionRatio:\n",
    "                distributionRatio[parcela] = {}\n",
    "            distributionRatio[parcela][refcat] = float(coef)\n",
    "            if parcela not in ref_use:\n",
    "                ref_use[parcela] = {}\n",
    "            ref_use[parcela][refcat] = str(clave_grupo_uso)\n",
    "\n",
    "       \n",
    "    return areabyCadastralcode, distributionRatio, ref_use\n"
   ],
   "metadata": {
    "collapsed": false,
    "ExecuteTime": {
     "end_time": "2023-10-20T10:30:44.470736100Z",
     "start_time": "2023-10-20T10:30:44.456268500Z"
    }
   },
   "id": "ca83f04b676d1cc4"
  },
  {
   "cell_type": "code",
   "execution_count": 75,
   "outputs": [],
   "source": [
    "uno, dos, tres = uses_prop(refcat_value)"
   ],
   "metadata": {
    "collapsed": false,
    "ExecuteTime": {
     "end_time": "2023-10-20T10:30:45.633437Z",
     "start_time": "2023-10-20T10:30:45.564619800Z"
    }
   },
   "id": "6b5a3ee9493de322"
  },
  {
   "cell_type": "code",
   "execution_count": 76,
   "outputs": [
    {
     "data": {
      "text/plain": "{'1502002DD7810B': {'1502002DD7810B0001WY': 6.271,\n  '1502002DD7810B0002EU': 6.271,\n  '1502002DD7810B0003RI': 6.229,\n  '1502002DD7810B0004TO': 6.229,\n  '1502002DD7810B0005YP': 6.271,\n  '1502002DD7810B0006UA': 6.271,\n  '1502002DD7810B0007IS': 6.229,\n  '1502002DD7810B0008OD': 6.229,\n  '1502002DD7810B0009PF': 6.271,\n  '1502002DD7810B0010IS': 6.271,\n  '1502002DD7810B0011OD': 6.229,\n  '1502002DD7810B0012PF': 6.229,\n  '1502002DD7810B0013AG': 6.271,\n  '1502002DD7810B0014SH': 6.271,\n  '1502002DD7810B0015DJ': 6.229,\n  '1502002DD7810B0016FK': 6.229,\n  '1502002DD7810B0017GL': 6.225,\n  '1502002DD7810B0018HB': 6.25,\n  '1502002DD7810B0019JZ': 6.25,\n  '1502002DD7810B0020GL': 6.25,\n  '1502002DD7810B0021HB': 6.25,\n  '1502002DD7810B0022JZ': 6.25,\n  '1502002DD7810B0023KX': 6.25,\n  '1502002DD7810B0024LM': 6.25,\n  '1502002DD7810B0025BQ': 6.25,\n  '1502002DD7810B0026ZW': 6.25,\n  '1502002DD7810B0027XE': 6.25,\n  '1502002DD7810B0028MR': 6.25,\n  '1502002DD7810B0029QT': 6.25,\n  '1502002DD7810B0030XE': 6.25,\n  '1502002DD7810B0031MR': 6.25,\n  '1502002DD7810B0032QT': 6.25,\n  '1502002DD7810B0033WY': 6.229,\n  '1502002DD7810B0034EU': 6.229,\n  '1502002DD7810B0035RI': 6.271,\n  '1502002DD7810B0036TO': 6.271,\n  '1502002DD7810B0037YP': 6.229,\n  '1502002DD7810B0038UA': 6.229,\n  '1502002DD7810B0039IS': 6.271,\n  '1502002DD7810B0040YP': 6.271,\n  '1502002DD7810B0041UA': 6.229,\n  '1502002DD7810B0042IS': 6.229,\n  '1502002DD7810B0043OD': 6.271,\n  '1502002DD7810B0044PF': 6.229,\n  '1502002DD7810B0045AG': 6.229,\n  '1502002DD7810B0046SH': 6.229,\n  '1502002DD7810B0047DJ': 6.271,\n  '1502002DD7810B0048FK': 6.271}}"
     },
     "execution_count": 76,
     "metadata": {},
     "output_type": "execute_result"
    }
   ],
   "source": [
    "dos"
   ],
   "metadata": {
    "collapsed": false,
    "ExecuteTime": {
     "end_time": "2023-10-20T10:30:46.866418100Z",
     "start_time": "2023-10-20T10:30:46.846905300Z"
    }
   },
   "id": "cddec49d0bd9fa5"
  },
  {
   "cell_type": "code",
   "execution_count": 79,
   "outputs": [],
   "source": [
    "class DataProcessor:\n",
    "    def __init__(self, engine):\n",
    "        self.engine = engine\n",
    "\n",
    "    def get_data(self, refcat_value):\n",
    "        areabyCadastralcode = self._get_areaby_cadastralcode(refcat_value)\n",
    "        distribution_ratio, ref_use = self._get_distribution_ratio_and_ref_use(refcat_value)\n",
    "        return areabyCadastralcode, distribution_ratio, ref_use\n",
    "\n",
    "    def _get_areaby_cadastralcode(self, refcat_value):\n",
    "        query_refcat = text(\n",
    "            \"\"\"\n",
    "            SELECT refcat, total_area_wall AS wall, floor_area::numeric(10, 2) AS floor, roof_area::numeric(10, 2) AS roof\n",
    "            FROM visualization.surface_area\n",
    "            where refcat = :refcat_value\n",
    "            ;\n",
    "            \"\"\"\n",
    "        )\n",
    "\n",
    "        with self.engine.connect() as connection:\n",
    "            result = connection.execute(query_refcat, {'refcat_value': refcat_value})\n",
    "            areaby_cadastralcode = {}\n",
    "            for row in result:\n",
    "                areaby_cadastralcode = {\n",
    "                    row[0]: {\n",
    "                        'wall': float(row[1]),\n",
    "                        'floor': float(row[2]),\n",
    "                        'roof': float(row[3])\n",
    "                    }\n",
    "                }\n",
    "        return areaby_cadastralcode\n",
    "\n",
    "    def _get_distribution_ratio_and_ref_use(self, refcat_value):\n",
    "        distribution_ratio = {}\n",
    "        ref_use = {}\n",
    "        query_dwellings = text(\n",
    "            \"\"\"    \n",
    "            SELECT parcela, referencia_catastral, coef_propiedad_divhor,clave_grupo_uso\n",
    "            FROM catastro.tipo15_su\n",
    "            WHERE parcela IN (SELECT gmlid FROM citydb.cityobject)\n",
    "            AND parcela = :refcat_value\n",
    "            ;\n",
    "            \"\"\"\n",
    "        )\n",
    "\n",
    "        with self.engine.connect() as connection:\n",
    "            result = connection.execute(query_dwellings, {'refcat_value': refcat_value})\n",
    "            for row in result:\n",
    "                parcela, refcat, coef, clave_grupo_uso = row\n",
    "                if parcela not in distribution_ratio:\n",
    "                    distribution_ratio[parcela] = {}\n",
    "                distribution_ratio[parcela][refcat] = float(coef)\n",
    "                if parcela not in ref_use:\n",
    "                    ref_use[parcela] = {}\n",
    "                ref_use[parcela][refcat] = str(clave_grupo_uso)\n",
    "\n",
    "        return distribution_ratio, ref_use\n"
   ],
   "metadata": {
    "collapsed": false,
    "ExecuteTime": {
     "end_time": "2023-10-20T10:34:39.077894600Z",
     "start_time": "2023-10-20T10:34:39.067873400Z"
    }
   },
   "id": "32a39ec10c0e7110"
  },
  {
   "cell_type": "code",
   "execution_count": 86,
   "outputs": [],
   "source": [
    "data_processor = DataProcessor(engine)\n",
    "reabyCadastralcode, distributionRatio, ref_use = data_processor.get_data(refcat_value)\n"
   ],
   "metadata": {
    "collapsed": false,
    "ExecuteTime": {
     "end_time": "2023-10-20T10:38:04.143395100Z",
     "start_time": "2023-10-20T10:38:04.073854400Z"
    }
   },
   "id": "69f04b78d5f721d3"
  },
  {
   "cell_type": "code",
   "execution_count": 89,
   "outputs": [
    {
     "data": {
      "text/plain": "{'1502002DD7810B': {'1502002DD7810B0001WY': 'V',\n  '1502002DD7810B0002EU': 'V',\n  '1502002DD7810B0003RI': 'V',\n  '1502002DD7810B0004TO': 'V',\n  '1502002DD7810B0005YP': 'V',\n  '1502002DD7810B0006UA': 'V',\n  '1502002DD7810B0007IS': 'V',\n  '1502002DD7810B0008OD': 'V',\n  '1502002DD7810B0009PF': 'V',\n  '1502002DD7810B0010IS': 'V',\n  '1502002DD7810B0011OD': 'V',\n  '1502002DD7810B0012PF': 'V',\n  '1502002DD7810B0013AG': 'V',\n  '1502002DD7810B0014SH': 'V',\n  '1502002DD7810B0015DJ': 'V',\n  '1502002DD7810B0016FK': 'V',\n  '1502002DD7810B0017GL': 'V',\n  '1502002DD7810B0018HB': 'V',\n  '1502002DD7810B0019JZ': 'V',\n  '1502002DD7810B0020GL': 'V',\n  '1502002DD7810B0021HB': 'V',\n  '1502002DD7810B0022JZ': 'V',\n  '1502002DD7810B0023KX': 'V',\n  '1502002DD7810B0024LM': 'V',\n  '1502002DD7810B0025BQ': 'V',\n  '1502002DD7810B0026ZW': 'V',\n  '1502002DD7810B0027XE': 'V',\n  '1502002DD7810B0028MR': 'V',\n  '1502002DD7810B0029QT': 'V',\n  '1502002DD7810B0030XE': 'V',\n  '1502002DD7810B0031MR': 'V',\n  '1502002DD7810B0032QT': 'V',\n  '1502002DD7810B0033WY': 'V',\n  '1502002DD7810B0034EU': 'V',\n  '1502002DD7810B0035RI': 'V',\n  '1502002DD7810B0036TO': 'V',\n  '1502002DD7810B0037YP': 'V',\n  '1502002DD7810B0038UA': 'V',\n  '1502002DD7810B0039IS': 'V',\n  '1502002DD7810B0040YP': 'V',\n  '1502002DD7810B0041UA': 'V',\n  '1502002DD7810B0042IS': 'V',\n  '1502002DD7810B0043OD': 'V',\n  '1502002DD7810B0044PF': 'V',\n  '1502002DD7810B0045AG': 'V',\n  '1502002DD7810B0046SH': 'V',\n  '1502002DD7810B0047DJ': 'V',\n  '1502002DD7810B0048FK': 'V'}}"
     },
     "execution_count": 89,
     "metadata": {},
     "output_type": "execute_result"
    }
   ],
   "source": [
    "ref_use\n"
   ],
   "metadata": {
    "collapsed": false,
    "ExecuteTime": {
     "end_time": "2023-10-20T10:38:25.594023500Z",
     "start_time": "2023-10-20T10:38:25.576453100Z"
    }
   },
   "id": "883c5e559aefc0bc"
  },
  {
   "cell_type": "code",
   "execution_count": 109,
   "outputs": [],
   "source": [
    "from SQL_statements import database_connection, getSurfacesTemp\n",
    "\n",
    "engine = database_connection.engine\n",
    "\n"
   ],
   "metadata": {
    "collapsed": false,
    "ExecuteTime": {
     "end_time": "2023-10-20T11:02:28.503226900Z",
     "start_time": "2023-10-20T11:02:28.491705600Z"
    }
   },
   "id": "650f34663e5c94f0"
  },
  {
   "cell_type": "code",
   "execution_count": 110,
   "outputs": [],
   "source": [
    "data_processor = getSurfacesTemp.DataProcessor(engine)\n",
    "\n"
   ],
   "metadata": {
    "collapsed": false,
    "ExecuteTime": {
     "end_time": "2023-10-20T11:02:29.671416700Z",
     "start_time": "2023-10-20T11:02:29.662872400Z"
    }
   },
   "id": "b23245aed487d4aa"
  },
  {
   "cell_type": "code",
   "execution_count": null,
   "outputs": [],
   "source": [],
   "metadata": {
    "collapsed": false
   },
   "id": "81c99ceddaad5da8"
  },
  {
   "cell_type": "code",
   "execution_count": 112,
   "outputs": [
    {
     "ename": "NameError",
     "evalue": "name 'text' is not defined",
     "output_type": "error",
     "traceback": [
      "\u001B[1;31m---------------------------------------------------------------------------\u001B[0m",
      "\u001B[1;31mNameError\u001B[0m                                 Traceback (most recent call last)",
      "Cell \u001B[1;32mIn[112], line 1\u001B[0m\n\u001B[1;32m----> 1\u001B[0m areabyCadastralcode, distributionRatio, ref_use \u001B[38;5;241m=\u001B[39m data_processor\u001B[38;5;241m.\u001B[39mget_data(refcat_value)\n",
      "File \u001B[1;32m~\\OneDrive - IREC-edu\\CODI\\11_AnalysisArchetype_Génerico\\SQL_statements\\getSurfacesTemp.py:6\u001B[0m, in \u001B[0;36mDataProcessor.get_data\u001B[1;34m(self, refcat_value)\u001B[0m\n\u001B[0;32m      5\u001B[0m \u001B[38;5;28;01mdef\u001B[39;00m \u001B[38;5;21mget_data\u001B[39m(\u001B[38;5;28mself\u001B[39m, refcat_value):\n\u001B[1;32m----> 6\u001B[0m     areabyCadastralcode \u001B[38;5;241m=\u001B[39m \u001B[38;5;28mself\u001B[39m\u001B[38;5;241m.\u001B[39m_get_areaby_cadastralcode(refcat_value)\n\u001B[0;32m      7\u001B[0m     distribution_ratio, ref_use \u001B[38;5;241m=\u001B[39m \u001B[38;5;28mself\u001B[39m\u001B[38;5;241m.\u001B[39m_get_distribution_ratio_and_ref_use(refcat_value)\n\u001B[0;32m      8\u001B[0m     \u001B[38;5;28;01mreturn\u001B[39;00m areabyCadastralcode, distribution_ratio, ref_use\n",
      "File \u001B[1;32m~\\OneDrive - IREC-edu\\CODI\\11_AnalysisArchetype_Génerico\\SQL_statements\\getSurfacesTemp.py:11\u001B[0m, in \u001B[0;36mDataProcessor._get_areaby_cadastralcode\u001B[1;34m(self, refcat_value)\u001B[0m\n\u001B[0;32m     10\u001B[0m \u001B[38;5;28;01mdef\u001B[39;00m \u001B[38;5;21m_get_areaby_cadastralcode\u001B[39m(\u001B[38;5;28mself\u001B[39m, refcat_value):\n\u001B[1;32m---> 11\u001B[0m     query_refcat \u001B[38;5;241m=\u001B[39m text(\n\u001B[0;32m     12\u001B[0m \u001B[38;5;250m        \u001B[39m\u001B[38;5;124;03m\"\"\"\u001B[39;00m\n\u001B[0;32m     13\u001B[0m \u001B[38;5;124;03m        SELECT refcat, total_area_wall AS wall, floor_area::numeric(10, 2) AS floor, roof_area::numeric(10, 2) AS roof\u001B[39;00m\n\u001B[0;32m     14\u001B[0m \u001B[38;5;124;03m        FROM visualization.surface_area\u001B[39;00m\n\u001B[0;32m     15\u001B[0m \u001B[38;5;124;03m        where refcat = :refcat_value\u001B[39;00m\n\u001B[0;32m     16\u001B[0m \u001B[38;5;124;03m        ;\u001B[39;00m\n\u001B[0;32m     17\u001B[0m \u001B[38;5;124;03m        \"\"\"\u001B[39;00m\n\u001B[0;32m     18\u001B[0m     )\n\u001B[0;32m     20\u001B[0m     \u001B[38;5;28;01mwith\u001B[39;00m \u001B[38;5;28mself\u001B[39m\u001B[38;5;241m.\u001B[39mengine\u001B[38;5;241m.\u001B[39mconnect() \u001B[38;5;28;01mas\u001B[39;00m connection:\n\u001B[0;32m     21\u001B[0m         result \u001B[38;5;241m=\u001B[39m connection\u001B[38;5;241m.\u001B[39mexecute(query_refcat, {\u001B[38;5;124m'\u001B[39m\u001B[38;5;124mrefcat_value\u001B[39m\u001B[38;5;124m'\u001B[39m: refcat_value})\n",
      "\u001B[1;31mNameError\u001B[0m: name 'text' is not defined"
     ]
    }
   ],
   "source": [
    "areabyCadastralcode, distributionRatio, ref_use = data_processor.get_data(refcat_value)"
   ],
   "metadata": {
    "collapsed": false,
    "ExecuteTime": {
     "end_time": "2023-10-20T11:02:34.119397100Z",
     "start_time": "2023-10-20T11:02:34.091918100Z"
    }
   },
   "id": "3d4e854f8654930"
  },
  {
   "cell_type": "code",
   "execution_count": 107,
   "outputs": [],
   "source": [
    "from sqlalchemy import text"
   ],
   "metadata": {
    "collapsed": false,
    "ExecuteTime": {
     "end_time": "2023-10-20T11:01:03.167331700Z",
     "start_time": "2023-10-20T11:01:03.157321800Z"
    }
   },
   "id": "477a020a3460c0c5"
  },
  {
   "cell_type": "code",
   "execution_count": null,
   "outputs": [],
   "source": [],
   "metadata": {
    "collapsed": false
   },
   "id": "ba3c400948a99a01"
  }
 ],
 "metadata": {
  "kernelspec": {
   "display_name": "Python 3",
   "language": "python",
   "name": "python3"
  },
  "language_info": {
   "codemirror_mode": {
    "name": "ipython",
    "version": 2
   },
   "file_extension": ".py",
   "mimetype": "text/x-python",
   "name": "python",
   "nbconvert_exporter": "python",
   "pygments_lexer": "ipython2",
   "version": "2.7.6"
  }
 },
 "nbformat": 4,
 "nbformat_minor": 5
}
