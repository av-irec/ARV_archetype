{
 "cells": [
  {
   "cell_type": "code",
   "execution_count": 1,
   "outputs": [],
   "source": [
    "from repositories import csvTRNSYS\n",
    "from utils import comfortValues, comfortGraph, transformation_EP_CO2"
   ],
   "metadata": {
    "collapsed": false,
    "ExecuteTime": {
     "end_time": "2023-09-14T10:16:25.363504900Z",
     "start_time": "2023-09-14T10:16:22.093096500Z"
    }
   },
   "id": "9fa14c6247d119fc"
  },
  {
   "cell_type": "code",
   "execution_count": 2,
   "outputs": [],
   "source": [
    "class CurrencyAnalysis():\n",
    "    def __init__(self, n_viv, name):\n",
    "        self.n_viv = n_viv\n",
    "        self.name = name\n",
    "\n",
    "    def analysisCalculation(self):\n",
    "        pass\n"
   ],
   "metadata": {
    "collapsed": false,
    "ExecuteTime": {
     "end_time": "2023-09-14T10:16:25.371459400Z",
     "start_time": "2023-09-14T10:16:25.367436500Z"
    }
   },
   "id": "8d3d2cb287e8ad0e"
  },
  {
   "cell_type": "code",
   "execution_count": 3,
   "outputs": [],
   "source": [
    "class EnergyAnalysis(CurrencyAnalysis):\n",
    "    def __init__(self, n_viv, name):\n",
    "        super().__init__(n_viv, name)\n",
    "        \n",
    "    def analysisCalculation(self):\n",
    "        typeStep = csvTRNSYS.HourlyMulti() \n",
    "        output = csvTRNSYS.readTRNSYS(typeStep, self.n_viv, self.name)\n",
    "        output_reader, P_ht, P_cl, P_lig, P_dev, P_dhw = output.start()\n",
    "        \n",
    "        grado_ht = {'joule':0.32,'BC':0.31,'caldera_GN':0.27,'butano':0.06,'nada':0.04}\n",
    "        grado_cl = {'split':0.1,'BC':0.43,'multi_split':0.04,'nada':0.43}\n",
    "        grado_dhw ={'caldera_GN':0.86,'butano':0.14,'BC':0}\n",
    "        \n",
    "        PE_ht = {}\n",
    "        PE_cl = {}\n",
    "        PE_lig = {}\n",
    "        PE_dev = {}\n",
    "        PE_dhw = {}\n",
    "     \n",
    "        project = transformation_EP_CO2.pE_ARV_demand(grado_ht, grado_cl, grado_dhw)\n",
    "        for i in P_ht:\n",
    "            output = transformation_EP_CO2.calculo(project, P_ht[i], P_cl[i], P_lig[i],P_dev[i],P_dhw[i])\n",
    "            PE_ht_aux, PE_cl_aux, PE_lig_aux,PE_dev_aux ,PE_dhw_aux = output.start()\n",
    "            PE_ht.setdefault(i, PE_ht_aux)\n",
    "            PE_cl.setdefault(i, PE_cl_aux)\n",
    "            PE_lig.setdefault(i, PE_lig_aux)\n",
    "            PE_dev.setdefault(i,PE_dev_aux)\n",
    "            PE_dhw.setdefault(i, PE_dhw_aux)\n",
    "                 \n",
    "        CO2_ht = {}\n",
    "        CO2_cl = {}\n",
    "        CO2_lig = {}\n",
    "        CO2_dev = {}\n",
    "        CO2_dhw = {}\n",
    "        \n",
    "        project = transformation_EP_CO2.CO2_ARV_demand(grado_ht, grado_cl, grado_dhw)\n",
    "        for i in P_ht:\n",
    "            output = transformation_EP_CO2.calculo(\n",
    "                project, P_ht[i], P_cl[i], P_lig[i],P_dev[i],P_dhw[i])\n",
    "            CO2_ht_aux, CO2_cl_aux, CO2_lig_aux, CO2_dev_aux, CO2_dhw_aux   = output.start()\n",
    "            CO2_ht.setdefault(i, CO2_ht_aux)\n",
    "            CO2_cl.setdefault(i, CO2_cl_aux)\n",
    "            CO2_lig.setdefault(i, CO2_lig_aux)\n",
    "            CO2_dev.setdefault(i,CO2_dev_aux)\n",
    "            CO2_dhw.setdefault(i, CO2_dhw_aux)\n",
    "    \n",
    "        return P_ht, P_cl, P_lig, P_dev, P_dhw, PE_ht, PE_cl, PE_lig,PE_dev ,PE_dhw, CO2_ht, CO2_cl, CO2_lig, CO2_dev, CO2_dhw     "
   ],
   "metadata": {
    "collapsed": false,
    "ExecuteTime": {
     "end_time": "2023-09-14T10:16:25.381540Z",
     "start_time": "2023-09-14T10:16:25.377014200Z"
    }
   },
   "id": "953ff4ef01c71a5b"
  },
  {
   "cell_type": "code",
   "execution_count": 4,
   "outputs": [],
   "source": [
    "def analysisCalculation(self):\n",
    "    typeStep = csvTRNSYS.comfortMulti()\n",
    "    output = csvTRNSYS.readTRNSYS(typeStep, self.n_viv)\n",
    "    Humidex, T_op = output.start()    \n",
    "    x_graph_comfort = {}\n",
    "    point_graph_comfort = {}\n",
    "    x_graph_summer_dis = {}\n",
    "    y_graph_winter_dis = {}\n",
    "    \n",
    "    for i in Humidex:\n",
    "        typeAnalysis = comfortValues.humidexIndex()\n",
    "        output = comfortValues.calculo(typeAnalysis, Humidex[i])\n",
    "        humidexOutcomes = output.start()\n",
    "        \n",
    "        typeAnalysis = comfortValues.TopIndex()\n",
    "        output = comfortValues.calculo(typeAnalysis, T_op[i])\n",
    "        topOutcomes = output.start()            \n",
    "        \n",
    "        typeAnalysis = comfortGraph.comfortGraph()\n",
    "        output = comfortGraph.calculo(typeAnalysis, humidexOutcomes,topOutcomes, self.n_viv)\n",
    "        x_graph_comfort_aux, point_graph_comfort_aux, x_graph_summer_dis_aux,y_graph_winter_dis_aux = output.start()\n",
    "\n",
    "        x_graph_comfort.setdefault(i, x_graph_comfort_aux)\n",
    "        point_graph_comfort.setdefault(i, point_graph_comfort_aux)\n",
    "        x_graph_summer_dis.setdefault(i, x_graph_summer_dis_aux)\n",
    "        y_graph_winter_dis.setdefault(i, y_graph_winter_dis_aux)  \n",
    "\n",
    "    return Humidex, T_op, x_graph_comfort, point_graph_comfort, x_graph_summer_dis, y_graph_winter_dis"
   ],
   "metadata": {
    "collapsed": false,
    "ExecuteTime": {
     "end_time": "2023-09-14T10:16:25.386352400Z",
     "start_time": "2023-09-14T10:16:25.383050Z"
    }
   },
   "id": "f13ced50b04959f9"
  },
  {
   "cell_type": "code",
   "execution_count": 5,
   "outputs": [],
   "source": [
    "if __name__ == '__main__':\n",
    "    n_viv = 1\n",
    "    building_to_analyse = 'FE35'\n",
    "    \n",
    "    energy_analysis = EnergyAnalysis(n_viv=n_viv, name=building_to_analyse)\n",
    "    #output_reader_LCA, P_ht, P_cl, P_lig, P_dev, P_dhw, PE_ht, PE_cl, PE_lig,PE_dev ,PE_dhw, CO2_ht, CO2_cl, CO2_lig, CO2_dev, CO2_dhw = energy_analysis"
   ],
   "metadata": {
    "collapsed": false,
    "ExecuteTime": {
     "end_time": "2023-09-14T10:16:25.398988100Z",
     "start_time": "2023-09-14T10:16:25.386352400Z"
    }
   },
   "id": "dd1858486663707b"
  },
  {
   "cell_type": "code",
   "execution_count": 6,
   "outputs": [
    {
     "ename": "NameError",
     "evalue": "name 'currencyAnalysis' is not defined",
     "output_type": "error",
     "traceback": [
      "\u001B[1;31m---------------------------------------------------------------------------\u001B[0m",
      "\u001B[1;31mNameError\u001B[0m                                 Traceback (most recent call last)",
      "Cell \u001B[1;32mIn[6], line 1\u001B[0m\n\u001B[1;32m----> 1\u001B[0m \u001B[38;5;28;01mclass\u001B[39;00m \u001B[38;5;21;01mdo_analysis\u001B[39;00m:\n\u001B[0;32m      2\u001B[0m     \u001B[38;5;28;01mdef\u001B[39;00m \u001B[38;5;21m__init__\u001B[39m(\u001B[38;5;28mself\u001B[39m, Project: currencyAnalysis):\n\u001B[0;32m      3\u001B[0m         \u001B[38;5;28mself\u001B[39m\u001B[38;5;241m.\u001B[39mProject \u001B[38;5;241m=\u001B[39m Project\n",
      "Cell \u001B[1;32mIn[6], line 2\u001B[0m, in \u001B[0;36mdo_analysis\u001B[1;34m()\u001B[0m\n\u001B[0;32m      1\u001B[0m \u001B[38;5;28;01mclass\u001B[39;00m \u001B[38;5;21;01mdo_analysis\u001B[39;00m:\n\u001B[1;32m----> 2\u001B[0m     \u001B[38;5;28;01mdef\u001B[39;00m \u001B[38;5;21m__init__\u001B[39m(\u001B[38;5;28mself\u001B[39m, Project: currencyAnalysis):\n\u001B[0;32m      3\u001B[0m         \u001B[38;5;28mself\u001B[39m\u001B[38;5;241m.\u001B[39mProject \u001B[38;5;241m=\u001B[39m Project\n\u001B[0;32m      5\u001B[0m     \u001B[38;5;28;01mdef\u001B[39;00m \u001B[38;5;21mstart\u001B[39m(\u001B[38;5;28mself\u001B[39m):\n",
      "\u001B[1;31mNameError\u001B[0m: name 'currencyAnalysis' is not defined"
     ]
    }
   ],
   "source": [
    "class do_analysis:\n",
    "    def __init__(self, Project: currencyAnalysis):\n",
    "        self.Project = Project\n",
    "\n",
    "    def start(self):\n",
    "        return self.Project.analysisCalculation()"
   ],
   "metadata": {
    "collapsed": false,
    "ExecuteTime": {
     "end_time": "2023-09-14T10:16:25.798089700Z",
     "start_time": "2023-09-14T10:16:25.391390600Z"
    }
   },
   "id": "ec7c293be148447a"
  },
  {
   "cell_type": "code",
   "execution_count": null,
   "outputs": [],
   "source": [
    "project = EnergyAnalysis(n_viv = n_viv, name = building_to_analyse)\n",
    "project"
   ],
   "metadata": {
    "collapsed": false,
    "ExecuteTime": {
     "start_time": "2023-09-14T10:16:25.801613300Z"
    }
   },
   "id": "7ea45ffc7e001796"
  },
  {
   "cell_type": "code",
   "execution_count": null,
   "outputs": [],
   "source": [
    "data = do_analysis(project)\n",
    "data"
   ],
   "metadata": {
    "collapsed": false,
    "ExecuteTime": {
     "start_time": "2023-09-14T10:16:25.801613300Z"
    }
   },
   "id": "3b479a71e9803196"
  },
  {
   "cell_type": "code",
   "execution_count": null,
   "outputs": [],
   "source": [
    "output_reader_LCA, P_ht, P_cl, P_lig, P_dev, P_dhw, PE_ht, PE_cl, PE_lig,PE_dev ,PE_dhw, CO2_ht, CO2_cl, CO2_lig, CO2_dev, CO2_dhw  = data.start()"
   ],
   "metadata": {
    "collapsed": false,
    "ExecuteTime": {
     "end_time": "2023-09-14T10:16:25.806696Z",
     "start_time": "2023-09-14T10:16:25.801613300Z"
    }
   },
   "id": "356ac36dc1c74907"
  },
  {
   "cell_type": "code",
   "execution_count": null,
   "outputs": [],
   "source": [
    "# -*- coding: utf-8 -*-\n",
    "\"\"\"\n",
    "Created on Mon May  2 09:24:52 2022\n",
    "\n",
    "@author: srabadan\n",
    "\"\"\"\n",
    "\n",
    "\n",
    "# Abstract method import\n",
    "\n",
    "from abc import ABC, abstractmethod\n",
    "\n",
    "# Repositories\n",
    "\n",
    "\n",
    "from repositories import csvTRNSYS\n",
    "from utils import comfortValues, comfortGraph, transformation_EP_CO2\n",
    "# Abstract class\n",
    "\n",
    "\n",
    "class currencyAnalysis(ABC):\n",
    "    def __init__(self, n_viv, name):\n",
    "        self.n_viv = n_viv\n",
    "        self.name = name\n",
    "    @abstractmethod\n",
    "    def analysisCalculation(self):\n",
    "        pass\n",
    "\n",
    "\n",
    "class energyAnalysis(currencyAnalysis):  # Calculation of the investment with CMH data as a cost input\n",
    "    \"\"\"\n",
    "    Parameters:\n",
    "        \n",
    "        n_viv (int) -- Número de viviendas simuladas\n",
    "        name (str) -- Nombre de la carpeta donde están los resultados de las simulaciones\n",
    "       \n",
    "    \"\"\"    \n",
    "    def __init__(self, n_viv, name):\n",
    "        currencyAnalysis.__init__(self, n_viv, name)\n",
    "    def analysisCalculation(self):\n",
    "        \n",
    "        # Lectura de los archivos que salen directamente de la simulación en TRNSYS (ver word \"detallesinputs\")\n",
    "        \n",
    "        typeStep = csvTRNSYS.HourlyMulti() \n",
    "        output = csvTRNSYS.readTRNSYS(typeStep, self.n_viv, self.name)\n",
    "        output_reader, P_ht, P_cl, P_lig, P_dev, P_dhw = output.start()\n",
    "        \n",
    "        # Repartición de consumos para el caso en donde no haya reforma de la parte activa\n",
    "\n",
    "        grado_ht = {'joule':0.32,'BC':0.31,'caldera_GN':0.27,'butano':0.06,'nada':0.04}\n",
    "        grado_cl = {'split':0.1,'BC':0.43,'multi_split':0.04,'nada':0.43}\n",
    "        grado_dhw ={'caldera_GN':0.86,'butano':0.14,'BC':0}\n",
    "        \n",
    "        # Diccionarios con el mismo formato que P_ht. P_cl, P_lig, P_dev y P_dhw\n",
    "        \n",
    "        PE_ht = {}\n",
    "        PE_cl = {}\n",
    "        PE_lig = {}\n",
    "        PE_dev = {}\n",
    "        PE_dhw = {}\n",
    "     \n",
    "        # Instancia de la clase para pasar de demanda a consumo de energía primaria.\n",
    "         \n",
    "        project = transformation_EP_CO2.pE_ARV_demand(grado_ht, grado_cl, grado_dhw)\n",
    "        for i in P_ht:\n",
    "            \n",
    "            # El método pE_ARV_demand que se encuentra dentro de la clase transformation_EP_CO2 se ejectura 1 vez por cada simulación leída\n",
    "            \n",
    "            output = transformation_EP_CO2.calculo(project, P_ht[i], P_cl[i], P_lig[i],P_dev[i],P_dhw[i])\n",
    "            PE_ht_aux, PE_cl_aux, PE_lig_aux,PE_dev_aux ,PE_dhw_aux = output.start()\n",
    "            PE_ht.setdefault(i, PE_ht_aux)\n",
    "            PE_cl.setdefault(i, PE_cl_aux)\n",
    "            PE_lig.setdefault(i, PE_lig_aux)\n",
    "            PE_dev.setdefault(i,PE_dev_aux)\n",
    "            PE_dhw.setdefault(i, PE_dhw_aux)\n",
    "                \n",
    "\n",
    "        CO2_ht = {}\n",
    "        CO2_cl = {}\n",
    "        CO2_lig = {}\n",
    "        CO2_dev = {}\n",
    "        CO2_dhw = {}\n",
    "        \n",
    "        # Instancia de la clase para pasar de demanda a emisiones de CO2\n",
    "        \n",
    "        project = transformation_EP_CO2.CO2_ARV_demand(grado_ht, grado_cl, grado_dhw)\n",
    "        for i in P_ht:\n",
    "            \n",
    "            # El método CO2_ARV_demand que se encuentra dentro de la clase transformation_EP_CO2 se ejectura 1 vez por cada simulación leída\n",
    "            \n",
    "            output = transformation_EP_CO2.calculo(\n",
    "                project, P_ht[i], P_cl[i], P_lig[i],P_dev[i],P_dhw[i])\n",
    "            CO2_ht_aux, CO2_cl_aux, CO2_lig_aux, CO2_dev_aux, CO2_dhw_aux   = output.start()\n",
    "            CO2_ht.setdefault(i, CO2_ht_aux)\n",
    "            CO2_cl.setdefault(i, CO2_cl_aux)\n",
    "            CO2_lig.setdefault(i, CO2_lig_aux)\n",
    "            CO2_dev.setdefault(i,CO2_dev_aux)\n",
    "            CO2_dhw.setdefault(i, CO2_dhw_aux)\n",
    "\n",
    "        return P_ht, P_cl, P_lig, P_dev, P_dhw, PE_ht, PE_cl, PE_lig,PE_dev ,PE_dhw, CO2_ht, CO2_cl, CO2_lig, CO2_dev, CO2_dhw                               \n",
    "\n",
    "class comfortAnalysis(currencyAnalysis):  \n",
    "    \"\"\"\n",
    "    \n",
    "    Lectura de los valores de comfort *** falta reprogramación a las nuevas simulaciones. Para la reprogramación se propone:\n",
    "    \n",
    "    1) No sacar los gráficos directamente, los outputs deben ser los valores de humidex y temperatura operativa que se calculan en el 'util' comfortValues()\n",
    "    2) Ajustar la lectura y sobretodo los outputs de TRNSYS para que los parámetros saen los mismos que en la clase energyAnalysis(), n_viv + name\n",
    "    3) n_viv son las viviendas simuladas, este valor debe servir para que el código lea inequivocamente donde tiene que leer, columnas del .out/.csv. Tomar como ejemplo csvTRNSYS.HourlyMulti() \n",
    "    \n",
    "    \"\"\"\n",
    "    \n",
    "    def __init__(self, n_viv, name):\n",
    "        currencyAnalysis.__init__(self, n_viv, name)\n",
    "    def analysisCalculation(self):\n",
    "        pass\n",
    "        typeStep = csvTRNSYS.comfortMulti()\n",
    "        output = csvTRNSYS.readTRNSYS(typeStep, self.n_viv)\n",
    "        Humidex, T_op = output.start()    \n",
    "        x_graph_comfort = {}\n",
    "        point_graph_comfort = {}\n",
    "        x_graph_summer_dis = {}\n",
    "        y_graph_winter_dis = {}\n",
    "        \n",
    "        for i in Humidex:\n",
    "            \n",
    "            typeAnalysis = comfortValues.humidexIndex()\n",
    "            output = comfortValues.calculo(typeAnalysis, Humidex[i])\n",
    "            humidexOutcomes = output.start()\n",
    "            \n",
    "            typeAnalysis = comfortValues.TopIndex()\n",
    "            output = comfortValues.calculo(typeAnalysis, T_op[i])\n",
    "            topOutcomes = output.start()            \n",
    "            \n",
    "\n",
    "            typeAnalysis = comfortGraph.comfortGraph()\n",
    "            output = comfortGraph.calculo(typeAnalysis, humidexOutcomes,topOutcomes, self.n_viv)\n",
    "            x_graph_comfort_aux, point_graph_comfort_aux, x_graph_summer_dis_aux,y_graph_winter_dis_aux = output.start()\n",
    "\n",
    "            x_graph_comfort.setdefault(i, x_graph_comfort_aux)\n",
    "            point_graph_comfort.setdefault(i, point_graph_comfort_aux)\n",
    "            x_graph_summer_dis.setdefault(i, x_graph_summer_dis_aux)\n",
    "            y_graph_winter_dis.setdefault(i, y_graph_winter_dis_aux)  \n",
    "\n",
    "class do_analysis:\n",
    "    def __init__(self, Project: currencyAnalysis):\n",
    "        self.Project = Project\n",
    "\n",
    "    def start(self):\n",
    "        return self.Project.analysisCalculation()\n",
    "\n",
    "if __name__ == '__main__':\n",
    "    n_zones = 1\n",
    "    n_viv = 1\n",
    "    building_to_analyse = 'FE35'\n",
    "\n",
    "    project = energyAnalysis(n_viv = n_viv, name = building_to_analyse)\n",
    "    data = do_analysis(project)\n",
    "    output_reader_LCA, P_ht, P_cl, P_lig, P_dev, P_dhw, PE_ht, PE_cl, PE_lig,PE_dev ,PE_dhw, CO2_ht, CO2_cl, CO2_lig, CO2_dev, CO2_dhw  = data.start()\n",
    "\n",
    "    print(P_ht)\n",
    "    print(PE_ht)\n",
    "    print(CO2_ht)"
   ],
   "metadata": {
    "collapsed": false,
    "ExecuteTime": {
     "start_time": "2023-09-14T10:16:25.801613300Z"
    }
   },
   "id": "80b8bc2e453a7c91"
  },
  {
   "cell_type": "code",
   "execution_count": null,
   "outputs": [],
   "source": [],
   "metadata": {
    "collapsed": false,
    "ExecuteTime": {
     "start_time": "2023-09-14T10:16:25.806621300Z"
    }
   },
   "id": "fb0ec78002c5ddc"
  }
 ],
 "metadata": {
  "kernelspec": {
   "display_name": "Python 3",
   "language": "python",
   "name": "python3"
  },
  "language_info": {
   "codemirror_mode": {
    "name": "ipython",
    "version": 2
   },
   "file_extension": ".py",
   "mimetype": "text/x-python",
   "name": "python",
   "nbconvert_exporter": "python",
   "pygments_lexer": "ipython2",
   "version": "2.7.6"
  }
 },
 "nbformat": 4,
 "nbformat_minor": 5
}
