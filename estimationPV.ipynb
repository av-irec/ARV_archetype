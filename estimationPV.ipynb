{
 "cells": [
  {
   "cell_type": "code",
   "execution_count": null,
   "id": "initial_id",
   "metadata": {
    "collapsed": true
   },
   "outputs": [],
   "source": []
  },
  {
   "cell_type": "code",
   "execution_count": 2,
   "outputs": [],
   "source": [
    "import pandas as pd\n",
    "import json\n",
    "from interactors import dataFV,dataWeather, resourceConsumption\n",
    "from interactors import getDataARV\n",
    "from utils import radiationFV, energyBalance_FV"
   ],
   "metadata": {
    "collapsed": false,
    "ExecuteTime": {
     "end_time": "2023-10-18T09:46:42.625902900Z",
     "start_time": "2023-10-18T09:46:41.350732600Z"
    }
   },
   "id": "65cb50c71a7e93f9"
  },
  {
   "cell_type": "code",
   "execution_count": 3,
   "outputs": [],
   "source": [
    "ref_cat = '1701521DD7810B'\n",
    "sourceData = getDataARV.SQL_surfaceARV(ref_cat = ref_cat)    # SQL_statments ARV\n",
    "get_data = getDataARV.getData_ARV(sourceData)   # Surfaces of each building\n",
    "# Reposity Outputs dicts -> 1) Area of each building (floor-roof-wall) with cadastral referece + 2) Partition ratio with cadastral referece\n",
    "areabyCadastralcode, distributionRatio, ref_use = get_data.start()"
   ],
   "metadata": {
    "collapsed": false,
    "ExecuteTime": {
     "end_time": "2023-10-18T09:46:43.137754600Z",
     "start_time": "2023-10-18T09:46:42.630014800Z"
    }
   },
   "id": "2c48d747c814c149"
  },
  {
   "cell_type": "code",
   "execution_count": 4,
   "outputs": [
    {
     "data": {
      "text/plain": "{'1701521DD7810B': {'floor': 145.56123800127926,\n  'roof': 145.5612380012793,\n  'wall': 315.63070710541433,\n  'total': 1213.5063662159457}}"
     },
     "execution_count": 4,
     "metadata": {},
     "output_type": "execute_result"
    }
   ],
   "source": [
    "areabyCadastralcode"
   ],
   "metadata": {
    "collapsed": false,
    "ExecuteTime": {
     "end_time": "2023-10-18T09:46:44.060104200Z",
     "start_time": "2023-10-18T09:46:44.024301800Z"
    }
   },
   "id": "54a50b1523f18eb9"
  },
  {
   "cell_type": "code",
   "execution_count": 5,
   "outputs": [
    {
     "data": {
      "text/plain": "{'1701521DD7810B': {'1701521DD7810B0001EY': 100.0}}"
     },
     "execution_count": 5,
     "metadata": {},
     "output_type": "execute_result"
    }
   ],
   "source": [
    "distributionRatio\n"
   ],
   "metadata": {
    "collapsed": false,
    "ExecuteTime": {
     "end_time": "2023-10-18T09:46:45.590370600Z",
     "start_time": "2023-10-18T09:46:45.567972800Z"
    }
   },
   "id": "85db8aa2257152e3"
  },
  {
   "cell_type": "code",
   "execution_count": 6,
   "outputs": [
    {
     "data": {
      "text/plain": "{'1701521DD7810B': {'1701521DD7810B0001EY': 'V'}}"
     },
     "execution_count": 6,
     "metadata": {},
     "output_type": "execute_result"
    }
   ],
   "source": [
    "ref_use"
   ],
   "metadata": {
    "collapsed": false,
    "ExecuteTime": {
     "end_time": "2023-10-18T09:46:46.593119300Z",
     "start_time": "2023-10-18T09:46:46.570283800Z"
    }
   },
   "id": "b70d8b36b3d5f333"
  },
  {
   "cell_type": "code",
   "execution_count": 7,
   "outputs": [
    {
     "data": {
      "text/plain": "[18.19515475015991]"
     },
     "execution_count": 7,
     "metadata": {},
     "output_type": "execute_result"
    }
   ],
   "source": [
    " cubiertas = ['Cubierta_1']\n",
    " gamma = [0]\n",
    " beta = [30]\n",
    " area = [(areabyCadastralcode[ref_cat]['roof']*0.25/2)/len(distributionRatio[ref_cat])]\n",
    " area"
   ],
   "metadata": {
    "collapsed": false,
    "ExecuteTime": {
     "end_time": "2023-10-18T09:46:49.223450300Z",
     "start_time": "2023-10-18T09:46:49.200583200Z"
    }
   },
   "id": "23ce8609c07da54"
  },
  {
   "cell_type": "code",
   "execution_count": 8,
   "outputs": [
    {
     "data": {
      "text/plain": "                     thetaz  gammas   IH  IbH  IskydH  IgrddH  IdH  thetaH  \\\n2021-01-01 00:00:00    90.0   -90.0  0.0  0.0     0.0     0.0  0.0    90.0   \n2021-01-01 01:00:00    90.0   -90.0  0.0  0.0     0.0     0.0  0.0    90.0   \n2021-01-01 02:00:00    90.0   -90.0  0.0  0.0     0.0     0.0  0.0    90.0   \n2021-01-01 03:00:00    90.0   -90.0  0.0  0.0     0.0     0.0  0.0    90.0   \n2021-01-01 04:00:00    90.0   -90.0  0.0  0.0     0.0     0.0  0.0    90.0   \n...                     ...     ...  ...  ...     ...     ...  ...     ...   \n2021-12-31 19:00:00    90.0   -90.0  0.0  0.0     0.0     0.0  0.0    90.0   \n2021-12-31 20:00:00    90.0   -90.0  0.0  0.0     0.0     0.0  0.0    90.0   \n2021-12-31 21:00:00    90.0   -90.0  0.0  0.0     0.0     0.0  0.0    90.0   \n2021-12-31 22:00:00    90.0   -90.0  0.0  0.0     0.0     0.0  0.0    90.0   \n2021-12-31 23:00:00    90.0   -90.0  0.0  0.0     0.0     0.0  0.0    90.0   \n\n                        Ta   IT  IbT  IskydT  IgrddT  IdT  thetaT  beta  \\\n2021-01-01 00:00:00   7.90  0.0  0.0     0.0     0.0  0.0    90.0  30.0   \n2021-01-01 01:00:00  10.55  0.0  0.0     0.0     0.0  0.0    90.0  30.0   \n2021-01-01 02:00:00  12.80  0.0  0.0     0.0     0.0  0.0    90.0  30.0   \n2021-01-01 03:00:00  12.00  0.0  0.0     0.0     0.0  0.0    90.0  30.0   \n2021-01-01 04:00:00  11.40  0.0  0.0     0.0     0.0  0.0    90.0  30.0   \n...                    ...  ...  ...     ...     ...  ...     ...   ...   \n2021-12-31 19:00:00  14.25  0.0  0.0     0.0     0.0  0.0    90.0  30.0   \n2021-12-31 20:00:00  13.20  0.0  0.0     0.0     0.0  0.0    90.0  30.0   \n2021-12-31 21:00:00  12.10  0.0  0.0     0.0     0.0  0.0    90.0  30.0   \n2021-12-31 22:00:00  10.90  0.0  0.0     0.0     0.0  0.0    90.0  30.0   \n2021-12-31 23:00:00   9.70  0.0  0.0     0.0     0.0  0.0    90.0  30.0   \n\n                     gamma  Wind  Unnamed:19  \n2021-01-01 00:00:00    0.0  0.20         NaN  \n2021-01-01 01:00:00    0.0  0.75         NaN  \n2021-01-01 02:00:00    0.0  1.05         NaN  \n2021-01-01 03:00:00    0.0  0.70         NaN  \n2021-01-01 04:00:00    0.0  0.75         NaN  \n...                    ...   ...         ...  \n2021-12-31 19:00:00    0.0  2.65         NaN  \n2021-12-31 20:00:00    0.0  2.30         NaN  \n2021-12-31 21:00:00    0.0  1.40         NaN  \n2021-12-31 22:00:00    0.0  0.65         NaN  \n2021-12-31 23:00:00    0.0  0.15         NaN  \n\n[8760 rows x 19 columns]",
      "text/html": "<div>\n<style scoped>\n    .dataframe tbody tr th:only-of-type {\n        vertical-align: middle;\n    }\n\n    .dataframe tbody tr th {\n        vertical-align: top;\n    }\n\n    .dataframe thead th {\n        text-align: right;\n    }\n</style>\n<table border=\"1\" class=\"dataframe\">\n  <thead>\n    <tr style=\"text-align: right;\">\n      <th></th>\n      <th>thetaz</th>\n      <th>gammas</th>\n      <th>IH</th>\n      <th>IbH</th>\n      <th>IskydH</th>\n      <th>IgrddH</th>\n      <th>IdH</th>\n      <th>thetaH</th>\n      <th>Ta</th>\n      <th>IT</th>\n      <th>IbT</th>\n      <th>IskydT</th>\n      <th>IgrddT</th>\n      <th>IdT</th>\n      <th>thetaT</th>\n      <th>beta</th>\n      <th>gamma</th>\n      <th>Wind</th>\n      <th>Unnamed:19</th>\n    </tr>\n  </thead>\n  <tbody>\n    <tr>\n      <th>2021-01-01 00:00:00</th>\n      <td>90.0</td>\n      <td>-90.0</td>\n      <td>0.0</td>\n      <td>0.0</td>\n      <td>0.0</td>\n      <td>0.0</td>\n      <td>0.0</td>\n      <td>90.0</td>\n      <td>7.90</td>\n      <td>0.0</td>\n      <td>0.0</td>\n      <td>0.0</td>\n      <td>0.0</td>\n      <td>0.0</td>\n      <td>90.0</td>\n      <td>30.0</td>\n      <td>0.0</td>\n      <td>0.20</td>\n      <td>NaN</td>\n    </tr>\n    <tr>\n      <th>2021-01-01 01:00:00</th>\n      <td>90.0</td>\n      <td>-90.0</td>\n      <td>0.0</td>\n      <td>0.0</td>\n      <td>0.0</td>\n      <td>0.0</td>\n      <td>0.0</td>\n      <td>90.0</td>\n      <td>10.55</td>\n      <td>0.0</td>\n      <td>0.0</td>\n      <td>0.0</td>\n      <td>0.0</td>\n      <td>0.0</td>\n      <td>90.0</td>\n      <td>30.0</td>\n      <td>0.0</td>\n      <td>0.75</td>\n      <td>NaN</td>\n    </tr>\n    <tr>\n      <th>2021-01-01 02:00:00</th>\n      <td>90.0</td>\n      <td>-90.0</td>\n      <td>0.0</td>\n      <td>0.0</td>\n      <td>0.0</td>\n      <td>0.0</td>\n      <td>0.0</td>\n      <td>90.0</td>\n      <td>12.80</td>\n      <td>0.0</td>\n      <td>0.0</td>\n      <td>0.0</td>\n      <td>0.0</td>\n      <td>0.0</td>\n      <td>90.0</td>\n      <td>30.0</td>\n      <td>0.0</td>\n      <td>1.05</td>\n      <td>NaN</td>\n    </tr>\n    <tr>\n      <th>2021-01-01 03:00:00</th>\n      <td>90.0</td>\n      <td>-90.0</td>\n      <td>0.0</td>\n      <td>0.0</td>\n      <td>0.0</td>\n      <td>0.0</td>\n      <td>0.0</td>\n      <td>90.0</td>\n      <td>12.00</td>\n      <td>0.0</td>\n      <td>0.0</td>\n      <td>0.0</td>\n      <td>0.0</td>\n      <td>0.0</td>\n      <td>90.0</td>\n      <td>30.0</td>\n      <td>0.0</td>\n      <td>0.70</td>\n      <td>NaN</td>\n    </tr>\n    <tr>\n      <th>2021-01-01 04:00:00</th>\n      <td>90.0</td>\n      <td>-90.0</td>\n      <td>0.0</td>\n      <td>0.0</td>\n      <td>0.0</td>\n      <td>0.0</td>\n      <td>0.0</td>\n      <td>90.0</td>\n      <td>11.40</td>\n      <td>0.0</td>\n      <td>0.0</td>\n      <td>0.0</td>\n      <td>0.0</td>\n      <td>0.0</td>\n      <td>90.0</td>\n      <td>30.0</td>\n      <td>0.0</td>\n      <td>0.75</td>\n      <td>NaN</td>\n    </tr>\n    <tr>\n      <th>...</th>\n      <td>...</td>\n      <td>...</td>\n      <td>...</td>\n      <td>...</td>\n      <td>...</td>\n      <td>...</td>\n      <td>...</td>\n      <td>...</td>\n      <td>...</td>\n      <td>...</td>\n      <td>...</td>\n      <td>...</td>\n      <td>...</td>\n      <td>...</td>\n      <td>...</td>\n      <td>...</td>\n      <td>...</td>\n      <td>...</td>\n      <td>...</td>\n    </tr>\n    <tr>\n      <th>2021-12-31 19:00:00</th>\n      <td>90.0</td>\n      <td>-90.0</td>\n      <td>0.0</td>\n      <td>0.0</td>\n      <td>0.0</td>\n      <td>0.0</td>\n      <td>0.0</td>\n      <td>90.0</td>\n      <td>14.25</td>\n      <td>0.0</td>\n      <td>0.0</td>\n      <td>0.0</td>\n      <td>0.0</td>\n      <td>0.0</td>\n      <td>90.0</td>\n      <td>30.0</td>\n      <td>0.0</td>\n      <td>2.65</td>\n      <td>NaN</td>\n    </tr>\n    <tr>\n      <th>2021-12-31 20:00:00</th>\n      <td>90.0</td>\n      <td>-90.0</td>\n      <td>0.0</td>\n      <td>0.0</td>\n      <td>0.0</td>\n      <td>0.0</td>\n      <td>0.0</td>\n      <td>90.0</td>\n      <td>13.20</td>\n      <td>0.0</td>\n      <td>0.0</td>\n      <td>0.0</td>\n      <td>0.0</td>\n      <td>0.0</td>\n      <td>90.0</td>\n      <td>30.0</td>\n      <td>0.0</td>\n      <td>2.30</td>\n      <td>NaN</td>\n    </tr>\n    <tr>\n      <th>2021-12-31 21:00:00</th>\n      <td>90.0</td>\n      <td>-90.0</td>\n      <td>0.0</td>\n      <td>0.0</td>\n      <td>0.0</td>\n      <td>0.0</td>\n      <td>0.0</td>\n      <td>90.0</td>\n      <td>12.10</td>\n      <td>0.0</td>\n      <td>0.0</td>\n      <td>0.0</td>\n      <td>0.0</td>\n      <td>0.0</td>\n      <td>90.0</td>\n      <td>30.0</td>\n      <td>0.0</td>\n      <td>1.40</td>\n      <td>NaN</td>\n    </tr>\n    <tr>\n      <th>2021-12-31 22:00:00</th>\n      <td>90.0</td>\n      <td>-90.0</td>\n      <td>0.0</td>\n      <td>0.0</td>\n      <td>0.0</td>\n      <td>0.0</td>\n      <td>0.0</td>\n      <td>90.0</td>\n      <td>10.90</td>\n      <td>0.0</td>\n      <td>0.0</td>\n      <td>0.0</td>\n      <td>0.0</td>\n      <td>0.0</td>\n      <td>90.0</td>\n      <td>30.0</td>\n      <td>0.0</td>\n      <td>0.65</td>\n      <td>NaN</td>\n    </tr>\n    <tr>\n      <th>2021-12-31 23:00:00</th>\n      <td>90.0</td>\n      <td>-90.0</td>\n      <td>0.0</td>\n      <td>0.0</td>\n      <td>0.0</td>\n      <td>0.0</td>\n      <td>0.0</td>\n      <td>90.0</td>\n      <td>9.70</td>\n      <td>0.0</td>\n      <td>0.0</td>\n      <td>0.0</td>\n      <td>0.0</td>\n      <td>0.0</td>\n      <td>90.0</td>\n      <td>30.0</td>\n      <td>0.0</td>\n      <td>0.15</td>\n      <td>NaN</td>\n    </tr>\n  </tbody>\n</table>\n<p>8760 rows × 19 columns</p>\n</div>"
     },
     "execution_count": 8,
     "metadata": {},
     "output_type": "execute_result"
    }
   ],
   "source": [
    "weather = dataWeather.outputTRNSYS(clima = 8)\n",
    "getWeatherdata = dataWeather.select(weather)\n",
    "    \n",
    "df_clima = getWeatherdata.start()\n",
    "df_clima"
   ],
   "metadata": {
    "collapsed": false,
    "ExecuteTime": {
     "end_time": "2023-10-18T09:46:51.004947300Z",
     "start_time": "2023-10-18T09:46:50.860201300Z"
    }
   },
   "id": "8ea22c7ca2aec531"
  },
  {
   "cell_type": "code",
   "execution_count": 9,
   "outputs": [
    {
     "data": {
      "text/plain": "<utils.radiationFV.dataframe at 0x2a6073c6890>"
     },
     "execution_count": 9,
     "metadata": {},
     "output_type": "execute_result"
    }
   ],
   "source": [
    "# objecte pel calcul de radiació input_df, gamma_nx, beta_nx, pva_nx, theta_in_nx, final_pva_field\n",
    "b_output = radiationFV.dataframe()\n",
    "b_output\n"
   ],
   "metadata": {
    "collapsed": false,
    "ExecuteTime": {
     "end_time": "2023-10-18T09:46:52.705494600Z",
     "start_time": "2023-10-18T09:46:52.700080900Z"
    }
   },
   "id": "8d8089cfa3001507"
  },
  {
   "cell_type": "code",
   "execution_count": 10,
   "outputs": [],
   "source": [
    " #dataframe horaris buits amb index df_clima\n",
    " PV_dict = {}\n",
    " PV_dict_cel = {}\n",
    " df_PV_total = pd.DataFrame({'Pv_base': [0] * 8760}, index = df_clima.index)\n",
    " df_PV_cel =  pd.DataFrame({'Pv_cel': [0] * 8760}, index = df_clima.index)"
   ],
   "metadata": {
    "collapsed": false,
    "ExecuteTime": {
     "end_time": "2023-10-18T09:46:57.340058900Z",
     "start_time": "2023-10-18T09:46:57.328405400Z"
    }
   },
   "id": "9f64b0e1ccc648b8"
  },
  {
   "cell_type": "code",
   "execution_count": 11,
   "outputs": [
    {
     "name": "stdout",
     "output_type": "stream",
     "text": [
      "0\n"
     ]
    }
   ],
   "source": [
    "for i in range(0,len(cubiertas)):\n",
    " print(i)\n",
    "  "
   ],
   "metadata": {
    "collapsed": false,
    "ExecuteTime": {
     "end_time": "2023-10-18T09:46:58.622167300Z",
     "start_time": "2023-10-18T09:46:58.590906Z"
    }
   },
   "id": "ff8c5b82192b21bd"
  },
  {
   "cell_type": "code",
   "execution_count": 17,
   "outputs": [],
   "source": [
    "#calculs somEnergia\n",
    "cubierta = dataFV.manualInputs(0, 39.569739942363285, 2.671081012824496, gamma[i], beta[i], area[i])\n",
    "getPVdata = dataFV.insert(cubierta)\n",
    "parameters, df_PV= getPVdata.start()"
   ],
   "metadata": {
    "collapsed": false,
    "ExecuteTime": {
     "end_time": "2023-10-18T09:47:16.943151500Z",
     "start_time": "2023-10-18T09:47:16.586475500Z"
    }
   },
   "id": "ef87237adb57a058"
  },
  {
   "cell_type": "code",
   "execution_count": 18,
   "outputs": [
    {
     "data": {
      "text/plain": "{'Lst': 0,\n 'phi': 39.569739942363285,\n 'Lloc': 2.671081012824496,\n 'gamma': 0,\n 'beta': 30,\n 'theta': [0, 0, 0, 0, 0, 0, 0, 0, 0, 0, 0, 0, 0, 0, 0, 0],\n 'area': 18.19515475015991}"
     },
     "execution_count": 18,
     "metadata": {},
     "output_type": "execute_result"
    }
   ],
   "source": [
    "parameters"
   ],
   "metadata": {
    "collapsed": false,
    "ExecuteTime": {
     "end_time": "2023-10-18T09:47:17.759244800Z",
     "start_time": "2023-10-18T09:47:17.727519900Z"
    }
   },
   "id": "63b170e5b0d3ed5a"
  },
  {
   "cell_type": "code",
   "execution_count": 19,
   "outputs": [
    {
     "data": {
      "text/plain": "                       n           B         E  hour  SolarTime       omega  \\\n2021-01-01 00:00:00    1    0.000000 -2.904422     0  -0.226479 -198.397187   \n2021-01-01 01:00:00    1    0.000000 -2.904422     1   0.773521 -183.397187   \n2021-01-01 02:00:00    1    0.000000 -2.904422     2   1.773521 -168.397187   \n2021-01-01 03:00:00    1    0.000000 -2.904422     3   2.773521 -153.397187   \n2021-01-01 04:00:00    1    0.000000 -2.904422     4   3.773521 -138.397187   \n...                  ...         ...       ...   ...        ...         ...   \n2021-12-31 19:00:00  365  359.013699 -2.453348    19  18.781039   86.715582   \n2021-12-31 20:00:00  365  359.013699 -2.453348    20  19.781039  101.715582   \n2021-12-31 21:00:00  365  359.013699 -2.453348    21  20.781039  116.715582   \n2021-12-31 22:00:00  365  359.013699 -2.453348    22  21.781039  131.715582   \n2021-12-31 23:00:00  365  359.013699 -2.453348    23  22.781039  146.715582   \n\n                        delta2  costhetaz     thetaz2  singammas    gammas2  \n2021-01-01 00:00:00 -23.058629  -0.922515  157.296618   0.752376  48.796578  \n2021-01-01 01:00:00 -23.058629  -0.957518  163.239451   0.189071  10.898589  \n2021-01-01 02:00:00 -23.058629  -0.944271  160.781673  -0.562195 -34.207726  \n2021-01-01 03:00:00 -23.058629  -0.883677  152.089104  -0.880212 -61.668000  \n2021-01-01 04:00:00 -23.058629  -0.779864  141.248142  -0.975983 -77.417395  \n...                        ...        ...         ...        ...        ...  \n2021-12-31 19:00:00 -23.130256  -0.209621  102.100143   0.938965  69.878448  \n2021-12-31 20:00:00 -23.130256  -0.394176  113.214612   0.979785  78.459885  \n2021-12-31 21:00:00 -23.130256  -0.568922  124.675103   0.998849  87.250505  \n2021-12-31 22:00:00 -23.130256  -0.721950  136.215722   0.992062  82.776101  \n2021-12-31 23:00:00 -23.130256  -0.842831  147.440327   0.937757  69.678291  \n\n[8760 rows x 11 columns]",
      "text/html": "<div>\n<style scoped>\n    .dataframe tbody tr th:only-of-type {\n        vertical-align: middle;\n    }\n\n    .dataframe tbody tr th {\n        vertical-align: top;\n    }\n\n    .dataframe thead th {\n        text-align: right;\n    }\n</style>\n<table border=\"1\" class=\"dataframe\">\n  <thead>\n    <tr style=\"text-align: right;\">\n      <th></th>\n      <th>n</th>\n      <th>B</th>\n      <th>E</th>\n      <th>hour</th>\n      <th>SolarTime</th>\n      <th>omega</th>\n      <th>delta2</th>\n      <th>costhetaz</th>\n      <th>thetaz2</th>\n      <th>singammas</th>\n      <th>gammas2</th>\n    </tr>\n  </thead>\n  <tbody>\n    <tr>\n      <th>2021-01-01 00:00:00</th>\n      <td>1</td>\n      <td>0.000000</td>\n      <td>-2.904422</td>\n      <td>0</td>\n      <td>-0.226479</td>\n      <td>-198.397187</td>\n      <td>-23.058629</td>\n      <td>-0.922515</td>\n      <td>157.296618</td>\n      <td>0.752376</td>\n      <td>48.796578</td>\n    </tr>\n    <tr>\n      <th>2021-01-01 01:00:00</th>\n      <td>1</td>\n      <td>0.000000</td>\n      <td>-2.904422</td>\n      <td>1</td>\n      <td>0.773521</td>\n      <td>-183.397187</td>\n      <td>-23.058629</td>\n      <td>-0.957518</td>\n      <td>163.239451</td>\n      <td>0.189071</td>\n      <td>10.898589</td>\n    </tr>\n    <tr>\n      <th>2021-01-01 02:00:00</th>\n      <td>1</td>\n      <td>0.000000</td>\n      <td>-2.904422</td>\n      <td>2</td>\n      <td>1.773521</td>\n      <td>-168.397187</td>\n      <td>-23.058629</td>\n      <td>-0.944271</td>\n      <td>160.781673</td>\n      <td>-0.562195</td>\n      <td>-34.207726</td>\n    </tr>\n    <tr>\n      <th>2021-01-01 03:00:00</th>\n      <td>1</td>\n      <td>0.000000</td>\n      <td>-2.904422</td>\n      <td>3</td>\n      <td>2.773521</td>\n      <td>-153.397187</td>\n      <td>-23.058629</td>\n      <td>-0.883677</td>\n      <td>152.089104</td>\n      <td>-0.880212</td>\n      <td>-61.668000</td>\n    </tr>\n    <tr>\n      <th>2021-01-01 04:00:00</th>\n      <td>1</td>\n      <td>0.000000</td>\n      <td>-2.904422</td>\n      <td>4</td>\n      <td>3.773521</td>\n      <td>-138.397187</td>\n      <td>-23.058629</td>\n      <td>-0.779864</td>\n      <td>141.248142</td>\n      <td>-0.975983</td>\n      <td>-77.417395</td>\n    </tr>\n    <tr>\n      <th>...</th>\n      <td>...</td>\n      <td>...</td>\n      <td>...</td>\n      <td>...</td>\n      <td>...</td>\n      <td>...</td>\n      <td>...</td>\n      <td>...</td>\n      <td>...</td>\n      <td>...</td>\n      <td>...</td>\n    </tr>\n    <tr>\n      <th>2021-12-31 19:00:00</th>\n      <td>365</td>\n      <td>359.013699</td>\n      <td>-2.453348</td>\n      <td>19</td>\n      <td>18.781039</td>\n      <td>86.715582</td>\n      <td>-23.130256</td>\n      <td>-0.209621</td>\n      <td>102.100143</td>\n      <td>0.938965</td>\n      <td>69.878448</td>\n    </tr>\n    <tr>\n      <th>2021-12-31 20:00:00</th>\n      <td>365</td>\n      <td>359.013699</td>\n      <td>-2.453348</td>\n      <td>20</td>\n      <td>19.781039</td>\n      <td>101.715582</td>\n      <td>-23.130256</td>\n      <td>-0.394176</td>\n      <td>113.214612</td>\n      <td>0.979785</td>\n      <td>78.459885</td>\n    </tr>\n    <tr>\n      <th>2021-12-31 21:00:00</th>\n      <td>365</td>\n      <td>359.013699</td>\n      <td>-2.453348</td>\n      <td>21</td>\n      <td>20.781039</td>\n      <td>116.715582</td>\n      <td>-23.130256</td>\n      <td>-0.568922</td>\n      <td>124.675103</td>\n      <td>0.998849</td>\n      <td>87.250505</td>\n    </tr>\n    <tr>\n      <th>2021-12-31 22:00:00</th>\n      <td>365</td>\n      <td>359.013699</td>\n      <td>-2.453348</td>\n      <td>22</td>\n      <td>21.781039</td>\n      <td>131.715582</td>\n      <td>-23.130256</td>\n      <td>-0.721950</td>\n      <td>136.215722</td>\n      <td>0.992062</td>\n      <td>82.776101</td>\n    </tr>\n    <tr>\n      <th>2021-12-31 23:00:00</th>\n      <td>365</td>\n      <td>359.013699</td>\n      <td>-2.453348</td>\n      <td>23</td>\n      <td>22.781039</td>\n      <td>146.715582</td>\n      <td>-23.130256</td>\n      <td>-0.842831</td>\n      <td>147.440327</td>\n      <td>0.937757</td>\n      <td>69.678291</td>\n    </tr>\n  </tbody>\n</table>\n<p>8760 rows × 11 columns</p>\n</div>"
     },
     "execution_count": 19,
     "metadata": {},
     "output_type": "execute_result"
    }
   ],
   "source": [
    "df_PV"
   ],
   "metadata": {
    "collapsed": false,
    "ExecuteTime": {
     "end_time": "2023-10-18T09:47:19.342190500Z",
     "start_time": "2023-10-18T09:47:19.310426600Z"
    }
   },
   "id": "d91ce2d49e757ed2"
  },
  {
   "cell_type": "code",
   "execution_count": 20,
   "outputs": [
    {
     "data": {
      "text/plain": "                       n           B         E  hour  SolarTime       omega  \\\n2021-01-01 00:00:00    1    0.000000 -2.904422     0  -0.226479 -198.397187   \n2021-01-01 01:00:00    1    0.000000 -2.904422     1   0.773521 -183.397187   \n2021-01-01 02:00:00    1    0.000000 -2.904422     2   1.773521 -168.397187   \n2021-01-01 03:00:00    1    0.000000 -2.904422     3   2.773521 -153.397187   \n2021-01-01 04:00:00    1    0.000000 -2.904422     4   3.773521 -138.397187   \n...                  ...         ...       ...   ...        ...         ...   \n2021-12-31 19:00:00  365  359.013699 -2.453348    19  18.781039   86.715582   \n2021-12-31 20:00:00  365  359.013699 -2.453348    20  19.781039  101.715582   \n2021-12-31 21:00:00  365  359.013699 -2.453348    21  20.781039  116.715582   \n2021-12-31 22:00:00  365  359.013699 -2.453348    22  21.781039  131.715582   \n2021-12-31 23:00:00  365  359.013699 -2.453348    23  22.781039  146.715582   \n\n                        delta2  costhetaz     thetaz2  singammas  ...  IdT2  \\\n2021-01-01 00:00:00 -23.058629  -0.922515  157.296618   0.752376  ...   0.0   \n2021-01-01 01:00:00 -23.058629  -0.957518  163.239451   0.189071  ...   0.0   \n2021-01-01 02:00:00 -23.058629  -0.944271  160.781673  -0.562195  ...   0.0   \n2021-01-01 03:00:00 -23.058629  -0.883677  152.089104  -0.880212  ...   0.0   \n2021-01-01 04:00:00 -23.058629  -0.779864  141.248142  -0.975983  ...   0.0   \n...                        ...        ...         ...        ...  ...   ...   \n2021-12-31 19:00:00 -23.130256  -0.209621  102.100143   0.938965  ...   0.0   \n2021-12-31 20:00:00 -23.130256  -0.394176  113.214612   0.979785  ...   0.0   \n2021-12-31 21:00:00 -23.130256  -0.568922  124.675103   0.998849  ...   0.0   \n2021-12-31 22:00:00 -23.130256  -0.721950  136.215722   0.992062  ...   0.0   \n2021-12-31 23:00:00 -23.130256  -0.842831  147.440327   0.937757  ...   0.0   \n\n                     IdT2_shad  gammas3     alphas  ShadBeam  IbT2_shad  ItT  \\\n2021-01-01 00:00:00        0.0     45.0 -67.296618     0.001        0.0  0.0   \n2021-01-01 01:00:00        0.0      0.0 -73.239451     0.001        0.0  0.0   \n2021-01-01 02:00:00        0.0    -45.0 -70.781673     0.001        0.0  0.0   \n2021-01-01 03:00:00        0.0    -67.5 -62.089104     0.001        0.0  0.0   \n2021-01-01 04:00:00        0.0    -67.5 -51.248142     0.001        0.0  0.0   \n...                        ...      ...        ...       ...        ...  ...   \n2021-12-31 19:00:00        0.0     67.5 -12.100143     0.001        0.0  0.0   \n2021-12-31 20:00:00        0.0     67.5 -23.214612     0.001        0.0  0.0   \n2021-12-31 21:00:00        0.0     90.0 -34.675103     0.001        0.0  0.0   \n2021-12-31 22:00:00        0.0     90.0 -46.215722     0.001        0.0  0.0   \n2021-12-31 23:00:00        0.0     67.5 -57.440327     0.001        0.0  0.0   \n\n                        Tm    effrel  Pv_base  \n2021-01-01 00:00:00   7.90  2.690074      0.0  \n2021-01-01 01:00:00  10.55  2.657633      0.0  \n2021-01-01 02:00:00  12.80  2.630144      0.0  \n2021-01-01 03:00:00  12.00  2.639912      0.0  \n2021-01-01 04:00:00  11.40  2.647242      0.0  \n...                    ...       ...      ...  \n2021-12-31 19:00:00  14.25  2.612455      0.0  \n2021-12-31 20:00:00  13.20  2.625262      0.0  \n2021-12-31 21:00:00  12.10  2.638690      0.0  \n2021-12-31 22:00:00  10.90  2.653353      0.0  \n2021-12-31 23:00:00   9.70  2.668031      0.0  \n\n[8760 rows x 44 columns]",
      "text/html": "<div>\n<style scoped>\n    .dataframe tbody tr th:only-of-type {\n        vertical-align: middle;\n    }\n\n    .dataframe tbody tr th {\n        vertical-align: top;\n    }\n\n    .dataframe thead th {\n        text-align: right;\n    }\n</style>\n<table border=\"1\" class=\"dataframe\">\n  <thead>\n    <tr style=\"text-align: right;\">\n      <th></th>\n      <th>n</th>\n      <th>B</th>\n      <th>E</th>\n      <th>hour</th>\n      <th>SolarTime</th>\n      <th>omega</th>\n      <th>delta2</th>\n      <th>costhetaz</th>\n      <th>thetaz2</th>\n      <th>singammas</th>\n      <th>...</th>\n      <th>IdT2</th>\n      <th>IdT2_shad</th>\n      <th>gammas3</th>\n      <th>alphas</th>\n      <th>ShadBeam</th>\n      <th>IbT2_shad</th>\n      <th>ItT</th>\n      <th>Tm</th>\n      <th>effrel</th>\n      <th>Pv_base</th>\n    </tr>\n  </thead>\n  <tbody>\n    <tr>\n      <th>2021-01-01 00:00:00</th>\n      <td>1</td>\n      <td>0.000000</td>\n      <td>-2.904422</td>\n      <td>0</td>\n      <td>-0.226479</td>\n      <td>-198.397187</td>\n      <td>-23.058629</td>\n      <td>-0.922515</td>\n      <td>157.296618</td>\n      <td>0.752376</td>\n      <td>...</td>\n      <td>0.0</td>\n      <td>0.0</td>\n      <td>45.0</td>\n      <td>-67.296618</td>\n      <td>0.001</td>\n      <td>0.0</td>\n      <td>0.0</td>\n      <td>7.90</td>\n      <td>2.690074</td>\n      <td>0.0</td>\n    </tr>\n    <tr>\n      <th>2021-01-01 01:00:00</th>\n      <td>1</td>\n      <td>0.000000</td>\n      <td>-2.904422</td>\n      <td>1</td>\n      <td>0.773521</td>\n      <td>-183.397187</td>\n      <td>-23.058629</td>\n      <td>-0.957518</td>\n      <td>163.239451</td>\n      <td>0.189071</td>\n      <td>...</td>\n      <td>0.0</td>\n      <td>0.0</td>\n      <td>0.0</td>\n      <td>-73.239451</td>\n      <td>0.001</td>\n      <td>0.0</td>\n      <td>0.0</td>\n      <td>10.55</td>\n      <td>2.657633</td>\n      <td>0.0</td>\n    </tr>\n    <tr>\n      <th>2021-01-01 02:00:00</th>\n      <td>1</td>\n      <td>0.000000</td>\n      <td>-2.904422</td>\n      <td>2</td>\n      <td>1.773521</td>\n      <td>-168.397187</td>\n      <td>-23.058629</td>\n      <td>-0.944271</td>\n      <td>160.781673</td>\n      <td>-0.562195</td>\n      <td>...</td>\n      <td>0.0</td>\n      <td>0.0</td>\n      <td>-45.0</td>\n      <td>-70.781673</td>\n      <td>0.001</td>\n      <td>0.0</td>\n      <td>0.0</td>\n      <td>12.80</td>\n      <td>2.630144</td>\n      <td>0.0</td>\n    </tr>\n    <tr>\n      <th>2021-01-01 03:00:00</th>\n      <td>1</td>\n      <td>0.000000</td>\n      <td>-2.904422</td>\n      <td>3</td>\n      <td>2.773521</td>\n      <td>-153.397187</td>\n      <td>-23.058629</td>\n      <td>-0.883677</td>\n      <td>152.089104</td>\n      <td>-0.880212</td>\n      <td>...</td>\n      <td>0.0</td>\n      <td>0.0</td>\n      <td>-67.5</td>\n      <td>-62.089104</td>\n      <td>0.001</td>\n      <td>0.0</td>\n      <td>0.0</td>\n      <td>12.00</td>\n      <td>2.639912</td>\n      <td>0.0</td>\n    </tr>\n    <tr>\n      <th>2021-01-01 04:00:00</th>\n      <td>1</td>\n      <td>0.000000</td>\n      <td>-2.904422</td>\n      <td>4</td>\n      <td>3.773521</td>\n      <td>-138.397187</td>\n      <td>-23.058629</td>\n      <td>-0.779864</td>\n      <td>141.248142</td>\n      <td>-0.975983</td>\n      <td>...</td>\n      <td>0.0</td>\n      <td>0.0</td>\n      <td>-67.5</td>\n      <td>-51.248142</td>\n      <td>0.001</td>\n      <td>0.0</td>\n      <td>0.0</td>\n      <td>11.40</td>\n      <td>2.647242</td>\n      <td>0.0</td>\n    </tr>\n    <tr>\n      <th>...</th>\n      <td>...</td>\n      <td>...</td>\n      <td>...</td>\n      <td>...</td>\n      <td>...</td>\n      <td>...</td>\n      <td>...</td>\n      <td>...</td>\n      <td>...</td>\n      <td>...</td>\n      <td>...</td>\n      <td>...</td>\n      <td>...</td>\n      <td>...</td>\n      <td>...</td>\n      <td>...</td>\n      <td>...</td>\n      <td>...</td>\n      <td>...</td>\n      <td>...</td>\n      <td>...</td>\n    </tr>\n    <tr>\n      <th>2021-12-31 19:00:00</th>\n      <td>365</td>\n      <td>359.013699</td>\n      <td>-2.453348</td>\n      <td>19</td>\n      <td>18.781039</td>\n      <td>86.715582</td>\n      <td>-23.130256</td>\n      <td>-0.209621</td>\n      <td>102.100143</td>\n      <td>0.938965</td>\n      <td>...</td>\n      <td>0.0</td>\n      <td>0.0</td>\n      <td>67.5</td>\n      <td>-12.100143</td>\n      <td>0.001</td>\n      <td>0.0</td>\n      <td>0.0</td>\n      <td>14.25</td>\n      <td>2.612455</td>\n      <td>0.0</td>\n    </tr>\n    <tr>\n      <th>2021-12-31 20:00:00</th>\n      <td>365</td>\n      <td>359.013699</td>\n      <td>-2.453348</td>\n      <td>20</td>\n      <td>19.781039</td>\n      <td>101.715582</td>\n      <td>-23.130256</td>\n      <td>-0.394176</td>\n      <td>113.214612</td>\n      <td>0.979785</td>\n      <td>...</td>\n      <td>0.0</td>\n      <td>0.0</td>\n      <td>67.5</td>\n      <td>-23.214612</td>\n      <td>0.001</td>\n      <td>0.0</td>\n      <td>0.0</td>\n      <td>13.20</td>\n      <td>2.625262</td>\n      <td>0.0</td>\n    </tr>\n    <tr>\n      <th>2021-12-31 21:00:00</th>\n      <td>365</td>\n      <td>359.013699</td>\n      <td>-2.453348</td>\n      <td>21</td>\n      <td>20.781039</td>\n      <td>116.715582</td>\n      <td>-23.130256</td>\n      <td>-0.568922</td>\n      <td>124.675103</td>\n      <td>0.998849</td>\n      <td>...</td>\n      <td>0.0</td>\n      <td>0.0</td>\n      <td>90.0</td>\n      <td>-34.675103</td>\n      <td>0.001</td>\n      <td>0.0</td>\n      <td>0.0</td>\n      <td>12.10</td>\n      <td>2.638690</td>\n      <td>0.0</td>\n    </tr>\n    <tr>\n      <th>2021-12-31 22:00:00</th>\n      <td>365</td>\n      <td>359.013699</td>\n      <td>-2.453348</td>\n      <td>22</td>\n      <td>21.781039</td>\n      <td>131.715582</td>\n      <td>-23.130256</td>\n      <td>-0.721950</td>\n      <td>136.215722</td>\n      <td>0.992062</td>\n      <td>...</td>\n      <td>0.0</td>\n      <td>0.0</td>\n      <td>90.0</td>\n      <td>-46.215722</td>\n      <td>0.001</td>\n      <td>0.0</td>\n      <td>0.0</td>\n      <td>10.90</td>\n      <td>2.653353</td>\n      <td>0.0</td>\n    </tr>\n    <tr>\n      <th>2021-12-31 23:00:00</th>\n      <td>365</td>\n      <td>359.013699</td>\n      <td>-2.453348</td>\n      <td>23</td>\n      <td>22.781039</td>\n      <td>146.715582</td>\n      <td>-23.130256</td>\n      <td>-0.842831</td>\n      <td>147.440327</td>\n      <td>0.937757</td>\n      <td>...</td>\n      <td>0.0</td>\n      <td>0.0</td>\n      <td>67.5</td>\n      <td>-57.440327</td>\n      <td>0.001</td>\n      <td>0.0</td>\n      <td>0.0</td>\n      <td>9.70</td>\n      <td>2.668031</td>\n      <td>0.0</td>\n    </tr>\n  </tbody>\n</table>\n<p>8760 rows × 44 columns</p>\n</div>"
     },
     "execution_count": 20,
     "metadata": {},
     "output_type": "execute_result"
    }
   ],
   "source": [
    "b = radiationFV.calculo(b_output, df_clima, df_PV, parameters, 'Pv_base')\n",
    "df_PV = b.start() \n",
    "df_PV"
   ],
   "metadata": {
    "collapsed": false,
    "ExecuteTime": {
     "end_time": "2023-10-18T09:47:22.222166500Z",
     "start_time": "2023-10-18T09:47:21.160074Z"
    }
   },
   "id": "a0e9db692ffb9732"
  },
  {
   "cell_type": "code",
   "execution_count": 21,
   "outputs": [],
   "source": [
    "if cubiertas[i] == 'Viviendas':\n",
    "    PV_dict_cel.setdefault(cubiertas[i],df_PV)\n",
    "else:\n",
    "    PV_dict.setdefault(cubiertas[i],df_PV)"
   ],
   "metadata": {
    "collapsed": false,
    "ExecuteTime": {
     "end_time": "2023-10-18T09:47:25.680269300Z",
     "start_time": "2023-10-18T09:47:25.660208Z"
    }
   },
   "id": "22e45156712eeedc"
  },
  {
   "cell_type": "code",
   "execution_count": 59,
   "outputs": [
    {
     "data": {
      "text/plain": "dict_values([                       n           B         E  hour  SolarTime       omega  \\\n2021-01-01 00:00:00    1    0.000000 -2.904422     0  -0.226479 -198.397187   \n2021-01-01 01:00:00    1    0.000000 -2.904422     1   0.773521 -183.397187   \n2021-01-01 02:00:00    1    0.000000 -2.904422     2   1.773521 -168.397187   \n2021-01-01 03:00:00    1    0.000000 -2.904422     3   2.773521 -153.397187   \n2021-01-01 04:00:00    1    0.000000 -2.904422     4   3.773521 -138.397187   \n...                  ...         ...       ...   ...        ...         ...   \n2021-12-31 19:00:00  365  359.013699 -2.453348    19  18.781039   86.715582   \n2021-12-31 20:00:00  365  359.013699 -2.453348    20  19.781039  101.715582   \n2021-12-31 21:00:00  365  359.013699 -2.453348    21  20.781039  116.715582   \n2021-12-31 22:00:00  365  359.013699 -2.453348    22  21.781039  131.715582   \n2021-12-31 23:00:00  365  359.013699 -2.453348    23  22.781039  146.715582   \n\n                        delta2  costhetaz     thetaz2  singammas  ...  IdT2  \\\n2021-01-01 00:00:00 -23.058629  -0.922515  157.296618   0.752376  ...   0.0   \n2021-01-01 01:00:00 -23.058629  -0.957518  163.239451   0.189071  ...   0.0   \n2021-01-01 02:00:00 -23.058629  -0.944271  160.781673  -0.562195  ...   0.0   \n2021-01-01 03:00:00 -23.058629  -0.883677  152.089104  -0.880212  ...   0.0   \n2021-01-01 04:00:00 -23.058629  -0.779864  141.248142  -0.975983  ...   0.0   \n...                        ...        ...         ...        ...  ...   ...   \n2021-12-31 19:00:00 -23.130256  -0.209621  102.100143   0.938965  ...   0.0   \n2021-12-31 20:00:00 -23.130256  -0.394176  113.214612   0.979785  ...   0.0   \n2021-12-31 21:00:00 -23.130256  -0.568922  124.675103   0.998849  ...   0.0   \n2021-12-31 22:00:00 -23.130256  -0.721950  136.215722   0.992062  ...   0.0   \n2021-12-31 23:00:00 -23.130256  -0.842831  147.440327   0.937757  ...   0.0   \n\n                     IdT2_shad  gammas3     alphas  ShadBeam  IbT2_shad  ItT  \\\n2021-01-01 00:00:00        0.0     45.0 -67.296618     0.001        0.0  0.0   \n2021-01-01 01:00:00        0.0      0.0 -73.239451     0.001        0.0  0.0   \n2021-01-01 02:00:00        0.0    -45.0 -70.781673     0.001        0.0  0.0   \n2021-01-01 03:00:00        0.0    -67.5 -62.089104     0.001        0.0  0.0   \n2021-01-01 04:00:00        0.0    -67.5 -51.248142     0.001        0.0  0.0   \n...                        ...      ...        ...       ...        ...  ...   \n2021-12-31 19:00:00        0.0     67.5 -12.100143     0.001        0.0  0.0   \n2021-12-31 20:00:00        0.0     67.5 -23.214612     0.001        0.0  0.0   \n2021-12-31 21:00:00        0.0     90.0 -34.675103     0.001        0.0  0.0   \n2021-12-31 22:00:00        0.0     90.0 -46.215722     0.001        0.0  0.0   \n2021-12-31 23:00:00        0.0     67.5 -57.440327     0.001        0.0  0.0   \n\n                        Tm    effrel  Pv_base  \n2021-01-01 00:00:00   7.90  2.690074      0.0  \n2021-01-01 01:00:00  10.55  2.657633      0.0  \n2021-01-01 02:00:00  12.80  2.630144      0.0  \n2021-01-01 03:00:00  12.00  2.639912      0.0  \n2021-01-01 04:00:00  11.40  2.647242      0.0  \n...                    ...       ...      ...  \n2021-12-31 19:00:00  14.25  2.612455      0.0  \n2021-12-31 20:00:00  13.20  2.625262      0.0  \n2021-12-31 21:00:00  12.10  2.638690      0.0  \n2021-12-31 22:00:00  10.90  2.653353      0.0  \n2021-12-31 23:00:00   9.70  2.668031      0.0  \n\n[8760 rows x 44 columns]])"
     },
     "execution_count": 59,
     "metadata": {},
     "output_type": "execute_result"
    }
   ],
   "source": [
    "PV_dict.values()"
   ],
   "metadata": {
    "collapsed": false,
    "ExecuteTime": {
     "end_time": "2023-10-11T10:00:00.612434Z",
     "start_time": "2023-10-11T10:00:00.582510400Z"
    }
   },
   "id": "6694241dd41a5b0c"
  },
  {
   "cell_type": "code",
   "execution_count": 60,
   "outputs": [],
   "source": [
    "cubiertas_analizar = ['Cubierta_1']\n",
    "    \n",
    "for i in cubiertas_analizar:\n",
    "    if i == 'Viviendas':\n",
    "      df_PV_cel['Pv_cel'] = df_PV_cel['Pv_cel'] + PV_dict_cel[i]['Pv_base']\n",
    "            # print(i)\n",
    "            # print(PV_dict_cel[i]['Pv_base'].sum())\n",
    "    else:    \n",
    "      df_PV_total['Pv_base'] = df_PV_total['Pv_base'] + PV_dict[i]['Pv_base']\n",
    "            # print(i)\n",
    "            # print(PV_dict[i]['Pv_base'].sum())"
   ],
   "metadata": {
    "collapsed": false,
    "ExecuteTime": {
     "end_time": "2023-10-11T10:00:04.347557800Z",
     "start_time": "2023-10-11T10:00:04.269686600Z"
    }
   },
   "id": "71e837f8eccfa4cb"
  },
  {
   "cell_type": "code",
   "execution_count": 22,
   "outputs": [
    {
     "data": {
      "text/plain": "                     Pv_base\n2021-01-01 00:00:00        0\n2021-01-01 01:00:00        0\n2021-01-01 02:00:00        0\n2021-01-01 03:00:00        0\n2021-01-01 04:00:00        0\n...                      ...\n2021-12-31 19:00:00        0\n2021-12-31 20:00:00        0\n2021-12-31 21:00:00        0\n2021-12-31 22:00:00        0\n2021-12-31 23:00:00        0\n\n[8760 rows x 1 columns]",
      "text/html": "<div>\n<style scoped>\n    .dataframe tbody tr th:only-of-type {\n        vertical-align: middle;\n    }\n\n    .dataframe tbody tr th {\n        vertical-align: top;\n    }\n\n    .dataframe thead th {\n        text-align: right;\n    }\n</style>\n<table border=\"1\" class=\"dataframe\">\n  <thead>\n    <tr style=\"text-align: right;\">\n      <th></th>\n      <th>Pv_base</th>\n    </tr>\n  </thead>\n  <tbody>\n    <tr>\n      <th>2021-01-01 00:00:00</th>\n      <td>0</td>\n    </tr>\n    <tr>\n      <th>2021-01-01 01:00:00</th>\n      <td>0</td>\n    </tr>\n    <tr>\n      <th>2021-01-01 02:00:00</th>\n      <td>0</td>\n    </tr>\n    <tr>\n      <th>2021-01-01 03:00:00</th>\n      <td>0</td>\n    </tr>\n    <tr>\n      <th>2021-01-01 04:00:00</th>\n      <td>0</td>\n    </tr>\n    <tr>\n      <th>...</th>\n      <td>...</td>\n    </tr>\n    <tr>\n      <th>2021-12-31 19:00:00</th>\n      <td>0</td>\n    </tr>\n    <tr>\n      <th>2021-12-31 20:00:00</th>\n      <td>0</td>\n    </tr>\n    <tr>\n      <th>2021-12-31 21:00:00</th>\n      <td>0</td>\n    </tr>\n    <tr>\n      <th>2021-12-31 22:00:00</th>\n      <td>0</td>\n    </tr>\n    <tr>\n      <th>2021-12-31 23:00:00</th>\n      <td>0</td>\n    </tr>\n  </tbody>\n</table>\n<p>8760 rows × 1 columns</p>\n</div>"
     },
     "execution_count": 22,
     "metadata": {},
     "output_type": "execute_result"
    }
   ],
   "source": [
    "df_PV_total"
   ],
   "metadata": {
    "collapsed": false,
    "ExecuteTime": {
     "end_time": "2023-10-18T09:47:27.234679900Z",
     "start_time": "2023-10-18T09:47:27.202791200Z"
    }
   },
   "id": "184522ee98c84aa8"
  },
  {
   "cell_type": "code",
   "execution_count": 70,
   "outputs": [
    {
     "data": {
      "text/plain": "Empty DataFrame\nColumns: []\nIndex: [2021-01-01 00:00:00, 2021-01-01 01:00:00, 2021-01-01 02:00:00, 2021-01-01 03:00:00, 2021-01-01 04:00:00, 2021-01-01 05:00:00, 2021-01-01 06:00:00, 2021-01-01 07:00:00, 2021-01-01 08:00:00, 2021-01-01 09:00:00, 2021-01-01 10:00:00, 2021-01-01 11:00:00, 2021-01-01 12:00:00, 2021-01-01 13:00:00, 2021-01-01 14:00:00, 2021-01-01 15:00:00, 2021-01-01 16:00:00, 2021-01-01 17:00:00, 2021-01-01 18:00:00, 2021-01-01 19:00:00, 2021-01-01 20:00:00, 2021-01-01 21:00:00, 2021-01-01 22:00:00, 2021-01-01 23:00:00, 2021-01-02 00:00:00, 2021-01-02 01:00:00, 2021-01-02 02:00:00, 2021-01-02 03:00:00, 2021-01-02 04:00:00, 2021-01-02 05:00:00, 2021-01-02 06:00:00, 2021-01-02 07:00:00, 2021-01-02 08:00:00, 2021-01-02 09:00:00, 2021-01-02 10:00:00, 2021-01-02 11:00:00, 2021-01-02 12:00:00, 2021-01-02 13:00:00, 2021-01-02 14:00:00, 2021-01-02 15:00:00, 2021-01-02 16:00:00, 2021-01-02 17:00:00, 2021-01-02 18:00:00, 2021-01-02 19:00:00, 2021-01-02 20:00:00, 2021-01-02 21:00:00, 2021-01-02 22:00:00, 2021-01-02 23:00:00, 2021-01-03 00:00:00, 2021-01-03 01:00:00, 2021-01-03 02:00:00, 2021-01-03 03:00:00, 2021-01-03 04:00:00, 2021-01-03 05:00:00, 2021-01-03 06:00:00, 2021-01-03 07:00:00, 2021-01-03 08:00:00, 2021-01-03 09:00:00, 2021-01-03 10:00:00, 2021-01-03 11:00:00, 2021-01-03 12:00:00, 2021-01-03 13:00:00, 2021-01-03 14:00:00, 2021-01-03 15:00:00, 2021-01-03 16:00:00, 2021-01-03 17:00:00, 2021-01-03 18:00:00, 2021-01-03 19:00:00, 2021-01-03 20:00:00, 2021-01-03 21:00:00, 2021-01-03 22:00:00, 2021-01-03 23:00:00, 2021-01-04 00:00:00, 2021-01-04 01:00:00, 2021-01-04 02:00:00, 2021-01-04 03:00:00, 2021-01-04 04:00:00, 2021-01-04 05:00:00, 2021-01-04 06:00:00, 2021-01-04 07:00:00, 2021-01-04 08:00:00, 2021-01-04 09:00:00, 2021-01-04 10:00:00, 2021-01-04 11:00:00, 2021-01-04 12:00:00, 2021-01-04 13:00:00, 2021-01-04 14:00:00, 2021-01-04 15:00:00, 2021-01-04 16:00:00, 2021-01-04 17:00:00, 2021-01-04 18:00:00, 2021-01-04 19:00:00, 2021-01-04 20:00:00, 2021-01-04 21:00:00, 2021-01-04 22:00:00, 2021-01-04 23:00:00, 2021-01-05 00:00:00, 2021-01-05 01:00:00, 2021-01-05 02:00:00, 2021-01-05 03:00:00, ...]\n\n[8760 rows x 0 columns]",
      "text/html": "<div>\n<style scoped>\n    .dataframe tbody tr th:only-of-type {\n        vertical-align: middle;\n    }\n\n    .dataframe tbody tr th {\n        vertical-align: top;\n    }\n\n    .dataframe thead th {\n        text-align: right;\n    }\n</style>\n<table border=\"1\" class=\"dataframe\">\n  <thead>\n    <tr style=\"text-align: right;\">\n      <th></th>\n    </tr>\n  </thead>\n  <tbody>\n    <tr>\n      <th>2021-01-01 00:00:00</th>\n    </tr>\n    <tr>\n      <th>2021-01-01 01:00:00</th>\n    </tr>\n    <tr>\n      <th>2021-01-01 02:00:00</th>\n    </tr>\n    <tr>\n      <th>2021-01-01 03:00:00</th>\n    </tr>\n    <tr>\n      <th>2021-01-01 04:00:00</th>\n    </tr>\n    <tr>\n      <th>...</th>\n    </tr>\n    <tr>\n      <th>2021-12-31 19:00:00</th>\n    </tr>\n    <tr>\n      <th>2021-12-31 20:00:00</th>\n    </tr>\n    <tr>\n      <th>2021-12-31 21:00:00</th>\n    </tr>\n    <tr>\n      <th>2021-12-31 22:00:00</th>\n    </tr>\n    <tr>\n      <th>2021-12-31 23:00:00</th>\n    </tr>\n  </tbody>\n</table>\n<p>8760 rows × 0 columns</p>\n</div>"
     },
     "execution_count": 70,
     "metadata": {},
     "output_type": "execute_result"
    }
   ],
   "source": [
    "inicio = pd.Timestamp('2021-01-01')\n",
    "fin = pd.Timestamp('2021-12-31 23:00:00')  # Hasta el 1 de enero de 2022 (para incluir la última hora del año)\n",
    "rango_horas = pd.date_range(start=inicio, end=fin, freq='H')\n",
    "    \n",
    "    # Crear el DataFrame con los índices generados\n",
    "data_out = pd.DataFrame(index=rango_horas)\n",
    "count = -1\n",
    "data_out"
   ],
   "metadata": {
    "collapsed": false,
    "ExecuteTime": {
     "end_time": "2023-10-11T10:05:34.152068600Z",
     "start_time": "2023-10-11T10:05:34.143170400Z"
    }
   },
   "id": "22a905ba791d27ac"
  },
  {
   "cell_type": "code",
   "execution_count": 23,
   "outputs": [
    {
     "data": {
      "text/plain": "[0.0,\n 0.0030312365535133945,\n 0.0034283295941384523,\n 0.003439089432697608,\n 0.003497654467453703,\n 0.0009827498750736173,\n 0.002465296223413809,\n 0.004372732144650282,\n 0.00436342870943997,\n 0.004521856460751374,\n 0.001398797322990516,\n 0.004635264345345773,\n 0.004006215864712249,\n 0.004326431684264193,\n 0.004410593930364649,\n 0.004438148697641743,\n 0.004725655441446909,\n 0.0019065094113937433,\n 0.008783932234588395,\n 0.0024875477379191126,\n 0.004459385586723454,\n 0.005196878368795642,\n 0.0010304911777680426,\n 0.005760346792423795,\n 0.005569694956029941,\n 0.0060966081125857574,\n 0.006378317797497341,\n 0.0072531954788601265,\n 0.007314033977854327,\n 0.004353480442567236,\n 0.004933465748205149,\n 0.0033278225411223256,\n 0.008172489598757814,\n 0.003615705834870014,\n 0.00970944675317689,\n 0.012195941889726027,\n 0.007147610502865964,\n 0.007305365631420558,\n 0.007451231018302193,\n 0.007170954338300422,\n 0.011784049264029461,\n 0.005121697057826733,\n 0.005538647867198844,\n 0.006662092029382572,\n 0.007758804201618235,\n 0.006862773954882944,\n 0.007099104896312471,\n 0.00967106507434591,\n 0.00784815690002673,\n 0.008187101781255476,\n 0.008357488740016805,\n 0.008525874879019492,\n 0.01061802917613093,\n 0.0029500220751310247,\n 0.002723415820488425,\n 0.0081377091584693,\n 0.01028171013759261,\n 0.00886470971294365,\n 0.00840471300715036,\n 0.010751254963391866,\n 0.008150649258256244,\n 0.007995441527331299,\n 0.007823375314462517,\n 0.00779785308766813,\n 0.010104973031189892,\n 0.007111707661710783,\n 0.002062070511174939,\n 0.002786229115505244,\n 0.010286285687754882,\n 0.008956009713021145,\n 0.009008731569962678,\n 0.00851848605593414,\n 0.009386596614537966,\n 0.00916442780486227,\n 0.009124744484969796,\n 0.011689838612767187,\n 0.009596989746601297,\n 0.0,\n 0.0,\n 0.008121807699924759,\n 0.012475327204247596,\n 0.010481691694203174,\n 0.008798774427585683,\n 0.007727549100065768,\n 0.009735319493551666,\n 0.009250583231018272,\n 0.008965302840155369,\n 0.00875980042640475,\n 0.010880083448276845,\n 0.005125470899572826,\n 0.011118234676626607,\n 0.005785754215221377,\n 0.008408348068397145,\n 0.008410145843207687,\n 0.009444395232988605,\n 0.007757575585083609,\n 0.00901417183232336,\n 0.00969876587799539,\n 0.010729027611497426,\n 0.010850850088971471,\n 0.012220994018912591,\n 0.0074205874451120455,\n 0.010339913589560365,\n 0.011595250925183914,\n 0.01368174410526766,\n 0.008694170485162968,\n 0.009520978764396278,\n 0.010540172519744264,\n 0.009749067424004516,\n 0.009297492666101742,\n 0.009065354364949721,\n 0.008827175980912793,\n 0.008669419201951507,\n 0.007392879351062809,\n 0.0038503259724240106,\n 0.006745004503010206,\n 0.01234898086786618,\n 0.016322868977578495,\n 0.0033992491486664373,\n 0.012744964537055054,\n 0.010340366974058003,\n 0.010839474713682075,\n 0.011649079256507358,\n 0.011792407616192248,\n 0.011695344938834926,\n 0.009089513234467411,\n 0.009954906700085229,\n 0.006786234874177964,\n 0.010157952311056831,\n 0.0,\n 0.011629541635805917,\n 0.01309292124356886,\n 0.011340944529092185,\n 0.011769456224899806,\n 0.012184920480489443,\n 0.011777226078763864,\n 0.011349178408643185,\n 0.003238412666421698,\n 0.011012488977463292,\n 0.009926565911822354,\n 0.010461353042362304,\n 0.010035682853623343,\n 0.009749031733484079,\n 0.013454037229869962,\n 0.016423683606177686,\n 0.010243557095054206,\n 0.010367181895620805,\n 0.010514652426399854,\n 0.010563134052423795,\n 0.005219653406357391,\n 0.004254209145396321,\n 0.004671895707568815,\n 0.014471723394292327,\n 0.011849282792365447,\n 0.009629557000623859,\n 0.011568114087662446,\n 0.011105025868022195,\n 0.011257339743628272,\n 0.010746148442790926,\n 0.010327141774536006,\n 0.012208901996597271,\n 0.006180051064633944,\n 0.004644906484763626,\n 0.004789234351906468,\n 0.011197046002887755,\n 0.010653420420030183,\n 0.01086596011408179,\n 0.010891905475746306,\n 0.010864589187518953,\n 0.011259109814514919,\n 0.011483555190693438,\n 0.011722336190370065,\n 0.016436826990092277,\n 0.013989977914222232,\n 0.002968372998271871,\n 0.010016878542396723,\n 0.01596902732347912,\n 0.008846970928309347,\n 0.008373723004552481,\n 0.011735181683984063,\n 0.013494388519545316,\n 0.013823968150445074,\n 0.011956969036090469,\n 0.01166648664313528,\n 0.010744382696928543,\n 0.007932321900239472,\n 0.011873476683517292,\n 0.010883443566670467,\n 0.009667791256497534,\n 0.006050371751741925,\n -4.860391026844759e-34,\n 0.010768309948779625,\n 0.016836013397027134,\n 0.013897858460457293,\n 0.013773724477682436,\n 0.013764044073077873,\n 0.014959738232177286,\n -4.860391026844759e-34,\n 0.00432984078933334,\n 0.004653209908542729,\n 0.01641752242580673,\n 0.009694889488647215,\n 0.006746145666462371,\n 0.010611053995931121,\n 0.017032479203151416,\n 0.01262942010971819,\n 0.012180002339290043,\n 0.011830796141378188,\n 0.011532590167719481,\n 0.004472021988713501,\n 0.0,\n 0.017542754191408903,\n 0.01069902068255321,\n 0.01320490693289182,\n 0.012582926274705421,\n 0.014224082168848323,\n 0.011842385953368288,\n 0.012297777013881284,\n 0.015017816670039801,\n 0.01295748798691686,\n 0.012646592065364844,\n 0.011299935582707738,\n 0.012497619353965782,\n 0.008061162654545408,\n 0.014082768712381118,\n 0.010775473771316412,\n 0.013220975054976209,\n 0.011394106260466315,\n 0.01571891434382026,\n 0.01312196287954726,\n 0.013639516440688665,\n 0.014805150602553942,\n 0.01537050844474869,\n 0.012015857554932983,\n 0.01595894415499228,\n 0.017533780782616897,\n 0.01627745613304824,\n 0.013931122559627475,\n 0.01145552354799471,\n 0.01148381354550512,\n 0.011003062947498012,\n 0.011036661130494502,\n 0.011768605331396164,\n 0.014471691805085138,\n 0.012434868788178404,\n 0.004358918338721256,\n 0.006529117706797426,\n 0.011391469264377447,\n 0.012664941839289309,\n 0.01664235130587223,\n 0.013819314971362184,\n 0.014054091831065464,\n 0.010450138099520426,\n 0.010874962462353234,\n 0.011018672955749053,\n 0.011204673073179985,\n 0.01241479482241903,\n 0.004083104241952781,\n 0.008090261007208832,\n 0.012774897387688097,\n 0.01280604030686352,\n 0.005698743233551822,\n 0.009617900665569008,\n 0.01089318733514381,\n 0.013523237096602234,\n 0.015268653201358064,\n 0.016066030532412116,\n 0.014589208982836197,\n 0.015284432187480063,\n 0.006150566331352929,\n 0.011607101039532323,\n 0.013181846749324695,\n 0.010412414527181195,\n 0.005689793728318641,\n 0.008113271383537391,\n 0.01316841899224902,\n 0.007058492196539999,\n 0.009597469021762907,\n 0.013012351863412182,\n 0.012720187094347066,\n 0.01489033625517178,\n 0.006282935362198001,\n 0.010056280308332714,\n 0.013496701889460826,\n 0.01301209518270328,\n 0.005104058803248106,\n 0.007697068572161905,\n 0.011474498814871382,\n 0.013135183044578027,\n 0.014306473825524661,\n 0.014510897024698703,\n 0.014765927651178375,\n 0.01506777882412545,\n 0.015404927944803791,\n 0.008029670738105342,\n 0.0065071627555195605,\n 0.016316375022205575,\n 0.011589227616315763,\n 0.011781632161973313,\n 0.01928714794294178,\n 0.014764183667982291,\n 0.014600222962623755,\n 0.014423355144693914,\n 0.013992500370249199,\n 0.01339365269688354,\n 0.002473090930015509,\n 0.009302831926214861,\n 0.015611371424982708,\n 0.010970403628218564,\n 0.010420513863439564,\n 0.004586777335877737,\n 0.018758912871301315,\n 0.01651984664446979,\n 0.01615719061962691,\n 0.0162078281754952,\n 0.01853061642645353,\n 0.020766967536310375,\n 0.003640529861743801,\n 0.009686165993981371,\n 0.009872261177334031,\n 0.01773520196867998,\n 0.012849310297937391,\n 0.0040778580724656135,\n 0.015133364661377638,\n 0.015100344218543593,\n 0.015053867770387896,\n 0.01687682495218955,\n 0.013990551178163798,\n 0.013445553568255296,\n 0.005018187529076522,\n 0.008248136994552641,\n 0.010897601950423356,\n 0.013908298110010545,\n 0.006764339142537307,\n 0.01211147458604621,\n 0.010301487881299913,\n 0.01678995762689596,\n 0.01464897202303227,\n 0.014697868482119791,\n 0.014918925966695808,\n 0.018252260985619367,\n 0.016358296265212194,\n 0.016960740025090876,\n 0.0154340395891558,\n 0.01759051772186469,\n 0.017307190015494633,\n 0.014866131892138762,\n 0.014142449377307503,\n 0.013333372508599783,\n 0.013485694281957486,\n 0.01335662476976202,\n 0.013474313928904592,\n 0.013629353438606134,\n 0.010438847242020042,\n 0.0028805952315063307,\n 0.01933632466134327,\n 0.020090756528672184,\n 0.008275233219836376,\n 0.018058655041881626,\n 0.019581627870638853,\n 0.017520329332013092,\n 0.01602401162867794,\n 0.015755429257992403,\n 0.01607876181355406,\n 0.021681120219701845,\n 0.009124629325265365,\n 0.0022975216468101157,\n 0.004758655634139634,\n 0.01197043347944141,\n 0.01719330608935999,\n 0.01607370506280386,\n 0.017237419776422923,\n 0.013813373505693349,\n 0.014154230076018029,\n 0.013435538112794448,\n 0.013336511606205735,\n 0.013119290718074732,\n 0.017170561964388927,\n 0.0038868721289159027,\n 0.007941318198194793,\n 0.015610446458152048,\n 0.009574281476676019,\n 0.0017854143739082175,\n 0.014121775458848622,\n 0.012762828029805036,\n 0.013291633220810558,\n 0.013306625274039597,\n 0.013462342735364875,\n 0.013483186118419355,\n 0.0116223470475193,\n 0.011946087870046508,\n 0.013240622447476145,\n 0.00909217016744765,\n 0.00410080275372394,\n 0.007850026859798211,\n 0.007693758674600295,\n 0.011560579317379674,\n 0.011648698444787619,\n 0.011528888246652427,\n 0.01189174038019583,\n 0.012253317522494847,\n 0.004834712947358158,\n 0.0029316461969192934,\n 0.00983245133046868,\n 0.014135946132343449,\n 0.005167710436369152,\n -1.3041874292407454e-17,\n 0.014975211040958761,\n 0.013198344587615254,\n 0.01286782691244125,\n 0.012266651224433963,\n 0.012143622137043227,\n 0.006093290833597004,\n 0.0,\n 0.013721652070670144,\n 0.01315856608703073,\n 0.012846209996662455,\n 0.01456040945706236,\n 0.006057303296073136,\n 0.010853717732400736,\n 0.011018774483383962,\n 0.011201117859879761,\n 0.01051310766708817,\n 0.010282845592140702,\n 0.010687060004872156,\n 0.006220642551954555,\n 0.010431407862499815,\n 0.008337201655053797,\n 0.011135596485291634,\n 0.007833804398378092,\n 0.0071566622628015265,\n 0.012006833691002253,\n 0.003917733234583532,\n 0.014774133663745812,\n 0.012920297876951857,\n 0.011449525328007982,\n 0.011236185428112052,\n 0.008095637219612636,\n 0.005840913721867409,\n 0.0047295828530645855,\n 0.013432348247201228,\n 0.013055312881514576,\n 0.00886283282306257,\n 0.011378992053498623,\n 0.01131644942004456,\n 0.011780892461136902,\n 0.010681794617925164,\n 0.009539750852023972,\n 0.008183890543393128,\n 0.006287646970417241,\n 0.0056177724903801445,\n 0.008551307980261706,\n 0.009669972519847178,\n 0.009197009185733657,\n 0.009050846889128234,\n 0.011128520664123492,\n 0.009743418961709362,\n 0.009632537470910446,\n 0.009403917690177304,\n 0.009550796431651151,\n 0.009523738172484622,\n 0.00991384775223738,\n 0.006417250663533229,\n 0.010262571195230328,\n 0.009799858817531074,\n 0.00907793739627865,\n 0.008038801330018221,\n 0.008754796076403577,\n 0.006510614213746358,\n 0.008971647706362862,\n 0.009066171824129027,\n 0.008342911230589988,\n 0.008690300378954725,\n 0.010096994275611644,\n 0.006833505494702901,\n 0.0025320726373793062,\n 0.00853832649323027,\n 0.0,\n 0.005351762678938021,\n 0.006780341338855818,\n 0.008026693393166496,\n 0.008526434326892932,\n 0.008710472359774034,\n 0.008940219518529347,\n 0.009693628421542816,\n 0.010171656619971214,\n 0.0,\n 0.010494554352469248,\n 0.011244812721019237,\n 0.004531190685317756,\n 0.012251157531613066,\n 0.013504951000791096,\n 0.010934861942489518,\n 0.012222333944008647,\n 0.011816509134353583,\n 0.010168336530532255,\n 0.011127929316824499,\n 0.0015427362379382252,\n 0.011176588000985118,\n 0.00783628893802207,\n 0.0076759929741666505,\n 0.0046052297968878905,\n 0.008361863232847669,\n 0.004902794978153978,\n 0.008784175990957288,\n 0.009865671706678469,\n 0.010034961722235532,\n 0.01005560087548213,\n 0.010155315647274891,\n 0.006553986143852654,\n 0.009330926012824725,\n 0.008229052393200284,\n 0.007524989896598275,\n 0.001876713907042357,\n 0.004481736456312653,\n 0.008017386819883766,\n 0.006884671531690925,\n 0.00674645310750443,\n 0.006475883696889487,\n 0.006229518232200063,\n 0.006017206340678688,\n 0.0016772525948881543,\n 0.003986121052077994,\n 0.004891090744236497,\n 0.006359382167804129,\n 0.005728319331722854,\n 0.004189503655792157,\n 0.009380783184926465,\n 0.006629282722380114,\n 0.006993027297054015,\n 0.007099632159635826,\n 0.009614929482147727,\n 0.007517168651294843,\n 0.001980877479168367,\n 0.005287541574262941,\n 0.0040379020389120415,\n 0.00899864052716786,\n 0.007825245365892146,\n 0.004944642263292946,\n 0.005285788904226137,\n 0.0036282345836184944,\n 0.007284326764635631,\n 0.007091697357845579,\n 0.006632385980077714,\n 0.005561411891106894,\n 0.001576630227503364,\n 0.004399494258956228,\n 0.0028005773215956787,\n 0.005715076571872354,\n 0.01063715803530525,\n 0.006606748247236586,\n 0.0051153351390610165,\n 0.007351945844924672,\n 0.007669172705697391,\n 0.007969982579111152,\n 0.008409168431992105,\n 0.008414801952379975,\n 0.0007475546610274804,\n 0.009378671868158998,\n 0.006528271377402426,\n 0.01104168182052601,\n 0.007793170949812048,\n 0.010516132005530053,\n 0.009120738988528086,\n 0.010515230855769695,\n 0.00858478882413586,\n 0.008576517626540124,\n 0.008292538438366578,\n 0.007909598220314408,\n 0.002317174561201757,\n 0.001802973417166466,\n 0.009508038076891559,\n 0.010772286983311914,\n 0.005326505325669726,\n 0.008351275116217222,\n 0.011515444005196327,\n 0.011512662079184895,\n 0.010113025016171671,\n 0.010371814596663356,\n 0.010644758375407978,\n 0.00984718836680615,\n 0.00608830111097619,\n 0.006873193122383287,\n 0.009433896615980299,\n 0.011435642270377817,\n 0.005599745403745023,\n 0.010879330254154584,\n 0.009605823091046796,\n 0.01559344018970325,\n 0.00970504856535079,\n 0.009576796742611566,\n 0.01158128289792062,\n 0.012915644755461513,\n 0.006895813773672259,\n 0.006977171525868389,\n 0.008977426797674274,\n 0.009341449242915101,\n 0.006554633275973917,\n 0.004059980265582917,\n 0.009842286724962308,\n 0.009208421204305732,\n 0.009141524235364783,\n 0.009058267311244123,\n 0.009012476815239088,\n 0.009003649453779463,\n 0.0005008743288511043,\n 0.004570199320206255,\n 0.00826137125997427,\n 0.011435300399906503,\n 0.0077123383813034185,\n 0.0038025119202303843,\n 0.007407120021169197,\n 0.008591897128877228,\n 0.008183976293400543,\n 0.007918949191604354,\n 0.007621243309652927,\n 0.007278352082000248,\n 0.0006216515195845991,\n 0.0,\n 0.0036292000622983,\n 0.006602568607571028,\n 0.003960477306416554,\n 0.002220839382367335,\n 0.008012318911856638,\n 0.007147659870762624,\n 0.007896650669830219,\n 0.008318275395200513,\n 0.008656627491174072,\n 0.009378393644377375,\n 0.009956637774650055,\n 0.013338471494770259,\n 0.01056888617326784,\n 0.011465381877503846,\n 0.006720083685534023,\n 0.01043556969740417,\n 0.009984472606160366,\n 0.008451136351562819,\n 0.008256325078494636,\n 0.008181180460929196,\n 0.007601923318764786,\n 0.006277733773819603,\n 0.007534897667559605,\n 0.007146478694403926,\n 0.008120585920578247,\n 0.010953370038230555,\n 0.010143645550492318,\n 0.0017977902518952244,\n 0.009100232734734683,\n 0.011802702610268837,\n 0.009576568044643269,\n 0.009347007289608427,\n 0.009660444585968195,\n 0.012459049830359281,\n 0.007750221026747183,\n 0.004290851195753478,\n 0.01380967207830313,\n 0.012310298064319951,\n 0.004006846049149915,\n 0.0016727443269467354,\n 0.012914009514793535,\n 0.012773796433115072,\n 0.008701508199951136,\n 0.008477026206220612,\n 0.007959501774469475,\n 0.00727069961160281,\n 0.008891137458427633,\n 0.005723299633300394,\n 0.004438394217712495,\n 0.00697582891550963,\n 0.004454175793247356,\n 0.004972319652518801,\n 0.016986780849090666,\n 0.007838210016211435,\n 0.008159421267321249,\n 0.008326706766725877,\n 0.010898279281676575,\n 0.00933187728892307,\n 0.011653603745023786,\n 0.00447047476217019,\n 0.008266764807760734,\n 0.009131725822872524,\n 0.009433020117389305,\n 0.009237907163419509,\n 0.008740413116405148,\n 0.007645724023863873,\n 0.007565016113584404,\n 0.00736288373922915,\n 0.009267055042339944,\n 0.006039099344843526,\n 0.0,\n 0.0034488094057658677,\n 0.0038031835283058213,\n 0.00752177036887524,\n 0.010921407524226191,\n 0.0020570920704406086,\n 0.008092615463589385,\n 0.008219754288969641,\n 0.00911985389323375,\n 0.00957820526679717,\n 0.009546874595179307,\n 0.01216346840821079,\n 0.013299914662483533,\n 0.009643336828803748,\n 0.005224132757248152,\n 0.009028686931443992,\n 0.008942153332011798,\n 0.00607963905663386,\n 0.005954923912724226,\n 0.006070078564821832,\n 0.006438130867088567,\n 0.0064192077941752634,\n 0.006096022460242779,\n 0.007912359056889659,\n 0.002793308114006102,\n 0.0034215772141455475,\n 0.0058979843073973665,\n 0.005947171214768102,\n 0.004180812188258485,\n 0.004746522848182283,\n 0.010664510366162472,\n 0.006115307237512167,\n 0.00667285435619085,\n 0.007117631295686455,\n 0.007583264363168512,\n 0.009845636926476505,\n 0.009161381181785933,\n 0.004014713862406948,\n 0.005278373860490999,\n 0.007934979442956304,\n 0.0071113035153161685,\n 0.006913524342781988,\n 0.0059404729098596265,\n 0.009643003018666016,\n 0.005539694260422328,\n 0.00547712128210315,\n 0.005148428663696989,\n 0.007168629270923929,\n 0.0034602173348750064,\n 0.0014727264912402875,\n 0.00503679379334523,\n 0.0048983872567789615,\n 0.004876727928818335,\n 0.0033808842426648676,\n 0.005099213732566362,\n 0.004374496305270007,\n 0.004752233664718376,\n 0.004862514969791194,\n 0.005036406893293062,\n 0.005065627413258887,\n 0.003214211106176772,\n 0.004418590809073873,\n 0.0030458754877829538,\n 0.005759018566204913,\n 0.006365178154640452,\n 0.004893664861168649,\n 0.0064711328659303406,\n 0.003395448917386757,\n 0.004391144449355185,\n 0.004531852210283466,\n 0.0047108764276731835,\n 0.004930246900836466,\n 0.0048229173162120135,\n 0.003312379196294443,\n 0.005054818605468226,\n 0.01238949855055425,\n 0.005808778483701321,\n 0.008150400541376912,\n 0.00557094612013421,\n 0.00515772619469024,\n 0.00621987460869849,\n 0.006211506166678044,\n 0.008685896079581264,\n 0.006642719758475419,\n 0.0029441095118011955,\n 0.007659291823488652,\n 0.012247459856902235,\n 0.008304647624484816,\n 0.008401973495185584,\n 0.012291186054701465,\n 0.00637492993951318,\n 0.006323405559347296,\n 0.00894190580262298,\n 0.006606333833667493,\n 0.0064349478250475345,\n 0.006984090288304088,\n 0.006391297596990005,\n 0.005098604745278798,\n 0.0,\n 0.006553042361329014,\n 0.002822788087378784,\n 0.004774670011738993,\n 0.006631272484949235,\n 0.008463055836828687,\n 0.00682983141267781,\n 0.007004394391850826,\n 0.00940317034783277,\n 0.008166449278972674,\n 0.003298246655288244,\n 0.00303684587540879,\n 0.004913952505232969,\n 0.008417439390792153,\n 0.008374602294295028,\n 0.006456896384230315,\n 0.009277403944581297,\n 0.007419278224098169,\n 0.007219841549918049,\n 0.007049513245127302,\n 0.006979808247698824,\n 0.006804880679131229,\n 0.005497624233473991,\n 0.003915818374416974,\n 0.006663280951225481,\n 0.006695928902862422,\n 0.006243523181048056,\n 0.004587555299071142,\n 0.008271811894532511,\n 0.007917683654732902,\n 0.008357249297806532,\n 0.008662649469215234,\n 0.008896289610352867,\n 0.004590015694786308,\n -1.9441564107379036e-33,\n 0.003989716584846367,\n 0.00829421070770123,\n 0.01785217224738985,\n 0.010832143221364115,\n 0.010668156944983093,\n 0.007667843937205885,\n 0.0029287706059668126,\n 0.010789519178518194,\n 0.011059271141524862,\n 0.01054149899861391,\n 0.012545450425928683,\n 0.0014901186355980416,\n 0.0026943865378614338,\n 0.009082373383568708,\n 0.012267622746446983,\n 0.011058744800472002,\n 0.009204176618324202,\n 0.00740437205327417,\n 0.01418813166659835,\n 0.0119134768391129,\n 0.01196905072597821,\n 0.01210299834232878,\n 0.01288089546032513,\n 0.0040869832372329926,\n 0.007433792639241101,\n 0.014467010969617472,\n 0.016624958860112737,\n 0.004051374474760336,\n 0.00948625138198943,\n 0.014320277805840822,\n 0.011453983681140515,\n 0.011352671910190699,\n 0.011181883985172742,\n 0.011240782772433214,\n 0.009030433054567657,\n 0.0,\n 0.014172634528053465,\n 0.007890006942797796,\n 0.010808069708999524,\n 0.008183256109119129,\n 0.009762464337838667,\n 0.010684882636405463,\n 0.009382076843445466,\n 0.01013910313609201,\n 0.010633235442310816,\n 0.011435209074189679,\n 0.008666928100169976,\n 0.008139369239133599,\n 0.006473477052330956,\n 0.010981688427448944,\n 0.012406426512630447,\n 0.011533248156916504,\n 0.007809615868793539,\n 0.010430459835219058,\n 0.010468676654797284,\n 0.010352776122796758,\n 0.0101914095888662,\n 0.01004651593688157,\n 0.012359972873361501,\n 0.014080666250703006,\n 0.003596862127327704,\n 0.002013099634801199,\n 0.011224639622823189,\n 0.009395846977917547,\n 0.010169487957204812,\n 0.004420827146092393,\n 0.008712120160421265,\n 0.01144658116899104,\n 0.011374187410624792,\n 0.011543860669414412,\n 0.0035603938540463807,\n 0.0,\n 0.00532315643742755,\n 0.010400666083635175,\n 0.01297516972010944,\n 0.002364029780673267,\n 0.012288319692726007,\n 0.013076445196064771,\n 0.009903729154166726,\n 0.009479905531720985,\n 0.010506317000657342,\n 0.010305541912320512,\n 0.014430759696104535,\n 0.0015321496446282048,\n 0.005745346681255806,\n 0.00952239268891914,\n 0.009344716340109792,\n 0.0117329998639041,\n 0.009394836460247812,\n 0.009104614288244805,\n 0.012302100119943054,\n 0.010111187103118426,\n 0.010232921437813758,\n 0.010639832294456015,\n 0.011019202083725057,\n 0.0026144660612449837,\n 0.005912435528696772,\n 0.01259956541200607,\n 0.012290725588165333,\n 0.010833563600931228,\n 0.01175405728755496,\n 0.010708458291848352,\n 0.010332195158930664,\n 0.01022404321642539,\n 0.01012283444048373,\n 0.009747491087201398,\n 0.008388626878413814,\n 0.005117662118877827,\n 0.0018858130501063222,\n 0.013889415458030236,\n 0.00906120899980829,\n 0.004795215477219918,\n 0.011739896601236536,\n 0.012953382194908547,\n 0.011370599090558133,\n 0.011658377874383752,\n 0.011896012483731037,\n 0.012174271570776312,\n 0.013510004750492638,\n 0.004908820738840212,\n 0.006247984296377863,\n 0.013948428137192638,\n 0.0062672127788283615,\n 0.010479634683835925,\n 0.0,\n 0.013602520303997627,\n 0.017497265091289457,\n 0.017217540456084594,\n 0.015554423427751905,\n 0.01363570944180859,\n 0.013338331328955462,\n 0.016282878296627615,\n 0.003114338671105433,\n 0.0,\n 0.009617031071456962,\n 0.010037552644396756,\n 0.012276780557732441,\n 0.007829120037347368,\n 0.012874576705978363,\n 0.01308391240303266,\n 0.01320136036702789,\n 0.01337383754632666,\n 0.013800512799620161,\n 0.012418052017577527,\n 0.013342922493964286,\n 0.013555395146494202,\n 0.003576446227520328,\n 0.013675722013514656,\n 0.014828282820572372,\n 0.01178815668394719,\n 0.011598363087511951,\n 0.011301961078217886,\n 0.011236851470361731,\n 0.010798527128301488,\n 0.014924711150421288,\n 0.01056369518371667,\n 0.008959475127195377,\n 0.009721436578974306,\n 0.007526391027133854,\n 0.007738490777426962,\n 0.005281572646380489,\n 0.010241489908201055,\n 0.01163796873315035,\n 0.011441832453542028,\n 0.011425792768258626,\n 0.01164680042215497,\n 0.010690248023354866,\n 0.0017068874580240753,\n 0.009612688916126386,\n 0.008632835258287164,\n 0.013578115575631862,\n 0.010403626889061442,\n 0.008479762759405787,\n 0.01572956744505636,\n 0.012642624587837898,\n 0.01295325331708332,\n 0.01254292718235662,\n 0.011933891172705923,\n ...]"
     },
     "execution_count": 23,
     "metadata": {},
     "output_type": "execute_result"
    }
   ],
   "source": [
    "with open('c:/arxius/total_ele.json', 'r') as file:\n",
    "    P_ele = json.load(file)\n",
    "P_ele"
   ],
   "metadata": {
    "collapsed": false,
    "ExecuteTime": {
     "end_time": "2023-10-18T09:47:29.810617400Z",
     "start_time": "2023-10-18T09:47:29.776179900Z"
    }
   },
   "id": "9840c8f2b3b0c115"
  },
  {
   "cell_type": "code",
   "execution_count": 25,
   "outputs": [
    {
     "data": {
      "text/plain": "8760"
     },
     "execution_count": 25,
     "metadata": {},
     "output_type": "execute_result"
    }
   ],
   "source": [
    "len(P_ele)"
   ],
   "metadata": {
    "collapsed": false,
    "ExecuteTime": {
     "end_time": "2023-10-18T09:47:48.355407200Z",
     "start_time": "2023-10-18T09:47:48.315404900Z"
    }
   },
   "id": "a9bce9011926a640"
  },
  {
   "cell_type": "code",
   "execution_count": 71,
   "outputs": [
    {
     "data": {
      "text/plain": "                          Med\n2021-01-01 00:00:00  0.000000\n2021-01-01 01:00:00  0.272811\n2021-01-01 02:00:00  0.308550\n2021-01-01 03:00:00  0.309518\n2021-01-01 04:00:00  0.314789\n...                       ...\n2021-12-31 19:00:00  0.639764\n2021-12-31 20:00:00  0.630767\n2021-12-31 21:00:00  0.814134\n2021-12-31 22:00:00  0.840346\n2021-12-31 23:00:00  0.674202\n\n[8760 rows x 1 columns]",
      "text/html": "<div>\n<style scoped>\n    .dataframe tbody tr th:only-of-type {\n        vertical-align: middle;\n    }\n\n    .dataframe tbody tr th {\n        vertical-align: top;\n    }\n\n    .dataframe thead th {\n        text-align: right;\n    }\n</style>\n<table border=\"1\" class=\"dataframe\">\n  <thead>\n    <tr style=\"text-align: right;\">\n      <th></th>\n      <th>Med</th>\n    </tr>\n  </thead>\n  <tbody>\n    <tr>\n      <th>2021-01-01 00:00:00</th>\n      <td>0.000000</td>\n    </tr>\n    <tr>\n      <th>2021-01-01 01:00:00</th>\n      <td>0.272811</td>\n    </tr>\n    <tr>\n      <th>2021-01-01 02:00:00</th>\n      <td>0.308550</td>\n    </tr>\n    <tr>\n      <th>2021-01-01 03:00:00</th>\n      <td>0.309518</td>\n    </tr>\n    <tr>\n      <th>2021-01-01 04:00:00</th>\n      <td>0.314789</td>\n    </tr>\n    <tr>\n      <th>...</th>\n      <td>...</td>\n    </tr>\n    <tr>\n      <th>2021-12-31 19:00:00</th>\n      <td>0.639764</td>\n    </tr>\n    <tr>\n      <th>2021-12-31 20:00:00</th>\n      <td>0.630767</td>\n    </tr>\n    <tr>\n      <th>2021-12-31 21:00:00</th>\n      <td>0.814134</td>\n    </tr>\n    <tr>\n      <th>2021-12-31 22:00:00</th>\n      <td>0.840346</td>\n    </tr>\n    <tr>\n      <th>2021-12-31 23:00:00</th>\n      <td>0.674202</td>\n    </tr>\n  </tbody>\n</table>\n<p>8760 rows × 1 columns</p>\n</div>"
     },
     "execution_count": 71,
     "metadata": {},
     "output_type": "execute_result"
    }
   ],
   "source": [
    "for i in rango_horas:\n",
    "    count = count + 1\n",
    "    data_out.at[i,'Med'] = P_ele[count]*90\n",
    "data_out"
   ],
   "metadata": {
    "collapsed": false,
    "ExecuteTime": {
     "end_time": "2023-10-11T10:05:38.461735100Z",
     "start_time": "2023-10-11T10:05:38.091646Z"
    }
   },
   "id": "15e650536271298f"
  },
  {
   "cell_type": "code",
   "execution_count": 72,
   "outputs": [],
   "source": [
    "dr_cons = data_out\n",
    "n_buildings = 1\n",
    "ds_FV = df_PV_total.loc[:,['Pv_base']]"
   ],
   "metadata": {
    "collapsed": false,
    "ExecuteTime": {
     "end_time": "2023-10-11T10:09:59.590803Z",
     "start_time": "2023-10-11T10:09:59.565251400Z"
    }
   },
   "id": "23e4db0180ca4835"
  },
  {
   "cell_type": "code",
   "execution_count": 76,
   "outputs": [],
   "source": [
    "ds_FV['Med_cp'] = dr_cons['Med'] * n_buildings\n",
    "ds_FV['Sc'] = [min(x) for x in (zip(ds_FV.Pv_base, ds_FV.Med_cp))]\n",
    "ds_FV['Dt'] = ds_FV['Med_cp'] - ds_FV['Sc']\n",
    "ds_FV['Et'] = ds_FV['Pv_base'] - ds_FV['Sc']  # CP\n",
    "ds_FV['Net'] = ds_FV['Dt'] - ds_FV['Et']  # CP"
   ],
   "metadata": {
    "collapsed": false,
    "ExecuteTime": {
     "end_time": "2023-10-11T10:22:29.167633800Z",
     "start_time": "2023-10-11T10:22:29.140427300Z"
    }
   },
   "id": "95e8072d300eb0d0"
  },
  {
   "cell_type": "code",
   "execution_count": 77,
   "outputs": [
    {
     "data": {
      "text/plain": "                     Pv_base    Med_cp   Sc        Dt   Et       Net\n2021-01-01 00:00:00      0.0  0.000000  0.0  0.000000  0.0  0.000000\n2021-01-01 01:00:00      0.0  0.272811  0.0  0.272811  0.0  0.272811\n2021-01-01 02:00:00      0.0  0.308550  0.0  0.308550  0.0  0.308550\n2021-01-01 03:00:00      0.0  0.309518  0.0  0.309518  0.0  0.309518\n2021-01-01 04:00:00      0.0  0.314789  0.0  0.314789  0.0  0.314789\n...                      ...       ...  ...       ...  ...       ...\n2021-12-31 19:00:00      0.0  0.639764  0.0  0.639764  0.0  0.639764\n2021-12-31 20:00:00      0.0  0.630767  0.0  0.630767  0.0  0.630767\n2021-12-31 21:00:00      0.0  0.814134  0.0  0.814134  0.0  0.814134\n2021-12-31 22:00:00      0.0  0.840346  0.0  0.840346  0.0  0.840346\n2021-12-31 23:00:00      0.0  0.674202  0.0  0.674202  0.0  0.674202\n\n[8760 rows x 6 columns]",
      "text/html": "<div>\n<style scoped>\n    .dataframe tbody tr th:only-of-type {\n        vertical-align: middle;\n    }\n\n    .dataframe tbody tr th {\n        vertical-align: top;\n    }\n\n    .dataframe thead th {\n        text-align: right;\n    }\n</style>\n<table border=\"1\" class=\"dataframe\">\n  <thead>\n    <tr style=\"text-align: right;\">\n      <th></th>\n      <th>Pv_base</th>\n      <th>Med_cp</th>\n      <th>Sc</th>\n      <th>Dt</th>\n      <th>Et</th>\n      <th>Net</th>\n    </tr>\n  </thead>\n  <tbody>\n    <tr>\n      <th>2021-01-01 00:00:00</th>\n      <td>0.0</td>\n      <td>0.000000</td>\n      <td>0.0</td>\n      <td>0.000000</td>\n      <td>0.0</td>\n      <td>0.000000</td>\n    </tr>\n    <tr>\n      <th>2021-01-01 01:00:00</th>\n      <td>0.0</td>\n      <td>0.272811</td>\n      <td>0.0</td>\n      <td>0.272811</td>\n      <td>0.0</td>\n      <td>0.272811</td>\n    </tr>\n    <tr>\n      <th>2021-01-01 02:00:00</th>\n      <td>0.0</td>\n      <td>0.308550</td>\n      <td>0.0</td>\n      <td>0.308550</td>\n      <td>0.0</td>\n      <td>0.308550</td>\n    </tr>\n    <tr>\n      <th>2021-01-01 03:00:00</th>\n      <td>0.0</td>\n      <td>0.309518</td>\n      <td>0.0</td>\n      <td>0.309518</td>\n      <td>0.0</td>\n      <td>0.309518</td>\n    </tr>\n    <tr>\n      <th>2021-01-01 04:00:00</th>\n      <td>0.0</td>\n      <td>0.314789</td>\n      <td>0.0</td>\n      <td>0.314789</td>\n      <td>0.0</td>\n      <td>0.314789</td>\n    </tr>\n    <tr>\n      <th>...</th>\n      <td>...</td>\n      <td>...</td>\n      <td>...</td>\n      <td>...</td>\n      <td>...</td>\n      <td>...</td>\n    </tr>\n    <tr>\n      <th>2021-12-31 19:00:00</th>\n      <td>0.0</td>\n      <td>0.639764</td>\n      <td>0.0</td>\n      <td>0.639764</td>\n      <td>0.0</td>\n      <td>0.639764</td>\n    </tr>\n    <tr>\n      <th>2021-12-31 20:00:00</th>\n      <td>0.0</td>\n      <td>0.630767</td>\n      <td>0.0</td>\n      <td>0.630767</td>\n      <td>0.0</td>\n      <td>0.630767</td>\n    </tr>\n    <tr>\n      <th>2021-12-31 21:00:00</th>\n      <td>0.0</td>\n      <td>0.814134</td>\n      <td>0.0</td>\n      <td>0.814134</td>\n      <td>0.0</td>\n      <td>0.814134</td>\n    </tr>\n    <tr>\n      <th>2021-12-31 22:00:00</th>\n      <td>0.0</td>\n      <td>0.840346</td>\n      <td>0.0</td>\n      <td>0.840346</td>\n      <td>0.0</td>\n      <td>0.840346</td>\n    </tr>\n    <tr>\n      <th>2021-12-31 23:00:00</th>\n      <td>0.0</td>\n      <td>0.674202</td>\n      <td>0.0</td>\n      <td>0.674202</td>\n      <td>0.0</td>\n      <td>0.674202</td>\n    </tr>\n  </tbody>\n</table>\n<p>8760 rows × 6 columns</p>\n</div>"
     },
     "execution_count": 77,
     "metadata": {},
     "output_type": "execute_result"
    }
   ],
   "source": [
    "ds_FV"
   ],
   "metadata": {
    "collapsed": false,
    "ExecuteTime": {
     "end_time": "2023-10-11T10:22:35.057737700Z",
     "start_time": "2023-10-11T10:22:34.982602200Z"
    }
   },
   "id": "21e318c63942be4f"
  },
  {
   "cell_type": "code",
   "execution_count": 78,
   "outputs": [],
   "source": [
    "if ds_FV.Med_cp.sum() !=0:\n",
    "    LoCov = (ds_FV.Sc.sum() / ds_FV.Med_cp.sum()) * 100  # CP\n",
    "else:\n",
    "    LoCov = 0\n",
    "        "
   ],
   "metadata": {
    "collapsed": false,
    "ExecuteTime": {
     "end_time": "2023-10-11T10:23:39.109517900Z",
     "start_time": "2023-10-11T10:23:39.024406900Z"
    }
   },
   "id": "c94ea92eb24d105b"
  },
  {
   "cell_type": "code",
   "execution_count": 79,
   "outputs": [
    {
     "data": {
      "text/plain": "35.0762382408007"
     },
     "execution_count": 79,
     "metadata": {},
     "output_type": "execute_result"
    }
   ],
   "source": [
    "LoCov"
   ],
   "metadata": {
    "collapsed": false,
    "ExecuteTime": {
     "end_time": "2023-10-11T10:23:45.631027400Z",
     "start_time": "2023-10-11T10:23:45.542170500Z"
    }
   },
   "id": "147794737ed0415f"
  },
  {
   "cell_type": "code",
   "execution_count": 80,
   "outputs": [
    {
     "data": {
      "text/plain": "11.278354456993974"
     },
     "execution_count": 80,
     "metadata": {},
     "output_type": "execute_result"
    }
   ],
   "source": [
    "# resultat final\n",
    "ds_FV['Sc'].sum()/90\n",
    " "
   ],
   "metadata": {
    "collapsed": false,
    "ExecuteTime": {
     "end_time": "2023-10-11T10:24:49.187210300Z",
     "start_time": "2023-10-11T10:24:49.159619Z"
    }
   },
   "id": "8881044a519fae2b"
  },
  {
   "cell_type": "code",
   "execution_count": null,
   "outputs": [],
   "source": [],
   "metadata": {
    "collapsed": false
   },
   "id": "d2f2de6623cc6abc"
  }
 ],
 "metadata": {
  "kernelspec": {
   "display_name": "Python 3",
   "language": "python",
   "name": "python3"
  },
  "language_info": {
   "codemirror_mode": {
    "name": "ipython",
    "version": 2
   },
   "file_extension": ".py",
   "mimetype": "text/x-python",
   "name": "python",
   "nbconvert_exporter": "python",
   "pygments_lexer": "ipython2",
   "version": "2.7.6"
  }
 },
 "nbformat": 4,
 "nbformat_minor": 5
}
