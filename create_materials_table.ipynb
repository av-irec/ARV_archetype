{
 "cells": [
  {
   "cell_type": "code",
   "execution_count": 33,
   "id": "initial_id",
   "metadata": {
    "collapsed": true,
    "ExecuteTime": {
     "end_time": "2023-10-24T15:17:38.807794600Z",
     "start_time": "2023-10-24T15:17:35.972421100Z"
    }
   },
   "outputs": [],
   "source": [
    "import pandas as pd\n",
    "from sqlalchemy import create_engine\n",
    "from urllib.parse import quote_plus\n",
    "\n",
    "db_params = {'user' : 'postgres',\n",
    "'password' : 'GeoTerm2023@@',\n",
    "'host' : '172.16.27.100' , # Usually 'localhost' if the database is running on your local machine\n",
    "'port' : '5432',  # The default port for PostgreSQL is 5432\n",
    "'database' : 'ARV_district_buildings'}\n",
    "\n",
    "quoted_password = quote_plus(db_params['password'])\n",
    "# Construct the SQLAlchemy connection string\n",
    "db_connection_string = f\"postgresql://{db_params['user']}:{quoted_password}@{db_params['host']}:{db_params['port']}/{db_params['database']}\"\n",
    "\n",
    "engine = create_engine(db_connection_string)"
   ]
  },
  {
   "cell_type": "code",
   "execution_count": 68,
   "outputs": [
    {
     "data": {
      "text/plain": "    Convecional/Eco  Opción Espesor (W)  \\\n1               2.0     1.0          W6   \n2               2.0     1.0          W8   \n3               2.0     2.0          W6   \n4               2.0     2.0          W8   \n5               1.0     1.0          W8   \n6               1.0     2.0          W8   \n1               2.0     1.0          W6   \n2               2.0     1.0          W8   \n3               1.0     1.0          W8   \n1               1.0     1.0          W6   \n2               1.0     1.0          W8   \n3               1.0     1.0         W10   \n4               1.0     1.0         W12   \n5               1.0     1.0         W14   \n6               2.0     1.0          W6   \n7               2.0     1.0          W8   \n8               2.0     1.0         W10   \n9               2.0     1.0         W12   \n1               1.0     1.0          W6   \n2               1.0     1.0          W8   \n3               1.0     1.0         W10   \n4               1.0     1.0         W12   \n5               1.0     1.0         W14   \n6               2.0     1.0          W6   \n7               2.0     1.0          W8   \n8               2.0     1.0         W10   \n9               2.0     1.0         W12   \n10              1.0     2.0          W8   \n\n                   REHABILITACIÓN ENERGÉTICA FACHADAS  Espesor (mm)  \\\n1   SATE (ETICS) con MORTERO AISLANTE DE CAL (2x30...          60.0   \n2   SATE (ETICS) con MORTERO AISLANTE DE CAL (2x40...          80.0   \n3   SATE (ETICS) con MORTERO AISLANTE DE CAL (2x30...          60.0   \n4   SATE (ETICS) con MORTERO AISLANTE DE CAL (2x40...          80.0   \n5   AISLAMIENTO INTERIOR LANA DE ROCA+TRASDOS CART...          80.0   \n6   AISLAMIENTO INTERIOR LANA DE ROCA+TRASDOS CART...          80.0   \n1   SATE (ETICS) con MORTERO AISLANTE DE CAL (2x30...          60.0   \n2   SATE (ETICS) con MORTERO AISLANTE DE CAL (2x40...          80.0   \n3   AISLAMIENTO INTERIOR LANA DE ROCA+TRASDOS CART...          80.0   \n1   SATE (ETICS) con Poliestirero expandido (EPS) ...          60.0   \n2   SATE (ETICS) con Poliestirero expandido (EPS) ...          80.0   \n3   SATE (ETICS) con Poliestirero expandido (EPS) ...         100.0   \n4   SATE (ETICS) con Poliestirero expandido (EPS) ...         120.0   \n5   SATE (ETICS) con Poliestirero expandido (EPS) ...         140.0   \n6   SATE (ETICS) con Poliestireno expandido grafit...          60.0   \n7   SATE (ETICS) con Poliestireno expandido grafit...          80.0   \n8   SATE (ETICS) con Poliestireno expandido grafit...         100.0   \n9   SATE (ETICS) con Poliestireno expandido grafit...         120.0   \n1   SATE (ETICS) con Poliestirero expandido (EPS) ...          60.0   \n2   SATE (ETICS) con Poliestirero expandido (EPS) ...          80.0   \n3   SATE (ETICS) con Poliestirero expandido (EPS) ...         100.0   \n4   SATE (ETICS) con Poliestirero expandido (EPS) ...         120.0   \n5   SATE (ETICS) con Poliestirero expandido (EPS) ...         140.0   \n6   SATE (ETICS) con Poliestireno expandido grafit...          60.0   \n7   SATE (ETICS) con Poliestireno expandido grafit...          80.0   \n8   SATE (ETICS) con Poliestireno expandido grafit...         100.0   \n9   SATE (ETICS) con Poliestireno expandido grafit...         120.0   \n10  AISLAMIENTO INTERIOR LANA DE ROCA+TRASDOS CART...          80.0   \n\n    Cost instal·lat (€/m2)  A1-A2-A3     A4     A5   Total  A1-A2-A3.1  \\\n1                  137.540     7.580  0.907  0.023   8.510      82.460   \n2                  154.629     8.562  1.042  0.023   9.627      91.859   \n3                  137.540     7.580  0.907  0.023   8.510      82.460   \n4                  154.629     8.562  1.042  0.023   9.627      91.859   \n5                   92.736    16.874  1.262  0.016  18.152     619.187   \n6                   92.736    16.874  1.262  0.016  18.152     619.187   \n1                  137.540     7.580  0.907  0.023   8.510      82.460   \n2                  154.629     8.562  1.042  0.023   9.627      91.859   \n3                   92.736    16.874  1.262  0.016  18.152     619.187   \n1                   79.570    10.197  0.652  0.027  10.876     192.396   \n2                   83.310    11.851  0.810  0.027  12.688     234.056   \n3                   87.550    13.536  0.969  0.027  14.532     276.043   \n4                   91.010    15.181  1.127  0.027  16.335     317.520   \n5                   93.420    16.824  1.285  0.027  18.136     358.893   \n6                   81.980     9.042  0.652  0.027   9.721     141.583   \n7                   86.060    10.320  0.810  0.027  11.157     166.458   \n8                   90.060    11.613  0.969  0.027  12.609     191.385   \n9                   94.032    12.862  1.127  0.027  14.016     215.712   \n1                   79.570    10.197  0.652  0.027  10.876     192.396   \n2                   83.310    11.851  0.810  0.027  12.688     234.056   \n3                   87.550    13.536  0.969  0.027  14.532     276.043   \n4                   91.010    15.181  1.127  0.027  16.335     317.520   \n5                   93.420    16.824  1.285  0.027  18.136     358.893   \n6                   81.980     9.042  0.652  0.027   9.721     141.583   \n7                   86.060    10.320  0.810  0.027  11.157     166.458   \n8                   90.060    11.613  0.969  0.027  12.609     191.385   \n9                   94.032    12.862  1.127  0.027  14.016     215.712   \n10                  92.736    16.874  1.262  0.016  18.152     619.187   \n\n      A4.1   A5.1  Total.1  EXT_WALL_MARES_REHAB1  EXT_WALL_MARES_REHAB2  \\\n1   12.260  0.160   94.880                    1.0                    0.0   \n2   14.085  0.159  106.103                    1.0                    0.0   \n3   12.260  0.160   94.880                    1.0                    0.0   \n4   14.085  0.159  106.103                    1.0                    0.0   \n5   17.050  0.113  636.350                    0.0                    1.0   \n6   17.050  0.113  636.350                    0.0                    1.0   \n1   12.260  0.160   94.880                    1.0                    0.0   \n2   14.085  0.159  106.103                    1.0                    0.0   \n3   17.050  0.113  636.350                    0.0                    1.0   \n1    8.812  0.184  201.392                    1.0                    0.0   \n2   10.949  0.184  245.189                    1.0                    0.0   \n3   13.088  0.184  289.315                    1.0                    0.0   \n4   15.225  0.184  332.929                    1.0                    0.0   \n5   17.362  0.184  376.439                    1.0                    0.0   \n6    8.813  0.184  150.580                    0.0                    1.0   \n7   10.950  0.184  177.592                    0.0                    1.0   \n8   13.088  0.184  204.657                    0.0                    1.0   \n9   15.225  0.184  231.121                    0.0                    1.0   \n1    8.812  0.184  201.392                    NaN                    NaN   \n2   10.949  0.184  245.189                    NaN                    NaN   \n3   13.088  0.184  289.315                    NaN                    NaN   \n4   15.225  0.184  332.929                    NaN                    NaN   \n5   17.362  0.184  376.439                    NaN                    NaN   \n6    8.813  0.184  150.580                    NaN                    NaN   \n7   10.950  0.184  177.592                    NaN                    NaN   \n8   13.088  0.184  204.657                    NaN                    NaN   \n9   15.225  0.184  231.121                    NaN                    NaN   \n10  17.050  0.113  636.350                    NaN                    NaN   \n\n    ARQUETIPO  PMEB_PGMUR15_REHAB1  PMEB_PGMUR15_REHAB2  PMEB_PGMUR15_REHAB3  \n1        FE35                  NaN                  NaN                  NaN  \n2        FE35                  NaN                  NaN                  NaN  \n3        FE35                  NaN                  NaN                  NaN  \n4        FE35                  NaN                  NaN                  NaN  \n5        FE35                  NaN                  NaN                  NaN  \n6        FE35                  NaN                  NaN                  NaN  \n1   SIQUIER20                  NaN                  NaN                  NaN  \n2   SIQUIER20                  NaN                  NaN                  NaN  \n3   SIQUIER20                  NaN                  NaN                  NaN  \n1        FE36                  NaN                  NaN                  NaN  \n2        FE36                  NaN                  NaN                  NaN  \n3        FE36                  NaN                  NaN                  NaN  \n4        FE36                  NaN                  NaN                  NaN  \n5        FE36                  NaN                  NaN                  NaN  \n6        FE36                  NaN                  NaN                  NaN  \n7        FE36                  NaN                  NaN                  NaN  \n8        FE36                  NaN                  NaN                  NaN  \n9        FE36                  NaN                  NaN                  NaN  \n1    CARACAS1                  1.0                  0.0                  0.0  \n2    CARACAS1                  1.0                  0.0                  0.0  \n3    CARACAS1                  1.0                  0.0                  0.0  \n4    CARACAS1                  1.0                  0.0                  0.0  \n5    CARACAS1                  1.0                  0.0                  0.0  \n6    CARACAS1                  0.0                  1.0                  0.0  \n7    CARACAS1                  0.0                  1.0                  0.0  \n8    CARACAS1                  0.0                  1.0                  0.0  \n9    CARACAS1                  0.0                  1.0                  0.0  \n10   CARACAS1                  0.0                  0.0                  1.0  ",
      "text/html": "<div>\n<style scoped>\n    .dataframe tbody tr th:only-of-type {\n        vertical-align: middle;\n    }\n\n    .dataframe tbody tr th {\n        vertical-align: top;\n    }\n\n    .dataframe thead th {\n        text-align: right;\n    }\n</style>\n<table border=\"1\" class=\"dataframe\">\n  <thead>\n    <tr style=\"text-align: right;\">\n      <th></th>\n      <th>Convecional/Eco</th>\n      <th>Opción</th>\n      <th>Espesor (W)</th>\n      <th>REHABILITACIÓN ENERGÉTICA FACHADAS</th>\n      <th>Espesor (mm)</th>\n      <th>Cost instal·lat (€/m2)</th>\n      <th>A1-A2-A3</th>\n      <th>A4</th>\n      <th>A5</th>\n      <th>Total</th>\n      <th>A1-A2-A3.1</th>\n      <th>A4.1</th>\n      <th>A5.1</th>\n      <th>Total.1</th>\n      <th>EXT_WALL_MARES_REHAB1</th>\n      <th>EXT_WALL_MARES_REHAB2</th>\n      <th>ARQUETIPO</th>\n      <th>PMEB_PGMUR15_REHAB1</th>\n      <th>PMEB_PGMUR15_REHAB2</th>\n      <th>PMEB_PGMUR15_REHAB3</th>\n    </tr>\n  </thead>\n  <tbody>\n    <tr>\n      <th>1</th>\n      <td>2.0</td>\n      <td>1.0</td>\n      <td>W6</td>\n      <td>SATE (ETICS) con MORTERO AISLANTE DE CAL (2x30...</td>\n      <td>60.0</td>\n      <td>137.540</td>\n      <td>7.580</td>\n      <td>0.907</td>\n      <td>0.023</td>\n      <td>8.510</td>\n      <td>82.460</td>\n      <td>12.260</td>\n      <td>0.160</td>\n      <td>94.880</td>\n      <td>1.0</td>\n      <td>0.0</td>\n      <td>FE35</td>\n      <td>NaN</td>\n      <td>NaN</td>\n      <td>NaN</td>\n    </tr>\n    <tr>\n      <th>2</th>\n      <td>2.0</td>\n      <td>1.0</td>\n      <td>W8</td>\n      <td>SATE (ETICS) con MORTERO AISLANTE DE CAL (2x40...</td>\n      <td>80.0</td>\n      <td>154.629</td>\n      <td>8.562</td>\n      <td>1.042</td>\n      <td>0.023</td>\n      <td>9.627</td>\n      <td>91.859</td>\n      <td>14.085</td>\n      <td>0.159</td>\n      <td>106.103</td>\n      <td>1.0</td>\n      <td>0.0</td>\n      <td>FE35</td>\n      <td>NaN</td>\n      <td>NaN</td>\n      <td>NaN</td>\n    </tr>\n    <tr>\n      <th>3</th>\n      <td>2.0</td>\n      <td>2.0</td>\n      <td>W6</td>\n      <td>SATE (ETICS) con MORTERO AISLANTE DE CAL (2x30...</td>\n      <td>60.0</td>\n      <td>137.540</td>\n      <td>7.580</td>\n      <td>0.907</td>\n      <td>0.023</td>\n      <td>8.510</td>\n      <td>82.460</td>\n      <td>12.260</td>\n      <td>0.160</td>\n      <td>94.880</td>\n      <td>1.0</td>\n      <td>0.0</td>\n      <td>FE35</td>\n      <td>NaN</td>\n      <td>NaN</td>\n      <td>NaN</td>\n    </tr>\n    <tr>\n      <th>4</th>\n      <td>2.0</td>\n      <td>2.0</td>\n      <td>W8</td>\n      <td>SATE (ETICS) con MORTERO AISLANTE DE CAL (2x40...</td>\n      <td>80.0</td>\n      <td>154.629</td>\n      <td>8.562</td>\n      <td>1.042</td>\n      <td>0.023</td>\n      <td>9.627</td>\n      <td>91.859</td>\n      <td>14.085</td>\n      <td>0.159</td>\n      <td>106.103</td>\n      <td>1.0</td>\n      <td>0.0</td>\n      <td>FE35</td>\n      <td>NaN</td>\n      <td>NaN</td>\n      <td>NaN</td>\n    </tr>\n    <tr>\n      <th>5</th>\n      <td>1.0</td>\n      <td>1.0</td>\n      <td>W8</td>\n      <td>AISLAMIENTO INTERIOR LANA DE ROCA+TRASDOS CART...</td>\n      <td>80.0</td>\n      <td>92.736</td>\n      <td>16.874</td>\n      <td>1.262</td>\n      <td>0.016</td>\n      <td>18.152</td>\n      <td>619.187</td>\n      <td>17.050</td>\n      <td>0.113</td>\n      <td>636.350</td>\n      <td>0.0</td>\n      <td>1.0</td>\n      <td>FE35</td>\n      <td>NaN</td>\n      <td>NaN</td>\n      <td>NaN</td>\n    </tr>\n    <tr>\n      <th>6</th>\n      <td>1.0</td>\n      <td>2.0</td>\n      <td>W8</td>\n      <td>AISLAMIENTO INTERIOR LANA DE ROCA+TRASDOS CART...</td>\n      <td>80.0</td>\n      <td>92.736</td>\n      <td>16.874</td>\n      <td>1.262</td>\n      <td>0.016</td>\n      <td>18.152</td>\n      <td>619.187</td>\n      <td>17.050</td>\n      <td>0.113</td>\n      <td>636.350</td>\n      <td>0.0</td>\n      <td>1.0</td>\n      <td>FE35</td>\n      <td>NaN</td>\n      <td>NaN</td>\n      <td>NaN</td>\n    </tr>\n    <tr>\n      <th>1</th>\n      <td>2.0</td>\n      <td>1.0</td>\n      <td>W6</td>\n      <td>SATE (ETICS) con MORTERO AISLANTE DE CAL (2x30...</td>\n      <td>60.0</td>\n      <td>137.540</td>\n      <td>7.580</td>\n      <td>0.907</td>\n      <td>0.023</td>\n      <td>8.510</td>\n      <td>82.460</td>\n      <td>12.260</td>\n      <td>0.160</td>\n      <td>94.880</td>\n      <td>1.0</td>\n      <td>0.0</td>\n      <td>SIQUIER20</td>\n      <td>NaN</td>\n      <td>NaN</td>\n      <td>NaN</td>\n    </tr>\n    <tr>\n      <th>2</th>\n      <td>2.0</td>\n      <td>1.0</td>\n      <td>W8</td>\n      <td>SATE (ETICS) con MORTERO AISLANTE DE CAL (2x40...</td>\n      <td>80.0</td>\n      <td>154.629</td>\n      <td>8.562</td>\n      <td>1.042</td>\n      <td>0.023</td>\n      <td>9.627</td>\n      <td>91.859</td>\n      <td>14.085</td>\n      <td>0.159</td>\n      <td>106.103</td>\n      <td>1.0</td>\n      <td>0.0</td>\n      <td>SIQUIER20</td>\n      <td>NaN</td>\n      <td>NaN</td>\n      <td>NaN</td>\n    </tr>\n    <tr>\n      <th>3</th>\n      <td>1.0</td>\n      <td>1.0</td>\n      <td>W8</td>\n      <td>AISLAMIENTO INTERIOR LANA DE ROCA+TRASDOS CART...</td>\n      <td>80.0</td>\n      <td>92.736</td>\n      <td>16.874</td>\n      <td>1.262</td>\n      <td>0.016</td>\n      <td>18.152</td>\n      <td>619.187</td>\n      <td>17.050</td>\n      <td>0.113</td>\n      <td>636.350</td>\n      <td>0.0</td>\n      <td>1.0</td>\n      <td>SIQUIER20</td>\n      <td>NaN</td>\n      <td>NaN</td>\n      <td>NaN</td>\n    </tr>\n    <tr>\n      <th>1</th>\n      <td>1.0</td>\n      <td>1.0</td>\n      <td>W6</td>\n      <td>SATE (ETICS) con Poliestirero expandido (EPS) ...</td>\n      <td>60.0</td>\n      <td>79.570</td>\n      <td>10.197</td>\n      <td>0.652</td>\n      <td>0.027</td>\n      <td>10.876</td>\n      <td>192.396</td>\n      <td>8.812</td>\n      <td>0.184</td>\n      <td>201.392</td>\n      <td>1.0</td>\n      <td>0.0</td>\n      <td>FE36</td>\n      <td>NaN</td>\n      <td>NaN</td>\n      <td>NaN</td>\n    </tr>\n    <tr>\n      <th>2</th>\n      <td>1.0</td>\n      <td>1.0</td>\n      <td>W8</td>\n      <td>SATE (ETICS) con Poliestirero expandido (EPS) ...</td>\n      <td>80.0</td>\n      <td>83.310</td>\n      <td>11.851</td>\n      <td>0.810</td>\n      <td>0.027</td>\n      <td>12.688</td>\n      <td>234.056</td>\n      <td>10.949</td>\n      <td>0.184</td>\n      <td>245.189</td>\n      <td>1.0</td>\n      <td>0.0</td>\n      <td>FE36</td>\n      <td>NaN</td>\n      <td>NaN</td>\n      <td>NaN</td>\n    </tr>\n    <tr>\n      <th>3</th>\n      <td>1.0</td>\n      <td>1.0</td>\n      <td>W10</td>\n      <td>SATE (ETICS) con Poliestirero expandido (EPS) ...</td>\n      <td>100.0</td>\n      <td>87.550</td>\n      <td>13.536</td>\n      <td>0.969</td>\n      <td>0.027</td>\n      <td>14.532</td>\n      <td>276.043</td>\n      <td>13.088</td>\n      <td>0.184</td>\n      <td>289.315</td>\n      <td>1.0</td>\n      <td>0.0</td>\n      <td>FE36</td>\n      <td>NaN</td>\n      <td>NaN</td>\n      <td>NaN</td>\n    </tr>\n    <tr>\n      <th>4</th>\n      <td>1.0</td>\n      <td>1.0</td>\n      <td>W12</td>\n      <td>SATE (ETICS) con Poliestirero expandido (EPS) ...</td>\n      <td>120.0</td>\n      <td>91.010</td>\n      <td>15.181</td>\n      <td>1.127</td>\n      <td>0.027</td>\n      <td>16.335</td>\n      <td>317.520</td>\n      <td>15.225</td>\n      <td>0.184</td>\n      <td>332.929</td>\n      <td>1.0</td>\n      <td>0.0</td>\n      <td>FE36</td>\n      <td>NaN</td>\n      <td>NaN</td>\n      <td>NaN</td>\n    </tr>\n    <tr>\n      <th>5</th>\n      <td>1.0</td>\n      <td>1.0</td>\n      <td>W14</td>\n      <td>SATE (ETICS) con Poliestirero expandido (EPS) ...</td>\n      <td>140.0</td>\n      <td>93.420</td>\n      <td>16.824</td>\n      <td>1.285</td>\n      <td>0.027</td>\n      <td>18.136</td>\n      <td>358.893</td>\n      <td>17.362</td>\n      <td>0.184</td>\n      <td>376.439</td>\n      <td>1.0</td>\n      <td>0.0</td>\n      <td>FE36</td>\n      <td>NaN</td>\n      <td>NaN</td>\n      <td>NaN</td>\n    </tr>\n    <tr>\n      <th>6</th>\n      <td>2.0</td>\n      <td>1.0</td>\n      <td>W6</td>\n      <td>SATE (ETICS) con Poliestireno expandido grafit...</td>\n      <td>60.0</td>\n      <td>81.980</td>\n      <td>9.042</td>\n      <td>0.652</td>\n      <td>0.027</td>\n      <td>9.721</td>\n      <td>141.583</td>\n      <td>8.813</td>\n      <td>0.184</td>\n      <td>150.580</td>\n      <td>0.0</td>\n      <td>1.0</td>\n      <td>FE36</td>\n      <td>NaN</td>\n      <td>NaN</td>\n      <td>NaN</td>\n    </tr>\n    <tr>\n      <th>7</th>\n      <td>2.0</td>\n      <td>1.0</td>\n      <td>W8</td>\n      <td>SATE (ETICS) con Poliestireno expandido grafit...</td>\n      <td>80.0</td>\n      <td>86.060</td>\n      <td>10.320</td>\n      <td>0.810</td>\n      <td>0.027</td>\n      <td>11.157</td>\n      <td>166.458</td>\n      <td>10.950</td>\n      <td>0.184</td>\n      <td>177.592</td>\n      <td>0.0</td>\n      <td>1.0</td>\n      <td>FE36</td>\n      <td>NaN</td>\n      <td>NaN</td>\n      <td>NaN</td>\n    </tr>\n    <tr>\n      <th>8</th>\n      <td>2.0</td>\n      <td>1.0</td>\n      <td>W10</td>\n      <td>SATE (ETICS) con Poliestireno expandido grafit...</td>\n      <td>100.0</td>\n      <td>90.060</td>\n      <td>11.613</td>\n      <td>0.969</td>\n      <td>0.027</td>\n      <td>12.609</td>\n      <td>191.385</td>\n      <td>13.088</td>\n      <td>0.184</td>\n      <td>204.657</td>\n      <td>0.0</td>\n      <td>1.0</td>\n      <td>FE36</td>\n      <td>NaN</td>\n      <td>NaN</td>\n      <td>NaN</td>\n    </tr>\n    <tr>\n      <th>9</th>\n      <td>2.0</td>\n      <td>1.0</td>\n      <td>W12</td>\n      <td>SATE (ETICS) con Poliestireno expandido grafit...</td>\n      <td>120.0</td>\n      <td>94.032</td>\n      <td>12.862</td>\n      <td>1.127</td>\n      <td>0.027</td>\n      <td>14.016</td>\n      <td>215.712</td>\n      <td>15.225</td>\n      <td>0.184</td>\n      <td>231.121</td>\n      <td>0.0</td>\n      <td>1.0</td>\n      <td>FE36</td>\n      <td>NaN</td>\n      <td>NaN</td>\n      <td>NaN</td>\n    </tr>\n    <tr>\n      <th>1</th>\n      <td>1.0</td>\n      <td>1.0</td>\n      <td>W6</td>\n      <td>SATE (ETICS) con Poliestirero expandido (EPS) ...</td>\n      <td>60.0</td>\n      <td>79.570</td>\n      <td>10.197</td>\n      <td>0.652</td>\n      <td>0.027</td>\n      <td>10.876</td>\n      <td>192.396</td>\n      <td>8.812</td>\n      <td>0.184</td>\n      <td>201.392</td>\n      <td>NaN</td>\n      <td>NaN</td>\n      <td>CARACAS1</td>\n      <td>1.0</td>\n      <td>0.0</td>\n      <td>0.0</td>\n    </tr>\n    <tr>\n      <th>2</th>\n      <td>1.0</td>\n      <td>1.0</td>\n      <td>W8</td>\n      <td>SATE (ETICS) con Poliestirero expandido (EPS) ...</td>\n      <td>80.0</td>\n      <td>83.310</td>\n      <td>11.851</td>\n      <td>0.810</td>\n      <td>0.027</td>\n      <td>12.688</td>\n      <td>234.056</td>\n      <td>10.949</td>\n      <td>0.184</td>\n      <td>245.189</td>\n      <td>NaN</td>\n      <td>NaN</td>\n      <td>CARACAS1</td>\n      <td>1.0</td>\n      <td>0.0</td>\n      <td>0.0</td>\n    </tr>\n    <tr>\n      <th>3</th>\n      <td>1.0</td>\n      <td>1.0</td>\n      <td>W10</td>\n      <td>SATE (ETICS) con Poliestirero expandido (EPS) ...</td>\n      <td>100.0</td>\n      <td>87.550</td>\n      <td>13.536</td>\n      <td>0.969</td>\n      <td>0.027</td>\n      <td>14.532</td>\n      <td>276.043</td>\n      <td>13.088</td>\n      <td>0.184</td>\n      <td>289.315</td>\n      <td>NaN</td>\n      <td>NaN</td>\n      <td>CARACAS1</td>\n      <td>1.0</td>\n      <td>0.0</td>\n      <td>0.0</td>\n    </tr>\n    <tr>\n      <th>4</th>\n      <td>1.0</td>\n      <td>1.0</td>\n      <td>W12</td>\n      <td>SATE (ETICS) con Poliestirero expandido (EPS) ...</td>\n      <td>120.0</td>\n      <td>91.010</td>\n      <td>15.181</td>\n      <td>1.127</td>\n      <td>0.027</td>\n      <td>16.335</td>\n      <td>317.520</td>\n      <td>15.225</td>\n      <td>0.184</td>\n      <td>332.929</td>\n      <td>NaN</td>\n      <td>NaN</td>\n      <td>CARACAS1</td>\n      <td>1.0</td>\n      <td>0.0</td>\n      <td>0.0</td>\n    </tr>\n    <tr>\n      <th>5</th>\n      <td>1.0</td>\n      <td>1.0</td>\n      <td>W14</td>\n      <td>SATE (ETICS) con Poliestirero expandido (EPS) ...</td>\n      <td>140.0</td>\n      <td>93.420</td>\n      <td>16.824</td>\n      <td>1.285</td>\n      <td>0.027</td>\n      <td>18.136</td>\n      <td>358.893</td>\n      <td>17.362</td>\n      <td>0.184</td>\n      <td>376.439</td>\n      <td>NaN</td>\n      <td>NaN</td>\n      <td>CARACAS1</td>\n      <td>1.0</td>\n      <td>0.0</td>\n      <td>0.0</td>\n    </tr>\n    <tr>\n      <th>6</th>\n      <td>2.0</td>\n      <td>1.0</td>\n      <td>W6</td>\n      <td>SATE (ETICS) con Poliestireno expandido grafit...</td>\n      <td>60.0</td>\n      <td>81.980</td>\n      <td>9.042</td>\n      <td>0.652</td>\n      <td>0.027</td>\n      <td>9.721</td>\n      <td>141.583</td>\n      <td>8.813</td>\n      <td>0.184</td>\n      <td>150.580</td>\n      <td>NaN</td>\n      <td>NaN</td>\n      <td>CARACAS1</td>\n      <td>0.0</td>\n      <td>1.0</td>\n      <td>0.0</td>\n    </tr>\n    <tr>\n      <th>7</th>\n      <td>2.0</td>\n      <td>1.0</td>\n      <td>W8</td>\n      <td>SATE (ETICS) con Poliestireno expandido grafit...</td>\n      <td>80.0</td>\n      <td>86.060</td>\n      <td>10.320</td>\n      <td>0.810</td>\n      <td>0.027</td>\n      <td>11.157</td>\n      <td>166.458</td>\n      <td>10.950</td>\n      <td>0.184</td>\n      <td>177.592</td>\n      <td>NaN</td>\n      <td>NaN</td>\n      <td>CARACAS1</td>\n      <td>0.0</td>\n      <td>1.0</td>\n      <td>0.0</td>\n    </tr>\n    <tr>\n      <th>8</th>\n      <td>2.0</td>\n      <td>1.0</td>\n      <td>W10</td>\n      <td>SATE (ETICS) con Poliestireno expandido grafit...</td>\n      <td>100.0</td>\n      <td>90.060</td>\n      <td>11.613</td>\n      <td>0.969</td>\n      <td>0.027</td>\n      <td>12.609</td>\n      <td>191.385</td>\n      <td>13.088</td>\n      <td>0.184</td>\n      <td>204.657</td>\n      <td>NaN</td>\n      <td>NaN</td>\n      <td>CARACAS1</td>\n      <td>0.0</td>\n      <td>1.0</td>\n      <td>0.0</td>\n    </tr>\n    <tr>\n      <th>9</th>\n      <td>2.0</td>\n      <td>1.0</td>\n      <td>W12</td>\n      <td>SATE (ETICS) con Poliestireno expandido grafit...</td>\n      <td>120.0</td>\n      <td>94.032</td>\n      <td>12.862</td>\n      <td>1.127</td>\n      <td>0.027</td>\n      <td>14.016</td>\n      <td>215.712</td>\n      <td>15.225</td>\n      <td>0.184</td>\n      <td>231.121</td>\n      <td>NaN</td>\n      <td>NaN</td>\n      <td>CARACAS1</td>\n      <td>0.0</td>\n      <td>1.0</td>\n      <td>0.0</td>\n    </tr>\n    <tr>\n      <th>10</th>\n      <td>1.0</td>\n      <td>2.0</td>\n      <td>W8</td>\n      <td>AISLAMIENTO INTERIOR LANA DE ROCA+TRASDOS CART...</td>\n      <td>80.0</td>\n      <td>92.736</td>\n      <td>16.874</td>\n      <td>1.262</td>\n      <td>0.016</td>\n      <td>18.152</td>\n      <td>619.187</td>\n      <td>17.050</td>\n      <td>0.113</td>\n      <td>636.350</td>\n      <td>NaN</td>\n      <td>NaN</td>\n      <td>CARACAS1</td>\n      <td>0.0</td>\n      <td>0.0</td>\n      <td>1.0</td>\n    </tr>\n  </tbody>\n</table>\n</div>"
     },
     "execution_count": 68,
     "metadata": {},
     "output_type": "execute_result"
    }
   ],
   "source": [
    "FE35_P = 'c:/arxius/materiales/Cobertes-Murs-Forjats-Finestres_cat_V03_FE35.xlsx'\n",
    "SIQUIER_P = 'c:/arxius/materiales/Cobertes-Murs-Forjats-Finestres_cat_V03_SIQUIER20.xlsx'\n",
    "FE36_P = 'c:/arxius/materiales/Cobertes-Murs-Forjats-Finestres_cat_V03_FE36.xlsx'\n",
    "CARACAS1_P = 'c:/arxius/materiales/Cobertes-Murs-Forjats-Finestres_cat_V03_CARACAS1.xlsx'\n",
    "\n",
    "FE_35 = pd.read_excel(FE35_P,sheet_name='Murs_cat')\n",
    "SIQUIER20 = pd.read_excel(SIQUIER_P,sheet_name='Murs_cat')\n",
    "FE_36 = pd.read_excel(FE36_P,sheet_name='Murs_cat')\n",
    "CARACAS1 = pd.read_excel(CARACAS1_P,sheet_name='Murs_cat')\n",
    "\n",
    "murs = pd.concat([FE_35,SIQUIER20, FE_36, CARACAS1])\n",
    "murs.dropna(subset='ARQUETIPO', inplace=True)\n",
    "murs\n"
   ],
   "metadata": {
    "collapsed": false,
    "ExecuteTime": {
     "end_time": "2023-10-25T07:22:40.334478300Z",
     "start_time": "2023-10-25T07:22:40.253376500Z"
    }
   },
   "id": "6aa59d0d616d1b49"
  },
  {
   "cell_type": "code",
   "execution_count": 74,
   "outputs": [
    {
     "data": {
      "text/plain": "    Convecional/Eco  Opción Espesor (R)  \\\n1               1.0     1.0          R6   \n2               1.0     1.0          R8   \n3               1.0     1.0         R10   \n4               1.0     1.0         R12   \n5               1.0     1.0         R14   \n6               1.0     2.0         R10   \n7               2.0     1.0         R10   \n8               2.0     2.0         R10   \n1               2.0     1.0          R6   \n2               1.0     1.0          R8   \n1               1.0     1.0          R6   \n2               1.0     1.0          R8   \n3               1.0     1.0         R10   \n4               1.0     1.0         R12   \n5               1.0     1.0         R14   \n6               2.0     1.0          R6   \n7               2.0     1.0          R8   \n8               2.0     1.0         R10   \n9               2.0     1.0         R12   \n10              2.0     1.0         R14   \n1               1.0     1.0          R6   \n2               1.0     1.0          R8   \n3               1.0     1.0         R10   \n4               1.0     1.0         R12   \n5               1.0     1.0         R14   \n6               1.0     2.0          R6   \n7               1.0     2.0          R8   \n8               1.0     2.0         R10   \n9               1.0     2.0         R12   \n10              1.0     2.0         R14   \n11              2.0     1.0          R6   \n12              2.0     1.0          R8   \n13              2.0     1.0         R10   \n14              2.0     1.0         R12   \n15              2.0     1.0         R14   \n\n                  REHABILITACIÓN ENERGÉTICA CUBIERTAS  Espesor aïllament (mm)  \\\n1   Doble lámina asfáltica + XPS (60 mm)+ baldosa ...                    60.0   \n2   Doble lámina asfáltica + XPS (2x40 mm)+ baldos...                    80.0   \n3   Doble lámina asfáltica + XPS (2x50 mm)+ baldos...                   100.0   \n4   Doble lámina asfáltica + XPS (2x60 mm)+ baldos...                   120.0   \n5   Doble lámina asfáltica + XPS (2x70 mm)+ baldos...                   140.0   \n6   FORMACIÓN PENDIENTES arlita +  DOBLE LÁMINA AS...                   100.0   \n7   EPS FORMACIÓN PENDIENTES + DOBLE LÁMINA ASFÁLT...                   100.0   \n8   FORMACIÓN PENDIENTES mortero reciclado + DOBLE...                   100.0   \n1   PANEL SANDWICH MADERA CON AISLAMIENTO EPS+ IMP...                    80.0   \n2   AISLAMIENTO EXTERIOR LANA ROCA + LÁMINA POLIOF...                    80.0   \n1   Doble lámina asfáltica + XPS (60 mm)+ baldosa ...                    60.0   \n2   Doble lámina asfáltica + XPS (2x40 mm)+ baldos...                    80.0   \n3   Doble lámina asfáltica + XPS (2x50 mm)+ baldos...                   100.0   \n4   Doble lámina asfáltica + XPS (2x60 mm)+ baldos...                   120.0   \n5   Doble lámina asfáltica + XPS (2x70 mm)+ baldos...                   140.0   \n6   Llámina POLIOFELINAS + paneL CORCHO NATURAL (6...                    60.0   \n7   Llámina POLIOFELINAS + paneL CORCHO NATURAL (8...                    80.0   \n8   Llámina POLIOFELINAS + paneL CORCHO NATURAL (2...                   100.0   \n9   Llámina POLIOFELINAS + paneL CORCHO NATURAL (2...                   120.0   \n10  Llámina POLIOFELINAS + paneL CORCHO NATURAL (2...                   140.0   \n1   Doble lámina asfáltica + XPS (60 mm)+ baldosa ...                    60.0   \n2   Doble lámina asfáltica + XPS (2x40 mm)+ baldos...                    80.0   \n3   Doble lámina asfáltica + XPS (2x50 mm)+ baldos...                   100.0   \n4   Doble lámina asfáltica + XPS (2x60 mm)+ baldos...                   120.0   \n5   Doble lámina asfáltica + XPS (2x70 mm)+ baldos...                   140.0   \n6   Doble lámina asfáltica + XPS (60 mm)+ baldosa ...                    60.0   \n7   Doble lámina asfáltica + XPS (2x40 mm)+ baldos...                    80.0   \n8   Doble lámina asfáltica + XPS (2x50 mm)+ baldos...                   100.0   \n9   Doble lámina asfáltica + XPS (2x60 mm)+ baldos...                   120.0   \n10  Doble lámina asfáltica + XPS (2x70 mm)+ baldos...                   140.0   \n11  Llámina POLIOFELINAS + paneL CORCHO NATURAL (6...                    60.0   \n12  Llámina POLIOFELINAS + paneL CORCHO NATURAL (8...                    80.0   \n13  Llámina POLIOFELINAS + paneL CORCHO NATURAL (2...                   100.0   \n14  Llámina POLIOFELINAS + paneL CORCHO NATURAL (2...                   120.0   \n15  Llámina POLIOFELINAS + paneL CORCHO NATURAL (2...                   140.0   \n\n    Cost instal·lat (€/m2)   A1-A2-A3     A4      A5    Total  ...    Total.1  \\\n1                  142.3500    86.183  2.814  0.0390  89.0360  ...  1360.6740   \n2                  145.6800    88.048  2.971  0.0400  91.0590  ...  1417.7710   \n3                  148.8100    89.793  3.128  0.0390  92.9600  ...  1472.5720   \n4                  151.9500    91.539  3.284  0.0400  94.8630  ...  1527.3810   \n5                  155.1300    93.284  3.441  0.0400  96.7650  ...  1582.1960   \n6                  171.4075    96.195  3.653  0.0390  99.8870  ...  1484.1444   \n7                  169.9930    80.330  3.490  0.0380  83.8580  ...  1528.0640   \n8                  151.8115    88.380  3.540  0.0380  91.9580  ...  1385.1140   \n1                  222.0995    36.940  1.475  0.2410  38.6560  ...   970.8500   \n2                  181.4930    16.170  0.865  0.0570  17.0920  ...   558.6650   \n1                  142.3500    86.183  2.814  0.0390  89.0360  ...  1360.6740   \n2                  145.6800    88.048  2.971  0.0400  91.0590  ...  1417.7710   \n3                  148.8100    89.793  3.128  0.0390  92.9600  ...  1472.5720   \n4                  151.9500    91.539  3.284  0.0400  94.8630  ...  1527.3810   \n5                  155.1300    93.284  3.441  0.0400  96.7650  ...  1582.1960   \n6                  166.9000    57.490  2.560  0.0036  60.0536  ...   876.9290   \n7                  177.7600    53.340  2.717  0.0036  56.0606  ...   899.6290   \n8                  189.4900    49.181  2.874  0.0036  52.0586  ...   922.3290   \n9                  201.2400    45.030  3.030  0.0036  48.0636  ...   944.9990   \n10                 212.9500    36.800  3.340  0.0036  40.1436  ...   989.9290   \n1                  142.3500    86.183  2.814  0.0390  89.0360  ...  1360.6740   \n2                  145.6800    88.048  2.971  0.0400  91.0590  ...  1417.7710   \n3                  148.8100    89.793  3.128  0.0390  92.9600  ...  1472.5720   \n4                  151.9500    91.539  3.284  0.0400  94.8630  ...  1527.3810   \n5                  155.1300    93.284  3.441  0.0400  96.7650  ...  1582.1960   \n6                  142.3500    86.183  2.814  0.0390  89.0360  ...  1360.6740   \n7                  145.6800    88.048  2.971  0.0400  91.0590  ...  1417.7710   \n8                  148.8100    89.793  3.128  0.0390  92.9600  ...  1472.5720   \n9                  151.9500    91.539  3.284  0.0400  94.8630  ...  1527.3810   \n10                 155.1300    93.284  3.441  0.0400  96.7650  ...  1582.1960   \n11                 166.9000    57.490  2.560  0.0036  60.0536  ...   876.9290   \n12                 177.7600    53.340  2.717  0.0036  56.0606  ...   899.6290   \n13                 189.4900    49.181  2.874  0.0036  52.0586  ...   922.3290   \n14                 201.2400    45.030  3.030  0.0036  48.0636  ...   944.9990   \n15                 212.9500    36.800  3.340  0.0036  40.1436  ...   989.9290   \n\n    B_1901-1940_ROOF1_REHAB1  B_1901-1940_ROOF1_REHAB2  \\\n1                        1.0                       0.0   \n2                        1.0                       0.0   \n3                        1.0                       0.0   \n4                        1.0                       0.0   \n5                        1.0                       0.0   \n6                        0.0                       1.0   \n7                        0.0                       0.0   \n8                        0.0                       0.0   \n1                        NaN                       NaN   \n2                        NaN                       NaN   \n1                        NaN                       NaN   \n2                        NaN                       NaN   \n3                        NaN                       NaN   \n4                        NaN                       NaN   \n5                        NaN                       NaN   \n6                        NaN                       NaN   \n7                        NaN                       NaN   \n8                        NaN                       NaN   \n9                        NaN                       NaN   \n10                       NaN                       NaN   \n1                        NaN                       NaN   \n2                        NaN                       NaN   \n3                        NaN                       NaN   \n4                        NaN                       NaN   \n5                        NaN                       NaN   \n6                        NaN                       NaN   \n7                        NaN                       NaN   \n8                        NaN                       NaN   \n9                        NaN                       NaN   \n10                       NaN                       NaN   \n11                       NaN                       NaN   \n12                       NaN                       NaN   \n13                       NaN                       NaN   \n14                       NaN                       NaN   \n15                       NaN                       NaN   \n\n    B_1901-1940_ROOF1_REHAB3  B_1901-1940_ROOF1_REHAB4  ARQUETIPO  \\\n1                        0.0                       0.0       FE35   \n2                        0.0                       0.0       FE35   \n3                        0.0                       0.0       FE35   \n4                        0.0                       0.0       FE35   \n5                        0.0                       0.0       FE35   \n6                        0.0                       0.0       FE35   \n7                        1.0                       0.0       FE35   \n8                        0.0                       1.0       FE35   \n1                        NaN                       NaN  SIQUIER20   \n2                        NaN                       NaN  SIQUIER20   \n1                        NaN                       NaN       FE36   \n2                        NaN                       NaN       FE36   \n3                        NaN                       NaN       FE36   \n4                        NaN                       NaN       FE36   \n5                        NaN                       NaN       FE36   \n6                        NaN                       NaN       FE36   \n7                        NaN                       NaN       FE36   \n8                        NaN                       NaN       FE36   \n9                        NaN                       NaN       FE36   \n10                       NaN                       NaN       FE36   \n1                        NaN                       NaN   CARACAS1   \n2                        NaN                       NaN   CARACAS1   \n3                        NaN                       NaN   CARACAS1   \n4                        NaN                       NaN   CARACAS1   \n5                        NaN                       NaN   CARACAS1   \n6                        NaN                       NaN   CARACAS1   \n7                        NaN                       NaN   CARACAS1   \n8                        NaN                       NaN   CARACAS1   \n9                        NaN                       NaN   CARACAS1   \n10                       NaN                       NaN   CARACAS1   \n11                       NaN                       NaN   CARACAS1   \n12                       NaN                       NaN   CARACAS1   \n13                       NaN                       NaN   CARACAS1   \n14                       NaN                       NaN   CARACAS1   \n15                       NaN                       NaN   CARACAS1   \n\n    B_1901-1940_ROOF1_REHAB5  B_1901-1940_ROOF1_REHAB6 PMEB_PGSOSTRE_REHAB1  \\\n1                        NaN                       NaN                  NaN   \n2                        NaN                       NaN                  NaN   \n3                        NaN                       NaN                  NaN   \n4                        NaN                       NaN                  NaN   \n5                        NaN                       NaN                  NaN   \n6                        NaN                       NaN                  NaN   \n7                        NaN                       NaN                  NaN   \n8                        NaN                       NaN                  NaN   \n1                        1.0                       0.0                  NaN   \n2                        0.0                       1.0                  NaN   \n1                        NaN                       NaN                  1.0   \n2                        NaN                       NaN                  1.0   \n3                        NaN                       NaN                  1.0   \n4                        NaN                       NaN                  1.0   \n5                        NaN                       NaN                  1.0   \n6                        NaN                       NaN                  0.0   \n7                        NaN                       NaN                  0.0   \n8                        NaN                       NaN                  0.0   \n9                        NaN                       NaN                  0.0   \n10                       NaN                       NaN                  0.0   \n1                        NaN                       NaN                  1.0   \n2                        NaN                       NaN                  1.0   \n3                        NaN                       NaN                  1.0   \n4                        NaN                       NaN                  1.0   \n5                        NaN                       NaN                  1.0   \n6                        NaN                       NaN                  1.0   \n7                        NaN                       NaN                  1.0   \n8                        NaN                       NaN                  1.0   \n9                        NaN                       NaN                  1.0   \n10                       NaN                       NaN                  1.0   \n11                       NaN                       NaN                  0.0   \n12                       NaN                       NaN                  0.0   \n13                       NaN                       NaN                  0.0   \n14                       NaN                       NaN                  0.0   \n15                       NaN                       NaN                  0.0   \n\n    PMEB_PGSOSTRE_REHAB2  \n1                    NaN  \n2                    NaN  \n3                    NaN  \n4                    NaN  \n5                    NaN  \n6                    NaN  \n7                    NaN  \n8                    NaN  \n1                    NaN  \n2                    NaN  \n1                    0.0  \n2                    0.0  \n3                    0.0  \n4                    0.0  \n5                    0.0  \n6                    1.0  \n7                    1.0  \n8                    1.0  \n9                    1.0  \n10                   1.0  \n1                    0.0  \n2                    0.0  \n3                    0.0  \n4                    0.0  \n5                    0.0  \n6                    0.0  \n7                    0.0  \n8                    0.0  \n9                    0.0  \n10                   0.0  \n11                   1.0  \n12                   1.0  \n13                   1.0  \n14                   1.0  \n15                   1.0  \n\n[35 rows x 23 columns]",
      "text/html": "<div>\n<style scoped>\n    .dataframe tbody tr th:only-of-type {\n        vertical-align: middle;\n    }\n\n    .dataframe tbody tr th {\n        vertical-align: top;\n    }\n\n    .dataframe thead th {\n        text-align: right;\n    }\n</style>\n<table border=\"1\" class=\"dataframe\">\n  <thead>\n    <tr style=\"text-align: right;\">\n      <th></th>\n      <th>Convecional/Eco</th>\n      <th>Opción</th>\n      <th>Espesor (R)</th>\n      <th>REHABILITACIÓN ENERGÉTICA CUBIERTAS</th>\n      <th>Espesor aïllament (mm)</th>\n      <th>Cost instal·lat (€/m2)</th>\n      <th>A1-A2-A3</th>\n      <th>A4</th>\n      <th>A5</th>\n      <th>Total</th>\n      <th>...</th>\n      <th>Total.1</th>\n      <th>B_1901-1940_ROOF1_REHAB1</th>\n      <th>B_1901-1940_ROOF1_REHAB2</th>\n      <th>B_1901-1940_ROOF1_REHAB3</th>\n      <th>B_1901-1940_ROOF1_REHAB4</th>\n      <th>ARQUETIPO</th>\n      <th>B_1901-1940_ROOF1_REHAB5</th>\n      <th>B_1901-1940_ROOF1_REHAB6</th>\n      <th>PMEB_PGSOSTRE_REHAB1</th>\n      <th>PMEB_PGSOSTRE_REHAB2</th>\n    </tr>\n  </thead>\n  <tbody>\n    <tr>\n      <th>1</th>\n      <td>1.0</td>\n      <td>1.0</td>\n      <td>R6</td>\n      <td>Doble lámina asfáltica + XPS (60 mm)+ baldosa ...</td>\n      <td>60.0</td>\n      <td>142.3500</td>\n      <td>86.183</td>\n      <td>2.814</td>\n      <td>0.0390</td>\n      <td>89.0360</td>\n      <td>...</td>\n      <td>1360.6740</td>\n      <td>1.0</td>\n      <td>0.0</td>\n      <td>0.0</td>\n      <td>0.0</td>\n      <td>FE35</td>\n      <td>NaN</td>\n      <td>NaN</td>\n      <td>NaN</td>\n      <td>NaN</td>\n    </tr>\n    <tr>\n      <th>2</th>\n      <td>1.0</td>\n      <td>1.0</td>\n      <td>R8</td>\n      <td>Doble lámina asfáltica + XPS (2x40 mm)+ baldos...</td>\n      <td>80.0</td>\n      <td>145.6800</td>\n      <td>88.048</td>\n      <td>2.971</td>\n      <td>0.0400</td>\n      <td>91.0590</td>\n      <td>...</td>\n      <td>1417.7710</td>\n      <td>1.0</td>\n      <td>0.0</td>\n      <td>0.0</td>\n      <td>0.0</td>\n      <td>FE35</td>\n      <td>NaN</td>\n      <td>NaN</td>\n      <td>NaN</td>\n      <td>NaN</td>\n    </tr>\n    <tr>\n      <th>3</th>\n      <td>1.0</td>\n      <td>1.0</td>\n      <td>R10</td>\n      <td>Doble lámina asfáltica + XPS (2x50 mm)+ baldos...</td>\n      <td>100.0</td>\n      <td>148.8100</td>\n      <td>89.793</td>\n      <td>3.128</td>\n      <td>0.0390</td>\n      <td>92.9600</td>\n      <td>...</td>\n      <td>1472.5720</td>\n      <td>1.0</td>\n      <td>0.0</td>\n      <td>0.0</td>\n      <td>0.0</td>\n      <td>FE35</td>\n      <td>NaN</td>\n      <td>NaN</td>\n      <td>NaN</td>\n      <td>NaN</td>\n    </tr>\n    <tr>\n      <th>4</th>\n      <td>1.0</td>\n      <td>1.0</td>\n      <td>R12</td>\n      <td>Doble lámina asfáltica + XPS (2x60 mm)+ baldos...</td>\n      <td>120.0</td>\n      <td>151.9500</td>\n      <td>91.539</td>\n      <td>3.284</td>\n      <td>0.0400</td>\n      <td>94.8630</td>\n      <td>...</td>\n      <td>1527.3810</td>\n      <td>1.0</td>\n      <td>0.0</td>\n      <td>0.0</td>\n      <td>0.0</td>\n      <td>FE35</td>\n      <td>NaN</td>\n      <td>NaN</td>\n      <td>NaN</td>\n      <td>NaN</td>\n    </tr>\n    <tr>\n      <th>5</th>\n      <td>1.0</td>\n      <td>1.0</td>\n      <td>R14</td>\n      <td>Doble lámina asfáltica + XPS (2x70 mm)+ baldos...</td>\n      <td>140.0</td>\n      <td>155.1300</td>\n      <td>93.284</td>\n      <td>3.441</td>\n      <td>0.0400</td>\n      <td>96.7650</td>\n      <td>...</td>\n      <td>1582.1960</td>\n      <td>1.0</td>\n      <td>0.0</td>\n      <td>0.0</td>\n      <td>0.0</td>\n      <td>FE35</td>\n      <td>NaN</td>\n      <td>NaN</td>\n      <td>NaN</td>\n      <td>NaN</td>\n    </tr>\n    <tr>\n      <th>6</th>\n      <td>1.0</td>\n      <td>2.0</td>\n      <td>R10</td>\n      <td>FORMACIÓN PENDIENTES arlita +  DOBLE LÁMINA AS...</td>\n      <td>100.0</td>\n      <td>171.4075</td>\n      <td>96.195</td>\n      <td>3.653</td>\n      <td>0.0390</td>\n      <td>99.8870</td>\n      <td>...</td>\n      <td>1484.1444</td>\n      <td>0.0</td>\n      <td>1.0</td>\n      <td>0.0</td>\n      <td>0.0</td>\n      <td>FE35</td>\n      <td>NaN</td>\n      <td>NaN</td>\n      <td>NaN</td>\n      <td>NaN</td>\n    </tr>\n    <tr>\n      <th>7</th>\n      <td>2.0</td>\n      <td>1.0</td>\n      <td>R10</td>\n      <td>EPS FORMACIÓN PENDIENTES + DOBLE LÁMINA ASFÁLT...</td>\n      <td>100.0</td>\n      <td>169.9930</td>\n      <td>80.330</td>\n      <td>3.490</td>\n      <td>0.0380</td>\n      <td>83.8580</td>\n      <td>...</td>\n      <td>1528.0640</td>\n      <td>0.0</td>\n      <td>0.0</td>\n      <td>1.0</td>\n      <td>0.0</td>\n      <td>FE35</td>\n      <td>NaN</td>\n      <td>NaN</td>\n      <td>NaN</td>\n      <td>NaN</td>\n    </tr>\n    <tr>\n      <th>8</th>\n      <td>2.0</td>\n      <td>2.0</td>\n      <td>R10</td>\n      <td>FORMACIÓN PENDIENTES mortero reciclado + DOBLE...</td>\n      <td>100.0</td>\n      <td>151.8115</td>\n      <td>88.380</td>\n      <td>3.540</td>\n      <td>0.0380</td>\n      <td>91.9580</td>\n      <td>...</td>\n      <td>1385.1140</td>\n      <td>0.0</td>\n      <td>0.0</td>\n      <td>0.0</td>\n      <td>1.0</td>\n      <td>FE35</td>\n      <td>NaN</td>\n      <td>NaN</td>\n      <td>NaN</td>\n      <td>NaN</td>\n    </tr>\n    <tr>\n      <th>1</th>\n      <td>2.0</td>\n      <td>1.0</td>\n      <td>R6</td>\n      <td>PANEL SANDWICH MADERA CON AISLAMIENTO EPS+ IMP...</td>\n      <td>80.0</td>\n      <td>222.0995</td>\n      <td>36.940</td>\n      <td>1.475</td>\n      <td>0.2410</td>\n      <td>38.6560</td>\n      <td>...</td>\n      <td>970.8500</td>\n      <td>NaN</td>\n      <td>NaN</td>\n      <td>NaN</td>\n      <td>NaN</td>\n      <td>SIQUIER20</td>\n      <td>1.0</td>\n      <td>0.0</td>\n      <td>NaN</td>\n      <td>NaN</td>\n    </tr>\n    <tr>\n      <th>2</th>\n      <td>1.0</td>\n      <td>1.0</td>\n      <td>R8</td>\n      <td>AISLAMIENTO EXTERIOR LANA ROCA + LÁMINA POLIOF...</td>\n      <td>80.0</td>\n      <td>181.4930</td>\n      <td>16.170</td>\n      <td>0.865</td>\n      <td>0.0570</td>\n      <td>17.0920</td>\n      <td>...</td>\n      <td>558.6650</td>\n      <td>NaN</td>\n      <td>NaN</td>\n      <td>NaN</td>\n      <td>NaN</td>\n      <td>SIQUIER20</td>\n      <td>0.0</td>\n      <td>1.0</td>\n      <td>NaN</td>\n      <td>NaN</td>\n    </tr>\n    <tr>\n      <th>1</th>\n      <td>1.0</td>\n      <td>1.0</td>\n      <td>R6</td>\n      <td>Doble lámina asfáltica + XPS (60 mm)+ baldosa ...</td>\n      <td>60.0</td>\n      <td>142.3500</td>\n      <td>86.183</td>\n      <td>2.814</td>\n      <td>0.0390</td>\n      <td>89.0360</td>\n      <td>...</td>\n      <td>1360.6740</td>\n      <td>NaN</td>\n      <td>NaN</td>\n      <td>NaN</td>\n      <td>NaN</td>\n      <td>FE36</td>\n      <td>NaN</td>\n      <td>NaN</td>\n      <td>1.0</td>\n      <td>0.0</td>\n    </tr>\n    <tr>\n      <th>2</th>\n      <td>1.0</td>\n      <td>1.0</td>\n      <td>R8</td>\n      <td>Doble lámina asfáltica + XPS (2x40 mm)+ baldos...</td>\n      <td>80.0</td>\n      <td>145.6800</td>\n      <td>88.048</td>\n      <td>2.971</td>\n      <td>0.0400</td>\n      <td>91.0590</td>\n      <td>...</td>\n      <td>1417.7710</td>\n      <td>NaN</td>\n      <td>NaN</td>\n      <td>NaN</td>\n      <td>NaN</td>\n      <td>FE36</td>\n      <td>NaN</td>\n      <td>NaN</td>\n      <td>1.0</td>\n      <td>0.0</td>\n    </tr>\n    <tr>\n      <th>3</th>\n      <td>1.0</td>\n      <td>1.0</td>\n      <td>R10</td>\n      <td>Doble lámina asfáltica + XPS (2x50 mm)+ baldos...</td>\n      <td>100.0</td>\n      <td>148.8100</td>\n      <td>89.793</td>\n      <td>3.128</td>\n      <td>0.0390</td>\n      <td>92.9600</td>\n      <td>...</td>\n      <td>1472.5720</td>\n      <td>NaN</td>\n      <td>NaN</td>\n      <td>NaN</td>\n      <td>NaN</td>\n      <td>FE36</td>\n      <td>NaN</td>\n      <td>NaN</td>\n      <td>1.0</td>\n      <td>0.0</td>\n    </tr>\n    <tr>\n      <th>4</th>\n      <td>1.0</td>\n      <td>1.0</td>\n      <td>R12</td>\n      <td>Doble lámina asfáltica + XPS (2x60 mm)+ baldos...</td>\n      <td>120.0</td>\n      <td>151.9500</td>\n      <td>91.539</td>\n      <td>3.284</td>\n      <td>0.0400</td>\n      <td>94.8630</td>\n      <td>...</td>\n      <td>1527.3810</td>\n      <td>NaN</td>\n      <td>NaN</td>\n      <td>NaN</td>\n      <td>NaN</td>\n      <td>FE36</td>\n      <td>NaN</td>\n      <td>NaN</td>\n      <td>1.0</td>\n      <td>0.0</td>\n    </tr>\n    <tr>\n      <th>5</th>\n      <td>1.0</td>\n      <td>1.0</td>\n      <td>R14</td>\n      <td>Doble lámina asfáltica + XPS (2x70 mm)+ baldos...</td>\n      <td>140.0</td>\n      <td>155.1300</td>\n      <td>93.284</td>\n      <td>3.441</td>\n      <td>0.0400</td>\n      <td>96.7650</td>\n      <td>...</td>\n      <td>1582.1960</td>\n      <td>NaN</td>\n      <td>NaN</td>\n      <td>NaN</td>\n      <td>NaN</td>\n      <td>FE36</td>\n      <td>NaN</td>\n      <td>NaN</td>\n      <td>1.0</td>\n      <td>0.0</td>\n    </tr>\n    <tr>\n      <th>6</th>\n      <td>2.0</td>\n      <td>1.0</td>\n      <td>R6</td>\n      <td>Llámina POLIOFELINAS + paneL CORCHO NATURAL (6...</td>\n      <td>60.0</td>\n      <td>166.9000</td>\n      <td>57.490</td>\n      <td>2.560</td>\n      <td>0.0036</td>\n      <td>60.0536</td>\n      <td>...</td>\n      <td>876.9290</td>\n      <td>NaN</td>\n      <td>NaN</td>\n      <td>NaN</td>\n      <td>NaN</td>\n      <td>FE36</td>\n      <td>NaN</td>\n      <td>NaN</td>\n      <td>0.0</td>\n      <td>1.0</td>\n    </tr>\n    <tr>\n      <th>7</th>\n      <td>2.0</td>\n      <td>1.0</td>\n      <td>R8</td>\n      <td>Llámina POLIOFELINAS + paneL CORCHO NATURAL (8...</td>\n      <td>80.0</td>\n      <td>177.7600</td>\n      <td>53.340</td>\n      <td>2.717</td>\n      <td>0.0036</td>\n      <td>56.0606</td>\n      <td>...</td>\n      <td>899.6290</td>\n      <td>NaN</td>\n      <td>NaN</td>\n      <td>NaN</td>\n      <td>NaN</td>\n      <td>FE36</td>\n      <td>NaN</td>\n      <td>NaN</td>\n      <td>0.0</td>\n      <td>1.0</td>\n    </tr>\n    <tr>\n      <th>8</th>\n      <td>2.0</td>\n      <td>1.0</td>\n      <td>R10</td>\n      <td>Llámina POLIOFELINAS + paneL CORCHO NATURAL (2...</td>\n      <td>100.0</td>\n      <td>189.4900</td>\n      <td>49.181</td>\n      <td>2.874</td>\n      <td>0.0036</td>\n      <td>52.0586</td>\n      <td>...</td>\n      <td>922.3290</td>\n      <td>NaN</td>\n      <td>NaN</td>\n      <td>NaN</td>\n      <td>NaN</td>\n      <td>FE36</td>\n      <td>NaN</td>\n      <td>NaN</td>\n      <td>0.0</td>\n      <td>1.0</td>\n    </tr>\n    <tr>\n      <th>9</th>\n      <td>2.0</td>\n      <td>1.0</td>\n      <td>R12</td>\n      <td>Llámina POLIOFELINAS + paneL CORCHO NATURAL (2...</td>\n      <td>120.0</td>\n      <td>201.2400</td>\n      <td>45.030</td>\n      <td>3.030</td>\n      <td>0.0036</td>\n      <td>48.0636</td>\n      <td>...</td>\n      <td>944.9990</td>\n      <td>NaN</td>\n      <td>NaN</td>\n      <td>NaN</td>\n      <td>NaN</td>\n      <td>FE36</td>\n      <td>NaN</td>\n      <td>NaN</td>\n      <td>0.0</td>\n      <td>1.0</td>\n    </tr>\n    <tr>\n      <th>10</th>\n      <td>2.0</td>\n      <td>1.0</td>\n      <td>R14</td>\n      <td>Llámina POLIOFELINAS + paneL CORCHO NATURAL (2...</td>\n      <td>140.0</td>\n      <td>212.9500</td>\n      <td>36.800</td>\n      <td>3.340</td>\n      <td>0.0036</td>\n      <td>40.1436</td>\n      <td>...</td>\n      <td>989.9290</td>\n      <td>NaN</td>\n      <td>NaN</td>\n      <td>NaN</td>\n      <td>NaN</td>\n      <td>FE36</td>\n      <td>NaN</td>\n      <td>NaN</td>\n      <td>0.0</td>\n      <td>1.0</td>\n    </tr>\n    <tr>\n      <th>1</th>\n      <td>1.0</td>\n      <td>1.0</td>\n      <td>R6</td>\n      <td>Doble lámina asfáltica + XPS (60 mm)+ baldosa ...</td>\n      <td>60.0</td>\n      <td>142.3500</td>\n      <td>86.183</td>\n      <td>2.814</td>\n      <td>0.0390</td>\n      <td>89.0360</td>\n      <td>...</td>\n      <td>1360.6740</td>\n      <td>NaN</td>\n      <td>NaN</td>\n      <td>NaN</td>\n      <td>NaN</td>\n      <td>CARACAS1</td>\n      <td>NaN</td>\n      <td>NaN</td>\n      <td>1.0</td>\n      <td>0.0</td>\n    </tr>\n    <tr>\n      <th>2</th>\n      <td>1.0</td>\n      <td>1.0</td>\n      <td>R8</td>\n      <td>Doble lámina asfáltica + XPS (2x40 mm)+ baldos...</td>\n      <td>80.0</td>\n      <td>145.6800</td>\n      <td>88.048</td>\n      <td>2.971</td>\n      <td>0.0400</td>\n      <td>91.0590</td>\n      <td>...</td>\n      <td>1417.7710</td>\n      <td>NaN</td>\n      <td>NaN</td>\n      <td>NaN</td>\n      <td>NaN</td>\n      <td>CARACAS1</td>\n      <td>NaN</td>\n      <td>NaN</td>\n      <td>1.0</td>\n      <td>0.0</td>\n    </tr>\n    <tr>\n      <th>3</th>\n      <td>1.0</td>\n      <td>1.0</td>\n      <td>R10</td>\n      <td>Doble lámina asfáltica + XPS (2x50 mm)+ baldos...</td>\n      <td>100.0</td>\n      <td>148.8100</td>\n      <td>89.793</td>\n      <td>3.128</td>\n      <td>0.0390</td>\n      <td>92.9600</td>\n      <td>...</td>\n      <td>1472.5720</td>\n      <td>NaN</td>\n      <td>NaN</td>\n      <td>NaN</td>\n      <td>NaN</td>\n      <td>CARACAS1</td>\n      <td>NaN</td>\n      <td>NaN</td>\n      <td>1.0</td>\n      <td>0.0</td>\n    </tr>\n    <tr>\n      <th>4</th>\n      <td>1.0</td>\n      <td>1.0</td>\n      <td>R12</td>\n      <td>Doble lámina asfáltica + XPS (2x60 mm)+ baldos...</td>\n      <td>120.0</td>\n      <td>151.9500</td>\n      <td>91.539</td>\n      <td>3.284</td>\n      <td>0.0400</td>\n      <td>94.8630</td>\n      <td>...</td>\n      <td>1527.3810</td>\n      <td>NaN</td>\n      <td>NaN</td>\n      <td>NaN</td>\n      <td>NaN</td>\n      <td>CARACAS1</td>\n      <td>NaN</td>\n      <td>NaN</td>\n      <td>1.0</td>\n      <td>0.0</td>\n    </tr>\n    <tr>\n      <th>5</th>\n      <td>1.0</td>\n      <td>1.0</td>\n      <td>R14</td>\n      <td>Doble lámina asfáltica + XPS (2x70 mm)+ baldos...</td>\n      <td>140.0</td>\n      <td>155.1300</td>\n      <td>93.284</td>\n      <td>3.441</td>\n      <td>0.0400</td>\n      <td>96.7650</td>\n      <td>...</td>\n      <td>1582.1960</td>\n      <td>NaN</td>\n      <td>NaN</td>\n      <td>NaN</td>\n      <td>NaN</td>\n      <td>CARACAS1</td>\n      <td>NaN</td>\n      <td>NaN</td>\n      <td>1.0</td>\n      <td>0.0</td>\n    </tr>\n    <tr>\n      <th>6</th>\n      <td>1.0</td>\n      <td>2.0</td>\n      <td>R6</td>\n      <td>Doble lámina asfáltica + XPS (60 mm)+ baldosa ...</td>\n      <td>60.0</td>\n      <td>142.3500</td>\n      <td>86.183</td>\n      <td>2.814</td>\n      <td>0.0390</td>\n      <td>89.0360</td>\n      <td>...</td>\n      <td>1360.6740</td>\n      <td>NaN</td>\n      <td>NaN</td>\n      <td>NaN</td>\n      <td>NaN</td>\n      <td>CARACAS1</td>\n      <td>NaN</td>\n      <td>NaN</td>\n      <td>1.0</td>\n      <td>0.0</td>\n    </tr>\n    <tr>\n      <th>7</th>\n      <td>1.0</td>\n      <td>2.0</td>\n      <td>R8</td>\n      <td>Doble lámina asfáltica + XPS (2x40 mm)+ baldos...</td>\n      <td>80.0</td>\n      <td>145.6800</td>\n      <td>88.048</td>\n      <td>2.971</td>\n      <td>0.0400</td>\n      <td>91.0590</td>\n      <td>...</td>\n      <td>1417.7710</td>\n      <td>NaN</td>\n      <td>NaN</td>\n      <td>NaN</td>\n      <td>NaN</td>\n      <td>CARACAS1</td>\n      <td>NaN</td>\n      <td>NaN</td>\n      <td>1.0</td>\n      <td>0.0</td>\n    </tr>\n    <tr>\n      <th>8</th>\n      <td>1.0</td>\n      <td>2.0</td>\n      <td>R10</td>\n      <td>Doble lámina asfáltica + XPS (2x50 mm)+ baldos...</td>\n      <td>100.0</td>\n      <td>148.8100</td>\n      <td>89.793</td>\n      <td>3.128</td>\n      <td>0.0390</td>\n      <td>92.9600</td>\n      <td>...</td>\n      <td>1472.5720</td>\n      <td>NaN</td>\n      <td>NaN</td>\n      <td>NaN</td>\n      <td>NaN</td>\n      <td>CARACAS1</td>\n      <td>NaN</td>\n      <td>NaN</td>\n      <td>1.0</td>\n      <td>0.0</td>\n    </tr>\n    <tr>\n      <th>9</th>\n      <td>1.0</td>\n      <td>2.0</td>\n      <td>R12</td>\n      <td>Doble lámina asfáltica + XPS (2x60 mm)+ baldos...</td>\n      <td>120.0</td>\n      <td>151.9500</td>\n      <td>91.539</td>\n      <td>3.284</td>\n      <td>0.0400</td>\n      <td>94.8630</td>\n      <td>...</td>\n      <td>1527.3810</td>\n      <td>NaN</td>\n      <td>NaN</td>\n      <td>NaN</td>\n      <td>NaN</td>\n      <td>CARACAS1</td>\n      <td>NaN</td>\n      <td>NaN</td>\n      <td>1.0</td>\n      <td>0.0</td>\n    </tr>\n    <tr>\n      <th>10</th>\n      <td>1.0</td>\n      <td>2.0</td>\n      <td>R14</td>\n      <td>Doble lámina asfáltica + XPS (2x70 mm)+ baldos...</td>\n      <td>140.0</td>\n      <td>155.1300</td>\n      <td>93.284</td>\n      <td>3.441</td>\n      <td>0.0400</td>\n      <td>96.7650</td>\n      <td>...</td>\n      <td>1582.1960</td>\n      <td>NaN</td>\n      <td>NaN</td>\n      <td>NaN</td>\n      <td>NaN</td>\n      <td>CARACAS1</td>\n      <td>NaN</td>\n      <td>NaN</td>\n      <td>1.0</td>\n      <td>0.0</td>\n    </tr>\n    <tr>\n      <th>11</th>\n      <td>2.0</td>\n      <td>1.0</td>\n      <td>R6</td>\n      <td>Llámina POLIOFELINAS + paneL CORCHO NATURAL (6...</td>\n      <td>60.0</td>\n      <td>166.9000</td>\n      <td>57.490</td>\n      <td>2.560</td>\n      <td>0.0036</td>\n      <td>60.0536</td>\n      <td>...</td>\n      <td>876.9290</td>\n      <td>NaN</td>\n      <td>NaN</td>\n      <td>NaN</td>\n      <td>NaN</td>\n      <td>CARACAS1</td>\n      <td>NaN</td>\n      <td>NaN</td>\n      <td>0.0</td>\n      <td>1.0</td>\n    </tr>\n    <tr>\n      <th>12</th>\n      <td>2.0</td>\n      <td>1.0</td>\n      <td>R8</td>\n      <td>Llámina POLIOFELINAS + paneL CORCHO NATURAL (8...</td>\n      <td>80.0</td>\n      <td>177.7600</td>\n      <td>53.340</td>\n      <td>2.717</td>\n      <td>0.0036</td>\n      <td>56.0606</td>\n      <td>...</td>\n      <td>899.6290</td>\n      <td>NaN</td>\n      <td>NaN</td>\n      <td>NaN</td>\n      <td>NaN</td>\n      <td>CARACAS1</td>\n      <td>NaN</td>\n      <td>NaN</td>\n      <td>0.0</td>\n      <td>1.0</td>\n    </tr>\n    <tr>\n      <th>13</th>\n      <td>2.0</td>\n      <td>1.0</td>\n      <td>R10</td>\n      <td>Llámina POLIOFELINAS + paneL CORCHO NATURAL (2...</td>\n      <td>100.0</td>\n      <td>189.4900</td>\n      <td>49.181</td>\n      <td>2.874</td>\n      <td>0.0036</td>\n      <td>52.0586</td>\n      <td>...</td>\n      <td>922.3290</td>\n      <td>NaN</td>\n      <td>NaN</td>\n      <td>NaN</td>\n      <td>NaN</td>\n      <td>CARACAS1</td>\n      <td>NaN</td>\n      <td>NaN</td>\n      <td>0.0</td>\n      <td>1.0</td>\n    </tr>\n    <tr>\n      <th>14</th>\n      <td>2.0</td>\n      <td>1.0</td>\n      <td>R12</td>\n      <td>Llámina POLIOFELINAS + paneL CORCHO NATURAL (2...</td>\n      <td>120.0</td>\n      <td>201.2400</td>\n      <td>45.030</td>\n      <td>3.030</td>\n      <td>0.0036</td>\n      <td>48.0636</td>\n      <td>...</td>\n      <td>944.9990</td>\n      <td>NaN</td>\n      <td>NaN</td>\n      <td>NaN</td>\n      <td>NaN</td>\n      <td>CARACAS1</td>\n      <td>NaN</td>\n      <td>NaN</td>\n      <td>0.0</td>\n      <td>1.0</td>\n    </tr>\n    <tr>\n      <th>15</th>\n      <td>2.0</td>\n      <td>1.0</td>\n      <td>R14</td>\n      <td>Llámina POLIOFELINAS + paneL CORCHO NATURAL (2...</td>\n      <td>140.0</td>\n      <td>212.9500</td>\n      <td>36.800</td>\n      <td>3.340</td>\n      <td>0.0036</td>\n      <td>40.1436</td>\n      <td>...</td>\n      <td>989.9290</td>\n      <td>NaN</td>\n      <td>NaN</td>\n      <td>NaN</td>\n      <td>NaN</td>\n      <td>CARACAS1</td>\n      <td>NaN</td>\n      <td>NaN</td>\n      <td>0.0</td>\n      <td>1.0</td>\n    </tr>\n  </tbody>\n</table>\n<p>35 rows × 23 columns</p>\n</div>"
     },
     "execution_count": 74,
     "metadata": {},
     "output_type": "execute_result"
    }
   ],
   "source": [
    "FE_35 = pd.read_excel(FE35_P,sheet_name='Cobertes_cat')\n",
    "SIQUIER20 = pd.read_excel(SIQUIER_P,sheet_name='Cobertes_cat')\n",
    "FE_36 = pd.read_excel(FE36_P,sheet_name='Cobertes_cat')\n",
    "CARACAS1 = pd.read_excel(CARACAS1_P,sheet_name='Cobertes_cat')\n",
    "\n",
    "Cobertes = pd.concat([FE_35,SIQUIER20, FE_36, CARACAS1])\n",
    "Cobertes.dropna(subset='ARQUETIPO', inplace=True)\n",
    "Cobertes"
   ],
   "metadata": {
    "collapsed": false,
    "ExecuteTime": {
     "end_time": "2023-10-25T07:41:28.378023100Z",
     "start_time": "2023-10-25T07:41:28.224993400Z"
    }
   },
   "id": "5e3d446206b19253"
  },
  {
   "cell_type": "code",
   "execution_count": 84,
   "outputs": [
    {
     "data": {
      "text/plain": "   Convecional/Eco Espesor (S)  \\\n1              1.0          S6   \n2              1.0          S8   \n3              2.0          S6   \n4              2.0          S8   \n\n              REHABILITACIÓN ENERGÉTICA BAJO FORJADO  Espesor (mm)  \\\n1  Panel de lana de roca  (2X30) bajo forjado fij...          60.0   \n2  Panel de lana de roca  (2x40) bajo forjado fij...          80.0   \n3  Panel de corcho expandido bajo forjado fijado ...          60.0   \n4  Panel de corcho expandido bajo forjado fijado ...          80.0   \n\n   Cost instal·lat (€/m2)   A1-A2-A3      A4      A5    Total  A1-A2-A3.1  \\\n1                    82.18    24.290   1.034  0.0014  25.3254      829.03   \n2                    94.40    28.070   1.910  0.0014  29.9814      968.26   \n3                    81.05     0.435   1.140  0.0040   1.5790      471.12   \n4                    92.09    -3.720  13.970  0.0040  10.2540      491.27   \n\n    A4.1   A5.1  Total.1  PMEB_PGTERRE1st_floor_REHAB1  \\\n1  13.98  0.096  843.106                           1.0   \n2  16.09  0.096  984.446                           1.0   \n3  13.98  0.026  485.126                           0.0   \n4  16.07  0.026  507.366                           0.0   \n\n   PMEB_PGTERRE1st_floor_REHAB2 ARQUETIPO  \n1                           0.0  CARACAS1  \n2                           0.0  CARACAS1  \n3                           1.0  CARACAS1  \n4                           1.0  CARACAS1  ",
      "text/html": "<div>\n<style scoped>\n    .dataframe tbody tr th:only-of-type {\n        vertical-align: middle;\n    }\n\n    .dataframe tbody tr th {\n        vertical-align: top;\n    }\n\n    .dataframe thead th {\n        text-align: right;\n    }\n</style>\n<table border=\"1\" class=\"dataframe\">\n  <thead>\n    <tr style=\"text-align: right;\">\n      <th></th>\n      <th>Convecional/Eco</th>\n      <th>Espesor (S)</th>\n      <th>REHABILITACIÓN ENERGÉTICA BAJO FORJADO</th>\n      <th>Espesor (mm)</th>\n      <th>Cost instal·lat (€/m2)</th>\n      <th>A1-A2-A3</th>\n      <th>A4</th>\n      <th>A5</th>\n      <th>Total</th>\n      <th>A1-A2-A3.1</th>\n      <th>A4.1</th>\n      <th>A5.1</th>\n      <th>Total.1</th>\n      <th>PMEB_PGTERRE1st_floor_REHAB1</th>\n      <th>PMEB_PGTERRE1st_floor_REHAB2</th>\n      <th>ARQUETIPO</th>\n    </tr>\n  </thead>\n  <tbody>\n    <tr>\n      <th>1</th>\n      <td>1.0</td>\n      <td>S6</td>\n      <td>Panel de lana de roca  (2X30) bajo forjado fij...</td>\n      <td>60.0</td>\n      <td>82.18</td>\n      <td>24.290</td>\n      <td>1.034</td>\n      <td>0.0014</td>\n      <td>25.3254</td>\n      <td>829.03</td>\n      <td>13.98</td>\n      <td>0.096</td>\n      <td>843.106</td>\n      <td>1.0</td>\n      <td>0.0</td>\n      <td>CARACAS1</td>\n    </tr>\n    <tr>\n      <th>2</th>\n      <td>1.0</td>\n      <td>S8</td>\n      <td>Panel de lana de roca  (2x40) bajo forjado fij...</td>\n      <td>80.0</td>\n      <td>94.40</td>\n      <td>28.070</td>\n      <td>1.910</td>\n      <td>0.0014</td>\n      <td>29.9814</td>\n      <td>968.26</td>\n      <td>16.09</td>\n      <td>0.096</td>\n      <td>984.446</td>\n      <td>1.0</td>\n      <td>0.0</td>\n      <td>CARACAS1</td>\n    </tr>\n    <tr>\n      <th>3</th>\n      <td>2.0</td>\n      <td>S6</td>\n      <td>Panel de corcho expandido bajo forjado fijado ...</td>\n      <td>60.0</td>\n      <td>81.05</td>\n      <td>0.435</td>\n      <td>1.140</td>\n      <td>0.0040</td>\n      <td>1.5790</td>\n      <td>471.12</td>\n      <td>13.98</td>\n      <td>0.026</td>\n      <td>485.126</td>\n      <td>0.0</td>\n      <td>1.0</td>\n      <td>CARACAS1</td>\n    </tr>\n    <tr>\n      <th>4</th>\n      <td>2.0</td>\n      <td>S8</td>\n      <td>Panel de corcho expandido bajo forjado fijado ...</td>\n      <td>80.0</td>\n      <td>92.09</td>\n      <td>-3.720</td>\n      <td>13.970</td>\n      <td>0.0040</td>\n      <td>10.2540</td>\n      <td>491.27</td>\n      <td>16.07</td>\n      <td>0.026</td>\n      <td>507.366</td>\n      <td>0.0</td>\n      <td>1.0</td>\n      <td>CARACAS1</td>\n    </tr>\n  </tbody>\n</table>\n</div>"
     },
     "execution_count": 84,
     "metadata": {},
     "output_type": "execute_result"
    }
   ],
   "source": [
    "Forjats = pd.read_excel(CARACAS1_P,sheet_name='Forjats_cat')\n",
    "Forjats.dropna(subset='ARQUETIPO', inplace=True)\n",
    "\n",
    "Forjats"
   ],
   "metadata": {
    "collapsed": false,
    "ExecuteTime": {
     "end_time": "2023-10-25T07:57:03.490274700Z",
     "start_time": "2023-10-25T07:57:03.433720500Z"
    }
   },
   "id": "f0f707379dd17784"
  },
  {
   "cell_type": "code",
   "execution_count": 85,
   "outputs": [
    {
     "data": {
      "text/plain": "Convecional/Eco                           float64\nEspesor (S)                                object\nREHABILITACIÓN ENERGÉTICA BAJO FORJADO     object\nEspesor (mm)                              float64\nCost instal·lat (€/m2)                    float64\nA1-A2-A3                                  float64\nA4                                        float64\nA5                                        float64\nTotal                                     float64\nA1-A2-A3.1                                float64\nA4.1                                      float64\nA5.1                                      float64\nTotal.1                                   float64\nPMEB_PGTERRE1st_floor_REHAB1              float64\nPMEB_PGTERRE1st_floor_REHAB2              float64\nARQUETIPO                                  object\ndtype: object"
     },
     "execution_count": 85,
     "metadata": {},
     "output_type": "execute_result"
    }
   ],
   "source": [
    "Forjats.dtypes"
   ],
   "metadata": {
    "collapsed": false,
    "ExecuteTime": {
     "end_time": "2023-10-25T07:58:00.084498Z",
     "start_time": "2023-10-25T07:58:00.046431400Z"
    }
   },
   "id": "442164f04c9348de"
  },
  {
   "cell_type": "code",
   "execution_count": 86,
   "outputs": [],
   "source": [
    "Forjats.columns = ['convecional_eco', 'espesor_s', 'rehabilitacion_energetica_bajo_forjado', 'espesor_mm',\n",
    "           'cost_instal_lat_euro_m2', 'a1_a2_a3', 'a4', 'a5', 'total', 'a1_a2_a3_1',\n",
    "           'a4_1', 'a5_1', 'total_1', 'pmeb_pgterre1st_floor_rehab1', 'pmeb_pgterre1st_floor_rehab2', 'arquetipo']"
   ],
   "metadata": {
    "collapsed": false,
    "ExecuteTime": {
     "end_time": "2023-10-25T07:59:22.048075700Z",
     "start_time": "2023-10-25T07:59:22.006068200Z"
    }
   },
   "id": "29e7e6a214f075cd"
  },
  {
   "cell_type": "code",
   "execution_count": null,
   "outputs": [],
   "source": [
    "Finestres = pd.read_excel(CARACAS1_P,sheet_name='Finestres_cat')\n",
    "Finestres.dropna(subset='ARQUETIPO', inplace=True)\n",
    "Finestres['ARQUETIPO'] = 'All'\n",
    "Finestres"
   ],
   "metadata": {
    "collapsed": false
   },
   "id": "c1489878c90f95eb"
  },
  {
   "cell_type": "code",
   "execution_count": 81,
   "outputs": [
    {
     "data": {
      "text/plain": "Ventanas                           float64\nConvecional/Eco                    float64\nSUBSTITUCIÓ FUSTERIES EXTERIORS     object\nMedidas (m)                         object\nCost instal·lat (€/m2)             float64\nA1-A2-A3                           float64\nA4                                 float64\nA5                                 float64\nTotal                              float64\nA1-A2-A3.1                         float64\nA4.1                               float64\nA5.1                               float64\nTotal.1                            float64\nEXT_WINDOW_REHAB2                  float64\nEXT_WINDOW_REHAB1                  float64\nARQUETIPO                           object\ndtype: object"
     },
     "execution_count": 81,
     "metadata": {},
     "output_type": "execute_result"
    }
   ],
   "source": [
    "Finestres.dtypes"
   ],
   "metadata": {
    "collapsed": false,
    "ExecuteTime": {
     "end_time": "2023-10-25T07:53:01.666666700Z",
     "start_time": "2023-10-25T07:53:01.633659900Z"
    }
   },
   "id": "10f8fd28f551b966"
  },
  {
   "cell_type": "code",
   "execution_count": 82,
   "outputs": [],
   "source": [
    "Finestres.columns = ['ventanas', 'convecional_eco', 'substitucio_fusteries_exteriors', 'medidas_m',\n",
    "           'cost_instal_lat_euro_m2', 'a1_a2_a3', 'a4', 'a5', 'total', 'a1_a2_a3_1',\n",
    "           'a4_1', 'a5_1', 'total_1', 'ext_window_rehab2', 'ext_window_rehab1', 'arquetipo']"
   ],
   "metadata": {
    "collapsed": false,
    "ExecuteTime": {
     "end_time": "2023-10-25T07:54:37.113994500Z",
     "start_time": "2023-10-25T07:54:37.078706100Z"
    }
   },
   "id": "8fbae14d91f3cce9"
  },
  {
   "cell_type": "code",
   "execution_count": 62,
   "outputs": [
    {
     "data": {
      "text/plain": "Convecional/Eco                       float64\nOpción                                float64\nEspesor (W)                            object\nREHABILITACIÓN ENERGÉTICA FACHADAS     object\nEspesor (mm)                          float64\nCost instal·lat (€/m2)                float64\nA1-A2-A3                              float64\nA4                                    float64\nA5                                    float64\nTotal                                 float64\nA1-A2-A3.1                            float64\nA4.1                                  float64\nA5.1                                  float64\nTotal.1                               float64\nEXT_WALL_MARES_REHAB1                 float64\nEXT_WALL_MARES_REHAB2                 float64\nARQUETIPO                              object\nPMEB_PGMUR15_REHAB1                   float64\nPMEB_PGMUR15_REHAB2                   float64\nPMEB_PGMUR15_REHAB3                   float64\ndtype: object"
     },
     "execution_count": 62,
     "metadata": {},
     "output_type": "execute_result"
    }
   ],
   "source": [
    "murs.dtypes"
   ],
   "metadata": {
    "collapsed": false,
    "ExecuteTime": {
     "end_time": "2023-10-24T15:56:05.901245400Z",
     "start_time": "2023-10-24T15:56:05.618025700Z"
    }
   },
   "id": "76669c285fcfbf96"
  },
  {
   "cell_type": "code",
   "execution_count": 76,
   "outputs": [],
   "source": [
    "Cobertes.dtypes\n",
    "Cobertes.columns = ['convecional_eco', 'opcion', 'espesor_r', 'rehabilitacion_energetica_cubiertas',\n",
    "          'espesor_aïllament_mm', 'cost_instal_lat_euro_m2', 'a1_a2_a3', 'a4', 'a5', 'total',\n",
    "          'a1_a2_a3_1', 'a4_1', 'a5_1', 'total_1', 'b_1901_1940_roof1_rehab1', 'b_1901_1940_roof1_rehab2',\n",
    "          'b_1901_1940_roof1_rehab3', 'b_1901_1940_roof1_rehab4', 'arquetipo', 'b_1901_1940_roof1_rehab5',\n",
    "          'b_1901_1940_roof1_rehab6', 'pmeb_pgsostre_rehab1', 'pmeb_pgsostre_rehab2']"
   ],
   "metadata": {
    "collapsed": false,
    "ExecuteTime": {
     "end_time": "2023-10-25T07:46:05.009536200Z",
     "start_time": "2023-10-25T07:46:04.977433300Z"
    }
   },
   "id": "4cde1908734df4b9"
  },
  {
   "cell_type": "code",
   "execution_count": 69,
   "outputs": [],
   "source": [
    "murs.columns = ['Convecional_Eco', 'Opcion', 'Espesor_W', 'REHABILITACION_ENERGETICA_FACHADAS',\n",
    "                'Espesor_mm', 'Cost_instal_lat_euro_m2', 'A1_A2_A3', 'A4', 'A5', 'Total',\n",
    "                'A1_A2_A3_1', 'A4_1', 'A5_1', 'Total_1', 'EXT_WALL_MARES_REHAB1', 'EXT_WALL_MARES_REHAB2',\n",
    "                'ARQUETIPO', 'PMEB_PGMUR15_REHAB1', 'PMEB_PGMUR15_REHAB2', 'PMEB_PGMUR15_REHAB3']\n",
    "\n",
    "murs.columns = [column.lower() for column in murs.columns]"
   ],
   "metadata": {
    "collapsed": false,
    "ExecuteTime": {
     "end_time": "2023-10-25T07:23:34.611253800Z",
     "start_time": "2023-10-25T07:23:34.599218800Z"
    }
   },
   "id": "30d1b0d3ead6c72a"
  },
  {
   "cell_type": "code",
   "execution_count": 70,
   "outputs": [
    {
     "data": {
      "text/plain": "Index(['convecional_eco', 'opcion', 'espesor_w',\n       'rehabilitacion_energetica_fachadas', 'espesor_mm',\n       'cost_instal_lat_euro_m2', 'a1_a2_a3', 'a4', 'a5', 'total',\n       'a1_a2_a3_1', 'a4_1', 'a5_1', 'total_1', 'ext_wall_mares_rehab1',\n       'ext_wall_mares_rehab2', 'arquetipo', 'pmeb_pgmur15_rehab1',\n       'pmeb_pgmur15_rehab2', 'pmeb_pgmur15_rehab3'],\n      dtype='object')"
     },
     "execution_count": 70,
     "metadata": {},
     "output_type": "execute_result"
    }
   ],
   "source": [
    "murs.columns"
   ],
   "metadata": {
    "collapsed": false,
    "ExecuteTime": {
     "end_time": "2023-10-25T07:24:18.954543400Z",
     "start_time": "2023-10-25T07:24:18.926246400Z"
    }
   },
   "id": "91a1b397dff6ff95"
  },
  {
   "cell_type": "code",
   "execution_count": 72,
   "outputs": [
    {
     "data": {
      "text/plain": "28"
     },
     "execution_count": 72,
     "metadata": {},
     "output_type": "execute_result"
    }
   ],
   "source": [
    "\n",
    "murs.to_sql('murs', con=engine, schema='archetype', if_exists='replace', index=False)\n",
    "\n"
   ],
   "metadata": {
    "collapsed": false,
    "ExecuteTime": {
     "end_time": "2023-10-25T07:24:53.457678500Z",
     "start_time": "2023-10-25T07:24:52.444728800Z"
    }
   },
   "id": "670af0c0148a3de1"
  },
  {
   "cell_type": "code",
   "execution_count": 77,
   "outputs": [
    {
     "data": {
      "text/plain": "35"
     },
     "execution_count": 77,
     "metadata": {},
     "output_type": "execute_result"
    }
   ],
   "source": [
    "Cobertes.to_sql('cobertes', con=engine, schema='archetype', if_exists='replace', index=False)\n"
   ],
   "metadata": {
    "collapsed": false,
    "ExecuteTime": {
     "end_time": "2023-10-25T07:46:56.751240900Z",
     "start_time": "2023-10-25T07:46:56.656515100Z"
    }
   },
   "id": "46d5b7b871cb8090"
  },
  {
   "cell_type": "code",
   "execution_count": 83,
   "outputs": [
    {
     "data": {
      "text/plain": "2"
     },
     "execution_count": 83,
     "metadata": {},
     "output_type": "execute_result"
    }
   ],
   "source": [
    "Finestres.to_sql('finestres', con=engine, schema='archetype', if_exists='replace', index=False)"
   ],
   "metadata": {
    "collapsed": false,
    "ExecuteTime": {
     "end_time": "2023-10-25T07:55:01.421213200Z",
     "start_time": "2023-10-25T07:55:01.131935300Z"
    }
   },
   "id": "7c1a9adeadad2ac"
  },
  {
   "cell_type": "code",
   "execution_count": 87,
   "outputs": [
    {
     "data": {
      "text/plain": "4"
     },
     "execution_count": 87,
     "metadata": {},
     "output_type": "execute_result"
    }
   ],
   "source": [
    "Forjats.to_sql('forjats', con=engine, schema='archetype', if_exists='replace', index=False)"
   ],
   "metadata": {
    "collapsed": false,
    "ExecuteTime": {
     "end_time": "2023-10-25T07:59:47.440053800Z",
     "start_time": "2023-10-25T07:59:47.333613400Z"
    }
   },
   "id": "57780c2dbbeb9457"
  },
  {
   "cell_type": "code",
   "execution_count": 43,
   "outputs": [
    {
     "data": {
      "text/plain": "Int64Index([ 1,  2,  3,  4,  5,  6,  1,  2,  3,  1,  2,  3,  4,  5,  6,  7,  8,\n             9,  1,  2,  3,  4,  5,  6,  7,  8,  9, 10],\n           dtype='int64')"
     },
     "execution_count": 43,
     "metadata": {},
     "output_type": "execute_result"
    }
   ],
   "source": [
    "murs.index"
   ],
   "metadata": {
    "collapsed": false,
    "ExecuteTime": {
     "end_time": "2023-10-24T15:34:35.530797700Z",
     "start_time": "2023-10-24T15:34:26.050312900Z"
    }
   },
   "id": "e6f8e56c592afe75"
  },
  {
   "cell_type": "code",
   "execution_count": 18,
   "outputs": [
    {
     "data": {
      "text/plain": "   Convecional/Eco  Opción Espesor (W)  \\\n0              NaN     NaN         NaN   \n1              1.0     1.0          W6   \n2              1.0     1.0          W8   \n3              1.0     1.0         W10   \n4              1.0     1.0         W12   \n5              1.0     1.0         W14   \n6              2.0     1.0          W6   \n7              2.0     1.0          W8   \n8              2.0     1.0         W10   \n9              2.0     1.0         W12   \n\n                  REHABILITACIÓN ENERGÉTICA FACHADAS  Espesor (mm)  \\\n0                                                NaN           NaN   \n1  SATE (ETICS) con Poliestirero expandido (EPS) ...          60.0   \n2  SATE (ETICS) con Poliestirero expandido (EPS) ...          80.0   \n3  SATE (ETICS) con Poliestirero expandido (EPS) ...         100.0   \n4  SATE (ETICS) con Poliestirero expandido (EPS) ...         120.0   \n5  SATE (ETICS) con Poliestirero expandido (EPS) ...         140.0   \n6  SATE (ETICS) con Poliestireno expandido grafit...          60.0   \n7  SATE (ETICS) con Poliestireno expandido grafit...          80.0   \n8  SATE (ETICS) con Poliestireno expandido grafit...         100.0   \n9  SATE (ETICS) con Poliestireno expandido grafit...         120.0   \n\n   Cost instal·lat (€/m2)  A1-A2-A3     A4     A5   Total  A1-A2-A3.1    A4.1  \\\n0                     NaN       NaN    NaN    NaN     NaN         NaN     NaN   \n1                  79.570    10.197  0.652  0.027  10.876     192.396   8.812   \n2                  83.310    11.851  0.810  0.027  12.688     234.056  10.949   \n3                  87.550    13.536  0.969  0.027  14.532     276.043  13.088   \n4                  91.010    15.181  1.127  0.027  16.335     317.520  15.225   \n5                  93.420    16.824  1.285  0.027  18.136     358.893  17.362   \n6                  81.980     9.042  0.652  0.027   9.721     141.583   8.813   \n7                  86.060    10.320  0.810  0.027  11.157     166.458  10.950   \n8                  90.060    11.613  0.969  0.027  12.609     191.385  13.088   \n9                  94.032    12.862  1.127  0.027  14.016     215.712  15.225   \n\n    A5.1  Total.1  EXT_WALL_MARES_REHAB1  EXT_WALL_MARES_REHAB2 ARQUETIPO  \n0    NaN      NaN                    NaN                    NaN       NaN  \n1  0.184  201.392                    1.0                    0.0      FE36  \n2  0.184  245.189                    1.0                    0.0      FE36  \n3  0.184  289.315                    1.0                    0.0      FE36  \n4  0.184  332.929                    1.0                    0.0      FE36  \n5  0.184  376.439                    1.0                    0.0      FE36  \n6  0.184  150.580                    0.0                    1.0      FE36  \n7  0.184  177.592                    0.0                    1.0      FE36  \n8  0.184  204.657                    0.0                    1.0      FE36  \n9  0.184  231.121                    0.0                    1.0      FE36  ",
      "text/html": "<div>\n<style scoped>\n    .dataframe tbody tr th:only-of-type {\n        vertical-align: middle;\n    }\n\n    .dataframe tbody tr th {\n        vertical-align: top;\n    }\n\n    .dataframe thead th {\n        text-align: right;\n    }\n</style>\n<table border=\"1\" class=\"dataframe\">\n  <thead>\n    <tr style=\"text-align: right;\">\n      <th></th>\n      <th>Convecional/Eco</th>\n      <th>Opción</th>\n      <th>Espesor (W)</th>\n      <th>REHABILITACIÓN ENERGÉTICA FACHADAS</th>\n      <th>Espesor (mm)</th>\n      <th>Cost instal·lat (€/m2)</th>\n      <th>A1-A2-A3</th>\n      <th>A4</th>\n      <th>A5</th>\n      <th>Total</th>\n      <th>A1-A2-A3.1</th>\n      <th>A4.1</th>\n      <th>A5.1</th>\n      <th>Total.1</th>\n      <th>EXT_WALL_MARES_REHAB1</th>\n      <th>EXT_WALL_MARES_REHAB2</th>\n      <th>ARQUETIPO</th>\n    </tr>\n  </thead>\n  <tbody>\n    <tr>\n      <th>0</th>\n      <td>NaN</td>\n      <td>NaN</td>\n      <td>NaN</td>\n      <td>NaN</td>\n      <td>NaN</td>\n      <td>NaN</td>\n      <td>NaN</td>\n      <td>NaN</td>\n      <td>NaN</td>\n      <td>NaN</td>\n      <td>NaN</td>\n      <td>NaN</td>\n      <td>NaN</td>\n      <td>NaN</td>\n      <td>NaN</td>\n      <td>NaN</td>\n      <td>NaN</td>\n    </tr>\n    <tr>\n      <th>1</th>\n      <td>1.0</td>\n      <td>1.0</td>\n      <td>W6</td>\n      <td>SATE (ETICS) con Poliestirero expandido (EPS) ...</td>\n      <td>60.0</td>\n      <td>79.570</td>\n      <td>10.197</td>\n      <td>0.652</td>\n      <td>0.027</td>\n      <td>10.876</td>\n      <td>192.396</td>\n      <td>8.812</td>\n      <td>0.184</td>\n      <td>201.392</td>\n      <td>1.0</td>\n      <td>0.0</td>\n      <td>FE36</td>\n    </tr>\n    <tr>\n      <th>2</th>\n      <td>1.0</td>\n      <td>1.0</td>\n      <td>W8</td>\n      <td>SATE (ETICS) con Poliestirero expandido (EPS) ...</td>\n      <td>80.0</td>\n      <td>83.310</td>\n      <td>11.851</td>\n      <td>0.810</td>\n      <td>0.027</td>\n      <td>12.688</td>\n      <td>234.056</td>\n      <td>10.949</td>\n      <td>0.184</td>\n      <td>245.189</td>\n      <td>1.0</td>\n      <td>0.0</td>\n      <td>FE36</td>\n    </tr>\n    <tr>\n      <th>3</th>\n      <td>1.0</td>\n      <td>1.0</td>\n      <td>W10</td>\n      <td>SATE (ETICS) con Poliestirero expandido (EPS) ...</td>\n      <td>100.0</td>\n      <td>87.550</td>\n      <td>13.536</td>\n      <td>0.969</td>\n      <td>0.027</td>\n      <td>14.532</td>\n      <td>276.043</td>\n      <td>13.088</td>\n      <td>0.184</td>\n      <td>289.315</td>\n      <td>1.0</td>\n      <td>0.0</td>\n      <td>FE36</td>\n    </tr>\n    <tr>\n      <th>4</th>\n      <td>1.0</td>\n      <td>1.0</td>\n      <td>W12</td>\n      <td>SATE (ETICS) con Poliestirero expandido (EPS) ...</td>\n      <td>120.0</td>\n      <td>91.010</td>\n      <td>15.181</td>\n      <td>1.127</td>\n      <td>0.027</td>\n      <td>16.335</td>\n      <td>317.520</td>\n      <td>15.225</td>\n      <td>0.184</td>\n      <td>332.929</td>\n      <td>1.0</td>\n      <td>0.0</td>\n      <td>FE36</td>\n    </tr>\n    <tr>\n      <th>5</th>\n      <td>1.0</td>\n      <td>1.0</td>\n      <td>W14</td>\n      <td>SATE (ETICS) con Poliestirero expandido (EPS) ...</td>\n      <td>140.0</td>\n      <td>93.420</td>\n      <td>16.824</td>\n      <td>1.285</td>\n      <td>0.027</td>\n      <td>18.136</td>\n      <td>358.893</td>\n      <td>17.362</td>\n      <td>0.184</td>\n      <td>376.439</td>\n      <td>1.0</td>\n      <td>0.0</td>\n      <td>FE36</td>\n    </tr>\n    <tr>\n      <th>6</th>\n      <td>2.0</td>\n      <td>1.0</td>\n      <td>W6</td>\n      <td>SATE (ETICS) con Poliestireno expandido grafit...</td>\n      <td>60.0</td>\n      <td>81.980</td>\n      <td>9.042</td>\n      <td>0.652</td>\n      <td>0.027</td>\n      <td>9.721</td>\n      <td>141.583</td>\n      <td>8.813</td>\n      <td>0.184</td>\n      <td>150.580</td>\n      <td>0.0</td>\n      <td>1.0</td>\n      <td>FE36</td>\n    </tr>\n    <tr>\n      <th>7</th>\n      <td>2.0</td>\n      <td>1.0</td>\n      <td>W8</td>\n      <td>SATE (ETICS) con Poliestireno expandido grafit...</td>\n      <td>80.0</td>\n      <td>86.060</td>\n      <td>10.320</td>\n      <td>0.810</td>\n      <td>0.027</td>\n      <td>11.157</td>\n      <td>166.458</td>\n      <td>10.950</td>\n      <td>0.184</td>\n      <td>177.592</td>\n      <td>0.0</td>\n      <td>1.0</td>\n      <td>FE36</td>\n    </tr>\n    <tr>\n      <th>8</th>\n      <td>2.0</td>\n      <td>1.0</td>\n      <td>W10</td>\n      <td>SATE (ETICS) con Poliestireno expandido grafit...</td>\n      <td>100.0</td>\n      <td>90.060</td>\n      <td>11.613</td>\n      <td>0.969</td>\n      <td>0.027</td>\n      <td>12.609</td>\n      <td>191.385</td>\n      <td>13.088</td>\n      <td>0.184</td>\n      <td>204.657</td>\n      <td>0.0</td>\n      <td>1.0</td>\n      <td>FE36</td>\n    </tr>\n    <tr>\n      <th>9</th>\n      <td>2.0</td>\n      <td>1.0</td>\n      <td>W12</td>\n      <td>SATE (ETICS) con Poliestireno expandido grafit...</td>\n      <td>120.0</td>\n      <td>94.032</td>\n      <td>12.862</td>\n      <td>1.127</td>\n      <td>0.027</td>\n      <td>14.016</td>\n      <td>215.712</td>\n      <td>15.225</td>\n      <td>0.184</td>\n      <td>231.121</td>\n      <td>0.0</td>\n      <td>1.0</td>\n      <td>FE36</td>\n    </tr>\n  </tbody>\n</table>\n</div>"
     },
     "execution_count": 18,
     "metadata": {},
     "output_type": "execute_result"
    }
   ],
   "source": [
    "FE_36"
   ],
   "metadata": {
    "collapsed": false,
    "ExecuteTime": {
     "end_time": "2023-10-24T14:49:43.192084800Z",
     "start_time": "2023-10-24T14:49:42.816029Z"
    }
   },
   "id": "d8a61e592c0f3260"
  },
  {
   "cell_type": "code",
   "execution_count": 3,
   "outputs": [
    {
     "data": {
      "text/plain": "<function __main__.<lambda>(x)>"
     },
     "execution_count": 3,
     "metadata": {},
     "output_type": "execute_result"
    }
   ],
   "source": [
    "# Function to calculate the sum of a list\n",
    "sum_list = lambda x: sum(x)\n",
    "\n",
    "sum_list"
   ],
   "metadata": {
    "collapsed": false,
    "ExecuteTime": {
     "end_time": "2023-10-17T16:14:32.374968700Z",
     "start_time": "2023-10-17T16:14:32.338948600Z"
    }
   },
   "id": "6f76de4213c60d82"
  },
  {
   "cell_type": "code",
   "execution_count": 4,
   "outputs": [
    {
     "name": "stdout",
     "output_type": "stream",
     "text": [
      "    a   b   c   d\n",
      "0   6   9  12  15\n",
      "1  15  18  21  24\n"
     ]
    }
   ],
   "source": [
    "# Applying the function to each cell in the DataFrame\n",
    "df_sum = df.applymap(sum_list)\n",
    "\n",
    "# Displaying the updated DataFrame\n",
    "print(df_sum)"
   ],
   "metadata": {
    "collapsed": false,
    "ExecuteTime": {
     "end_time": "2023-10-17T16:14:39.689269200Z",
     "start_time": "2023-10-17T16:14:39.643595100Z"
    }
   },
   "id": "a96dd0818b7f5d35"
  },
  {
   "cell_type": "code",
   "execution_count": null,
   "outputs": [],
   "source": [],
   "metadata": {
    "collapsed": false
   },
   "id": "cd054d31ffc5ec4e"
  }
 ],
 "metadata": {
  "kernelspec": {
   "display_name": "Python 3",
   "language": "python",
   "name": "python3"
  },
  "language_info": {
   "codemirror_mode": {
    "name": "ipython",
    "version": 2
   },
   "file_extension": ".py",
   "mimetype": "text/x-python",
   "name": "python",
   "nbconvert_exporter": "python",
   "pygments_lexer": "ipython2",
   "version": "2.7.6"
  }
 },
 "nbformat": 4,
 "nbformat_minor": 5
}
