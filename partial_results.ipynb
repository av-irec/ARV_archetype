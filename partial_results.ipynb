{
 "cells": [
  {
   "cell_type": "code",
   "execution_count": null,
   "id": "initial_id",
   "metadata": {
    "collapsed": true
   },
   "outputs": [],
   "source": []
  },
  {
   "cell_type": "code",
   "execution_count": 2,
   "outputs": [],
   "source": [
    "import os\n",
    "import sys\n",
    "\n",
    "# Path\n",
    "\n",
    "direct = os.getcwd()\n",
    "sys.path[0] = direct\n",
    "\n",
    "from interactors import calculoCoste, analysisActive, investmentActiveARV\n",
    "from utils import meanCalculation, energyScenarios, energyConsumption, globalCostScenarios\n",
    "from interactors import analysisTRNSYS"
   ],
   "metadata": {
    "collapsed": false,
    "ExecuteTime": {
     "end_time": "2023-09-13T15:34:07.382830Z",
     "start_time": "2023-09-13T15:34:04.016584500Z"
    }
   },
   "id": "2ae97a6ae14cc166"
  },
  {
   "cell_type": "code",
   "execution_count": 3,
   "outputs": [],
   "source": [
    "n_viv_simulated = 1\n",
    "building_to_analyse = 'FE35'\n",
    "ref_cat_analysis = '1701521DD7810B'"
   ],
   "metadata": {
    "collapsed": false,
    "ExecuteTime": {
     "end_time": "2023-09-13T15:34:23.005561700Z",
     "start_time": "2023-09-13T15:34:22.974534700Z"
    }
   },
   "id": "932fec4b1a03856"
  },
  {
   "cell_type": "code",
   "execution_count": 5,
   "outputs": [
    {
     "data": {
      "text/plain": "<interactors.analysisTRNSYS.energyAnalysis at 0x19258e07b90>"
     },
     "execution_count": 5,
     "metadata": {},
     "output_type": "execute_result"
    }
   ],
   "source": [
    "surface = 90 # Superficie de cada vivienda para calcultar los valores de coste global\n",
    "\n",
    "\"\"\"\n",
    "El método energyAnalysis() de la clase analysisTRNSYS calcula la energía primara y el CO2 en función de las simuaciones\n",
    "    1) Leer las carpetas de la simulaciones (para más detalles ver word \"detallesinputs\")\n",
    "    2) Con los coeficientes de paso se calcula la energía primaria y el CO2\n",
    "    3) P_ht (heating) - P_cl (cooling) - P_lig (iluminación - electricidad) - P_dev (electrodomésticos - electricidad) - P_dhw (agua caliente sanitaria)\n",
    "    4) Las unidades son para P [kWh/m2] - PE [kWh/m2] - CO2 [kgCO2/m2]\n",
    "    5) Estructura de diccionarios:\n",
    "    \n",
    "        P_ht{simulación\n",
    "                {vivienda\n",
    "                     [lista con 8760 valores]\n",
    "                }\n",
    "            }                \n",
    "                                                             \n",
    "\"\"\"\n",
    "\n",
    "analysisType = analysisTRNSYS.energyAnalysis(n_viv = n_viv_simulated, name = building_to_analyse)\n",
    "analysisType\n"
   ],
   "metadata": {
    "collapsed": false,
    "ExecuteTime": {
     "end_time": "2023-09-13T15:35:30.889911300Z",
     "start_time": "2023-09-13T15:35:30.875750200Z"
    }
   },
   "id": "b2f8b347a170317"
  },
  {
   "cell_type": "code",
   "execution_count": 6,
   "outputs": [
    {
     "data": {
      "text/plain": "<interactors.analysisTRNSYS.do_analysis at 0x19258e1a2d0>"
     },
     "execution_count": 6,
     "metadata": {},
     "output_type": "execute_result"
    }
   ],
   "source": [
    "data = analysisTRNSYS.do_analysis(analysisType)\n",
    "data"
   ],
   "metadata": {
    "collapsed": false,
    "ExecuteTime": {
     "end_time": "2023-09-13T15:35:41.516966400Z",
     "start_time": "2023-09-13T15:35:41.496574500Z"
    }
   },
   "id": "7c1d472709603f5f"
  },
  {
   "cell_type": "code",
   "execution_count": null,
   "outputs": [],
   "source": [],
   "metadata": {
    "collapsed": false
   },
   "id": "378bd3bc99863f47"
  }
 ],
 "metadata": {
  "kernelspec": {
   "display_name": "Python 3",
   "language": "python",
   "name": "python3"
  },
  "language_info": {
   "codemirror_mode": {
    "name": "ipython",
    "version": 2
   },
   "file_extension": ".py",
   "mimetype": "text/x-python",
   "name": "python",
   "nbconvert_exporter": "python",
   "pygments_lexer": "ipython2",
   "version": "2.7.6"
  }
 },
 "nbformat": 4,
 "nbformat_minor": 5
}
