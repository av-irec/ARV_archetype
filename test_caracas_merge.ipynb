{
 "cells": [
  {
   "cell_type": "code",
   "execution_count": 1,
   "id": "initial_id",
   "metadata": {
    "collapsed": true,
    "ExecuteTime": {
     "end_time": "2023-11-03T10:37:12.672899900Z",
     "start_time": "2023-11-03T10:37:11.021743300Z"
    }
   },
   "outputs": [],
   "source": [
    "from repositories import csvTRNSYS2,csvTRNSYS\n",
    "import pandas as pd\n",
    "import datetime\n",
    "import matplotlib.pyplot as plt\n",
    "from sqlalchemy import text\n",
    "from  SQL_statements import database_connection\n",
    "from utils import processCaracas, processCaracas_simple"
   ]
  },
  {
   "cell_type": "code",
   "execution_count": 2,
   "outputs": [],
   "source": [
    "ref_cat = '1502002DD7810B'\n",
    "name = 'Caracas1'\n",
    "n_viv = 3\n",
    "typeStep = csvTRNSYS2.HourlyMulti() \n",
    "output = csvTRNSYS2.readTRNSYS(typeStep, n_viv, name,ref_cat)\n",
    "output_reader, P_ht, P_cl, P_lig, P_dev,P_dhw = output.start()"
   ],
   "metadata": {
    "collapsed": false,
    "ExecuteTime": {
     "end_time": "2023-11-03T10:40:26.043693300Z",
     "start_time": "2023-11-03T10:37:14.432026900Z"
    }
   },
   "id": "27907dcb4d67168e"
  },
  {
   "cell_type": "code",
   "execution_count": 3,
   "outputs": [],
   "source": [
    "ref_cat = '1502002DD7810B'\n",
    "name = 'Caracas1'\n",
    "n_viv = 3\n",
    "typeStep = csvTRNSYS.HourlyMulti() \n",
    "output = csvTRNSYS.readTRNSYS(typeStep, n_viv, name)\n",
    "output_reader_orig, P_ht_orig, P_cl_orig, P_lig_orig, P_dev_orig,P_dhw_orig = output.start()"
   ],
   "metadata": {
    "collapsed": false,
    "ExecuteTime": {
     "end_time": "2023-11-03T10:43:13.506476Z",
     "start_time": "2023-11-03T10:40:26.043693300Z"
    }
   },
   "id": "52c1cd029f04234c"
  },
  {
   "cell_type": "code",
   "execution_count": 4,
   "outputs": [],
   "source": [
    "uno, dos, tres, cuatro, cinco = processCaracas.process_caracas(ref_cat,P_ht_orig,P_cl_orig,P_lig_orig, P_dev_orig,P_dhw_orig)"
   ],
   "metadata": {
    "collapsed": false,
    "ExecuteTime": {
     "end_time": "2023-11-03T10:44:50.094098600Z",
     "start_time": "2023-11-03T10:43:13.498282300Z"
    }
   },
   "id": "cea106ba9ef572fd"
  },
  {
   "cell_type": "code",
   "execution_count": 6,
   "outputs": [
    {
     "name": "stdout",
     "output_type": "stream",
     "text": [
      "0.003679376066365721\n",
      "0.0018396880331828605\n",
      "0.003679376066365721\n"
     ]
    }
   ],
   "source": [
    "print(P_ht['P221_270_W8_R10_IF']['Dwelling_1'][8])\n",
    "print(P_ht_orig['P221_270_W8_R0_IF']['Dwelling_1'][8])\n",
    "print(uno['P221_270_W8_R10_IF']['Dwelling_1'][8])"
   ],
   "metadata": {
    "collapsed": false,
    "ExecuteTime": {
     "end_time": "2023-11-03T10:44:58.607356700Z",
     "start_time": "2023-11-03T10:44:58.604329200Z"
    }
   },
   "id": "dab6f0b9982f7a7a"
  },
  {
   "cell_type": "code",
   "execution_count": 7,
   "outputs": [
    {
     "name": "stdout",
     "output_type": "stream",
     "text": [
      "0.023258293384482088\n",
      "0.011629146692241044\n",
      "0.023258293384482088\n"
     ]
    }
   ],
   "source": [
    "print(P_cl['P221_270_W8_R10_IF']['Dwelling_1'][3351])\n",
    "print(P_cl_orig['P221_270_W8_R0_IF']['Dwelling_1'][3351])\n",
    "print(dos['P221_270_W8_R10_IF']['Dwelling_1'][3351])"
   ],
   "metadata": {
    "collapsed": false,
    "ExecuteTime": {
     "end_time": "2023-11-03T10:45:01.201959Z",
     "start_time": "2023-11-03T10:45:01.186714200Z"
    }
   },
   "id": "cde8b25008acd118"
  },
  {
   "cell_type": "code",
   "execution_count": 19,
   "outputs": [
    {
     "name": "stdout",
     "output_type": "stream",
     "text": [
      "0.004371834638208747\n",
      "0.0038552919498045252\n",
      "0.0077105838996090505\n"
     ]
    }
   ],
   "source": [
    "print(P_cl['P221_270_W8_R10_IF']['Dwelling_1'][3851])\n",
    "print(P_cl_orig['P221_270_W8_R0_IF']['Dwelling_1'][3851])\n",
    "print(dos['P221_270_W8_R10_IF']['Dwelling_1'][3851])"
   ],
   "metadata": {
    "collapsed": false,
    "ExecuteTime": {
     "end_time": "2023-11-03T10:34:15.342445900Z",
     "start_time": "2023-11-03T10:34:15.295267600Z"
    }
   },
   "id": "c34e5917cf836f2"
  },
  {
   "cell_type": "code",
   "execution_count": 20,
   "outputs": [
    {
     "name": "stdout",
     "output_type": "stream",
     "text": [
      "0.004371834638208747\n",
      "0.0021859173191043735\n",
      "0.004371834638208747\n"
     ]
    }
   ],
   "source": [
    "print(P_lig['P221_270_W8_R10_IF']['Dwelling_1'][3351])\n",
    "print(P_lig_orig['P221_270_W8_R0_IF']['Dwelling_1'][3451])\n",
    "print(tres['P221_270_W8_R10_IF']['Dwelling_1'][3351])"
   ],
   "metadata": {
    "collapsed": false,
    "ExecuteTime": {
     "end_time": "2023-11-03T10:34:32.366830300Z",
     "start_time": "2023-11-03T10:34:32.351143100Z"
    }
   },
   "id": "f68a1101f321a646"
  },
  {
   "cell_type": "code",
   "execution_count": 8,
   "outputs": [
    {
     "name": "stdout",
     "output_type": "stream",
     "text": [
      "0.003568044681590548\n",
      "0.001784022340795274\n",
      "0.003568044681590548\n"
     ]
    }
   ],
   "source": [
    "print(P_dev['P221_270_W8_R10_IF']['Dwelling_1'][3351])\n",
    "print(P_dev_orig['P221_270_W8_R0_IF']['Dwelling_1'][3351])\n",
    "print(cuatro['P221_270_W8_R10_IF']['Dwelling_1'][3351])"
   ],
   "metadata": {
    "collapsed": false,
    "ExecuteTime": {
     "end_time": "2023-11-03T10:45:04.964207700Z",
     "start_time": "2023-11-03T10:45:04.948571800Z"
    }
   },
   "id": "cae643dfbe0faafe"
  },
  {
   "cell_type": "code",
   "execution_count": 26,
   "outputs": [
    {
     "name": "stdout",
     "output_type": "stream",
     "text": [
      "0.0006047984132426866\n",
      "0.0003023992066213433\n",
      "0.0006047984132426866\n"
     ]
    }
   ],
   "source": [
    "print(P_dhw['P221_270_W8_R10_IF']['Dwelling_1'][3951])\n",
    "print(P_dhw_orig['P221_270_W8_R0_IF']['Dwelling_1'][3951])\n",
    "print(cinco['P221_270_W8_R10_IF']['Dwelling_1'][3951])"
   ],
   "metadata": {
    "collapsed": false,
    "ExecuteTime": {
     "end_time": "2023-11-03T10:35:24.041803100Z",
     "start_time": "2023-11-03T10:35:24.027212900Z"
    }
   },
   "id": "330b6ff0203833c"
  },
  {
   "cell_type": "code",
   "execution_count": 4,
   "outputs": [
    {
     "name": "stdout",
     "output_type": "stream",
     "text": [
      "0.003679376066365721\n",
      "0.0018396880331828605\n",
      "0.003679376066365721\n"
     ]
    }
   ],
   "source": [
    "P_ht_ref = processCaracas_simple.process_caracas(ref_cat,P_ht_orig)\n",
    "print(P_ht_ref['P221_270_W8_R10_IF']['Dwelling_1'][8])\n",
    "print(P_ht_orig['P221_270_W8_R10_IF']['Dwelling_1'][8])\n",
    "print(uno['P221_270_W8_R10_IF']['Dwelling_1'][8])"
   ],
   "metadata": {
    "collapsed": false,
    "ExecuteTime": {
     "end_time": "2023-11-03T09:50:32.692798900Z",
     "start_time": "2023-11-03T09:50:16.577486600Z"
    }
   },
   "id": "556cb8f27e76fdcc"
  },
  {
   "cell_type": "code",
   "execution_count": 9,
   "outputs": [
    {
     "name": "stdout",
     "output_type": "stream",
     "text": [
      "0.023258293384482088\n",
      "0.011629146692241044\n",
      "0.023258293384482088\n"
     ]
    }
   ],
   "source": [
    "P_cl_ref = processCaracas_simple.process_caracas(ref_cat,P_cl_orig)\n",
    "print(P_cl_ref['P221_270_W8_R10_IF']['Dwelling_1'][3351])\n",
    "print(P_cl_orig['P221_270_W8_R10_IF']['Dwelling_1'][3351])\n",
    "print(dos['P221_270_W8_R10_IF']['Dwelling_1'][3351])"
   ],
   "metadata": {
    "collapsed": false,
    "ExecuteTime": {
     "end_time": "2023-11-03T10:45:18.796462300Z",
     "start_time": "2023-11-03T10:45:07.770487Z"
    }
   },
   "id": "189b75a27c8a4447"
  },
  {
   "cell_type": "code",
   "execution_count": 10,
   "outputs": [
    {
     "name": "stdout",
     "output_type": "stream",
     "text": [
      "0.06929981818342679\n",
      "0.03464990909171339\n",
      "0.06929981818342679\n"
     ]
    }
   ],
   "source": [
    "P_dhw_ref = processCaracas_simple.process_caracas(ref_cat,P_dhw_orig)\n",
    "print(P_dhw_ref['P221_270_W8_R10_IF']['Dwelling_1'][3351])\n",
    "print(P_dhw_orig['P221_270_W8_R10_IF']['Dwelling_1'][3351])\n",
    "print(cinco['P221_270_W8_R10_IF']['Dwelling_1'][3351])"
   ],
   "metadata": {
    "collapsed": false,
    "ExecuteTime": {
     "end_time": "2023-11-03T10:45:35.889001600Z",
     "start_time": "2023-11-03T10:45:25.926657Z"
    }
   },
   "id": "60776dd47b849dd"
  },
  {
   "cell_type": "code",
   "execution_count": 4,
   "outputs": [],
   "source": [
    "input_data =  {\n",
    "    'PE_ht': P_ht_orig,  # Replace with actual data for PE_ht\n",
    "    'PE_cl': P_cl_orig,  # Replace with actual data for PE_cl\n",
    "    'PE_lig': P_lig_orig,  # Replace with actual data for PE_lig\n",
    "    'PE_dev': P_dev_orig,  # Replace with actual data for PE_dev\n",
    "    'PE_dhw': P_dhw_orig  # Replace with actual data for PE_dhw\n",
    "}\n",
    "\n",
    "output = processCaracas.process_caracas(ref_cat,**input_data)"
   ],
   "metadata": {
    "collapsed": false,
    "ExecuteTime": {
     "end_time": "2023-11-03T09:09:56.175450400Z",
     "start_time": "2023-11-03T09:08:47.304398400Z"
    }
   },
   "id": "f9a9fae595e3ba3a"
  },
  {
   "cell_type": "code",
   "execution_count": null,
   "outputs": [],
   "source": [
    "output"
   ],
   "metadata": {
    "collapsed": false,
    "is_executing": true,
    "ExecuteTime": {
     "start_time": "2023-11-03T09:10:01.767794700Z"
    }
   },
   "id": "78788a5c1f7de81e"
  },
  {
   "cell_type": "code",
   "execution_count": 3,
   "outputs": [],
   "source": [
    "\n",
    "Pht_1, Pht_2, P_ht3, P_ht4, P_ht5 = processCaracas.process_caracas(ref_cat, P_ht=P_ht, P_cl=P_cl, P_lig=P_lig, P_dev=P_dev, P_dhw=P_dhw)"
   ],
   "metadata": {
    "collapsed": false,
    "ExecuteTime": {
     "end_time": "2023-11-02T17:03:56.829937100Z",
     "start_time": "2023-11-02T17:03:06.259546900Z"
    }
   },
   "id": "62bfc867f063c01c"
  },
  {
   "cell_type": "code",
   "execution_count": 42,
   "outputs": [
    {
     "data": {
      "text/plain": "0.003679376066365721"
     },
     "execution_count": 42,
     "metadata": {},
     "output_type": "execute_result"
    }
   ],
   "source": [
    "P_ht['P221_270_W8_R10_IF']['Dwelling_1'][8]"
   ],
   "metadata": {
    "collapsed": false,
    "ExecuteTime": {
     "end_time": "2023-11-03T08:22:40.303947300Z",
     "start_time": "2023-11-03T08:22:40.288107600Z"
    }
   },
   "id": "8907bda97df9c74d"
  },
  {
   "cell_type": "code",
   "execution_count": 19,
   "outputs": [
    {
     "data": {
      "text/plain": "0.0018396880331828605"
     },
     "execution_count": 19,
     "metadata": {},
     "output_type": "execute_result"
    }
   ],
   "source": [
    "P_ht_orig['P221_270_W8_R0_IF']['Dwelling_1'][8]"
   ],
   "metadata": {
    "collapsed": false,
    "ExecuteTime": {
     "end_time": "2023-11-03T08:17:58.180478100Z",
     "start_time": "2023-11-03T08:17:58.166079900Z"
    }
   },
   "id": "ed9208b19aa8e62f"
  },
  {
   "cell_type": "code",
   "execution_count": 44,
   "outputs": [
    {
     "data": {
      "text/plain": "[0.0,\n 0.0,\n 0.0,\n 0.0,\n 0.0,\n 0.0,\n 0.0,\n 0.0,\n 0.0,\n 0.0,\n 0.0,\n 0.0,\n 0.0,\n 0.0,\n 0.0,\n 0.0,\n 0.0,\n 0.0,\n 0.0,\n 0.0,\n 0.0,\n 0.0,\n 0.0,\n 0.0,\n 0.0,\n 0.0,\n 0.0,\n 0.0,\n 0.0,\n 0.0,\n 0.0,\n 0.0,\n 0.0,\n 0.0,\n 0.0,\n 0.0,\n 0.0,\n 0.0,\n 0.0,\n 0.0,\n 0.0,\n 0.0,\n 0.0,\n 0.0,\n 0.0,\n 0.0,\n 0.0,\n 0.0,\n 0.0,\n 0.0,\n 0.0,\n 0.0,\n 0.0,\n 0.0,\n 0.0,\n 0.0,\n 0.0,\n 0.0,\n 0.0,\n 0.0,\n 0.0,\n 0.0,\n 0.0,\n 0.0,\n 0.0,\n 0.0,\n 0.0,\n 0.0,\n 0.0,\n 0.0,\n 0.0,\n 0.0,\n 0.0,\n 0.0,\n 0.0,\n 0.0,\n 0.0,\n 0.0,\n 0.0,\n 0.0,\n 0.0,\n 0.0,\n 0.0,\n 0.0,\n 0.0,\n 0.0,\n 0.0,\n 0.0,\n 0.0,\n 0.0,\n 0.0,\n 0.0,\n 0.0,\n 0.0,\n 0.0,\n 0.0,\n 0.0,\n 0.0,\n 0.0,\n 0.0,\n 0.0,\n 0.0,\n 0.0,\n 0.0,\n 0.0,\n 0.0,\n 0.0,\n 0.0,\n 0.0,\n 0.0,\n 0.0,\n 0.0,\n 0.0,\n 0.0,\n 0.0,\n 0.0,\n 0.0,\n 0.0,\n 0.0,\n 0.0,\n 0.0,\n 0.0,\n 0.0,\n 0.0,\n 0.0,\n 0.0,\n 0.0,\n 0.0,\n 0.0,\n 0.0,\n 0.0,\n 0.0,\n 0.0,\n 0.0,\n 0.0,\n 0.0,\n 0.0,\n 0.0,\n 0.0,\n 0.0,\n 0.0,\n 0.0,\n 0.0,\n 0.0,\n 0.0,\n 0.0,\n 0.0,\n 0.0,\n 0.0,\n 0.0,\n 0.0,\n 0.0,\n 0.0,\n 0.0,\n 0.0,\n 0.0,\n 0.0,\n 0.0,\n 0.0,\n 0.00028410618716506785,\n 0.0,\n 0.0,\n 0.0,\n 0.0,\n 0.0,\n 0.0,\n 0.0,\n 0.0,\n 0.0,\n 0.0,\n 0.0,\n 0.0,\n 0.0,\n 0.0,\n 0.0,\n 0.0,\n 0.0,\n 0.0,\n 0.0,\n 0.0,\n 0.0,\n 0.0,\n 0.0,\n 0.0,\n 0.0,\n 0.0,\n 0.0,\n 0.0,\n 0.0,\n 0.0,\n 0.0,\n 0.0,\n 0.0,\n 0.0,\n 0.0,\n 0.0,\n 0.0,\n 0.0,\n 0.0,\n 0.0,\n 0.0,\n 0.0,\n 0.0,\n 0.0,\n 0.0,\n 0.0,\n 0.0,\n 0.0,\n 0.0,\n 0.0,\n 0.0,\n 0.0,\n 0.0,\n 0.0,\n 0.0,\n 0.0,\n 0.0,\n 0.0,\n 0.0,\n 0.0,\n 0.0,\n 0.0,\n 0.0,\n 0.0,\n 0.0,\n 0.0,\n 0.0,\n 0.0,\n 0.0,\n 0.0,\n 0.0,\n 0.0,\n 0.0,\n 0.0,\n 0.0,\n 0.0,\n 0.0,\n 0.0,\n 0.0,\n 0.0,\n 0.0,\n 0.0,\n 0.0,\n 0.0,\n 0.0,\n 0.0,\n 0.0,\n 0.0,\n 0.0,\n 0.0,\n 0.0,\n 0.0,\n 0.0,\n 0.0,\n 0.0,\n 0.0,\n 0.0,\n 0.0,\n 0.0,\n 0.0,\n 0.0,\n 0.0,\n 0.0,\n 0.0,\n 0.0,\n 0.0,\n 0.0,\n 0.0,\n 0.0,\n 0.0,\n 0.0,\n 0.0,\n 0.0,\n 0.0,\n 0.0,\n 0.0,\n 0.0,\n 0.0,\n 0.0,\n 0.0,\n 0.0,\n 0.0,\n 0.0,\n 0.0,\n 0.0,\n 0.0,\n 0.0,\n 0.0,\n 0.0,\n 0.0,\n 0.0,\n 0.0,\n 0.0,\n 0.0,\n 0.0,\n 0.0,\n 0.0,\n 0.0,\n 0.0,\n 0.0,\n 0.0,\n 0.0,\n 0.0,\n 0.0,\n 0.0,\n 0.0,\n 0.0,\n 0.0,\n 0.0,\n 0.0,\n 0.0,\n 0.0,\n 0.0,\n 0.0,\n 0.0,\n 0.0,\n 0.0,\n 0.0,\n 0.0,\n 0.0,\n 0.0,\n 0.0,\n 0.0,\n 0.0,\n 0.0,\n 0.0,\n 0.0,\n 0.0,\n 0.0,\n 0.0,\n 0.0,\n 0.0,\n 0.0,\n 0.0,\n 0.0,\n 0.0,\n 0.0,\n 0.0,\n 0.0,\n 0.0,\n 0.0,\n 0.0,\n 0.0,\n 0.0,\n 0.0,\n 0.0,\n 0.0,\n 0.0,\n 0.0,\n 0.0,\n 0.0,\n 0.0,\n 0.0,\n 0.0,\n 0.0,\n 0.0,\n 0.0,\n 0.0,\n 0.0,\n 0.0,\n 0.0,\n 0.0,\n 0.0,\n 0.0,\n 0.0,\n 0.0,\n 0.0,\n 0.0,\n 0.0,\n 0.0,\n 0.0,\n 0.0,\n 0.0,\n 0.0,\n 0.0,\n 0.0,\n 0.0,\n 0.0,\n 0.0,\n 0.0,\n 0.0,\n 0.0,\n 0.0,\n 0.0,\n 0.0,\n 0.0,\n 0.0,\n 0.0,\n 0.0,\n 0.0,\n 0.0,\n 0.0,\n 0.0,\n 0.0,\n 0.0,\n 0.0,\n 0.0,\n 0.0,\n 0.0004223047260506651,\n 0.0,\n 0.0,\n 0.0,\n 0.0,\n 0.0,\n 0.0,\n 0.0,\n 0.0,\n 0.0,\n 0.0,\n 0.0,\n 0.0,\n 0.0,\n 0.0,\n 0.0,\n 0.0,\n 0.0,\n 0.0,\n 0.0,\n 0.0,\n 0.0,\n 0.0,\n 0.0,\n 0.0,\n 0.0,\n 0.0,\n 0.0,\n 0.0,\n 0.0,\n 0.0,\n 0.0,\n 0.0,\n 0.0,\n 0.0,\n 0.0,\n 0.0,\n 0.0,\n 0.0,\n 0.0,\n 0.0,\n 0.0,\n 0.0,\n 0.0,\n 0.0,\n 0.0,\n 0.0,\n 0.0,\n 0.0,\n 0.0,\n 0.0,\n 0.0,\n 0.0,\n 0.0,\n 0.0,\n 0.0,\n 0.0,\n 0.0,\n 0.0,\n 0.0,\n 0.0,\n 0.0,\n 0.0,\n 0.0,\n 0.0,\n 0.0,\n 0.0,\n 0.0,\n 0.0,\n 0.0,\n 0.0,\n 2.5338981260751792e-05,\n 0.0,\n 0.0,\n 0.0,\n 0.0,\n 0.0,\n 0.0,\n 0.0,\n 0.0,\n 0.0,\n 0.0,\n 0.0,\n 0.0,\n 0.0,\n 0.0,\n 0.0,\n 0.0,\n 0.0,\n 0.0,\n 0.0,\n 0.0,\n 0.0,\n 0.0,\n 0.0,\n 0.0,\n 0.0,\n 0.0,\n 0.0,\n 0.0,\n 0.0,\n 0.0,\n 0.0,\n 0.0,\n 0.0,\n 0.0,\n 0.0,\n 0.0,\n 0.0,\n 0.0,\n 0.0,\n 0.0,\n 0.0,\n 0.0,\n 0.0,\n 0.0,\n 0.0,\n 0.0,\n 0.0,\n 0.0,\n 0.0,\n 0.0,\n 0.0,\n 0.0,\n 0.0,\n 0.0,\n 0.0,\n 0.0,\n 0.0,\n 0.0,\n 0.0,\n 0.0,\n 0.0,\n 0.0,\n 0.0,\n 0.0,\n 0.0,\n 0.0,\n 0.0,\n 0.0,\n 0.0,\n 0.0,\n 0.0,\n 0.0,\n 0.0,\n 0.0,\n 0.0,\n 0.0,\n 0.0,\n 0.0,\n 0.0,\n 0.0,\n 0.0,\n 0.0,\n 0.0,\n 0.0,\n 0.0,\n 0.0,\n 0.0,\n 0.0,\n 0.0,\n 0.0,\n 0.0,\n 0.0,\n 0.0,\n 0.0,\n 3.3493939957637034e-05,\n 0.00034159659543777916,\n 0.0004514299302753119,\n 2.6305827266898064e-05,\n 0.00010636185373069103,\n 0.0,\n 0.0,\n 0.0,\n 4.963686072983576e-05,\n 0.0,\n 0.0,\n 0.0,\n 0.0,\n 0.0,\n 0.0,\n 0.0,\n 0.0,\n 0.0,\n 0.0,\n 0.0,\n 0.0,\n 0.0,\n 0.0,\n 0.00018464447280356169,\n 0.0005111898451130209,\n 0.0008874522664656871,\n 0.00057080602094584,\n 0.00042305128326024737,\n 0.0004384170008118822,\n 0.0002939422328446331,\n 1.864626268472123e-05,\n 0.0,\n 7.384302253463103e-05,\n 0.0006086758341210093,\n 0.0,\n 0.0,\n 0.0,\n 0.0,\n 0.0,\n 0.0,\n 0.0,\n 0.0,\n 0.0,\n 0.0,\n 0.0,\n 0.0,\n 0.00012247608778462684,\n 0.001220479690952849,\n 0.0014995135292144512,\n 0.0011008455264296952,\n 0.0014717112288485583,\n 0.0009953861559779743,\n 0.0010711569292836092,\n 0.00036652538027628933,\n 0.0,\n 0.0,\n 0.0,\n 0.0,\n 0.00020393593198453821,\n 0.00020225914802324485,\n 0.0,\n 0.0,\n 0.0,\n 0.0,\n 0.0,\n 0.0,\n 0.0,\n 0.0,\n 0.0,\n 0.0,\n 0.0,\n 0.0,\n 0.0,\n 0.0,\n 0.0,\n 0.0,\n 0.0,\n 0.0,\n 0.0,\n 0.0,\n 0.0,\n 0.0,\n 0.0,\n 0.0,\n 0.0,\n 0.0,\n 0.0,\n 0.0,\n 0.0,\n 0.0,\n 0.0,\n 0.0,\n 0.0,\n 0.0,\n 0.0,\n 1.974479319428642e-05,\n 0.0004495136085199297,\n 0.00041800813743775604,\n 0.0006126101310783122,\n 4.7232461210421475e-05,\n 1.2422792668893034e-05,\n 0.0,\n 0.0,\n 0.0,\n 0.0,\n 0.0,\n 0.0,\n 0.0,\n 0.0,\n 0.0,\n 0.0,\n 0.0,\n 0.0,\n 0.0,\n 0.0,\n 0.0,\n 0.0,\n 0.0,\n 0.0,\n 0.0,\n 0.0001935438554035276,\n 0.00017567006173302668,\n 3.121676562301737e-05,\n 0.00022651302131310256,\n 0.00016321376185994446,\n 0.0,\n 0.0,\n 0.0,\n 5.854342714465034e-05,\n 0.0024584939314110958,\n 0.0,\n 0.0,\n 0.0,\n 0.0,\n 0.0,\n 0.0,\n 0.0,\n 0.0,\n 0.0,\n 0.0,\n 0.0,\n 0.0,\n 0.0,\n 0.0,\n 0.0,\n 0.0,\n 0.0,\n 0.0,\n 0.0,\n 0.0,\n 0.0,\n 0.0,\n 0.0,\n 0.0,\n 0.0,\n 0.0,\n 0.0,\n 0.0,\n 0.0,\n 0.0,\n 0.0,\n 0.0,\n 0.0,\n 0.0,\n 0.0,\n 0.0,\n 0.0,\n 0.0,\n 0.0,\n 0.0002930869425002183,\n 0.00023153614730697056,\n 0.0,\n 0.0,\n 0.0,\n 0.0,\n 0.0,\n 0.0,\n 0.0,\n 0.0,\n 0.0,\n 0.0,\n 0.0,\n 0.0,\n 0.0,\n 0.0,\n 0.0,\n 0.0,\n 0.0,\n 0.0,\n 0.0,\n 0.0,\n 0.0,\n 0.0,\n 0.0,\n 4.401244145759961e-05,\n 0.0,\n 0.0,\n 0.0,\n 0.0,\n 0.0001908806153640457,\n 0.0,\n 0.0,\n 0.0,\n 0.0,\n 0.0,\n 0.0,\n 0.0,\n 0.0,\n 0.0,\n 0.0,\n 0.0,\n 0.0,\n 0.0,\n 0.0,\n 0.0,\n 0.0,\n 0.0,\n 0.0,\n 0.0,\n 0.0,\n 0.0,\n 0.0,\n 0.0,\n 0.0,\n 0.0,\n 0.0,\n 0.0,\n 0.0,\n 0.0,\n 0.0,\n 0.0,\n 0.0,\n 0.0,\n 0.0,\n 0.0,\n 0.0,\n 0.0,\n 0.0,\n 2.8019536599972383e-05,\n 2.9640056226320746e-05,\n 0.00020505473741563607,\n 0.0002032453192485497,\n 0.00011048147345047139,\n 4.673354080721646e-05,\n 0.0001960552145344904,\n 0.0,\n 0.0,\n 0.0,\n 0.0,\n 0.00026821132582795476,\n 0.0,\n 0.0,\n 0.0,\n 0.0,\n 0.0,\n 0.0,\n 0.0,\n 0.0,\n 0.0,\n 0.0,\n 0.0,\n 0.0,\n 0.0,\n 0.0,\n 0.0,\n 0.0,\n 0.0,\n 0.0,\n 0.0,\n 0.0,\n 0.0,\n 0.0,\n 0.0,\n 0.0,\n 0.0,\n 0.0,\n 0.0,\n 0.0,\n 0.0,\n 0.0,\n 0.0,\n 0.0,\n 0.0,\n 0.0,\n 0.0,\n 0.0,\n 0.0,\n 0.0,\n 0.0,\n 0.0,\n 0.0,\n 0.0,\n 0.0,\n 0.0,\n 0.0,\n 0.0,\n 0.0,\n 0.0,\n 0.0,\n 0.0,\n 0.0,\n 0.0,\n 0.0,\n 0.0,\n 0.0,\n 0.0,\n 0.0,\n 0.0,\n 0.0,\n 0.0,\n 0.0,\n 0.0,\n 0.0,\n 0.0,\n 0.0,\n 0.0,\n 0.0,\n 0.0,\n 0.0,\n 0.0,\n 0.0,\n 0.0,\n 0.0,\n 0.0,\n 0.0,\n 0.0,\n 0.0,\n 0.0,\n 0.0,\n 0.0,\n 0.0,\n 0.0,\n 0.0,\n 0.0,\n 0.0,\n 0.0,\n 0.0,\n 0.0,\n 0.000600060356142916,\n 0.00032113390949531156,\n 0.0,\n 0.0,\n 0.0,\n 0.0,\n 0.0,\n 0.0,\n 0.0,\n 0.0,\n 0.0,\n 0.0,\n 0.0,\n 0.0,\n 0.0,\n 0.0,\n 0.0,\n 0.0,\n 0.0,\n 0.0,\n 0.0,\n 0.0,\n 0.0,\n 0.0,\n 0.0,\n 0.0,\n 0.0,\n 0.0,\n 0.0,\n 0.0,\n 0.0,\n 0.0,\n 0.0,\n 0.0,\n 0.0,\n 0.0,\n 0.0,\n 0.0,\n 0.0,\n 0.0,\n 0.0,\n 0.0,\n 0.0,\n 0.0,\n 0.0,\n 0.0,\n 0.0,\n 0.0,\n 0.0,\n 0.0,\n 0.0,\n 0.0,\n 0.0,\n 0.0,\n 0.0,\n 0.0,\n 0.0,\n 0.0,\n 0.0,\n 0.0,\n 0.0,\n 0.0,\n 0.0,\n 0.0,\n 0.0,\n 0.0,\n 0.0,\n 0.0,\n 0.0,\n 0.0,\n 0.0,\n 0.0,\n 0.0,\n 0.0,\n 0.0,\n 0.0,\n 0.0,\n 0.0,\n 0.0,\n 0.00023518043282467436,\n 0.0,\n 0.0,\n 0.0,\n 0.0,\n 0.0,\n 0.0,\n 0.0,\n 0.0,\n 0.0,\n 0.0,\n 0.0,\n 0.0,\n 0.0,\n 0.0,\n 0.0,\n 0.0,\n 0.0,\n 0.0,\n ...]"
     },
     "execution_count": 44,
     "metadata": {},
     "output_type": "execute_result"
    }
   ],
   "source": [],
   "metadata": {
    "collapsed": false,
    "ExecuteTime": {
     "end_time": "2023-11-03T08:23:00.388903400Z",
     "start_time": "2023-11-03T08:23:00.372967800Z"
    }
   },
   "id": "8a29b5fad2571e72"
  },
  {
   "cell_type": "code",
   "execution_count": 28,
   "outputs": [
    {
     "data": {
      "text/plain": "0.004371834638208747"
     },
     "execution_count": 28,
     "metadata": {},
     "output_type": "execute_result"
    }
   ],
   "source": [
    "P_cl['P221_270_W8_R10_IF']['Dwelling_1'][3351]"
   ],
   "metadata": {
    "collapsed": false,
    "ExecuteTime": {
     "end_time": "2023-11-03T08:20:29.054965900Z",
     "start_time": "2023-11-03T08:20:29.024971200Z"
    }
   },
   "id": "5612ec5445c231f"
  },
  {
   "cell_type": "code",
   "execution_count": null,
   "outputs": [],
   "source": [],
   "metadata": {
    "collapsed": false
   },
   "id": "1b1bb06b6a838b48"
  },
  {
   "cell_type": "code",
   "execution_count": 63,
   "outputs": [],
   "source": [],
   "metadata": {
    "collapsed": false,
    "ExecuteTime": {
     "end_time": "2023-11-03T09:03:09.682900700Z",
     "start_time": "2023-11-03T09:00:58.778806400Z"
    }
   },
   "id": "dc847a967be80648"
  },
  {
   "cell_type": "code",
   "execution_count": 68,
   "outputs": [
    {
     "name": "stdout",
     "output_type": "stream",
     "text": [
      "None\n"
     ]
    }
   ],
   "source": [
    "print(first)"
   ],
   "metadata": {
    "collapsed": false,
    "ExecuteTime": {
     "end_time": "2023-11-03T09:05:06.588918200Z",
     "start_time": "2023-11-03T09:05:06.560098600Z"
    }
   },
   "id": "77d7a86efb35d1dd"
  },
  {
   "cell_type": "code",
   "execution_count": 50,
   "outputs": [],
   "source": [
    "kwargs = P_ht_orig, P_cl_orig, P_lig_orig, P_dev_orig,P_dhw_orig\n",
    "\n",
    "def process_caracas(ref_cat, **kwargs):\n",
    "    output = {}\n",
    "    for key, vector in kwargs.items():\n",
    "        escenarios = []\n",
    "        for i in vector.keys():\n",
    "            if not i.startswith('BC0') and 'R0' not in i.rsplit(\"_\", 2)[1]:\n",
    "                escenarios.append(i.rsplit(\"_\", 1)[0])\n",
    "\n",
    "        for scenario in escenarios:\n",
    "            key_BF = scenario + \"_BF\"\n",
    "            key_IF = scenario + \"_IF\"\n",
    "            if key_BF not in vector:\n",
    "                vector[key_BF] = vector[scenario.rsplit(\"_\", 1)[0] + \"_R0\" + \"_BF\"]\n",
    "            if key_IF not in vector:\n",
    "                vector[key_IF] = vector[scenario.rsplit(\"_\", 1)[0] + \"_R0\" + \"_IF\"]\n",
    "\n",
    "        dicto = {key: value for key, value in vector.items() if 'R0' not in key}\n",
    "\n",
    "        engine = database_connection.engine\n",
    "        with open('SQL_statements/group_storeys.sql', 'r') as file:\n",
    "            group_storeys = file.read()\n",
    "        # Execute the query with the parcela variable\n",
    "        with engine.connect() as connection:\n",
    "            query = text(group_storeys)\n",
    "            group_storeys = pd.read_sql_query(query, connection, params={\"parcela\": ref_cat})\n",
    "\n",
    "        total_floors = group_storeys[group_storeys['group_apt'] == 'IF']['count_plantes'].iloc[0]\n",
    "\n",
    "        def multiply_list_elements(val):\n",
    "            return [i * total_floors for i in val]\n",
    "\n",
    "        dicto_df = pd.DataFrame(dicto)\n",
    "        IF_floors = [col for col in dicto_df.columns if col.endswith('IF')]\n",
    "        dicto_df[IF_floors] = dicto_df[IF_floors].applymap(multiply_list_elements)\n",
    "\n",
    "        vector = dicto_df.to_dict()\n",
    "        output[key] = vector\n",
    "\n",
    "    return output['P_ht'], output['P_cl'], output['P_lig'], output['P_dev'], output['P_dhw']\n"
   ],
   "metadata": {
    "collapsed": false,
    "ExecuteTime": {
     "end_time": "2023-11-03T08:34:00.736628700Z",
     "start_time": "2023-11-03T08:32:22.111064900Z"
    }
   },
   "id": "fc5fe466ef5a33be"
  },
  {
   "cell_type": "code",
   "execution_count": 53,
   "outputs": [
    {
     "data": {
      "text/plain": "0.023258293384482088"
     },
     "execution_count": 53,
     "metadata": {},
     "output_type": "execute_result"
    }
   ],
   "source": [
    "P_cl_orig2['P221_270_W8_R10_IF']['Dwelling_1'][3351]"
   ],
   "metadata": {
    "collapsed": false,
    "ExecuteTime": {
     "end_time": "2023-11-03T08:35:18.270760400Z",
     "start_time": "2023-11-03T08:35:18.175711Z"
    }
   },
   "id": "f3fc4411bc805681"
  },
  {
   "cell_type": "code",
   "execution_count": 58,
   "outputs": [
    {
     "data": {
      "text/plain": "0.046516586768964176"
     },
     "execution_count": 58,
     "metadata": {},
     "output_type": "execute_result"
    }
   ],
   "source": [
    "P_cl_orig['P221_270_W8_R10_IF']['Dwelling_1'][3351]*4"
   ],
   "metadata": {
    "collapsed": false,
    "ExecuteTime": {
     "end_time": "2023-11-03T08:37:19.006582700Z",
     "start_time": "2023-11-03T08:37:18.547439600Z"
    }
   },
   "id": "eda7aa264cff67d"
  },
  {
   "cell_type": "code",
   "execution_count": 57,
   "outputs": [
    {
     "data": {
      "text/plain": "0.004371834638208747"
     },
     "execution_count": 57,
     "metadata": {},
     "output_type": "execute_result"
    }
   ],
   "source": [
    "P_cl['P221_270_W8_R10_IF']['Dwelling_1'][3351]"
   ],
   "metadata": {
    "collapsed": false,
    "ExecuteTime": {
     "end_time": "2023-11-03T08:37:10.473740900Z",
     "start_time": "2023-11-03T08:37:09.938957500Z"
    }
   },
   "id": "59800954e20422e3"
  },
  {
   "cell_type": "code",
   "execution_count": 59,
   "outputs": [],
   "source": [
    "dicto = copy.deepcopy(P_ht)\n",
    "ref_cat = '1502002DD7810B'\n",
    "\n",
    "escenarios = []\n",
    "for i in dicto.keys():\n",
    "    if not i.startswith('BC0') and 'R0' not in i.rsplit(\"_\", 2)[1]:\n",
    "        escenarios.append(i.rsplit(\"_\",1)[0])\n",
    "      \n",
    "for scenario in escenarios:\n",
    "\n",
    "    key_BF = scenario + \"_BF\"\n",
    "    key_IF = scenario + \"_IF\"\n",
    "    \n",
    "    if key_BF not in P_ht:\n",
    "        dicto[key_BF] = dicto[scenario.rsplit(\"_\", 1)[0] + \"_R0\" + \"_BF\"]\n",
    "    if key_IF not in P_ht:\n",
    "        dicto[key_IF] = dicto[scenario.rsplit(\"_\", 1)[0] + \"_R0\" + \"_IF\"]\n",
    "        \n",
    "dicto = {key: value for key, value in dicto.items() if 'R0' not in key}\n",
    "\n",
    "engine = database_connection.engine\n",
    "with open('SQL_statements/group_storeys.sql', 'r') as file:\n",
    "    group_storeys = file.read()\n",
    "\n",
    "        # Execute the query with the parcela variable\n",
    "with engine.connect() as connection:\n",
    "    query = text(group_storeys)\n",
    "    group_storeys = pd.read_sql_query(query, connection, params={\"parcela\":ref_cat })\n",
    "    \n",
    "\n",
    "total_floors = group_storeys[group_storeys['group_apt']=='IF']['count_plantes'].iloc[0]\n",
    "\n",
    "def multiply_list_elements(val):\n",
    "    return [i * total_floors for i in val]\n",
    "\n",
    "\n",
    "dicto_df = pd.DataFrame(dicto)\n",
    "IF_floors = [col for col in dicto_df.columns if col.endswith('IF')]\n",
    "dicto_df[IF_floors] = dicto_df[IF_floors].applymap(multiply_list_elements)\n",
    "\n",
    "dicto = dicto_df.to_dict()\n",
    "\n",
    "\n",
    "\n",
    "\n"
   ],
   "metadata": {
    "collapsed": false,
    "ExecuteTime": {
     "end_time": "2023-11-02T15:47:40.911030Z",
     "start_time": "2023-11-02T15:47:21.866961Z"
    }
   },
   "id": "6f4e5bdd319059b4"
  },
  {
   "cell_type": "code",
   "execution_count": null,
   "outputs": [],
   "source": [
    "ref_cat = '1502002DD7810B'\n",
    "engine = database_connection.engine\n",
    "with open('SQL_statements/group_storeys.sql', 'r') as file:\n",
    "    group_storeys = file.read()\n",
    "\n",
    "with engine.connect() as connection:\n",
    "    query = text(group_storeys)\n",
    "    group_storeys = pd.read_sql_query(query, connection, params={\"parcela\":ref_cat })\n",
    "    \n",
    "\n",
    "total_floors = group_storeys[group_storeys['group_apt']=='IF']['count_plantes'].iloc[0]\n",
    "\n",
    "def multiply_list_elements(val):\n",
    "        return [i * total_floors for i in val]\n",
    "\n",
    "def process_caracas(**kwargs):\n",
    "    \n",
    "    output = []\n",
    "    for vector in kwargs: \n",
    "        for i in vector.keys():\n",
    "            escenarios = []\n",
    "            if not i.startswith('BC0') and 'R0' not in i.rsplit(\"_\", 2)[1]:\n",
    "            escenarios.append(i.rsplit(\"_\",1)[0])\n",
    "      \n",
    "        for scenario in escenarios:\n",
    "\n",
    "            key_BF = scenario + \"_BF\"\n",
    "            key_IF = scenario + \"_IF\"\n",
    "    \n",
    "            if key_BF not in vector:\n",
    "                vector[key_BF] = vector[scenario.rsplit(\"_\", 1)[0] + \"_R0\" + \"_BF\"]\n",
    "            if key_IF not in vector:\n",
    "                vector[key_IF] = vector[scenario.rsplit(\"_\", 1)[0] + \"_R0\" + \"_IF\"]\n",
    "        \n",
    "        dicto = {key: value for key, value in vector.items() if 'R0' not in key}\n",
    "\n",
    "        dicto_df = pd.DataFrame(dicto)\n",
    "        IF_floors = [col for col in dicto_df.columns if col.endswith('IF')]\n",
    "        dicto_df[IF_floors] = dicto_df[IF_floors].applymap(multiply_list_elements)\n",
    "\n",
    "        vector = dicto_df.to_dict()\n",
    "        output.append(vector)\n",
    "    \n",
    "    return output['P_ht'], output['P_cl'], output['P_lig'], output['P_dev'], output['P_dhw']"
   ],
   "metadata": {
    "collapsed": false
   },
   "id": "bb1e8421e7d3e9a"
  },
  {
   "cell_type": "code",
   "execution_count": 65,
   "outputs": [],
   "source": [
    "def process_caracas(ref_cat, **kwargs):\n",
    "    output = {'P_ht': None, 'P_cl': None, 'P_lig': None, 'P_dev': None, 'P_dhw': None}\n",
    "    for key, vector in kwargs.items():\n",
    "        escenarios = []\n",
    "        for i in vector.keys():\n",
    "            if not i.startswith('BC0') and 'R0' not in i.rsplit(\"_\", 2)[1]:\n",
    "                escenarios.append(i.rsplit(\"_\",1)[0])\n",
    "\n",
    "        for scenario in escenarios:\n",
    "            key_BF = scenario + \"_BF\"\n",
    "            key_IF = scenario + \"_IF\"\n",
    "            if key_BF not in vector:\n",
    "                vector[key_BF] = vector[scenario.rsplit(\"_\", 1)[0] + \"_R0\" + \"_BF\"]\n",
    "            if key_IF not in vector:\n",
    "                vector[key_IF] = vector[scenario.rsplit(\"_\", 1)[0] + \"_R0\" + \"_IF\"]\n",
    "        \n",
    "        dicto = {key: value for key, value in vector.items() if 'R0' not in key}\n",
    "\n",
    "        engine = database_connection.engine\n",
    "        with open('SQL_statements/group_storeys.sql', 'r') as file:\n",
    "            group_storeys = file.read()\n",
    "        # Execute the query with the parcela variable\n",
    "        with engine.connect() as connection:\n",
    "            query = text(group_storeys)\n",
    "            group_storeys = pd.read_sql_query(query, connection, params={\"parcela\":ref_cat })\n",
    "\n",
    "        total_floors = group_storeys[group_storeys['group_apt']=='IF']['count_plantes'].iloc[0]\n",
    "\n",
    "        def multiply_list_elements(val):\n",
    "            return [i * total_floors for i in val]\n",
    "\n",
    "        dicto_df = pd.DataFrame(dicto)\n",
    "        IF_floors = [col for col in dicto_df.columns if col.endswith('IF')]\n",
    "        dicto_df[IF_floors] = dicto_df[IF_floors].applymap(multiply_list_elements)\n",
    "\n",
    "        vector = dicto_df.to_dict()\n",
    "        output[key] = vector\n",
    "\n",
    "    return output['PE_ht'], output['PE_cl'] , output['PE_lig'] , output['PE_dev'], output['PE_dhw'] "
   ],
   "metadata": {
    "collapsed": false,
    "ExecuteTime": {
     "end_time": "2023-11-02T16:26:09.035914800Z",
     "start_time": "2023-11-02T16:26:09.028886700Z"
    }
   },
   "id": "aac30ed39d0be0b5"
  },
  {
   "cell_type": "code",
   "execution_count": 83,
   "outputs": [],
   "source": [
    "Pht_1, Pht_2, P_ht3, P_ht4, P_ht5 = process_caracas(ref_cat, P_ht=P_ht, P_cl=P_cl, P_lig=P_lig, P_dev=P_dev, P_dhw=P_dhw)\n"
   ],
   "metadata": {
    "collapsed": false,
    "ExecuteTime": {
     "end_time": "2023-11-02T16:34:20.668993500Z",
     "start_time": "2023-11-02T16:33:05.836159200Z"
    }
   },
   "id": "5bb56b9823d94fa"
  },
  {
   "cell_type": "code",
   "execution_count": 11,
   "outputs": [
    {
     "data": {
      "text/plain": "0.003679376066365721"
     },
     "execution_count": 11,
     "metadata": {},
     "output_type": "execute_result"
    }
   ],
   "source": [
    "pd.DataFrame(P_ht)['P221_270_W8_R10_IF']['Dwelling_1'][8]"
   ],
   "metadata": {
    "collapsed": false,
    "ExecuteTime": {
     "end_time": "2023-11-02T17:20:35.803837900Z",
     "start_time": "2023-11-02T17:20:35.793459500Z"
    }
   },
   "id": "52220fd440d334d8"
  },
  {
   "cell_type": "code",
   "execution_count": 8,
   "outputs": [
    {
     "ename": "NameError",
     "evalue": "name 'output_dict' is not defined",
     "output_type": "error",
     "traceback": [
      "\u001B[1;31m---------------------------------------------------------------------------\u001B[0m",
      "\u001B[1;31mNameError\u001B[0m                                 Traceback (most recent call last)",
      "Cell \u001B[1;32mIn[8], line 1\u001B[0m\n\u001B[1;32m----> 1\u001B[0m output_dict[\u001B[38;5;124m'\u001B[39m\u001B[38;5;124mP_cl\u001B[39m\u001B[38;5;124m'\u001B[39m][\u001B[38;5;124m'\u001B[39m\u001B[38;5;124mP221_270_W8_R10_IF\u001B[39m\u001B[38;5;124m'\u001B[39m][\u001B[38;5;124m'\u001B[39m\u001B[38;5;124mDwelling_1\u001B[39m\u001B[38;5;124m'\u001B[39m][\u001B[38;5;241m3231\u001B[39m]\n",
      "\u001B[1;31mNameError\u001B[0m: name 'output_dict' is not defined"
     ]
    }
   ],
   "source": [
    "output_dict['P_cl']['P221_270_W8_R10_IF']['Dwelling_1'][3231]"
   ],
   "metadata": {
    "collapsed": false,
    "ExecuteTime": {
     "end_time": "2023-11-02T17:20:04.763727600Z",
     "start_time": "2023-11-02T17:20:03.994007900Z"
    }
   },
   "id": "6b40bc8368006dc1"
  },
  {
   "cell_type": "code",
   "execution_count": 7,
   "outputs": [
    {
     "data": {
      "text/plain": "0.008743669276417494"
     },
     "execution_count": 7,
     "metadata": {},
     "output_type": "execute_result"
    }
   ],
   "source": [
    "P_cl['P221_270_W8_R10_IF']['Dwelling_1'][3231]*2"
   ],
   "metadata": {
    "collapsed": false,
    "ExecuteTime": {
     "end_time": "2023-11-02T17:19:59.100746Z",
     "start_time": "2023-11-02T17:19:59.073798200Z"
    }
   },
   "id": "10a7f0091735bf09"
  },
  {
   "cell_type": "code",
   "execution_count": 60,
   "outputs": [
    {
     "data": {
      "text/plain": "0.003679376066365721"
     },
     "execution_count": 60,
     "metadata": {},
     "output_type": "execute_result"
    }
   ],
   "source": [
    "dicto['P221_270_W8_R10_IF']['Dwelling_1'][8]"
   ],
   "metadata": {
    "collapsed": false,
    "ExecuteTime": {
     "end_time": "2023-11-02T15:48:54.805828700Z",
     "start_time": "2023-11-02T15:48:54.767864200Z"
    }
   },
   "id": "20a0226fc2e58bd1"
  },
  {
   "cell_type": "code",
   "execution_count": 62,
   "outputs": [
    {
     "data": {
      "text/plain": "0.003679376066365721"
     },
     "execution_count": 62,
     "metadata": {},
     "output_type": "execute_result"
    }
   ],
   "source": [
    "P_ht['P221_270_W8_R0_IF']['Dwelling_1'][8]*2\n"
   ],
   "metadata": {
    "collapsed": false,
    "ExecuteTime": {
     "end_time": "2023-11-02T15:49:03.095357200Z",
     "start_time": "2023-11-02T15:49:03.085690400Z"
    }
   },
   "id": "66eebd142f21a0a2"
  },
  {
   "cell_type": "code",
   "execution_count": 154,
   "outputs": [
    {
     "data": {
      "text/plain": "32.0"
     },
     "execution_count": 154,
     "metadata": {},
     "output_type": "execute_result"
    }
   ],
   "source": [
    "0.058870017061851534/0.0018396880331828605\n"
   ],
   "metadata": {
    "collapsed": false,
    "ExecuteTime": {
     "end_time": "2023-11-02T14:09:13.911337300Z",
     "start_time": "2023-11-02T14:09:13.742151500Z"
    }
   },
   "id": "bea5f8a56a5d58ed"
  },
  {
   "cell_type": "code",
   "execution_count": 30,
   "outputs": [],
   "source": [
    "simulations = []\n",
    "for i in dicto.keys():\n",
    "    if not i.startswith('BC0') and 'R0' not in i.rsplit(\"_\", 2)[1]:\n",
    "        simulations.append(i.rsplit(\"_\",1)[0])"
   ],
   "metadata": {
    "collapsed": false,
    "ExecuteTime": {
     "end_time": "2023-11-02T11:50:19.908961500Z",
     "start_time": "2023-11-02T11:50:19.908961500Z"
    }
   },
   "id": "7a298ef9710c743e"
  },
  {
   "cell_type": "code",
   "execution_count": 36,
   "outputs": [],
   "source": [
    "for simulation in simulations:\n",
    "\n",
    "    key_BF = simulation + \"_BF\"\n",
    "    key_IF = simulation + \"_IF\"\n",
    "    \n",
    "    if key_BF not in P_ht:\n",
    "        dicto[key_BF] = dicto[simulation.rsplit(\"_\", 1)[0] + \"_R0\" + \"_BF\"]\n",
    "    if key_IF not in P_ht:\n",
    "        dicto[key_IF] = dicto[simulation.rsplit(\"_\", 1)[0] + \"_R0\" + \"_IF\"]\n",
    "        \n",
    "\n",
    "    "
   ],
   "metadata": {
    "collapsed": false,
    "ExecuteTime": {
     "end_time": "2023-11-02T11:52:39.421404400Z",
     "start_time": "2023-11-02T11:52:39.406047400Z"
    }
   },
   "id": "747be0fc69259293"
  },
  {
   "cell_type": "code",
   "execution_count": 38,
   "outputs": [
    {
     "data": {
      "text/plain": "1354"
     },
     "execution_count": 38,
     "metadata": {},
     "output_type": "execute_result"
    }
   ],
   "source": [
    "len(dicto.keys())"
   ],
   "metadata": {
    "collapsed": false,
    "ExecuteTime": {
     "end_time": "2023-11-02T11:54:03.141425100Z",
     "start_time": "2023-11-02T11:54:03.110548Z"
    }
   },
   "id": "da0b9e9c9e2fef50"
  },
  {
   "cell_type": "code",
   "execution_count": 42,
   "outputs": [
    {
     "data": {
      "text/plain": "1194"
     },
     "execution_count": 42,
     "metadata": {},
     "output_type": "execute_result"
    }
   ],
   "source": [
    "filtered_dict = {key: value for key, value in dicto.items() if 'R0' not in key}\n",
    "len(filtered_dict.keys())"
   ],
   "metadata": {
    "collapsed": false,
    "ExecuteTime": {
     "end_time": "2023-11-02T11:57:25.564871300Z",
     "start_time": "2023-11-02T11:57:25.533157100Z"
    }
   },
   "id": "6afe4ece673b956"
  },
  {
   "cell_type": "code",
   "execution_count": 34,
   "outputs": [
    {
     "data": {
      "text/plain": "      Dwelling_1  Dwelling_2  Dwelling_3\n0       0.000000    0.000000    0.000000\n1       0.018954    0.029492    0.029479\n2       0.012153    0.019041    0.019031\n3       0.009046    0.014204    0.014196\n4       0.007095    0.011413    0.011408\n...          ...         ...         ...\n8755    0.000054    0.000000    0.000000\n8756    0.001174    0.000000    0.000000\n8757    0.002094    0.000006    0.000003\n8758    0.002760    0.000456    0.000428\n8759    0.003380    0.001082    0.001058\n\n[8760 rows x 3 columns]",
      "text/html": "<div>\n<style scoped>\n    .dataframe tbody tr th:only-of-type {\n        vertical-align: middle;\n    }\n\n    .dataframe tbody tr th {\n        vertical-align: top;\n    }\n\n    .dataframe thead th {\n        text-align: right;\n    }\n</style>\n<table border=\"1\" class=\"dataframe\">\n  <thead>\n    <tr style=\"text-align: right;\">\n      <th></th>\n      <th>Dwelling_1</th>\n      <th>Dwelling_2</th>\n      <th>Dwelling_3</th>\n    </tr>\n  </thead>\n  <tbody>\n    <tr>\n      <th>0</th>\n      <td>0.000000</td>\n      <td>0.000000</td>\n      <td>0.000000</td>\n    </tr>\n    <tr>\n      <th>1</th>\n      <td>0.018954</td>\n      <td>0.029492</td>\n      <td>0.029479</td>\n    </tr>\n    <tr>\n      <th>2</th>\n      <td>0.012153</td>\n      <td>0.019041</td>\n      <td>0.019031</td>\n    </tr>\n    <tr>\n      <th>3</th>\n      <td>0.009046</td>\n      <td>0.014204</td>\n      <td>0.014196</td>\n    </tr>\n    <tr>\n      <th>4</th>\n      <td>0.007095</td>\n      <td>0.011413</td>\n      <td>0.011408</td>\n    </tr>\n    <tr>\n      <th>...</th>\n      <td>...</td>\n      <td>...</td>\n      <td>...</td>\n    </tr>\n    <tr>\n      <th>8755</th>\n      <td>0.000054</td>\n      <td>0.000000</td>\n      <td>0.000000</td>\n    </tr>\n    <tr>\n      <th>8756</th>\n      <td>0.001174</td>\n      <td>0.000000</td>\n      <td>0.000000</td>\n    </tr>\n    <tr>\n      <th>8757</th>\n      <td>0.002094</td>\n      <td>0.000006</td>\n      <td>0.000003</td>\n    </tr>\n    <tr>\n      <th>8758</th>\n      <td>0.002760</td>\n      <td>0.000456</td>\n      <td>0.000428</td>\n    </tr>\n    <tr>\n      <th>8759</th>\n      <td>0.003380</td>\n      <td>0.001082</td>\n      <td>0.001058</td>\n    </tr>\n  </tbody>\n</table>\n<p>8760 rows × 3 columns</p>\n</div>"
     },
     "execution_count": 34,
     "metadata": {},
     "output_type": "execute_result"
    }
   ],
   "source": [
    "pd.DataFrame(dicto['P221_90_W8_R6_BF'])"
   ],
   "metadata": {
    "collapsed": false,
    "ExecuteTime": {
     "end_time": "2023-11-02T11:51:20.474449Z",
     "start_time": "2023-11-02T11:51:20.442972800Z"
    }
   },
   "id": "1d2842f867dcadb5"
  },
  {
   "cell_type": "code",
   "execution_count": 35,
   "outputs": [
    {
     "data": {
      "text/plain": "      Dwelling_1  Dwelling_2  Dwelling_3\n0       0.000000    0.000000    0.000000\n1       0.018954    0.029492    0.029479\n2       0.012153    0.019041    0.019031\n3       0.009046    0.014204    0.014196\n4       0.007095    0.011413    0.011408\n...          ...         ...         ...\n8755    0.000054    0.000000    0.000000\n8756    0.001174    0.000000    0.000000\n8757    0.002094    0.000006    0.000003\n8758    0.002760    0.000456    0.000428\n8759    0.003380    0.001082    0.001058\n\n[8760 rows x 3 columns]",
      "text/html": "<div>\n<style scoped>\n    .dataframe tbody tr th:only-of-type {\n        vertical-align: middle;\n    }\n\n    .dataframe tbody tr th {\n        vertical-align: top;\n    }\n\n    .dataframe thead th {\n        text-align: right;\n    }\n</style>\n<table border=\"1\" class=\"dataframe\">\n  <thead>\n    <tr style=\"text-align: right;\">\n      <th></th>\n      <th>Dwelling_1</th>\n      <th>Dwelling_2</th>\n      <th>Dwelling_3</th>\n    </tr>\n  </thead>\n  <tbody>\n    <tr>\n      <th>0</th>\n      <td>0.000000</td>\n      <td>0.000000</td>\n      <td>0.000000</td>\n    </tr>\n    <tr>\n      <th>1</th>\n      <td>0.018954</td>\n      <td>0.029492</td>\n      <td>0.029479</td>\n    </tr>\n    <tr>\n      <th>2</th>\n      <td>0.012153</td>\n      <td>0.019041</td>\n      <td>0.019031</td>\n    </tr>\n    <tr>\n      <th>3</th>\n      <td>0.009046</td>\n      <td>0.014204</td>\n      <td>0.014196</td>\n    </tr>\n    <tr>\n      <th>4</th>\n      <td>0.007095</td>\n      <td>0.011413</td>\n      <td>0.011408</td>\n    </tr>\n    <tr>\n      <th>...</th>\n      <td>...</td>\n      <td>...</td>\n      <td>...</td>\n    </tr>\n    <tr>\n      <th>8755</th>\n      <td>0.000054</td>\n      <td>0.000000</td>\n      <td>0.000000</td>\n    </tr>\n    <tr>\n      <th>8756</th>\n      <td>0.001174</td>\n      <td>0.000000</td>\n      <td>0.000000</td>\n    </tr>\n    <tr>\n      <th>8757</th>\n      <td>0.002094</td>\n      <td>0.000006</td>\n      <td>0.000003</td>\n    </tr>\n    <tr>\n      <th>8758</th>\n      <td>0.002760</td>\n      <td>0.000456</td>\n      <td>0.000428</td>\n    </tr>\n    <tr>\n      <th>8759</th>\n      <td>0.003380</td>\n      <td>0.001082</td>\n      <td>0.001058</td>\n    </tr>\n  </tbody>\n</table>\n<p>8760 rows × 3 columns</p>\n</div>"
     },
     "execution_count": 35,
     "metadata": {},
     "output_type": "execute_result"
    }
   ],
   "source": [
    "\n",
    "pd.DataFrame(dicto['P221_90_W8_R0_BF'])"
   ],
   "metadata": {
    "collapsed": false,
    "ExecuteTime": {
     "end_time": "2023-11-02T11:51:39.400080800Z",
     "start_time": "2023-11-02T11:51:39.369365600Z"
    }
   },
   "id": "bec54834167d5337"
  },
  {
   "cell_type": "code",
   "execution_count": null,
   "outputs": [],
   "source": [],
   "metadata": {
    "collapsed": false
   },
   "id": "b431c3693e686e55"
  }
 ],
 "metadata": {
  "kernelspec": {
   "display_name": "Python 3",
   "language": "python",
   "name": "python3"
  },
  "language_info": {
   "codemirror_mode": {
    "name": "ipython",
    "version": 2
   },
   "file_extension": ".py",
   "mimetype": "text/x-python",
   "name": "python",
   "nbconvert_exporter": "python",
   "pygments_lexer": "ipython2",
   "version": "2.7.6"
  }
 },
 "nbformat": 4,
 "nbformat_minor": 5
}
