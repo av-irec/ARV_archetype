{
 "cells": [
  {
   "cell_type": "code",
   "execution_count": 2,
   "id": "initial_id",
   "metadata": {
    "collapsed": true,
    "ExecuteTime": {
     "end_time": "2023-10-18T08:34:51.097852200Z",
     "start_time": "2023-10-18T08:34:47.610123Z"
    }
   },
   "outputs": [],
   "source": [
    "# Import libraries and packages\n",
    "import os\n",
    "import sys\n",
    "import pandas as pd\n",
    "# Path\n",
    "\n",
    "direct = os.getcwd()\n",
    "sys.path[0] = direct\n",
    "\n",
    "\n",
    "from interactors import analysisTRNSYS"
   ]
  },
  {
   "cell_type": "code",
   "execution_count": 3,
   "outputs": [],
   "source": [
    "n_viv_simulated = 3\n",
    "building_to_analyse = 'Caracas1'\n",
    "ref_cat_analysis = '1502002DD7810B'"
   ],
   "metadata": {
    "collapsed": false,
    "ExecuteTime": {
     "end_time": "2023-10-18T08:34:51.114787700Z",
     "start_time": "2023-10-18T08:34:51.098851900Z"
    }
   },
   "id": "a5b0517c9900d21a"
  },
  {
   "cell_type": "code",
   "execution_count": 4,
   "outputs": [],
   "source": [
    "analysisType = analysisTRNSYS.energyAnalysis(n_viv = n_viv_simulated, name = building_to_analyse)\n",
    "data = analysisTRNSYS.do_analysis(analysisType)\n",
    "P_ht, P_cl, P_lig, P_dev, P_dhw, PE_ht, PE_cl, PE_lig,PE_dev ,PE_dhw, CO2_ht, CO2_cl, CO2_lig, CO2_dev, CO2_dhw = data.start()"
   ],
   "metadata": {
    "collapsed": false,
    "ExecuteTime": {
     "end_time": "2023-10-18T08:37:22.485247500Z",
     "start_time": "2023-10-18T08:34:54.157453100Z"
    }
   },
   "id": "34b3e96d4c5567df"
  },
  {
   "cell_type": "code",
   "execution_count": 8,
   "outputs": [
    {
     "data": {
      "text/plain": "                                                     BC0_0_BF  \\\nDwelling_1  [0.0, 0.019596164391711746, 0.0132219601770267...   \nDwelling_2  [0.0, 0.03051702199857745, 0.02053985105047135...   \nDwelling_3  [0.0, 0.030503188660710476, 0.0205271566802896...   \n\n                                                     BC0_0_IF  \\\nDwelling_1  [0.0, 0.0, 0.0, 0.0, 0.0, 0.0, 0.0, 0.0, 0.017...   \nDwelling_2  [0.0, 0.0, 0.0, 0.0, 0.0, 0.0, 0.0, 0.0, 0.012...   \nDwelling_3  [0.0, 0.0, 0.0, 0.0, 0.0, 0.0, 0.0, 0.0, 0.012...   \n\n                                                     BC0_0_TF  \\\nDwelling_1  [0.0, 0.029411606768236193, 0.0199132694025201...   \nDwelling_2  [0.0, 0.028815969265537818, 0.0190446848037342...   \nDwelling_3  [0.0, 0.028806104145710863, 0.0190728829663903...   \n\n                                                   BC0_180_BF  \\\nDwelling_1  [0.0, 0.019596164391711746, 0.0132219601770267...   \nDwelling_2  [0.0, 0.03051702199857745, 0.02053985105047135...   \nDwelling_3  [0.0, 0.030503188660710476, 0.0205271566802896...   \n\n                                                   BC0_180_IF  \\\nDwelling_1  [0.0, 0.0, 0.0, 0.0, 0.0, 0.0, 0.0, 0.0, 0.017...   \nDwelling_2  [0.0, 0.0, 0.0, 0.0, 0.0, 0.0, 0.0, 0.0, 0.012...   \nDwelling_3  [0.0, 0.0, 0.0, 0.0, 0.0, 0.0, 0.0, 0.0, 0.012...   \n\n                                                   BC0_180_TF  \\\nDwelling_1  [0.0, 0.029411606768236193, 0.0199132694025201...   \nDwelling_2  [0.0, 0.028815969265537818, 0.0190446848037342...   \nDwelling_3  [0.0, 0.028806104145710863, 0.0190728829663903...   \n\n                                                   BC0_270_BF  \\\nDwelling_1  [0.0, 0.019596164391711746, 0.0132219601770267...   \nDwelling_2  [0.0, 0.03051702199857745, 0.02053985105047135...   \nDwelling_3  [0.0, 0.030503188660710476, 0.0205271566802896...   \n\n                                                   BC0_270_IF  \\\nDwelling_1  [0.0, 0.0, 0.0, 0.0, 0.0, 0.0, 0.0, 0.0, 0.017...   \nDwelling_2  [0.0, 0.0, 0.0, 0.0, 0.0, 0.0, 0.0, 0.0, 0.012...   \nDwelling_3  [0.0, 0.0, 0.0, 0.0, 0.0, 0.0, 0.0, 0.0, 0.012...   \n\n                                                   BC0_270_TF  \\\nDwelling_1  [0.0, 0.029411606768236193, 0.0199132694025201...   \nDwelling_2  [0.0, 0.028815969265537818, 0.0190446848037342...   \nDwelling_3  [0.0, 0.028806104145710863, 0.0190728829663903...   \n\n                                                    BC0_90_BF  ...  \\\nDwelling_1  [0.0, 0.019596164391711746, 0.0132219601770267...  ...   \nDwelling_2  [0.0, 0.03051702199857745, 0.02053985105047135...  ...   \nDwelling_3  [0.0, 0.030503188660710476, 0.0205271566802896...  ...   \n\n                                            P221_90_W6_R14_TF  \\\nDwelling_1  [0.0, 0.028379905057785385, 0.0180789106190560...   \nDwelling_2  [0.0, 0.02781527816294779, 0.01746388778730575...   \nDwelling_3  [0.0, 0.027803293427639122, 0.0174556661232847...   \n\n                                             P221_90_W6_R6_TF  \\\nDwelling_1  [0.0, 0.028379916054531724, 0.0180793443073725...   \nDwelling_2  [0.0, 0.02781528700649415, 0.01746423621513421...   \nDwelling_3  [0.0, 0.027803304151965618, 0.0174560883584332...   \n\n                                             P221_90_W6_R8_TF  \\\nDwelling_1  [0.0, 0.02837990693731088, 0.01807901242158631...   \nDwelling_2  [0.0, 0.027815279674575165, 0.0174639695750499...   \nDwelling_3  [0.0, 0.027803295260578575, 0.0174557651878614...   \n\n                                             P221_90_W8_R0_BF  \\\nDwelling_1  [0.0, 0.01895407595469727, 0.01215330113847122...   \nDwelling_2  [0.0, 0.02949203413722698, 0.01904122877603674...   \nDwelling_3  [0.0, 0.029478528979844754, 0.0190305428010136...   \n\n                                             P221_90_W8_R0_IF  \\\nDwelling_1  [0.0, 0.0, 0.0, 0.0, 0.0, 0.0, 0.0, 0.0, 0.001...   \nDwelling_2  [0.0, 0.0, 0.0, 0.0, 0.0, 0.0, 0.0, 0.0, 0.001...   \nDwelling_3  [0.0, 0.0, 0.0, 0.0, 0.0, 0.0, 0.0, 0.0, 0.001...   \n\n                                            P221_90_W8_R10_TF  \\\nDwelling_1  [0.0, 0.02837942354521066, 0.01807308202426498...   \nDwelling_2  [0.0, 0.027814999696731783, 0.0174605365792648...   \nDwelling_3  [0.0, 0.027803016829117212, 0.0174523405750067...   \n\n                                            P221_90_W8_R12_TF  \\\nDwelling_1  [0.0, 0.02837942330322366, 0.01807306372047474...   \nDwelling_2  [0.0, 0.027814999502466374, 0.0174605218731524...   \nDwelling_3  [0.0, 0.027803016593126745, 0.0174523227675238...   \n\n                                            P221_90_W8_R14_TF  \\\nDwelling_1  [0.0, 0.02837942326995507, 0.01807305963858624...   \nDwelling_2  [0.0, 0.02781499947550302, 0.01746051859264496...   \nDwelling_3  [0.0, 0.02780301656067673, 0.01745231879779257...   \n\n                                             P221_90_W8_R6_TF  \\\nDwelling_1  [0.0, 0.028379434265474707, 0.0180734932124013...   \nDwelling_2  [0.0, 0.027815008318464268, 0.0174608669606445...   \nDwelling_3  [0.0, 0.02780302728428438, 0.01745274096033658...   \n\n                                             P221_90_W8_R8_TF  \nDwelling_1  [0.0, 0.02837942514927037, 0.01807316140804863...  \nDwelling_2  [0.0, 0.02781500098703019, 0.01746060036417219...  \nDwelling_3  [0.0, 0.027803018393492928, 0.0174524178426910...  \n\n[3 rows x 566 columns]",
      "text/html": "<div>\n<style scoped>\n    .dataframe tbody tr th:only-of-type {\n        vertical-align: middle;\n    }\n\n    .dataframe tbody tr th {\n        vertical-align: top;\n    }\n\n    .dataframe thead th {\n        text-align: right;\n    }\n</style>\n<table border=\"1\" class=\"dataframe\">\n  <thead>\n    <tr style=\"text-align: right;\">\n      <th></th>\n      <th>BC0_0_BF</th>\n      <th>BC0_0_IF</th>\n      <th>BC0_0_TF</th>\n      <th>BC0_180_BF</th>\n      <th>BC0_180_IF</th>\n      <th>BC0_180_TF</th>\n      <th>BC0_270_BF</th>\n      <th>BC0_270_IF</th>\n      <th>BC0_270_TF</th>\n      <th>BC0_90_BF</th>\n      <th>...</th>\n      <th>P221_90_W6_R14_TF</th>\n      <th>P221_90_W6_R6_TF</th>\n      <th>P221_90_W6_R8_TF</th>\n      <th>P221_90_W8_R0_BF</th>\n      <th>P221_90_W8_R0_IF</th>\n      <th>P221_90_W8_R10_TF</th>\n      <th>P221_90_W8_R12_TF</th>\n      <th>P221_90_W8_R14_TF</th>\n      <th>P221_90_W8_R6_TF</th>\n      <th>P221_90_W8_R8_TF</th>\n    </tr>\n  </thead>\n  <tbody>\n    <tr>\n      <th>Dwelling_1</th>\n      <td>[0.0, 0.019596164391711746, 0.0132219601770267...</td>\n      <td>[0.0, 0.0, 0.0, 0.0, 0.0, 0.0, 0.0, 0.0, 0.017...</td>\n      <td>[0.0, 0.029411606768236193, 0.0199132694025201...</td>\n      <td>[0.0, 0.019596164391711746, 0.0132219601770267...</td>\n      <td>[0.0, 0.0, 0.0, 0.0, 0.0, 0.0, 0.0, 0.0, 0.017...</td>\n      <td>[0.0, 0.029411606768236193, 0.0199132694025201...</td>\n      <td>[0.0, 0.019596164391711746, 0.0132219601770267...</td>\n      <td>[0.0, 0.0, 0.0, 0.0, 0.0, 0.0, 0.0, 0.0, 0.017...</td>\n      <td>[0.0, 0.029411606768236193, 0.0199132694025201...</td>\n      <td>[0.0, 0.019596164391711746, 0.0132219601770267...</td>\n      <td>...</td>\n      <td>[0.0, 0.028379905057785385, 0.0180789106190560...</td>\n      <td>[0.0, 0.028379916054531724, 0.0180793443073725...</td>\n      <td>[0.0, 0.02837990693731088, 0.01807901242158631...</td>\n      <td>[0.0, 0.01895407595469727, 0.01215330113847122...</td>\n      <td>[0.0, 0.0, 0.0, 0.0, 0.0, 0.0, 0.0, 0.0, 0.001...</td>\n      <td>[0.0, 0.02837942354521066, 0.01807308202426498...</td>\n      <td>[0.0, 0.02837942330322366, 0.01807306372047474...</td>\n      <td>[0.0, 0.02837942326995507, 0.01807305963858624...</td>\n      <td>[0.0, 0.028379434265474707, 0.0180734932124013...</td>\n      <td>[0.0, 0.02837942514927037, 0.01807316140804863...</td>\n    </tr>\n    <tr>\n      <th>Dwelling_2</th>\n      <td>[0.0, 0.03051702199857745, 0.02053985105047135...</td>\n      <td>[0.0, 0.0, 0.0, 0.0, 0.0, 0.0, 0.0, 0.0, 0.012...</td>\n      <td>[0.0, 0.028815969265537818, 0.0190446848037342...</td>\n      <td>[0.0, 0.03051702199857745, 0.02053985105047135...</td>\n      <td>[0.0, 0.0, 0.0, 0.0, 0.0, 0.0, 0.0, 0.0, 0.012...</td>\n      <td>[0.0, 0.028815969265537818, 0.0190446848037342...</td>\n      <td>[0.0, 0.03051702199857745, 0.02053985105047135...</td>\n      <td>[0.0, 0.0, 0.0, 0.0, 0.0, 0.0, 0.0, 0.0, 0.012...</td>\n      <td>[0.0, 0.028815969265537818, 0.0190446848037342...</td>\n      <td>[0.0, 0.03051702199857745, 0.02053985105047135...</td>\n      <td>...</td>\n      <td>[0.0, 0.02781527816294779, 0.01746388778730575...</td>\n      <td>[0.0, 0.02781528700649415, 0.01746423621513421...</td>\n      <td>[0.0, 0.027815279674575165, 0.0174639695750499...</td>\n      <td>[0.0, 0.02949203413722698, 0.01904122877603674...</td>\n      <td>[0.0, 0.0, 0.0, 0.0, 0.0, 0.0, 0.0, 0.0, 0.001...</td>\n      <td>[0.0, 0.027814999696731783, 0.0174605365792648...</td>\n      <td>[0.0, 0.027814999502466374, 0.0174605218731524...</td>\n      <td>[0.0, 0.02781499947550302, 0.01746051859264496...</td>\n      <td>[0.0, 0.027815008318464268, 0.0174608669606445...</td>\n      <td>[0.0, 0.02781500098703019, 0.01746060036417219...</td>\n    </tr>\n    <tr>\n      <th>Dwelling_3</th>\n      <td>[0.0, 0.030503188660710476, 0.0205271566802896...</td>\n      <td>[0.0, 0.0, 0.0, 0.0, 0.0, 0.0, 0.0, 0.0, 0.012...</td>\n      <td>[0.0, 0.028806104145710863, 0.0190728829663903...</td>\n      <td>[0.0, 0.030503188660710476, 0.0205271566802896...</td>\n      <td>[0.0, 0.0, 0.0, 0.0, 0.0, 0.0, 0.0, 0.0, 0.012...</td>\n      <td>[0.0, 0.028806104145710863, 0.0190728829663903...</td>\n      <td>[0.0, 0.030503188660710476, 0.0205271566802896...</td>\n      <td>[0.0, 0.0, 0.0, 0.0, 0.0, 0.0, 0.0, 0.0, 0.012...</td>\n      <td>[0.0, 0.028806104145710863, 0.0190728829663903...</td>\n      <td>[0.0, 0.030503188660710476, 0.0205271566802896...</td>\n      <td>...</td>\n      <td>[0.0, 0.027803293427639122, 0.0174556661232847...</td>\n      <td>[0.0, 0.027803304151965618, 0.0174560883584332...</td>\n      <td>[0.0, 0.027803295260578575, 0.0174557651878614...</td>\n      <td>[0.0, 0.029478528979844754, 0.0190305428010136...</td>\n      <td>[0.0, 0.0, 0.0, 0.0, 0.0, 0.0, 0.0, 0.0, 0.001...</td>\n      <td>[0.0, 0.027803016829117212, 0.0174523405750067...</td>\n      <td>[0.0, 0.027803016593126745, 0.0174523227675238...</td>\n      <td>[0.0, 0.02780301656067673, 0.01745231879779257...</td>\n      <td>[0.0, 0.02780302728428438, 0.01745274096033658...</td>\n      <td>[0.0, 0.027803018393492928, 0.0174524178426910...</td>\n    </tr>\n  </tbody>\n</table>\n<p>3 rows × 566 columns</p>\n</div>"
     },
     "execution_count": 8,
     "metadata": {},
     "output_type": "execute_result"
    }
   ],
   "source": [
    "P_htd = pd.DataFrame(P_ht)\n",
    "P_cl = pd.DataFrame(P_cl)\n",
    "P_lig = pd.DataFrame(P_lig)\n",
    "P_dev = pd.DataFrame(P_dev)\n",
    "P_dhw = pd.DataFrame(P_dhw)\n",
    "P_htd"
   ],
   "metadata": {
    "collapsed": false,
    "ExecuteTime": {
     "end_time": "2023-10-18T08:37:38.054930500Z",
     "start_time": "2023-10-18T08:37:38.004305400Z"
    }
   },
   "id": "966d7d9449cb81da"
  },
  {
   "cell_type": "code",
   "execution_count": 9,
   "outputs": [
    {
     "data": {
      "text/plain": "             BC0_0_BF   BC0_0_IF   BC0_0_TF  BC0_180_BF  BC0_180_IF  \\\nDwelling_1  78.453511  21.015993  65.967904   85.003794   24.801915   \nDwelling_2  62.238355   8.684779  44.169800   73.148433   14.827616   \nDwelling_3  62.299701   8.552396  50.265371   73.274286   14.766004   \n\n            BC0_180_TF  BC0_270_BF  BC0_270_IF  BC0_270_TF  BC0_90_BF  ...  \\\nDwelling_1   65.967904   70.198797   15.714437   58.287171  90.599437  ...   \nDwelling_2   44.169800   60.088050    8.678174   42.362100  71.028473  ...   \nDwelling_3   50.265371   60.206595    8.603833   48.430832  71.181592  ...   \n\n            P221_90_W6_R14_TF  P221_90_W6_R6_TF  P221_90_W6_R8_TF  \\\nDwelling_1           4.598547          8.530191          6.882352   \nDwelling_2           2.015737          4.451843          3.387866   \nDwelling_3           2.076205          4.835629          3.618601   \n\n            P221_90_W8_R0_BF  P221_90_W8_R0_IF  P221_90_W8_R10_TF  \\\nDwelling_1          9.111112          0.453853           4.823387   \nDwelling_2          5.923573          0.086752           2.350759   \nDwelling_3          5.869527          0.065904           2.478007   \n\n            P221_90_W8_R12_TF  P221_90_W8_R14_TF  P221_90_W8_R6_TF  \\\nDwelling_1           4.153492           3.674360          7.383315   \nDwelling_2           1.961370           1.696509          3.979559   \nDwelling_3           2.041592           1.750813          4.328899   \n\n            P221_90_W8_R8_TF  \nDwelling_1          5.816206  \nDwelling_2          2.966321  \nDwelling_3          3.173128  \n\n[3 rows x 566 columns]",
      "text/html": "<div>\n<style scoped>\n    .dataframe tbody tr th:only-of-type {\n        vertical-align: middle;\n    }\n\n    .dataframe tbody tr th {\n        vertical-align: top;\n    }\n\n    .dataframe thead th {\n        text-align: right;\n    }\n</style>\n<table border=\"1\" class=\"dataframe\">\n  <thead>\n    <tr style=\"text-align: right;\">\n      <th></th>\n      <th>BC0_0_BF</th>\n      <th>BC0_0_IF</th>\n      <th>BC0_0_TF</th>\n      <th>BC0_180_BF</th>\n      <th>BC0_180_IF</th>\n      <th>BC0_180_TF</th>\n      <th>BC0_270_BF</th>\n      <th>BC0_270_IF</th>\n      <th>BC0_270_TF</th>\n      <th>BC0_90_BF</th>\n      <th>...</th>\n      <th>P221_90_W6_R14_TF</th>\n      <th>P221_90_W6_R6_TF</th>\n      <th>P221_90_W6_R8_TF</th>\n      <th>P221_90_W8_R0_BF</th>\n      <th>P221_90_W8_R0_IF</th>\n      <th>P221_90_W8_R10_TF</th>\n      <th>P221_90_W8_R12_TF</th>\n      <th>P221_90_W8_R14_TF</th>\n      <th>P221_90_W8_R6_TF</th>\n      <th>P221_90_W8_R8_TF</th>\n    </tr>\n  </thead>\n  <tbody>\n    <tr>\n      <th>Dwelling_1</th>\n      <td>78.453511</td>\n      <td>21.015993</td>\n      <td>65.967904</td>\n      <td>85.003794</td>\n      <td>24.801915</td>\n      <td>65.967904</td>\n      <td>70.198797</td>\n      <td>15.714437</td>\n      <td>58.287171</td>\n      <td>90.599437</td>\n      <td>...</td>\n      <td>4.598547</td>\n      <td>8.530191</td>\n      <td>6.882352</td>\n      <td>9.111112</td>\n      <td>0.453853</td>\n      <td>4.823387</td>\n      <td>4.153492</td>\n      <td>3.674360</td>\n      <td>7.383315</td>\n      <td>5.816206</td>\n    </tr>\n    <tr>\n      <th>Dwelling_2</th>\n      <td>62.238355</td>\n      <td>8.684779</td>\n      <td>44.169800</td>\n      <td>73.148433</td>\n      <td>14.827616</td>\n      <td>44.169800</td>\n      <td>60.088050</td>\n      <td>8.678174</td>\n      <td>42.362100</td>\n      <td>71.028473</td>\n      <td>...</td>\n      <td>2.015737</td>\n      <td>4.451843</td>\n      <td>3.387866</td>\n      <td>5.923573</td>\n      <td>0.086752</td>\n      <td>2.350759</td>\n      <td>1.961370</td>\n      <td>1.696509</td>\n      <td>3.979559</td>\n      <td>2.966321</td>\n    </tr>\n    <tr>\n      <th>Dwelling_3</th>\n      <td>62.299701</td>\n      <td>8.552396</td>\n      <td>50.265371</td>\n      <td>73.274286</td>\n      <td>14.766004</td>\n      <td>50.265371</td>\n      <td>60.206595</td>\n      <td>8.603833</td>\n      <td>48.430832</td>\n      <td>71.181592</td>\n      <td>...</td>\n      <td>2.076205</td>\n      <td>4.835629</td>\n      <td>3.618601</td>\n      <td>5.869527</td>\n      <td>0.065904</td>\n      <td>2.478007</td>\n      <td>2.041592</td>\n      <td>1.750813</td>\n      <td>4.328899</td>\n      <td>3.173128</td>\n    </tr>\n  </tbody>\n</table>\n<p>3 rows × 566 columns</p>\n</div>"
     },
     "execution_count": 9,
     "metadata": {},
     "output_type": "execute_result"
    }
   ],
   "source": [
    "sum_list = lambda x: sum(x)\n",
    "P_htd_sum = P_htd.applymap(sum_list)\n",
    "P_htd_sum"
   ],
   "metadata": {
    "collapsed": false,
    "ExecuteTime": {
     "end_time": "2023-10-18T08:39:09.337773600Z",
     "start_time": "2023-10-18T08:38:57.343908300Z"
    }
   },
   "id": "c59889a0f346d21f"
  },
  {
   "cell_type": "code",
   "execution_count": 7,
   "outputs": [
    {
     "ename": "NameError",
     "evalue": "name 'P_htd_sum' is not defined",
     "output_type": "error",
     "traceback": [
      "\u001B[1;31m---------------------------------------------------------------------------\u001B[0m",
      "\u001B[1;31mNameError\u001B[0m                                 Traceback (most recent call last)",
      "Cell \u001B[1;32mIn[7], line 1\u001B[0m\n\u001B[1;32m----> 1\u001B[0m P_htd_sum\n",
      "\u001B[1;31mNameError\u001B[0m: name 'P_htd_sum' is not defined"
     ]
    }
   ],
   "source": [
    "P_htd_sum"
   ],
   "metadata": {
    "collapsed": false,
    "ExecuteTime": {
     "end_time": "2023-10-18T08:37:35.919426500Z",
     "start_time": "2023-10-18T08:37:35.872286500Z"
    }
   },
   "id": "affe735d2368425b"
  },
  {
   "cell_type": "code",
   "execution_count": 9,
   "outputs": [
    {
     "data": {
      "text/plain": "             BC0_0_BF   BC0_0_IF   BC0_0_TF  BC0_180_BF  BC0_180_IF  \\\nDwelling_1  30.959064  30.959064  30.959064   30.959064   30.959064   \nDwelling_2  29.945220  29.945220  29.945220   29.945220   29.945220   \nDwelling_3  28.027102  28.027102  28.027102   28.027102   28.027102   \n\n            BC0_180_TF  BC0_270_BF  BC0_270_IF  BC0_270_TF  BC0_90_BF  ...  \\\nDwelling_1   30.959064   30.959064   30.959064   30.959064  30.959064  ...   \nDwelling_2   29.945220   29.945220   29.945220   29.945220  29.945220  ...   \nDwelling_3   28.027102   28.027102   28.027102   28.027102  28.027102  ...   \n\n            P221_90_W6_R14_TF  P221_90_W6_R6_TF  P221_90_W6_R8_TF  \\\nDwelling_1          30.959064         30.959064         30.959064   \nDwelling_2          29.945220         29.945220         29.945220   \nDwelling_3          28.027102         28.027102         28.027102   \n\n            P221_90_W8_R0_BF  P221_90_W8_R0_IF  P221_90_W8_R10_TF  \\\nDwelling_1         30.959064         30.959064          30.959064   \nDwelling_2         29.945220         29.945220          29.945220   \nDwelling_3         28.027102         28.027102          28.027102   \n\n            P221_90_W8_R12_TF  P221_90_W8_R14_TF  P221_90_W8_R6_TF  \\\nDwelling_1          30.959064          30.959064         30.959064   \nDwelling_2          29.945220          29.945220         29.945220   \nDwelling_3          28.027102          28.027102         28.027102   \n\n            P221_90_W8_R8_TF  \nDwelling_1         30.959064  \nDwelling_2         29.945220  \nDwelling_3         28.027102  \n\n[3 rows x 566 columns]",
      "text/html": "<div>\n<style scoped>\n    .dataframe tbody tr th:only-of-type {\n        vertical-align: middle;\n    }\n\n    .dataframe tbody tr th {\n        vertical-align: top;\n    }\n\n    .dataframe thead th {\n        text-align: right;\n    }\n</style>\n<table border=\"1\" class=\"dataframe\">\n  <thead>\n    <tr style=\"text-align: right;\">\n      <th></th>\n      <th>BC0_0_BF</th>\n      <th>BC0_0_IF</th>\n      <th>BC0_0_TF</th>\n      <th>BC0_180_BF</th>\n      <th>BC0_180_IF</th>\n      <th>BC0_180_TF</th>\n      <th>BC0_270_BF</th>\n      <th>BC0_270_IF</th>\n      <th>BC0_270_TF</th>\n      <th>BC0_90_BF</th>\n      <th>...</th>\n      <th>P221_90_W6_R14_TF</th>\n      <th>P221_90_W6_R6_TF</th>\n      <th>P221_90_W6_R8_TF</th>\n      <th>P221_90_W8_R0_BF</th>\n      <th>P221_90_W8_R0_IF</th>\n      <th>P221_90_W8_R10_TF</th>\n      <th>P221_90_W8_R12_TF</th>\n      <th>P221_90_W8_R14_TF</th>\n      <th>P221_90_W8_R6_TF</th>\n      <th>P221_90_W8_R8_TF</th>\n    </tr>\n  </thead>\n  <tbody>\n    <tr>\n      <th>Dwelling_1</th>\n      <td>30.959064</td>\n      <td>30.959064</td>\n      <td>30.959064</td>\n      <td>30.959064</td>\n      <td>30.959064</td>\n      <td>30.959064</td>\n      <td>30.959064</td>\n      <td>30.959064</td>\n      <td>30.959064</td>\n      <td>30.959064</td>\n      <td>...</td>\n      <td>30.959064</td>\n      <td>30.959064</td>\n      <td>30.959064</td>\n      <td>30.959064</td>\n      <td>30.959064</td>\n      <td>30.959064</td>\n      <td>30.959064</td>\n      <td>30.959064</td>\n      <td>30.959064</td>\n      <td>30.959064</td>\n    </tr>\n    <tr>\n      <th>Dwelling_2</th>\n      <td>29.945220</td>\n      <td>29.945220</td>\n      <td>29.945220</td>\n      <td>29.945220</td>\n      <td>29.945220</td>\n      <td>29.945220</td>\n      <td>29.945220</td>\n      <td>29.945220</td>\n      <td>29.945220</td>\n      <td>29.945220</td>\n      <td>...</td>\n      <td>29.945220</td>\n      <td>29.945220</td>\n      <td>29.945220</td>\n      <td>29.945220</td>\n      <td>29.945220</td>\n      <td>29.945220</td>\n      <td>29.945220</td>\n      <td>29.945220</td>\n      <td>29.945220</td>\n      <td>29.945220</td>\n    </tr>\n    <tr>\n      <th>Dwelling_3</th>\n      <td>28.027102</td>\n      <td>28.027102</td>\n      <td>28.027102</td>\n      <td>28.027102</td>\n      <td>28.027102</td>\n      <td>28.027102</td>\n      <td>28.027102</td>\n      <td>28.027102</td>\n      <td>28.027102</td>\n      <td>28.027102</td>\n      <td>...</td>\n      <td>28.027102</td>\n      <td>28.027102</td>\n      <td>28.027102</td>\n      <td>28.027102</td>\n      <td>28.027102</td>\n      <td>28.027102</td>\n      <td>28.027102</td>\n      <td>28.027102</td>\n      <td>28.027102</td>\n      <td>28.027102</td>\n    </tr>\n  </tbody>\n</table>\n<p>3 rows × 566 columns</p>\n</div>"
     },
     "execution_count": 9,
     "metadata": {},
     "output_type": "execute_result"
    }
   ],
   "source": [
    "P_dhw_sum = P_dhw.applymap(sum_list)\n",
    "P_dhw_sum"
   ],
   "metadata": {
    "collapsed": false,
    "ExecuteTime": {
     "end_time": "2023-10-17T16:21:11.990286700Z",
     "start_time": "2023-10-17T16:21:01.427688300Z"
    }
   },
   "id": "8a64fe21f02fd897"
  },
  {
   "cell_type": "code",
   "execution_count": 12,
   "outputs": [
    {
     "data": {
      "text/plain": "           index     configuration      value archetype\n0     Dwelling_1          BC0_0_BF  30.959064  Caracas1\n1     Dwelling_2          BC0_0_BF  29.945220  Caracas1\n2     Dwelling_3          BC0_0_BF  28.027102  Caracas1\n3     Dwelling_1          BC0_0_IF  30.959064  Caracas1\n4     Dwelling_2          BC0_0_IF  29.945220  Caracas1\n...          ...               ...        ...       ...\n1693  Dwelling_2  P221_90_W8_R6_TF  29.945220  Caracas1\n1694  Dwelling_3  P221_90_W8_R6_TF  28.027102  Caracas1\n1695  Dwelling_1  P221_90_W8_R8_TF  30.959064  Caracas1\n1696  Dwelling_2  P221_90_W8_R8_TF  29.945220  Caracas1\n1697  Dwelling_3  P221_90_W8_R8_TF  28.027102  Caracas1\n\n[1698 rows x 4 columns]",
      "text/html": "<div>\n<style scoped>\n    .dataframe tbody tr th:only-of-type {\n        vertical-align: middle;\n    }\n\n    .dataframe tbody tr th {\n        vertical-align: top;\n    }\n\n    .dataframe thead th {\n        text-align: right;\n    }\n</style>\n<table border=\"1\" class=\"dataframe\">\n  <thead>\n    <tr style=\"text-align: right;\">\n      <th></th>\n      <th>index</th>\n      <th>configuration</th>\n      <th>value</th>\n      <th>archetype</th>\n    </tr>\n  </thead>\n  <tbody>\n    <tr>\n      <th>0</th>\n      <td>Dwelling_1</td>\n      <td>BC0_0_BF</td>\n      <td>30.959064</td>\n      <td>Caracas1</td>\n    </tr>\n    <tr>\n      <th>1</th>\n      <td>Dwelling_2</td>\n      <td>BC0_0_BF</td>\n      <td>29.945220</td>\n      <td>Caracas1</td>\n    </tr>\n    <tr>\n      <th>2</th>\n      <td>Dwelling_3</td>\n      <td>BC0_0_BF</td>\n      <td>28.027102</td>\n      <td>Caracas1</td>\n    </tr>\n    <tr>\n      <th>3</th>\n      <td>Dwelling_1</td>\n      <td>BC0_0_IF</td>\n      <td>30.959064</td>\n      <td>Caracas1</td>\n    </tr>\n    <tr>\n      <th>4</th>\n      <td>Dwelling_2</td>\n      <td>BC0_0_IF</td>\n      <td>29.945220</td>\n      <td>Caracas1</td>\n    </tr>\n    <tr>\n      <th>...</th>\n      <td>...</td>\n      <td>...</td>\n      <td>...</td>\n      <td>...</td>\n    </tr>\n    <tr>\n      <th>1693</th>\n      <td>Dwelling_2</td>\n      <td>P221_90_W8_R6_TF</td>\n      <td>29.945220</td>\n      <td>Caracas1</td>\n    </tr>\n    <tr>\n      <th>1694</th>\n      <td>Dwelling_3</td>\n      <td>P221_90_W8_R6_TF</td>\n      <td>28.027102</td>\n      <td>Caracas1</td>\n    </tr>\n    <tr>\n      <th>1695</th>\n      <td>Dwelling_1</td>\n      <td>P221_90_W8_R8_TF</td>\n      <td>30.959064</td>\n      <td>Caracas1</td>\n    </tr>\n    <tr>\n      <th>1696</th>\n      <td>Dwelling_2</td>\n      <td>P221_90_W8_R8_TF</td>\n      <td>29.945220</td>\n      <td>Caracas1</td>\n    </tr>\n    <tr>\n      <th>1697</th>\n      <td>Dwelling_3</td>\n      <td>P221_90_W8_R8_TF</td>\n      <td>28.027102</td>\n      <td>Caracas1</td>\n    </tr>\n  </tbody>\n</table>\n<p>1698 rows × 4 columns</p>\n</div>"
     },
     "execution_count": 12,
     "metadata": {},
     "output_type": "execute_result"
    }
   ],
   "source": [
    "P_dhw_sum.reset_index(inplace=True)\n",
    "melted_df = pd.melt(P_dhw_sum, id_vars=['index'], value_vars=P_dhw_sum.columns, var_name='configuration', value_name='value')\n",
    "melted_df[\"archetype\"] = building_to_analyse\n",
    "melted_df\n"
   ],
   "metadata": {
    "collapsed": false,
    "ExecuteTime": {
     "end_time": "2023-10-17T16:27:32.851238400Z",
     "start_time": "2023-10-17T16:27:32.781031300Z"
    }
   },
   "id": "19dd927c85a4d0df"
  },
  {
   "cell_type": "code",
   "execution_count": 5,
   "outputs": [],
   "source": [
    "def acs(n_viv_simulated,building_to_analyse):\n",
    "    \n",
    "    analysisType = analysisTRNSYS.energyAnalysis(n_viv = n_viv_simulated, name = building_to_analyse)\n",
    "    data = analysisTRNSYS.do_analysis(analysisType)\n",
    "    P_ht, P_cl, P_lig, P_dev, P_dhw, PE_ht, PE_cl, PE_lig,PE_dev ,PE_dhw, CO2_ht, CO2_cl, CO2_lig, CO2_dev, CO2_dhw = data.start()\n",
    "    \n",
    "    P_dhw = pd.DataFrame(P_dhw)\n",
    "    sum_list = lambda x: sum(x)\n",
    "    P_dhw_sum = P_dhw.applymap(sum_list)\n",
    "    \n",
    "    P_dhw_sum.reset_index(inplace=True)\n",
    "    melted_df = pd.melt(P_dhw_sum, id_vars=['index'], value_vars=P_dhw_sum.columns, var_name='configuration', value_name='value')\n",
    "    melted_df[\"archetype\"] = building_to_analyse\n",
    "\n",
    "    return melted_df\n",
    "    "
   ],
   "metadata": {
    "collapsed": false,
    "ExecuteTime": {
     "end_time": "2023-10-17T16:49:28.870296200Z",
     "start_time": "2023-10-17T16:49:28.841179200Z"
    }
   },
   "id": "dadb54680460dccf"
  },
  {
   "cell_type": "code",
   "execution_count": 7,
   "outputs": [],
   "source": [
    "caracas1 = acs(3,'Caracas1')\n",
    "fe35 = acs(1,'FE35')\n",
    "siquier20 = acs(1,'siquier20')"
   ],
   "metadata": {
    "collapsed": false,
    "ExecuteTime": {
     "end_time": "2023-10-17T16:55:25.265687500Z",
     "start_time": "2023-10-17T16:53:08.578643Z"
    }
   },
   "id": "c3eeec614aee965f"
  },
  {
   "cell_type": "code",
   "execution_count": 9,
   "outputs": [
    {
     "data": {
      "text/plain": "           index     configuration      value archetype\n0     Dwelling_1          BC0_0_BF  30.959064  Caracas1\n1     Dwelling_2          BC0_0_BF  29.945220  Caracas1\n2     Dwelling_3          BC0_0_BF  28.027102  Caracas1\n3     Dwelling_1          BC0_0_IF  30.959064  Caracas1\n4     Dwelling_2          BC0_0_IF  29.945220  Caracas1\n...          ...               ...        ...       ...\n1693  Dwelling_2  P221_90_W8_R6_TF  29.945220  Caracas1\n1694  Dwelling_3  P221_90_W8_R6_TF  28.027102  Caracas1\n1695  Dwelling_1  P221_90_W8_R8_TF  30.959064  Caracas1\n1696  Dwelling_2  P221_90_W8_R8_TF  29.945220  Caracas1\n1697  Dwelling_3  P221_90_W8_R8_TF  28.027102  Caracas1\n\n[1698 rows x 4 columns]",
      "text/html": "<div>\n<style scoped>\n    .dataframe tbody tr th:only-of-type {\n        vertical-align: middle;\n    }\n\n    .dataframe tbody tr th {\n        vertical-align: top;\n    }\n\n    .dataframe thead th {\n        text-align: right;\n    }\n</style>\n<table border=\"1\" class=\"dataframe\">\n  <thead>\n    <tr style=\"text-align: right;\">\n      <th></th>\n      <th>index</th>\n      <th>configuration</th>\n      <th>value</th>\n      <th>archetype</th>\n    </tr>\n  </thead>\n  <tbody>\n    <tr>\n      <th>0</th>\n      <td>Dwelling_1</td>\n      <td>BC0_0_BF</td>\n      <td>30.959064</td>\n      <td>Caracas1</td>\n    </tr>\n    <tr>\n      <th>1</th>\n      <td>Dwelling_2</td>\n      <td>BC0_0_BF</td>\n      <td>29.945220</td>\n      <td>Caracas1</td>\n    </tr>\n    <tr>\n      <th>2</th>\n      <td>Dwelling_3</td>\n      <td>BC0_0_BF</td>\n      <td>28.027102</td>\n      <td>Caracas1</td>\n    </tr>\n    <tr>\n      <th>3</th>\n      <td>Dwelling_1</td>\n      <td>BC0_0_IF</td>\n      <td>30.959064</td>\n      <td>Caracas1</td>\n    </tr>\n    <tr>\n      <th>4</th>\n      <td>Dwelling_2</td>\n      <td>BC0_0_IF</td>\n      <td>29.945220</td>\n      <td>Caracas1</td>\n    </tr>\n    <tr>\n      <th>...</th>\n      <td>...</td>\n      <td>...</td>\n      <td>...</td>\n      <td>...</td>\n    </tr>\n    <tr>\n      <th>1693</th>\n      <td>Dwelling_2</td>\n      <td>P221_90_W8_R6_TF</td>\n      <td>29.945220</td>\n      <td>Caracas1</td>\n    </tr>\n    <tr>\n      <th>1694</th>\n      <td>Dwelling_3</td>\n      <td>P221_90_W8_R6_TF</td>\n      <td>28.027102</td>\n      <td>Caracas1</td>\n    </tr>\n    <tr>\n      <th>1695</th>\n      <td>Dwelling_1</td>\n      <td>P221_90_W8_R8_TF</td>\n      <td>30.959064</td>\n      <td>Caracas1</td>\n    </tr>\n    <tr>\n      <th>1696</th>\n      <td>Dwelling_2</td>\n      <td>P221_90_W8_R8_TF</td>\n      <td>29.945220</td>\n      <td>Caracas1</td>\n    </tr>\n    <tr>\n      <th>1697</th>\n      <td>Dwelling_3</td>\n      <td>P221_90_W8_R8_TF</td>\n      <td>28.027102</td>\n      <td>Caracas1</td>\n    </tr>\n  </tbody>\n</table>\n<p>1698 rows × 4 columns</p>\n</div>"
     },
     "execution_count": 9,
     "metadata": {},
     "output_type": "execute_result"
    }
   ],
   "source": [
    "caracas1"
   ],
   "metadata": {
    "collapsed": false,
    "ExecuteTime": {
     "end_time": "2023-10-17T16:55:53.141452400Z",
     "start_time": "2023-10-17T16:55:53.105419900Z"
    }
   },
   "id": "3fe1c332f38809d3"
  },
  {
   "cell_type": "code",
   "execution_count": 11,
   "outputs": [
    {
     "data": {
      "text/plain": "         index   configuration      value  archetype\n0   Dwelling_1        BC0_0_BF  30.959064   Caracas1\n1   Dwelling_2        BC0_0_BF  29.945220   Caracas1\n2   Dwelling_3        BC0_0_BF  28.027102   Caracas1\n3   Dwelling_1        BC0_0_IF  30.959064   Caracas1\n4   Dwelling_2        BC0_0_IF  29.945220   Caracas1\n..         ...             ...        ...        ...\n23  Dwelling_1  P221_180_W8_R8  16.880872  siquier20\n24  Dwelling_1  P221_270_W6_R8  16.881266  siquier20\n25  Dwelling_1  P221_270_W8_R8  16.881512  siquier20\n26  Dwelling_1   P221_90_W6_R8  16.880969  siquier20\n27  Dwelling_1   P221_90_W8_R8  16.881212  siquier20\n\n[1810 rows x 4 columns]",
      "text/html": "<div>\n<style scoped>\n    .dataframe tbody tr th:only-of-type {\n        vertical-align: middle;\n    }\n\n    .dataframe tbody tr th {\n        vertical-align: top;\n    }\n\n    .dataframe thead th {\n        text-align: right;\n    }\n</style>\n<table border=\"1\" class=\"dataframe\">\n  <thead>\n    <tr style=\"text-align: right;\">\n      <th></th>\n      <th>index</th>\n      <th>configuration</th>\n      <th>value</th>\n      <th>archetype</th>\n    </tr>\n  </thead>\n  <tbody>\n    <tr>\n      <th>0</th>\n      <td>Dwelling_1</td>\n      <td>BC0_0_BF</td>\n      <td>30.959064</td>\n      <td>Caracas1</td>\n    </tr>\n    <tr>\n      <th>1</th>\n      <td>Dwelling_2</td>\n      <td>BC0_0_BF</td>\n      <td>29.945220</td>\n      <td>Caracas1</td>\n    </tr>\n    <tr>\n      <th>2</th>\n      <td>Dwelling_3</td>\n      <td>BC0_0_BF</td>\n      <td>28.027102</td>\n      <td>Caracas1</td>\n    </tr>\n    <tr>\n      <th>3</th>\n      <td>Dwelling_1</td>\n      <td>BC0_0_IF</td>\n      <td>30.959064</td>\n      <td>Caracas1</td>\n    </tr>\n    <tr>\n      <th>4</th>\n      <td>Dwelling_2</td>\n      <td>BC0_0_IF</td>\n      <td>29.945220</td>\n      <td>Caracas1</td>\n    </tr>\n    <tr>\n      <th>...</th>\n      <td>...</td>\n      <td>...</td>\n      <td>...</td>\n      <td>...</td>\n    </tr>\n    <tr>\n      <th>23</th>\n      <td>Dwelling_1</td>\n      <td>P221_180_W8_R8</td>\n      <td>16.880872</td>\n      <td>siquier20</td>\n    </tr>\n    <tr>\n      <th>24</th>\n      <td>Dwelling_1</td>\n      <td>P221_270_W6_R8</td>\n      <td>16.881266</td>\n      <td>siquier20</td>\n    </tr>\n    <tr>\n      <th>25</th>\n      <td>Dwelling_1</td>\n      <td>P221_270_W8_R8</td>\n      <td>16.881512</td>\n      <td>siquier20</td>\n    </tr>\n    <tr>\n      <th>26</th>\n      <td>Dwelling_1</td>\n      <td>P221_90_W6_R8</td>\n      <td>16.880969</td>\n      <td>siquier20</td>\n    </tr>\n    <tr>\n      <th>27</th>\n      <td>Dwelling_1</td>\n      <td>P221_90_W8_R8</td>\n      <td>16.881212</td>\n      <td>siquier20</td>\n    </tr>\n  </tbody>\n</table>\n<p>1810 rows × 4 columns</p>\n</div>"
     },
     "execution_count": 11,
     "metadata": {},
     "output_type": "execute_result"
    }
   ],
   "source": [
    "lists = [caracas1,fe35,siquier20]\n",
    "all_P_dhw = pd.concat(lists)\n",
    "all_P_dhw"
   ],
   "metadata": {
    "collapsed": false,
    "ExecuteTime": {
     "end_time": "2023-10-17T16:58:18.461891Z",
     "start_time": "2023-10-17T16:58:18.409774800Z"
    }
   },
   "id": "ec804c9e33bc1548"
  },
  {
   "cell_type": "code",
   "execution_count": null,
   "outputs": [],
   "source": [],
   "metadata": {
    "collapsed": false
   },
   "id": "3af518aca97c90f7"
  },
  {
   "cell_type": "code",
   "execution_count": 14,
   "outputs": [
    {
     "data": {
      "text/plain": "   archetype       index      value\n0   Caracas1  Dwelling_1  30.959064\n1   Caracas1  Dwelling_2  29.945220\n2   Caracas1  Dwelling_3  28.027102\n3       FE35  Dwelling_1  14.808461\n4  siquier20  Dwelling_1  16.877670",
      "text/html": "<div>\n<style scoped>\n    .dataframe tbody tr th:only-of-type {\n        vertical-align: middle;\n    }\n\n    .dataframe tbody tr th {\n        vertical-align: top;\n    }\n\n    .dataframe thead th {\n        text-align: right;\n    }\n</style>\n<table border=\"1\" class=\"dataframe\">\n  <thead>\n    <tr style=\"text-align: right;\">\n      <th></th>\n      <th>archetype</th>\n      <th>index</th>\n      <th>value</th>\n    </tr>\n  </thead>\n  <tbody>\n    <tr>\n      <th>0</th>\n      <td>Caracas1</td>\n      <td>Dwelling_1</td>\n      <td>30.959064</td>\n    </tr>\n    <tr>\n      <th>1</th>\n      <td>Caracas1</td>\n      <td>Dwelling_2</td>\n      <td>29.945220</td>\n    </tr>\n    <tr>\n      <th>2</th>\n      <td>Caracas1</td>\n      <td>Dwelling_3</td>\n      <td>28.027102</td>\n    </tr>\n    <tr>\n      <th>3</th>\n      <td>FE35</td>\n      <td>Dwelling_1</td>\n      <td>14.808461</td>\n    </tr>\n    <tr>\n      <th>4</th>\n      <td>siquier20</td>\n      <td>Dwelling_1</td>\n      <td>16.877670</td>\n    </tr>\n  </tbody>\n</table>\n</div>"
     },
     "execution_count": 14,
     "metadata": {},
     "output_type": "execute_result"
    }
   ],
   "source": [
    "summary_all = all_P_dhw.groupby(['archetype','index'])['value'].mean().reset_index()\n",
    "summary_all['value'] = round(summary_all['value'],2)\n",
    "summary_all"
   ],
   "metadata": {
    "collapsed": false,
    "ExecuteTime": {
     "end_time": "2023-10-17T17:00:27.939864500Z",
     "start_time": "2023-10-17T17:00:27.916782400Z"
    }
   },
   "id": "cb3455cbe999dd65"
  },
  {
   "cell_type": "code",
   "execution_count": 32,
   "outputs": [],
   "source": [],
   "metadata": {
    "collapsed": false,
    "ExecuteTime": {
     "end_time": "2023-10-17T17:17:20.960059500Z",
     "start_time": "2023-10-17T17:17:20.938394900Z"
    }
   },
   "id": "a98c975263a48a0f"
  },
  {
   "cell_type": "code",
   "execution_count": 33,
   "outputs": [
    {
     "data": {
      "text/plain": "<Figure size 640x480 with 1 Axes>",
      "image/png": "[encoded data removed]"
     },
     "metadata": {},
     "output_type": "display_data"
    }
   ],
   "source": [
    "import matplotlib.pyplot as plt\n",
    "ax = summary_all.value.plot(kind='bar')\n",
    "\n",
    "labels = [f'{row[0]}-{row[1]}' for row in zip(summary_all['archetype'], summary_all['index'])]\n",
    "ax.set_xticklabels(labels)\n",
    "\n",
    "# Adding labels and title\n",
    "ax.set_xlabel('Archetype')\n",
    "ax.set_ylabel('P_dhw m2 yearly')\n",
    "plt.title('Combined Values for Archetype and P_dhw')\n",
    "\n",
    "for i, v in enumerate(summary_all['value']):\n",
    "    ax.text(i, v + 0.1, str(v), ha='center')\n",
    "\n",
    "# Displaying the plot\n",
    "plt.show()"
   ],
   "metadata": {
    "collapsed": false,
    "ExecuteTime": {
     "end_time": "2023-10-17T17:17:34.680112600Z",
     "start_time": "2023-10-17T17:17:34.553236900Z"
    }
   },
   "id": "40f3e47d18f758a7"
  },
  {
   "cell_type": "code",
   "execution_count": 25,
   "outputs": [
    {
     "data": {
      "text/plain": "RangeIndex(start=0, stop=5, step=1)"
     },
     "execution_count": 25,
     "metadata": {},
     "output_type": "execute_result"
    }
   ],
   "source": [
    "summary_all.index"
   ],
   "metadata": {
    "collapsed": false,
    "ExecuteTime": {
     "end_time": "2023-10-17T17:11:02.514073200Z",
     "start_time": "2023-10-17T17:11:02.494007900Z"
    }
   },
   "id": "ee393154cfac7222"
  },
  {
   "cell_type": "code",
   "execution_count": null,
   "outputs": [],
   "source": [],
   "metadata": {
    "collapsed": false
   },
   "id": "d410a5a4397ce418"
  }
 ],
 "metadata": {
  "kernelspec": {
   "display_name": "Python 3",
   "language": "python",
   "name": "python3"
  },
  "language_info": {
   "codemirror_mode": {
    "name": "ipython",
    "version": 2
   },
   "file_extension": ".py",
   "mimetype": "text/x-python",
   "name": "python",
   "nbconvert_exporter": "python",
   "pygments_lexer": "ipython2",
   "version": "2.7.6"
  }
 },
 "nbformat": 4,
 "nbformat_minor": 5
}
