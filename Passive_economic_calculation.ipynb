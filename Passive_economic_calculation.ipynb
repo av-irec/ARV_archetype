{
 "cells": [
  {
   "cell_type": "markdown",
   "source": [
    "## Passive Calculation\n",
    "\n",
    "#### MeanCalculation-->>>Main\n",
    "Crea la suma de demanda, o energia primaria per configuració i ho divideix pel nombre d'apartaments. En el cas d'un sol apartament no es cap mitja sinó la suma de valors anuals. \n",
    "\n",
    "##### INPUTS:     \n",
    "\n",
    "PE_ht_mean, PE_cl_mean, PE_lig_mean,PE_dev_mean ,PE_dhw_mean\n",
    "\n",
    "\n",
    "Demanda = {P_ht, P_cl, P_lig, P_dev, P_dhw}\n",
    "Energia Primaria = {PE_ht, PE_cl, PE_lig,PE_dev ,PE_dhw}\n",
    "CO2 = {CO2_ht, CO2_cl, CO2_lig, CO2_dev, CO2_dhw}\n",
    "\n",
    "##### PARAMETRES\n",
    "\n",
    "Pfees = 0.02 # Coste de los proyectos -> % sobre le PEM\n",
    "DF = 0.03 # Coste de la dirección de obra -> % sobre le PEM\n",
    "tender_down = 0.1 # Reducción por economía de escala\n",
    "facilities_passive = {'DHW' : False, 'PV' : False, 'HVAC' : False} # Para el cálculo de medidas pasivas no hay instalaciones\n",
    "\n",
    "##### CALCULA:\n",
    "\n",
    "buildingCost_passive = {}\n",
    "dwellingCost_passive = {}\n",
    "dwellings_fees_passive = {}\n",
    "buildingGrants_passive = {}\n",
    "deltaEPNR_passive = {}\n",
    "PE_passive = {}\n",
    "EPNR_BC = {}\n",
    "\n",
    "#### ARGUMENTS:\n",
    "\n",
    "\n",
    "\n",
    "##### OUTPUT \n",
    "\n",
    "destinat al calcul de la part passiva en main\n",
    "\n",
    "#### OUTPUT FINAL\n",
    "\n",
    "No\n",
    "\n",
    "\n",
    "#### OTHER IMPLICATIONS\n",
    "\n",
    "ResourceConsumption.py\n",
    "\n",
    "\n",
    "##### % FINALITZACIÓ\n",
    "\n",
    "Canvi per que faci la suma per planta enlloc de dividir-ho entre plantes com fins ara\n",
    "\n"
   ],
   "metadata": {
    "collapsed": false
   },
   "id": "da2c16e1f534c021"
  },
  {
   "cell_type": "code",
   "execution_count": 1,
   "outputs": [],
   "source": [
    "from repositories import csvTRNSYS\n",
    "import pandas as pd\n",
    "from utils import transformation_EP_CO2, meanCalculation\n",
    "from interactors import calculoCoste"
   ],
   "metadata": {
    "collapsed": false,
    "ExecuteTime": {
     "end_time": "2023-10-11T14:16:28.123596Z",
     "start_time": "2023-10-11T14:16:20.808820200Z"
    }
   },
   "id": "32a1f0ad4fd2c82f"
  },
  {
   "cell_type": "code",
   "execution_count": 2,
   "outputs": [],
   "source": [
    "n_zones = 1\n",
    "name = 'FE35'\n",
    "n_viv = 1\n",
    "ref_cat_analysis = '1701521DD7810B'\n",
    "typeStep = csvTRNSYS.HourlyMulti() \n",
    "output = csvTRNSYS.readTRNSYS(typeStep, n_viv, name)\n",
    "output_reader, P_ht, P_cl, P_lig, P_dev, P_dhw = output.start()\n",
    "n_viv_simulated = 1\n",
    "building_to_analyse = 'FE35'\n"
   ],
   "metadata": {
    "collapsed": false,
    "ExecuteTime": {
     "end_time": "2023-10-11T14:16:55.896583700Z",
     "start_time": "2023-10-11T14:16:28.112740300Z"
    }
   },
   "id": "cee1f71bf0f8b1d7"
  },
  {
   "cell_type": "code",
   "execution_count": 3,
   "outputs": [
    {
     "data": {
      "text/plain": "                                                        BC0_0  \\\nDwelling_1  [0.0, 0.021725560902761936, 0.0245716169217695...   \n\n                                                      BC0_180  \\\nDwelling_1  [0.0, 0.021725560902761936, 0.0245716169217695...   \n\n                                                      BC0_270  \\\nDwelling_1  [0.0, 0.021725560902761936, 0.0245716169217695...   \n\n                                                       BC0_90  \\\nDwelling_1  [0.0, 0.021725560902761936, 0.0245716169217695...   \n\n                                                P111_0_W8_R10  \\\nDwelling_1  [0.0, 0.02171474307260574, 0.02437654057169146...   \n\n                                                P111_0_W8_R12  \\\nDwelling_1  [0.0, 0.02171474300342184, 0.02437653182694835...   \n\n                                                P111_0_W8_R14  \\\nDwelling_1  [0.0, 0.021714742973846766, 0.0243765289541458...   \n\n                                                 P111_0_W8_R6  \\\nDwelling_1  [0.0, 0.02171474466696584, 0.02437664597921095...   \n\n                                                 P111_0_W8_R8  \\\nDwelling_1  [0.0, 0.021714743391190037, 0.0243765671370249...   \n\n                                              P111_180_W8_R10  ...  \\\nDwelling_1  [0.0, 0.02171474307260574, 0.02437654057169146...  ...   \n\n                                                P221_90_W6_R5  \\\nDwelling_1  [0.0, 0.017406750286469888, 0.0192652747722053...   \n\n                                                P221_90_W8_R5  \\\nDwelling_1  [0.0, 0.01740675028022831, 0.01926527340351150...   \n\n                                                 P222_0_W6_R5  \\\nDwelling_1  [0.0, 0.017406750055917755, 0.0192652642072097...   \n\n                                                 P222_0_W8_R5  \\\nDwelling_1  [0.0, 0.01740675004967615, 0.01926526283851584...   \n\n                                               P222_180_W6_R5  \\\nDwelling_1  [0.0, 0.017406750055917755, 0.0192652642072097...   \n\n                                               P222_180_W8_R5  \\\nDwelling_1  [0.0, 0.01740675004967615, 0.01926526283851584...   \n\n                                               P222_270_W6_R5  \\\nDwelling_1  [0.0, 0.017406750055917755, 0.0192652642072097...   \n\n                                               P222_270_W8_R5  \\\nDwelling_1  [0.0, 0.01740675004967615, 0.01926526283851584...   \n\n                                                P222_90_W6_R5  \\\nDwelling_1  [0.0, 0.017406750055917755, 0.0192652642072097...   \n\n                                                P222_90_W8_R5  \nDwelling_1  [0.0, 0.01740675004967615, 0.01926526283851584...  \n\n[1 rows x 84 columns]",
      "text/html": "<div>\n<style scoped>\n    .dataframe tbody tr th:only-of-type {\n        vertical-align: middle;\n    }\n\n    .dataframe tbody tr th {\n        vertical-align: top;\n    }\n\n    .dataframe thead th {\n        text-align: right;\n    }\n</style>\n<table border=\"1\" class=\"dataframe\">\n  <thead>\n    <tr style=\"text-align: right;\">\n      <th></th>\n      <th>BC0_0</th>\n      <th>BC0_180</th>\n      <th>BC0_270</th>\n      <th>BC0_90</th>\n      <th>P111_0_W8_R10</th>\n      <th>P111_0_W8_R12</th>\n      <th>P111_0_W8_R14</th>\n      <th>P111_0_W8_R6</th>\n      <th>P111_0_W8_R8</th>\n      <th>P111_180_W8_R10</th>\n      <th>...</th>\n      <th>P221_90_W6_R5</th>\n      <th>P221_90_W8_R5</th>\n      <th>P222_0_W6_R5</th>\n      <th>P222_0_W8_R5</th>\n      <th>P222_180_W6_R5</th>\n      <th>P222_180_W8_R5</th>\n      <th>P222_270_W6_R5</th>\n      <th>P222_270_W8_R5</th>\n      <th>P222_90_W6_R5</th>\n      <th>P222_90_W8_R5</th>\n    </tr>\n  </thead>\n  <tbody>\n    <tr>\n      <th>Dwelling_1</th>\n      <td>[0.0, 0.021725560902761936, 0.0245716169217695...</td>\n      <td>[0.0, 0.021725560902761936, 0.0245716169217695...</td>\n      <td>[0.0, 0.021725560902761936, 0.0245716169217695...</td>\n      <td>[0.0, 0.021725560902761936, 0.0245716169217695...</td>\n      <td>[0.0, 0.02171474307260574, 0.02437654057169146...</td>\n      <td>[0.0, 0.02171474300342184, 0.02437653182694835...</td>\n      <td>[0.0, 0.021714742973846766, 0.0243765289541458...</td>\n      <td>[0.0, 0.02171474466696584, 0.02437664597921095...</td>\n      <td>[0.0, 0.021714743391190037, 0.0243765671370249...</td>\n      <td>[0.0, 0.02171474307260574, 0.02437654057169146...</td>\n      <td>...</td>\n      <td>[0.0, 0.017406750286469888, 0.0192652747722053...</td>\n      <td>[0.0, 0.01740675028022831, 0.01926527340351150...</td>\n      <td>[0.0, 0.017406750055917755, 0.0192652642072097...</td>\n      <td>[0.0, 0.01740675004967615, 0.01926526283851584...</td>\n      <td>[0.0, 0.017406750055917755, 0.0192652642072097...</td>\n      <td>[0.0, 0.01740675004967615, 0.01926526283851584...</td>\n      <td>[0.0, 0.017406750055917755, 0.0192652642072097...</td>\n      <td>[0.0, 0.01740675004967615, 0.01926526283851584...</td>\n      <td>[0.0, 0.017406750055917755, 0.0192652642072097...</td>\n      <td>[0.0, 0.01740675004967615, 0.01926526283851584...</td>\n    </tr>\n  </tbody>\n</table>\n<p>1 rows × 84 columns</p>\n</div>"
     },
     "execution_count": 3,
     "metadata": {},
     "output_type": "execute_result"
    }
   ],
   "source": [
    "# valores standard de distribucion por hogar\n",
    "grado_ht = {'joule':0.32,'BC':0.31,'caldera_GN':0.27,'butano':0.06,'nada':0.04}\n",
    "grado_cl = {'split':0.1,'BC':0.43,'multi_split':0.04,'nada':0.43}\n",
    "grado_dhw ={'caldera_GN':0.86,'butano':0.14,'BC':0}\n",
    "# coeficientes peninsula\n",
    "coef_CO2={'ele': 0.331, 'GN': 0.252, 'butano': 0.254}\n",
    "coef_NRPE={'ele': 1.954, 'GN': 1.190, 'butano': 1.201}\n",
    "#EER (float) Eficiencia en refrigeración (prefinido a 2 -> CE3X)\n",
    "#COP (float) -- Eficiencia en calefacción (prefinido a 2 -> CE3X)\n",
    "#   COP_DHW (float) -- Eficiencia en agua caliente sanitaria con bomba de calor (prefinidos a 1.7)\n",
    "#eta_cal (float) -- Eficiencia caldera gas natural o butano (prefinidos a 70% -> Optihub)\n",
    "EER = 2\n",
    "COP=2 \n",
    "COP_DHW=1.7 \n",
    "eta_cal=0.7\n",
    "\n",
    "# càlcul d'energia primaria\n",
    "\n",
    "PE_ht = {}\n",
    "PE_cl = {}\n",
    "PE_lig = {}\n",
    "PE_dev = {}\n",
    "PE_dhw = {}\n",
    "\n",
    "project = transformation_EP_CO2.pE_ARV_demand(grado_ht, grado_cl, grado_dhw)\n",
    "for i in P_ht:\n",
    "    output = transformation_EP_CO2.calculo(project, P_ht[i], P_cl[i], P_lig[i],P_dev[i],P_dhw[i])\n",
    "    PE_ht_aux, PE_cl_aux, PE_lig_aux,PE_dev_aux ,PE_dhw_aux = output.start()\n",
    "    PE_ht.setdefault(i, PE_ht_aux)\n",
    "    PE_cl.setdefault(i, PE_cl_aux)\n",
    "    PE_lig.setdefault(i, PE_lig_aux)\n",
    "    PE_dev.setdefault(i,PE_dev_aux)\n",
    "    PE_dhw.setdefault(i, PE_dhw_aux)\n",
    "    \n",
    "# calcula horariament per un any per cada configuració de TRNSYS\n",
    "pd.DataFrame(PE_ht)"
   ],
   "metadata": {
    "collapsed": false,
    "ExecuteTime": {
     "end_time": "2023-10-11T14:17:03.084344300Z",
     "start_time": "2023-10-11T14:16:55.917989500Z"
    }
   },
   "id": "4037ab9617abd74c"
  },
  {
   "cell_type": "code",
   "execution_count": 4,
   "outputs": [],
   "source": [
    "project = meanCalculation.ARV_dwellings()\n",
    "output = meanCalculation.calculo(project, PE_ht, PE_cl, PE_lig,PE_dev, PE_dhw)\n",
    "PE_ht_mean, PE_cl_mean, PE_lig_mean,PE_dev_mean ,PE_dhw_mean = output.start()"
   ],
   "metadata": {
    "collapsed": false,
    "ExecuteTime": {
     "end_time": "2023-10-11T14:17:03.421349400Z",
     "start_time": "2023-10-11T14:17:03.048069900Z"
    }
   },
   "id": "ee03946e9b27674f"
  },
  {
   "cell_type": "code",
   "execution_count": 5,
   "outputs": [
    {
     "name": "stdout",
     "output_type": "stream",
     "text": [
      "['BC0', '0'] ['B', 'C', '0']\n",
      "['BC0', '180'] ['B', 'C', '0']\n",
      "['BC0', '270'] ['B', 'C', '0']\n",
      "['BC0', '90'] ['B', 'C', '0']\n",
      "['P111', '0', 'W8', 'R10'] ['P', '1', '1', '1']\n",
      "['P111', '0', 'W8', 'R12'] ['P', '1', '1', '1']\n",
      "['P111', '0', 'W8', 'R14'] ['P', '1', '1', '1']\n",
      "['P111', '0', 'W8', 'R6'] ['P', '1', '1', '1']\n",
      "['P111', '0', 'W8', 'R8'] ['P', '1', '1', '1']\n",
      "['P111', '180', 'W8', 'R10'] ['P', '1', '1', '1']\n",
      "['P111', '180', 'W8', 'R12'] ['P', '1', '1', '1']\n",
      "['P111', '180', 'W8', 'R14'] ['P', '1', '1', '1']\n",
      "['P111', '180', 'W8', 'R6'] ['P', '1', '1', '1']\n",
      "['P111', '180', 'W8', 'R8'] ['P', '1', '1', '1']\n",
      "['P111', '270', 'W8', 'R10'] ['P', '1', '1', '1']\n",
      "['P111', '270', 'W8', 'R12'] ['P', '1', '1', '1']\n",
      "['P111', '270', 'W8', 'R14'] ['P', '1', '1', '1']\n",
      "['P111', '270', 'W8', 'R6'] ['P', '1', '1', '1']\n",
      "['P111', '270', 'W8', 'R8'] ['P', '1', '1', '1']\n",
      "['P111', '90', 'W8', 'R10'] ['P', '1', '1', '1']\n",
      "['P111', '90', 'W8', 'R12'] ['P', '1', '1', '1']\n",
      "['P111', '90', 'W8', 'R14'] ['P', '1', '1', '1']\n",
      "['P111', '90', 'W8', 'R6'] ['P', '1', '1', '1']\n",
      "['P111', '90', 'W8', 'R8'] ['P', '1', '1', '1']\n",
      "['P112', '0', 'W8', 'R10'] ['P', '1', '1', '2']\n",
      "['P112', '180', 'W8', 'R10'] ['P', '1', '1', '2']\n",
      "['P112', '270', 'W8', 'R10'] ['P', '1', '1', '2']\n",
      "['P112', '90', 'W8', 'R10'] ['P', '1', '1', '2']\n",
      "['P121', '0', 'W6', 'R10'] ['P', '1', '2', '1']\n",
      "['P121', '0', 'W8', 'R10'] ['P', '1', '2', '1']\n",
      "['P121', '180', 'W6', 'R10'] ['P', '1', '2', '1']\n",
      "['P121', '180', 'W8', 'R10'] ['P', '1', '2', '1']\n",
      "['P121', '270', 'W6', 'R10'] ['P', '1', '2', '1']\n",
      "['P121', '270', 'W8', 'R10'] ['P', '1', '2', '1']\n",
      "['P121', '90', 'W6', 'R10'] ['P', '1', '2', '1']\n",
      "['P121', '90', 'W8', 'R10'] ['P', '1', '2', '1']\n",
      "['P122', '0', 'W6', 'R10'] ['P', '1', '2', '2']\n",
      "['P122', '0', 'W8', 'R10'] ['P', '1', '2', '2']\n",
      "['P122', '180', 'W6', 'R10'] ['P', '1', '2', '2']\n",
      "['P122', '180', 'W8', 'R10'] ['P', '1', '2', '2']\n",
      "['P122', '270', 'W6', 'R10'] ['P', '1', '2', '2']\n",
      "['P122', '270', 'W8', 'R10'] ['P', '1', '2', '2']\n",
      "['P122', '90', 'W6', 'R10'] ['P', '1', '2', '2']\n",
      "['P122', '90', 'W8', 'R10'] ['P', '1', '2', '2']\n",
      "['P211', '0', 'W8', 'R10'] ['P', '2', '1', '1']\n",
      "['P211', '0', 'W8', 'R12'] ['P', '2', '1', '1']\n",
      "['P211', '0', 'W8', 'R14'] ['P', '2', '1', '1']\n",
      "['P211', '0', 'W8', 'R6'] ['P', '2', '1', '1']\n",
      "['P211', '0', 'W8', 'R8'] ['P', '2', '1', '1']\n",
      "['P211', '180', 'W8', 'R10'] ['P', '2', '1', '1']\n",
      "['P211', '180', 'W8', 'R12'] ['P', '2', '1', '1']\n",
      "['P211', '180', 'W8', 'R14'] ['P', '2', '1', '1']\n",
      "['P211', '180', 'W8', 'R6'] ['P', '2', '1', '1']\n",
      "['P211', '180', 'W8', 'R8'] ['P', '2', '1', '1']\n",
      "['P211', '270', 'W8', 'R10'] ['P', '2', '1', '1']\n",
      "['P211', '270', 'W8', 'R12'] ['P', '2', '1', '1']\n",
      "['P211', '270', 'W8', 'R14'] ['P', '2', '1', '1']\n",
      "['P211', '270', 'W8', 'R6'] ['P', '2', '1', '1']\n",
      "['P211', '270', 'W8', 'R8'] ['P', '2', '1', '1']\n",
      "['P211', '90', 'W8', 'R10'] ['P', '2', '1', '1']\n",
      "['P211', '90', 'W8', 'R12'] ['P', '2', '1', '1']\n",
      "['P211', '90', 'W8', 'R14'] ['P', '2', '1', '1']\n",
      "['P211', '90', 'W8', 'R6'] ['P', '2', '1', '1']\n",
      "['P211', '90', 'W8', 'R8'] ['P', '2', '1', '1']\n",
      "['P212', '0', 'W8', 'R10'] ['P', '2', '1', '2']\n",
      "['P212', '180', 'W8', 'R10'] ['P', '2', '1', '2']\n",
      "['P212', '270', 'W8', 'R10'] ['P', '2', '1', '2']\n",
      "['P212', '90', 'W8', 'R10'] ['P', '2', '1', '2']\n",
      "['P221', '0', 'W6', 'R5'] ['P', '2', '2', '1']\n",
      "['P221', '0', 'W8', 'R5'] ['P', '2', '2', '1']\n",
      "['P221', '180', 'W6', 'R5'] ['P', '2', '2', '1']\n",
      "['P221', '180', 'W8', 'R5'] ['P', '2', '2', '1']\n",
      "['P221', '270', 'W6', 'R5'] ['P', '2', '2', '1']\n",
      "['P221', '270', 'W8', 'R5'] ['P', '2', '2', '1']\n",
      "['P221', '90', 'W6', 'R5'] ['P', '2', '2', '1']\n",
      "['P221', '90', 'W8', 'R5'] ['P', '2', '2', '1']\n",
      "['P222', '0', 'W6', 'R5'] ['P', '2', '2', '2']\n",
      "['P222', '0', 'W8', 'R5'] ['P', '2', '2', '2']\n",
      "['P222', '180', 'W6', 'R5'] ['P', '2', '2', '2']\n",
      "['P222', '180', 'W8', 'R5'] ['P', '2', '2', '2']\n",
      "['P222', '270', 'W6', 'R5'] ['P', '2', '2', '2']\n",
      "['P222', '270', 'W8', 'R5'] ['P', '2', '2', '2']\n",
      "['P222', '90', 'W6', 'R5'] ['P', '2', '2', '2']\n",
      "['P222', '90', 'W8', 'R5'] ['P', '2', '2', '2']\n"
     ]
    }
   ],
   "source": [
    "# divdeix la configuració entre orientació, wall, roof i materials\n",
    "buildingCost_passive = {}\n",
    "dwellingCost_passive = {}\n",
    "dwellings_fees_passive = {}\n",
    "buildingGrants_passive = {}\n",
    "deltaEPNR_passive = {}\n",
    "PE_passive = {}\n",
    "EPNR_BC = {}\n",
    "\n",
    "## PE_passive i EPNR_BC son càlculs per cada configuració de TRNSYS la resta son diccionaris\n",
    "for i in PE_ht_mean:\n",
    "    count_esp = -1\n",
    "    buildingCost_passive.setdefault(i,{})\n",
    "    dwellingCost_passive.setdefault(i,{})\n",
    "    dwellings_fees_passive.setdefault(i,{})\n",
    "    buildingGrants_passive.setdefault(i,{})\n",
    "    deltaEPNR_passive.setdefault(i,0)\n",
    "    PE_passive.setdefault(i,0)\n",
    "    i_aux = i.split('_')   # Identificación de los parámetros de la simulación (ver \"detallesinputs\")\n",
    "    i_aux_2 = list(i_aux[0]) \n",
    "    print(i_aux,i_aux_2)\n",
    "    \n",
    "    "
   ],
   "metadata": {
    "collapsed": false,
    "ExecuteTime": {
     "end_time": "2023-10-11T14:17:03.508883100Z",
     "start_time": "2023-10-11T14:17:03.261313900Z"
    }
   },
   "id": "a9b7d9c8e260264d"
  },
  {
   "cell_type": "code",
   "execution_count": 6,
   "outputs": [
    {
     "name": "stdout",
     "output_type": "stream",
     "text": [
      "{'BC0_0': {}, 'BC0_180': {}, 'BC0_270': {}, 'BC0_90': {}, 'P111_0_W8_R10': {}, 'P111_0_W8_R12': {}, 'P111_0_W8_R14': {}, 'P111_0_W8_R6': {}, 'P111_0_W8_R8': {}, 'P111_180_W8_R10': {}, 'P111_180_W8_R12': {}, 'P111_180_W8_R14': {}, 'P111_180_W8_R6': {}, 'P111_180_W8_R8': {}, 'P111_270_W8_R10': {}, 'P111_270_W8_R12': {}, 'P111_270_W8_R14': {}, 'P111_270_W8_R6': {}, 'P111_270_W8_R8': {}, 'P111_90_W8_R10': {}, 'P111_90_W8_R12': {}, 'P111_90_W8_R14': {}, 'P111_90_W8_R6': {}, 'P111_90_W8_R8': {}, 'P112_0_W8_R10': {}, 'P112_180_W8_R10': {}, 'P112_270_W8_R10': {}, 'P112_90_W8_R10': {}, 'P121_0_W6_R10': {}, 'P121_0_W8_R10': {}, 'P121_180_W6_R10': {}, 'P121_180_W8_R10': {}, 'P121_270_W6_R10': {}, 'P121_270_W8_R10': {}, 'P121_90_W6_R10': {}, 'P121_90_W8_R10': {}, 'P122_0_W6_R10': {}, 'P122_0_W8_R10': {}, 'P122_180_W6_R10': {}, 'P122_180_W8_R10': {}, 'P122_270_W6_R10': {}, 'P122_270_W8_R10': {}, 'P122_90_W6_R10': {}, 'P122_90_W8_R10': {}, 'P211_0_W8_R10': {}, 'P211_0_W8_R12': {}, 'P211_0_W8_R14': {}, 'P211_0_W8_R6': {}, 'P211_0_W8_R8': {}, 'P211_180_W8_R10': {}, 'P211_180_W8_R12': {}, 'P211_180_W8_R14': {}, 'P211_180_W8_R6': {}, 'P211_180_W8_R8': {}, 'P211_270_W8_R10': {}, 'P211_270_W8_R12': {}, 'P211_270_W8_R14': {}, 'P211_270_W8_R6': {}, 'P211_270_W8_R8': {}, 'P211_90_W8_R10': {}, 'P211_90_W8_R12': {}, 'P211_90_W8_R14': {}, 'P211_90_W8_R6': {}, 'P211_90_W8_R8': {}, 'P212_0_W8_R10': {}, 'P212_180_W8_R10': {}, 'P212_270_W8_R10': {}, 'P212_90_W8_R10': {}, 'P221_0_W6_R5': {}, 'P221_0_W8_R5': {}, 'P221_180_W6_R5': {}, 'P221_180_W8_R5': {}, 'P221_270_W6_R5': {}, 'P221_270_W8_R5': {}, 'P221_90_W6_R5': {}, 'P221_90_W8_R5': {}, 'P222_0_W6_R5': {}, 'P222_0_W8_R5': {}, 'P222_180_W6_R5': {}, 'P222_180_W8_R5': {}, 'P222_270_W6_R5': {}, 'P222_270_W8_R5': {}, 'P222_90_W6_R5': {}, 'P222_90_W8_R5': {}}\n"
     ]
    }
   ],
   "source": [
    "print(buildingCost_passive)"
   ],
   "metadata": {
    "collapsed": false,
    "ExecuteTime": {
     "end_time": "2023-10-11T14:17:03.553944300Z",
     "start_time": "2023-10-11T14:17:03.307696700Z"
    }
   },
   "id": "2bb5e4f96e7768eb"
  },
  {
   "cell_type": "code",
   "execution_count": 7,
   "outputs": [
    {
     "name": "stdout",
     "output_type": "stream",
     "text": [
      "{'BC0_0': 0, 'BC0_180': 0, 'BC0_270': 0, 'BC0_90': 0, 'P111_0_W8_R10': 0, 'P111_0_W8_R12': 0, 'P111_0_W8_R14': 0, 'P111_0_W8_R6': 0, 'P111_0_W8_R8': 0, 'P111_180_W8_R10': 0, 'P111_180_W8_R12': 0, 'P111_180_W8_R14': 0, 'P111_180_W8_R6': 0, 'P111_180_W8_R8': 0, 'P111_270_W8_R10': 0, 'P111_270_W8_R12': 0, 'P111_270_W8_R14': 0, 'P111_270_W8_R6': 0, 'P111_270_W8_R8': 0, 'P111_90_W8_R10': 0, 'P111_90_W8_R12': 0, 'P111_90_W8_R14': 0, 'P111_90_W8_R6': 0, 'P111_90_W8_R8': 0, 'P112_0_W8_R10': 0, 'P112_180_W8_R10': 0, 'P112_270_W8_R10': 0, 'P112_90_W8_R10': 0, 'P121_0_W6_R10': 0, 'P121_0_W8_R10': 0, 'P121_180_W6_R10': 0, 'P121_180_W8_R10': 0, 'P121_270_W6_R10': 0, 'P121_270_W8_R10': 0, 'P121_90_W6_R10': 0, 'P121_90_W8_R10': 0, 'P122_0_W6_R10': 0, 'P122_0_W8_R10': 0, 'P122_180_W6_R10': 0, 'P122_180_W8_R10': 0, 'P122_270_W6_R10': 0, 'P122_270_W8_R10': 0, 'P122_90_W6_R10': 0, 'P122_90_W8_R10': 0, 'P211_0_W8_R10': 0, 'P211_0_W8_R12': 0, 'P211_0_W8_R14': 0, 'P211_0_W8_R6': 0, 'P211_0_W8_R8': 0, 'P211_180_W8_R10': 0, 'P211_180_W8_R12': 0, 'P211_180_W8_R14': 0, 'P211_180_W8_R6': 0, 'P211_180_W8_R8': 0, 'P211_270_W8_R10': 0, 'P211_270_W8_R12': 0, 'P211_270_W8_R14': 0, 'P211_270_W8_R6': 0, 'P211_270_W8_R8': 0, 'P211_90_W8_R10': 0, 'P211_90_W8_R12': 0, 'P211_90_W8_R14': 0, 'P211_90_W8_R6': 0, 'P211_90_W8_R8': 0, 'P212_0_W8_R10': 0, 'P212_180_W8_R10': 0, 'P212_270_W8_R10': 0, 'P212_90_W8_R10': 0, 'P221_0_W6_R5': 0, 'P221_0_W8_R5': 0, 'P221_180_W6_R5': 0, 'P221_180_W8_R5': 0, 'P221_270_W6_R5': 0, 'P221_270_W8_R5': 0, 'P221_90_W6_R5': 0, 'P221_90_W8_R5': 0, 'P222_0_W6_R5': 0, 'P222_0_W8_R5': 0, 'P222_180_W6_R5': 0, 'P222_180_W8_R5': 0, 'P222_270_W6_R5': 0, 'P222_270_W8_R5': 0, 'P222_90_W6_R5': 0, 'P222_90_W8_R5': 0}\n"
     ]
    }
   ],
   "source": [
    "print(deltaEPNR_passive)"
   ],
   "metadata": {
    "collapsed": false,
    "ExecuteTime": {
     "end_time": "2023-10-11T14:17:03.564285600Z",
     "start_time": "2023-10-11T14:17:03.340942700Z"
    }
   },
   "id": "ada83d0768202e31"
  },
  {
   "cell_type": "code",
   "execution_count": 8,
   "outputs": [],
   "source": [
    "for i in PE_ht_mean:\n",
    "    count_esp = -1\n",
    "    buildingCost_passive.setdefault(i,{})\n",
    "    dwellingCost_passive.setdefault(i,{})\n",
    "    dwellings_fees_passive.setdefault(i,{})\n",
    "    buildingGrants_passive.setdefault(i,{})\n",
    "    deltaEPNR_passive.setdefault(i,0)\n",
    "    PE_passive.setdefault(i,0)\n",
    "    i_aux = i.split('_')   # Identificación de los parámetros de la simulación (ver \"detallesinputs\")\n",
    "    i_aux_2 = list(i_aux[0]) # Identificación de los parámetros de la simulación (ver \"detallesinputs\")\n",
    "    if 'BC' in i:           # Calculo del caso base (1 por orientación -> 4 en total)\n",
    "        EPNR_BC.setdefault(i,PE_ht_mean[i]+PE_cl_mean[i]+PE_dhw_mean[i]) \n",
    "        deltaEPNR_passive[i] = 0 \n",
    "        PE_passive[i] = EPNR_BC[i]  "
   ],
   "metadata": {
    "collapsed": false,
    "ExecuteTime": {
     "end_time": "2023-10-11T14:17:03.565277100Z",
     "start_time": "2023-10-11T14:17:03.391018100Z"
    }
   },
   "id": "91b260482e6aca1a"
  },
  {
   "cell_type": "code",
   "execution_count": 9,
   "outputs": [
    {
     "data": {
      "text/plain": "{'BC0_0': 239.9997037354351,\n 'BC0_180': 240.19164639939413,\n 'BC0_270': 242.3766235324236,\n 'BC0_90': 225.9618348065277}"
     },
     "execution_count": 9,
     "metadata": {},
     "output_type": "execute_result"
    }
   ],
   "source": [
    "## suma dels consums anuals de calefacció, cooling i agua calenta EPNR_BC.setdefault(i,PE_ht_mean[i]+PE_cl_mean[i]+PE_dhw_mean[i])\n",
    "# s'utilitza pel càlcul de \n",
    "EPNR_BC"
   ],
   "metadata": {
    "collapsed": false,
    "ExecuteTime": {
     "end_time": "2023-10-11T14:17:04.182962100Z",
     "start_time": "2023-10-11T14:17:03.412341200Z"
    }
   },
   "id": "7ac65ba2a4e0e7e7"
  },
  {
   "cell_type": "code",
   "execution_count": 10,
   "outputs": [
    {
     "data": {
      "text/plain": "{'BC0_0': 0,\n 'BC0_180': 0,\n 'BC0_270': 0,\n 'BC0_90': 0,\n 'P111_0_W8_R10': 0,\n 'P111_0_W8_R12': 0,\n 'P111_0_W8_R14': 0,\n 'P111_0_W8_R6': 0,\n 'P111_0_W8_R8': 0,\n 'P111_180_W8_R10': 0,\n 'P111_180_W8_R12': 0,\n 'P111_180_W8_R14': 0,\n 'P111_180_W8_R6': 0,\n 'P111_180_W8_R8': 0,\n 'P111_270_W8_R10': 0,\n 'P111_270_W8_R12': 0,\n 'P111_270_W8_R14': 0,\n 'P111_270_W8_R6': 0,\n 'P111_270_W8_R8': 0,\n 'P111_90_W8_R10': 0,\n 'P111_90_W8_R12': 0,\n 'P111_90_W8_R14': 0,\n 'P111_90_W8_R6': 0,\n 'P111_90_W8_R8': 0,\n 'P112_0_W8_R10': 0,\n 'P112_180_W8_R10': 0,\n 'P112_270_W8_R10': 0,\n 'P112_90_W8_R10': 0,\n 'P121_0_W6_R10': 0,\n 'P121_0_W8_R10': 0,\n 'P121_180_W6_R10': 0,\n 'P121_180_W8_R10': 0,\n 'P121_270_W6_R10': 0,\n 'P121_270_W8_R10': 0,\n 'P121_90_W6_R10': 0,\n 'P121_90_W8_R10': 0,\n 'P122_0_W6_R10': 0,\n 'P122_0_W8_R10': 0,\n 'P122_180_W6_R10': 0,\n 'P122_180_W8_R10': 0,\n 'P122_270_W6_R10': 0,\n 'P122_270_W8_R10': 0,\n 'P122_90_W6_R10': 0,\n 'P122_90_W8_R10': 0,\n 'P211_0_W8_R10': 0,\n 'P211_0_W8_R12': 0,\n 'P211_0_W8_R14': 0,\n 'P211_0_W8_R6': 0,\n 'P211_0_W8_R8': 0,\n 'P211_180_W8_R10': 0,\n 'P211_180_W8_R12': 0,\n 'P211_180_W8_R14': 0,\n 'P211_180_W8_R6': 0,\n 'P211_180_W8_R8': 0,\n 'P211_270_W8_R10': 0,\n 'P211_270_W8_R12': 0,\n 'P211_270_W8_R14': 0,\n 'P211_270_W8_R6': 0,\n 'P211_270_W8_R8': 0,\n 'P211_90_W8_R10': 0,\n 'P211_90_W8_R12': 0,\n 'P211_90_W8_R14': 0,\n 'P211_90_W8_R6': 0,\n 'P211_90_W8_R8': 0,\n 'P212_0_W8_R10': 0,\n 'P212_180_W8_R10': 0,\n 'P212_270_W8_R10': 0,\n 'P212_90_W8_R10': 0,\n 'P221_0_W6_R5': 0,\n 'P221_0_W8_R5': 0,\n 'P221_180_W6_R5': 0,\n 'P221_180_W8_R5': 0,\n 'P221_270_W6_R5': 0,\n 'P221_270_W8_R5': 0,\n 'P221_90_W6_R5': 0,\n 'P221_90_W8_R5': 0,\n 'P222_0_W6_R5': 0,\n 'P222_0_W8_R5': 0,\n 'P222_180_W6_R5': 0,\n 'P222_180_W8_R5': 0,\n 'P222_270_W6_R5': 0,\n 'P222_270_W8_R5': 0,\n 'P222_90_W6_R5': 0,\n 'P222_90_W8_R5': 0}"
     },
     "execution_count": 10,
     "metadata": {},
     "output_type": "execute_result"
    }
   ],
   "source": [
    "# per base case està a 0\n",
    "deltaEPNR_passive"
   ],
   "metadata": {
    "collapsed": false,
    "ExecuteTime": {
     "end_time": "2023-10-11T14:17:04.867495100Z",
     "start_time": "2023-10-11T14:17:03.453002900Z"
    }
   },
   "id": "1c8422a6acca6b9e"
  },
  {
   "cell_type": "code",
   "execution_count": 11,
   "outputs": [
    {
     "data": {
      "text/plain": "{'BC0_0': 239.9997037354351,\n 'BC0_180': 240.19164639939413,\n 'BC0_270': 242.3766235324236,\n 'BC0_90': 225.9618348065277,\n 'P111_0_W8_R10': 0,\n 'P111_0_W8_R12': 0,\n 'P111_0_W8_R14': 0,\n 'P111_0_W8_R6': 0,\n 'P111_0_W8_R8': 0,\n 'P111_180_W8_R10': 0,\n 'P111_180_W8_R12': 0,\n 'P111_180_W8_R14': 0,\n 'P111_180_W8_R6': 0,\n 'P111_180_W8_R8': 0,\n 'P111_270_W8_R10': 0,\n 'P111_270_W8_R12': 0,\n 'P111_270_W8_R14': 0,\n 'P111_270_W8_R6': 0,\n 'P111_270_W8_R8': 0,\n 'P111_90_W8_R10': 0,\n 'P111_90_W8_R12': 0,\n 'P111_90_W8_R14': 0,\n 'P111_90_W8_R6': 0,\n 'P111_90_W8_R8': 0,\n 'P112_0_W8_R10': 0,\n 'P112_180_W8_R10': 0,\n 'P112_270_W8_R10': 0,\n 'P112_90_W8_R10': 0,\n 'P121_0_W6_R10': 0,\n 'P121_0_W8_R10': 0,\n 'P121_180_W6_R10': 0,\n 'P121_180_W8_R10': 0,\n 'P121_270_W6_R10': 0,\n 'P121_270_W8_R10': 0,\n 'P121_90_W6_R10': 0,\n 'P121_90_W8_R10': 0,\n 'P122_0_W6_R10': 0,\n 'P122_0_W8_R10': 0,\n 'P122_180_W6_R10': 0,\n 'P122_180_W8_R10': 0,\n 'P122_270_W6_R10': 0,\n 'P122_270_W8_R10': 0,\n 'P122_90_W6_R10': 0,\n 'P122_90_W8_R10': 0,\n 'P211_0_W8_R10': 0,\n 'P211_0_W8_R12': 0,\n 'P211_0_W8_R14': 0,\n 'P211_0_W8_R6': 0,\n 'P211_0_W8_R8': 0,\n 'P211_180_W8_R10': 0,\n 'P211_180_W8_R12': 0,\n 'P211_180_W8_R14': 0,\n 'P211_180_W8_R6': 0,\n 'P211_180_W8_R8': 0,\n 'P211_270_W8_R10': 0,\n 'P211_270_W8_R12': 0,\n 'P211_270_W8_R14': 0,\n 'P211_270_W8_R6': 0,\n 'P211_270_W8_R8': 0,\n 'P211_90_W8_R10': 0,\n 'P211_90_W8_R12': 0,\n 'P211_90_W8_R14': 0,\n 'P211_90_W8_R6': 0,\n 'P211_90_W8_R8': 0,\n 'P212_0_W8_R10': 0,\n 'P212_180_W8_R10': 0,\n 'P212_270_W8_R10': 0,\n 'P212_90_W8_R10': 0,\n 'P221_0_W6_R5': 0,\n 'P221_0_W8_R5': 0,\n 'P221_180_W6_R5': 0,\n 'P221_180_W8_R5': 0,\n 'P221_270_W6_R5': 0,\n 'P221_270_W8_R5': 0,\n 'P221_90_W6_R5': 0,\n 'P221_90_W8_R5': 0,\n 'P222_0_W6_R5': 0,\n 'P222_0_W8_R5': 0,\n 'P222_180_W6_R5': 0,\n 'P222_180_W8_R5': 0,\n 'P222_270_W6_R5': 0,\n 'P222_270_W8_R5': 0,\n 'P222_90_W6_R5': 0,\n 'P222_90_W8_R5': 0}"
     },
     "execution_count": 11,
     "metadata": {},
     "output_type": "execute_result"
    }
   ],
   "source": [
    "# energia primara pasiva es igual a la energia primaria no renovable\n",
    "PE_passive"
   ],
   "metadata": {
    "collapsed": false,
    "ExecuteTime": {
     "end_time": "2023-10-11T14:17:05.049976800Z",
     "start_time": "2023-10-11T14:17:03.483682500Z"
    }
   },
   "id": "5de356270e5c3e94"
  },
  {
   "cell_type": "code",
   "execution_count": 12,
   "outputs": [
    {
     "data": {
      "text/plain": "{'P111_0_W8_R10': {'PE_passive': 154.08465095101622,\n  'EPNR_BC_aux': 239.9997037354351},\n 'P111_0_W8_R12': {'PE_passive': 151.72525380966388,\n  'EPNR_BC_aux': 239.9997037354351},\n 'P111_0_W8_R14': {'PE_passive': 149.91853525819434,\n  'EPNR_BC_aux': 239.9997037354351},\n 'P111_0_W8_R6': {'PE_passive': 161.8765484555771,\n  'EPNR_BC_aux': 239.9997037354351},\n 'P111_0_W8_R8': {'PE_passive': 157.29554241390113,\n  'EPNR_BC_aux': 239.9997037354351},\n 'P111_180_W8_R10': {'PE_passive': 154.31881699665746,\n  'EPNR_BC_aux': 240.19164639939413},\n 'P111_180_W8_R12': {'PE_passive': 151.95388576247282,\n  'EPNR_BC_aux': 240.19164639939413},\n 'P111_180_W8_R14': {'PE_passive': 150.12881772386348,\n  'EPNR_BC_aux': 240.19164639939413},\n 'P111_180_W8_R6': {'PE_passive': 162.1177641244953,\n  'EPNR_BC_aux': 240.19164639939413},\n 'P111_180_W8_R8': {'PE_passive': 157.52755639227522,\n  'EPNR_BC_aux': 240.19164639939413},\n 'P111_270_W8_R10': {'PE_passive': 156.3426482842962,\n  'EPNR_BC_aux': 242.3766235324236},\n 'P111_270_W8_R12': {'PE_passive': 153.83061559330596,\n  'EPNR_BC_aux': 242.3766235324236},\n 'P111_270_W8_R14': {'PE_passive': 151.89612989549923,\n  'EPNR_BC_aux': 242.3766235324236},\n 'P111_270_W8_R6': {'PE_passive': 164.603996898827,\n  'EPNR_BC_aux': 242.3766235324236},\n 'P111_270_W8_R8': {'PE_passive': 159.74265820932342,\n  'EPNR_BC_aux': 242.3766235324236},\n 'P111_90_W8_R10': {'PE_passive': 138.362382073041,\n  'EPNR_BC_aux': 225.9618348065277},\n 'P111_90_W8_R12': {'PE_passive': 136.02992060806764,\n  'EPNR_BC_aux': 225.9618348065277},\n 'P111_90_W8_R14': {'PE_passive': 134.25208361147057,\n  'EPNR_BC_aux': 225.9618348065277},\n 'P111_90_W8_R6': {'PE_passive': 146.05718270407615,\n  'EPNR_BC_aux': 225.9618348065277},\n 'P111_90_W8_R8': {'PE_passive': 141.5281700902051,\n  'EPNR_BC_aux': 225.9618348065277},\n 'P112_0_W8_R10': {'PE_passive': 156.51472207968075,\n  'EPNR_BC_aux': 239.9997037354351},\n 'P112_180_W8_R10': {'PE_passive': 156.740601144234,\n  'EPNR_BC_aux': 240.19164639939413},\n 'P112_270_W8_R10': {'PE_passive': 158.91785678211733,\n  'EPNR_BC_aux': 242.3766235324236},\n 'P112_90_W8_R10': {'PE_passive': 140.76652855613767,\n  'EPNR_BC_aux': 225.9618348065277},\n 'P121_0_W6_R10': {'PE_passive': 157.61187653304737,\n  'EPNR_BC_aux': 239.9997037354351},\n 'P121_0_W8_R10': {'PE_passive': 156.0012847910688,\n  'EPNR_BC_aux': 239.9997037354351},\n 'P121_180_W6_R10': {'PE_passive': 157.8484132851293,\n  'EPNR_BC_aux': 240.19164639939413},\n 'P121_180_W8_R10': {'PE_passive': 156.22878290713587,\n  'EPNR_BC_aux': 240.19164639939413},\n 'P121_270_W6_R10': {'PE_passive': 160.02698256063022,\n  'EPNR_BC_aux': 242.3766235324236},\n 'P121_270_W8_R10': {'PE_passive': 158.58482660611884,\n  'EPNR_BC_aux': 242.3766235324236},\n 'P121_90_W6_R10': {'PE_passive': 141.87228160369006,\n  'EPNR_BC_aux': 225.9618348065277},\n 'P121_90_W8_R10': {'PE_passive': 140.1469052429191,\n  'EPNR_BC_aux': 225.9618348065277},\n 'P122_0_W6_R10': {'PE_passive': 177.83421398044797,\n  'EPNR_BC_aux': 239.9997037354351},\n 'P122_0_W8_R10': {'PE_passive': 176.28179286251222,\n  'EPNR_BC_aux': 239.9997037354351},\n 'P122_180_W6_R10': {'PE_passive': 178.018825352763,\n  'EPNR_BC_aux': 240.19164639939413},\n 'P122_180_W8_R10': {'PE_passive': 176.46868436938558,\n  'EPNR_BC_aux': 240.19164639939413},\n 'P122_270_W6_R10': {'PE_passive': 181.42242736501083,\n  'EPNR_BC_aux': 242.3766235324236},\n 'P122_270_W8_R10': {'PE_passive': 180.0413969481477,\n  'EPNR_BC_aux': 242.3766235324236},\n 'P122_90_W6_R10': {'PE_passive': 161.86400874728267,\n  'EPNR_BC_aux': 225.9618348065277},\n 'P122_90_W8_R10': {'PE_passive': 160.20462781816389,\n  'EPNR_BC_aux': 225.9618348065277},\n 'P211_0_W8_R10': {'PE_passive': 125.01869163855108,\n  'EPNR_BC_aux': 239.9997037354351},\n 'P211_0_W8_R12': {'PE_passive': 122.70010016034189,\n  'EPNR_BC_aux': 239.9997037354351},\n 'P211_0_W8_R14': {'PE_passive': 120.92261465015727,\n  'EPNR_BC_aux': 239.9997037354351},\n 'P211_0_W8_R6': {'PE_passive': 132.66114334629242,\n  'EPNR_BC_aux': 239.9997037354351},\n 'P211_0_W8_R8': {'PE_passive': 128.1521922080724,\n  'EPNR_BC_aux': 239.9997037354351},\n 'P211_180_W8_R10': {'PE_passive': 124.74830077262911,\n  'EPNR_BC_aux': 240.19164639939413},\n 'P211_180_W8_R12': {'PE_passive': 122.40849575571625,\n  'EPNR_BC_aux': 240.19164639939413},\n 'P211_180_W8_R14': {'PE_passive': 120.61358222167954,\n  'EPNR_BC_aux': 240.19164639939413},\n 'P211_180_W8_R6': {'PE_passive': 132.5213207047728,\n  'EPNR_BC_aux': 240.19164639939413},\n 'P211_180_W8_R8': {'PE_passive': 127.93414393485116,\n  'EPNR_BC_aux': 240.19164639939413},\n 'P211_270_W8_R10': {'PE_passive': 125.01660523673348,\n  'EPNR_BC_aux': 242.3766235324236},\n 'P211_270_W8_R12': {'PE_passive': 122.44135978273913,\n  'EPNR_BC_aux': 242.3766235324236},\n 'P211_270_W8_R14': {'PE_passive': 120.47112872084568,\n  'EPNR_BC_aux': 242.3766235324236},\n 'P211_270_W8_R6': {'PE_passive': 133.48373508162229,\n  'EPNR_BC_aux': 242.3766235324236},\n 'P211_270_W8_R8': {'PE_passive': 128.4780637109223,\n  'EPNR_BC_aux': 242.3766235324236},\n 'P211_90_W8_R10': {'PE_passive': 107.97042502243724,\n  'EPNR_BC_aux': 225.9618348065277},\n 'P211_90_W8_R12': {'PE_passive': 105.65543860492605,\n  'EPNR_BC_aux': 225.9618348065277},\n 'P211_90_W8_R14': {'PE_passive': 103.88882897309072,\n  'EPNR_BC_aux': 225.9618348065277},\n 'P211_90_W8_R6': {'PE_passive': 115.64612910795435,\n  'EPNR_BC_aux': 225.9618348065277},\n 'P211_90_W8_R8': {'PE_passive': 111.10968905935707,\n  'EPNR_BC_aux': 225.9618348065277},\n 'P212_0_W8_R10': {'PE_passive': 127.38975858552755,\n  'EPNR_BC_aux': 239.9997037354351},\n 'P212_180_W8_R10': {'PE_passive': 127.16169835229462,\n  'EPNR_BC_aux': 240.19164639939413},\n 'P212_270_W8_R10': {'PE_passive': 127.6377716712392,\n  'EPNR_BC_aux': 242.3766235324236},\n 'P212_90_W8_R10': {'PE_passive': 110.35614414322399,\n  'EPNR_BC_aux': 225.9618348065277},\n 'P221_0_W6_R5': {'PE_passive': 128.59088238655733,\n  'EPNR_BC_aux': 239.9997037354351},\n 'P221_0_W8_R5': {'PE_passive': 126.98934818766773,\n  'EPNR_BC_aux': 239.9997037354351},\n 'P221_180_W6_R5': {'PE_passive': 128.38325358907,\n  'EPNR_BC_aux': 240.19164639939413},\n 'P221_180_W8_R5': {'PE_passive': 126.76609515229161,\n  'EPNR_BC_aux': 240.19164639939413},\n 'P221_270_W6_R5': {'PE_passive': 128.90211563955762,\n  'EPNR_BC_aux': 242.3766235324236},\n 'P221_270_W8_R5': {'PE_passive': 127.44405024799585,\n  'EPNR_BC_aux': 242.3766235324236},\n 'P221_90_W6_R5': {'PE_passive': 111.59016254451929,\n  'EPNR_BC_aux': 225.9618348065277},\n 'P221_90_W8_R5': {'PE_passive': 109.85103908146291,\n  'EPNR_BC_aux': 225.9618348065277},\n 'P222_0_W6_R5': {'PE_passive': 148.64817499568386,\n  'EPNR_BC_aux': 239.9997037354351},\n 'P222_0_W8_R5': {'PE_passive': 147.08558627148696,\n  'EPNR_BC_aux': 239.9997037354351},\n 'P222_180_W6_R5': {'PE_passive': 148.67763167462624,\n  'EPNR_BC_aux': 240.19164639939413},\n 'P222_180_W8_R5': {'PE_passive': 147.107189720028,\n  'EPNR_BC_aux': 240.19164639939413},\n 'P222_270_W6_R5': {'PE_passive': 150.8616804409818,\n  'EPNR_BC_aux': 242.3766235324236},\n 'P222_270_W8_R5': {'PE_passive': 149.42028260778991,\n  'EPNR_BC_aux': 242.3766235324236},\n 'P222_90_W6_R5': {'PE_passive': 131.66219075959907,\n  'EPNR_BC_aux': 225.9618348065277},\n 'P222_90_W8_R5': {'PE_passive': 129.97323494172565,\n  'EPNR_BC_aux': 225.9618348065277}}"
     },
     "execution_count": 12,
     "metadata": {},
     "output_type": "execute_result"
    }
   ],
   "source": [
    "test_dict = {}\n",
    "for i in PE_ht_mean:\n",
    "    count_esp = -1\n",
    "    buildingCost_passive.setdefault(i,{})\n",
    "    dwellingCost_passive.setdefault(i,{})\n",
    "    dwellings_fees_passive.setdefault(i,{})\n",
    "    buildingGrants_passive.setdefault(i,{})\n",
    "    deltaEPNR_passive.setdefault(i,0)\n",
    "    PE_passive.setdefault(i,0)\n",
    "    i_aux = i.split('_')   # Identificación de los parámetros de la simulación (ver \"detallesinputs\")\n",
    "    i_aux_2 = list(i_aux[0]) # Identificación de los parámetros de la simulación (ver \"detallesinputs\")\n",
    "    if 'BC' in i:           # Calculo del caso base (1 por orientación -> 4 en total)\n",
    "        EPNR_BC.setdefault(i,PE_ht_mean[i]+PE_cl_mean[i]+PE_dhw_mean[i]) \n",
    "        deltaEPNR_passive[i] = 0 \n",
    "        PE_passive[i] = EPNR_BC[i]             \n",
    "    if not 'BC' in i:\n",
    "        if i_aux_2[1] == str(1): # ¿Simulación con ventanas?\n",
    "            windows = False\n",
    "        else:\n",
    "            windows = True\n",
    "        PE_passive[i] = PE_ht_mean[i]+PE_cl_mean[i]+PE_dhw_mean[i]\n",
    "        if i_aux[1] == str(0):  # Identificación de la orientación\n",
    "            EPNR_BC_aux =  EPNR_BC['BC0_'+str(0)]              \n",
    "        if i_aux[1] == str(90):\n",
    "            EPNR_BC_aux =  EPNR_BC['BC0_'+str(90)]  \n",
    "        if i_aux[1] == str(180):\n",
    "            EPNR_BC_aux =  EPNR_BC['BC0_'+str(180)]  \n",
    "        if i_aux[1] == str(270):\n",
    "            EPNR_BC_aux =  EPNR_BC['BC0_'+str(270)]  \n",
    "        deltaEPNR_passive[i] = (1-(PE_passive[i]/EPNR_BC_aux))*100 # Reducción de energía primaria no renovable [%]\n",
    "        test_dict[i] = {\"PE_passive\": PE_passive[i],\n",
    "            \"EPNR_BC_aux\": EPNR_BC_aux}\n",
    "test_dict"
   ],
   "metadata": {
    "collapsed": false,
    "ExecuteTime": {
     "end_time": "2023-10-11T14:17:05.950922900Z",
     "start_time": "2023-10-11T14:17:03.535937600Z"
    }
   },
   "id": "2d159bd670a64f68"
  },
  {
   "cell_type": "code",
   "execution_count": 13,
   "outputs": [
    {
     "data": {
      "text/plain": "{'BC0_0': 239.9997037354351,\n 'BC0_180': 240.19164639939413,\n 'BC0_270': 242.3766235324236,\n 'BC0_90': 225.9618348065277,\n 'P111_0_W8_R10': 154.08465095101622,\n 'P111_0_W8_R12': 151.72525380966388,\n 'P111_0_W8_R14': 149.91853525819434,\n 'P111_0_W8_R6': 161.8765484555771,\n 'P111_0_W8_R8': 157.29554241390113,\n 'P111_180_W8_R10': 154.31881699665746,\n 'P111_180_W8_R12': 151.95388576247282,\n 'P111_180_W8_R14': 150.12881772386348,\n 'P111_180_W8_R6': 162.1177641244953,\n 'P111_180_W8_R8': 157.52755639227522,\n 'P111_270_W8_R10': 156.3426482842962,\n 'P111_270_W8_R12': 153.83061559330596,\n 'P111_270_W8_R14': 151.89612989549923,\n 'P111_270_W8_R6': 164.603996898827,\n 'P111_270_W8_R8': 159.74265820932342,\n 'P111_90_W8_R10': 138.362382073041,\n 'P111_90_W8_R12': 136.02992060806764,\n 'P111_90_W8_R14': 134.25208361147057,\n 'P111_90_W8_R6': 146.05718270407615,\n 'P111_90_W8_R8': 141.5281700902051,\n 'P112_0_W8_R10': 156.51472207968075,\n 'P112_180_W8_R10': 156.740601144234,\n 'P112_270_W8_R10': 158.91785678211733,\n 'P112_90_W8_R10': 140.76652855613767,\n 'P121_0_W6_R10': 157.61187653304737,\n 'P121_0_W8_R10': 156.0012847910688,\n 'P121_180_W6_R10': 157.8484132851293,\n 'P121_180_W8_R10': 156.22878290713587,\n 'P121_270_W6_R10': 160.02698256063022,\n 'P121_270_W8_R10': 158.58482660611884,\n 'P121_90_W6_R10': 141.87228160369006,\n 'P121_90_W8_R10': 140.1469052429191,\n 'P122_0_W6_R10': 177.83421398044797,\n 'P122_0_W8_R10': 176.28179286251222,\n 'P122_180_W6_R10': 178.018825352763,\n 'P122_180_W8_R10': 176.46868436938558,\n 'P122_270_W6_R10': 181.42242736501083,\n 'P122_270_W8_R10': 180.0413969481477,\n 'P122_90_W6_R10': 161.86400874728267,\n 'P122_90_W8_R10': 160.20462781816389,\n 'P211_0_W8_R10': 125.01869163855108,\n 'P211_0_W8_R12': 122.70010016034189,\n 'P211_0_W8_R14': 120.92261465015727,\n 'P211_0_W8_R6': 132.66114334629242,\n 'P211_0_W8_R8': 128.1521922080724,\n 'P211_180_W8_R10': 124.74830077262911,\n 'P211_180_W8_R12': 122.40849575571625,\n 'P211_180_W8_R14': 120.61358222167954,\n 'P211_180_W8_R6': 132.5213207047728,\n 'P211_180_W8_R8': 127.93414393485116,\n 'P211_270_W8_R10': 125.01660523673348,\n 'P211_270_W8_R12': 122.44135978273913,\n 'P211_270_W8_R14': 120.47112872084568,\n 'P211_270_W8_R6': 133.48373508162229,\n 'P211_270_W8_R8': 128.4780637109223,\n 'P211_90_W8_R10': 107.97042502243724,\n 'P211_90_W8_R12': 105.65543860492605,\n 'P211_90_W8_R14': 103.88882897309072,\n 'P211_90_W8_R6': 115.64612910795435,\n 'P211_90_W8_R8': 111.10968905935707,\n 'P212_0_W8_R10': 127.38975858552755,\n 'P212_180_W8_R10': 127.16169835229462,\n 'P212_270_W8_R10': 127.6377716712392,\n 'P212_90_W8_R10': 110.35614414322399,\n 'P221_0_W6_R5': 128.59088238655733,\n 'P221_0_W8_R5': 126.98934818766773,\n 'P221_180_W6_R5': 128.38325358907,\n 'P221_180_W8_R5': 126.76609515229161,\n 'P221_270_W6_R5': 128.90211563955762,\n 'P221_270_W8_R5': 127.44405024799585,\n 'P221_90_W6_R5': 111.59016254451929,\n 'P221_90_W8_R5': 109.85103908146291,\n 'P222_0_W6_R5': 148.64817499568386,\n 'P222_0_W8_R5': 147.08558627148696,\n 'P222_180_W6_R5': 148.67763167462624,\n 'P222_180_W8_R5': 147.107189720028,\n 'P222_270_W6_R5': 150.8616804409818,\n 'P222_270_W8_R5': 149.42028260778991,\n 'P222_90_W6_R5': 131.66219075959907,\n 'P222_90_W8_R5': 129.97323494172565}"
     },
     "execution_count": 13,
     "metadata": {},
     "output_type": "execute_result"
    }
   ],
   "source": [
    "# como a l'escenari base es suma la energia primaria de calefacció, cooling i aigua calenta per configuració\n",
    "PE_passive"
   ],
   "metadata": {
    "collapsed": false,
    "ExecuteTime": {
     "end_time": "2023-10-11T14:17:06.306373900Z",
     "start_time": "2023-10-11T14:17:03.782210300Z"
    }
   },
   "id": "b578a39943a99683"
  },
  {
   "cell_type": "code",
   "execution_count": 14,
   "outputs": [
    {
     "data": {
      "text/plain": "{'BC0_0': 0,\n 'BC0_180': 0,\n 'BC0_270': 0,\n 'BC0_90': 0,\n 'P111_0_W8_R10': 35.79798285048209,\n 'P111_0_W8_R12': 36.781066206265415,\n 'P111_0_W8_R14': 37.53386653199464,\n 'P111_0_W8_R6': 32.55135488249496,\n 'P111_0_W8_R8': 34.46010975609508,\n 'P111_180_W8_R10': 35.75179682142071,\n 'P111_180_W8_R12': 36.73639860488665,\n 'P111_180_W8_R14': 37.49623686985887,\n 'P111_180_W8_R6': 32.504828309089675,\n 'P111_180_W8_R8': 34.415888831397524,\n 'P111_270_W8_R10': 35.49598719309592,\n 'P111_270_W8_R12': 36.53240425938705,\n 'P111_270_W8_R14': 37.330536385172664,\n 'P111_270_W8_R6': 32.08751136975578,\n 'P111_270_W8_R8': 34.09320755392318,\n 'P111_90_W8_R10': 38.767366537137036,\n 'P111_90_W8_R12': 39.79960344872454,\n 'P111_90_W8_R14': 40.5863898536585,\n 'P111_90_W8_R6': 35.362012426066215,\n 'P111_90_W8_R8': 37.36633878398806,\n 'P112_0_W8_R10': 34.78545196363427,\n 'P112_180_W8_R10': 34.743525225018246,\n 'P112_270_W8_R10': 34.433504986565545,\n 'P112_90_W8_R10': 37.70340523360313,\n 'P121_0_W6_R10': 34.328303710411404,\n 'P121_0_W8_R10': 34.999384431308464,\n 'P121_180_W6_R10': 34.282305129522825,\n 'P121_180_W8_R10': 34.95661266780428,\n 'P121_270_W6_R10': 33.97590071667005,\n 'P121_270_W8_R10': 34.57090692374284,\n 'P121_90_W6_R10': 37.214051335189644,\n 'P121_90_W8_R10': 37.977621148759376,\n 'P122_0_W6_R10': 25.902319372658724,\n 'P122_0_W8_R10': 26.549162303617948,\n 'P122_180_W6_R10': 25.884672501577878,\n 'P122_180_W8_R10': 26.530049227461095,\n 'P122_270_W6_R10': 25.148545795819576,\n 'P122_270_W8_R10': 25.718332764849773,\n 'P122_90_W6_R10': 28.36666028762187,\n 'P122_90_W8_R10': 29.101023650594016,\n 'P211_0_W8_R10': 47.908814180718295,\n 'P211_0_W8_R12': 48.87489515587029,\n 'P211_0_W8_R14': 49.61551503269482,\n 'P211_0_W8_R6': 44.72445537160659,\n 'P211_0_W8_R8': 46.603187331705364,\n 'P211_180_W8_R10': 48.06301441258459,\n 'P211_180_W8_R12': 49.03715529216465,\n 'P211_180_W8_R14': 49.784439205216344,\n 'P211_180_W8_R6': 44.82684027886032,\n 'P211_180_W8_R8': 46.736638907865924,\n 'P211_270_W8_R10': 48.420518689167416,\n 'P211_270_W8_R12': 49.48301614311427,\n 'P211_270_W8_R14': 50.29589612847716,\n 'P211_270_W8_R6': 44.92714143129166,\n 'P211_270_W8_R8': 46.99238654352518,\n 'P211_90_W8_R10': 52.21740648597435,\n 'P211_90_W8_R12': 53.24190976967857,\n 'P211_90_W8_R14': 54.02372747502157,\n 'P211_90_W8_R6': 48.82050360098531,\n 'P211_90_W8_R8': 50.828116989538955,\n 'P212_0_W8_R10': 46.92086839992257,\n 'P212_180_W8_R10': 47.05823443133059,\n 'P212_270_W8_R10': 47.339075109211336,\n 'P212_90_W8_R10': 51.16160025974619,\n 'P221_0_W6_R5': 46.420399531696866,\n 'P221_0_W8_R5': 47.08770627164812,\n 'P221_180_W6_R5': 46.54965919356226,\n 'P221_180_W8_R5': 47.22293757814411,\n 'P221_270_W6_R5': 46.81743075676028,\n 'P221_270_W8_R5': 47.41900089595597,\n 'P221_90_W6_R5': 50.61548219412156,\n 'P221_90_W8_R5': 51.38513582370261,\n 'P222_0_W6_R5': 38.063183961449,\n 'P222_0_W8_R5': 38.71426340024673,\n 'P222_180_W6_R5': 38.100415271144385,\n 'P222_180_W8_R5': 38.75424398589781,\n 'P222_270_W6_R5': 37.757330619468554,\n 'P222_270_W8_R5': 38.35202404005705,\n 'P222_90_W6_R5': 41.73255369769393,\n 'P222_90_W8_R5': 42.48000550490709}"
     },
     "execution_count": 14,
     "metadata": {},
     "output_type": "execute_result"
    }
   ],
   "source": [
    "## deltaEPNR passiva s'utilitza pels càlculs ecònomics\n",
    "deltaEPNR_passive"
   ],
   "metadata": {
    "collapsed": false,
    "ExecuteTime": {
     "end_time": "2023-10-11T14:17:06.426845500Z",
     "start_time": "2023-10-11T14:17:03.830116700Z"
    }
   },
   "id": "7c00779f19d3db5d"
  },
  {
   "cell_type": "code",
   "execution_count": 15,
   "outputs": [],
   "source": [
    "exemple = deltaEPNR_passive['P111_0_W8_R10']"
   ],
   "metadata": {
    "collapsed": false,
    "ExecuteTime": {
     "end_time": "2023-10-11T14:17:06.428910900Z",
     "start_time": "2023-10-11T14:17:03.876399Z"
    }
   },
   "id": "14302b580bb848fb"
  },
  {
   "cell_type": "code",
   "execution_count": 16,
   "outputs": [],
   "source": [
    "Pfees = 0.02 # Coste de los proyectos -> % sobre le PEM\n",
    "DF = 0.03 # Coste de la dirección de obra -> % sobre le PEM\n",
    "tender_down = 0.1 # Reducción por economía de escala\n",
    "facilities_passive = {'DHW' : False, 'PV' : False, 'HVAC' : False} # Para el cálculo de medidas pasivas no hay instalaciones\n",
    "\n",
    "cuotaCalc = calculoCoste.calculoCuota_CMH(windows = windows, common_facilities = False, facilities = facilities_passive, Pfees = Pfees, DF = DF, tender_down = tender_down, deltaEPNR = exemple, ref_cat_analysis = ref_cat_analysis)"
   ],
   "metadata": {
    "collapsed": false,
    "ExecuteTime": {
     "end_time": "2023-10-11T14:17:06.430206800Z",
     "start_time": "2023-10-11T14:17:03.903573700Z"
    }
   },
   "id": "64e891aee3b72b87"
  },
  {
   "cell_type": "code",
   "execution_count": 17,
   "outputs": [],
   "source": [
    "calc = calculoCoste.calculationCuote(cuotaCalc)\n",
    "buildingCost_aux, dwellingCost_aux, dwellings_fees_aux, building_grants_aux = calc.start()\n",
    "buildingCost_passive[i] = buildingCost_aux\n",
    "dwellingCost_passive[i] = dwellingCost_aux\n",
    "dwellings_fees_passive[i] = dwellings_fees_aux\n",
    "buildingGrants_passive[i] = building_grants_aux"
   ],
   "metadata": {
    "collapsed": false,
    "ExecuteTime": {
     "end_time": "2023-10-11T14:17:09.344341300Z",
     "start_time": "2023-10-11T14:17:03.930706700Z"
    }
   },
   "id": "a4dd96ca820ae8a5"
  },
  {
   "cell_type": "code",
   "execution_count": 18,
   "outputs": [
    {
     "data": {
      "text/plain": "'1701521DD7810B'"
     },
     "execution_count": 18,
     "metadata": {},
     "output_type": "execute_result"
    }
   ],
   "source": [
    "ref_cat_analysis"
   ],
   "metadata": {
    "collapsed": false,
    "ExecuteTime": {
     "end_time": "2023-10-11T14:17:09.352687100Z",
     "start_time": "2023-10-11T14:17:06.670236900Z"
    }
   },
   "id": "bccde87683d82b87"
  },
  {
   "cell_type": "code",
   "execution_count": 19,
   "outputs": [
    {
     "data": {
      "text/plain": "{'1701521DD7810B': {'wall_PEC': 34421.750650023445,\n  'roof_PEC': 20008.92055627485,\n  'windows_PEC': 31004.18341746986,\n  'envelope_total_PEC': 85434.85462376816,\n  'common_facilities': 0.0,\n  'facilities_DHW_PEC': 0.0,\n  'facilities_PV_PEC': 0.0,\n  'facilities_HVAC_PEC': 0.0,\n  'facilities_total_PEC': 0.0,\n  'Pfees': 1708.6970924753632,\n  'iBen': 2563.045638713045,\n  'gCost': 8543.485462376817,\n  'DF': 3417.3941849507264,\n  'Pfees_VAT': 2067.5234818951894,\n  'iBen_VAT': 3101.285222842784,\n  'gCost_VAT': 10337.617409475948,\n  'DF_VAT': 4135.046963790379,\n  'building_total_PEC_noVAT': 85434.85462376816,\n  'building_total_noVAT': 101667.47700228411,\n  'building_total_VAT': 113619.81316414928,\n  'nDwellings': 1}}"
     },
     "execution_count": 19,
     "metadata": {},
     "output_type": "execute_result"
    }
   ],
   "source": [
    "buildingCost_passive['P222_90_W8_R5']"
   ],
   "metadata": {
    "collapsed": false,
    "ExecuteTime": {
     "end_time": "2023-10-11T14:17:09.362376900Z",
     "start_time": "2023-10-11T14:17:06.715582600Z"
    }
   },
   "id": "bf20a99b63d32d58"
  },
  {
   "cell_type": "code",
   "execution_count": 20,
   "outputs": [
    {
     "data": {
      "text/plain": "{'1701521DD7810B': {'1701521DD7810B0001EY': {'envelope_total_PEC': 85434.85462376816,\n   'facilities_total_PEC': 0.0,\n   'common_facilities': 0.0,\n   'dwelling_total_noVAT': 101667.47700228411,\n   'dwelling_total_VAT': 113619.81316414928}}}"
     },
     "execution_count": 20,
     "metadata": {},
     "output_type": "execute_result"
    }
   ],
   "source": [
    "dwellingCost_passive['P222_90_W8_R5']"
   ],
   "metadata": {
    "collapsed": false,
    "ExecuteTime": {
     "end_time": "2023-10-11T14:17:09.496979800Z",
     "start_time": "2023-10-11T14:17:06.743064700Z"
    }
   },
   "id": "aec9e9ad7775f6d7"
  },
  {
   "cell_type": "code",
   "execution_count": 21,
   "outputs": [
    {
     "data": {
      "text/plain": "{'1701521DD7810B': {'1701521DD7810B0001EY': [897, 1203]}}"
     },
     "execution_count": 21,
     "metadata": {},
     "output_type": "execute_result"
    }
   ],
   "source": [
    "dwellings_fees_passive['P222_90_W8_R5']"
   ],
   "metadata": {
    "collapsed": false,
    "ExecuteTime": {
     "end_time": "2023-10-11T14:17:09.519761100Z",
     "start_time": "2023-10-11T14:17:06.787473700Z"
    }
   },
   "id": "d6e6442dc6d11d27"
  },
  {
   "cell_type": "code",
   "execution_count": 22,
   "outputs": [
    {
     "data": {
      "text/plain": "{'Project': {'1701521DD7810B': 1289.912817856785},\n 'Material': {'1701521DD7810B': 3963.2784087772793},\n 'Operational': 1046.8087733659354}"
     },
     "execution_count": 22,
     "metadata": {},
     "output_type": "execute_result"
    }
   ],
   "source": [
    "buildingGrants_passive['P222_90_W8_R5']"
   ],
   "metadata": {
    "collapsed": false,
    "ExecuteTime": {
     "end_time": "2023-10-11T14:17:09.529364400Z",
     "start_time": "2023-10-11T14:17:06.805834700Z"
    }
   },
   "id": "ed792103f665360d"
  },
  {
   "cell_type": "code",
   "execution_count": 23,
   "outputs": [],
   "source": [
    "facilities_passive = {'DHW': False, 'PV': False, 'HVAC': False}"
   ],
   "metadata": {
    "collapsed": false,
    "ExecuteTime": {
     "end_time": "2023-10-11T14:17:09.541386100Z",
     "start_time": "2023-10-11T14:17:06.850306600Z"
    }
   },
   "id": "d694ac92e472769d"
  },
  {
   "cell_type": "code",
   "execution_count": 24,
   "outputs": [
    {
     "data": {
      "text/plain": "35.79798285048209"
     },
     "execution_count": 24,
     "metadata": {},
     "output_type": "execute_result"
    }
   ],
   "source": [
    "deltaEPNR_passive['P111_0_W8_R10']"
   ],
   "metadata": {
    "collapsed": false,
    "ExecuteTime": {
     "end_time": "2023-10-11T14:17:09.549727700Z",
     "start_time": "2023-10-11T14:17:06.868988700Z"
    }
   },
   "id": "c70bfc4016c674b5"
  },
  {
   "cell_type": "code",
   "execution_count": 24,
   "outputs": [],
   "source": [],
   "metadata": {
    "collapsed": false,
    "ExecuteTime": {
     "end_time": "2023-10-11T14:17:09.554182300Z",
     "start_time": "2023-10-11T14:17:06.901478500Z"
    }
   },
   "id": "7f6786c223d7b8dc"
  }
 ],
 "metadata": {
  "kernelspec": {
   "display_name": "Python 3",
   "language": "python",
   "name": "python3"
  },
  "language_info": {
   "codemirror_mode": {
    "name": "ipython",
    "version": 2
   },
   "file_extension": ".py",
   "mimetype": "text/x-python",
   "name": "python",
   "nbconvert_exporter": "python",
   "pygments_lexer": "ipython2",
   "version": "2.7.6"
  }
 },
 "nbformat": 4,
 "nbformat_minor": 5
}
